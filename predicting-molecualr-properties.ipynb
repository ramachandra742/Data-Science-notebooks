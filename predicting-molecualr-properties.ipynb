{
 "cells": [
  {
   "cell_type": "markdown",
   "metadata": {},
   "source": [
    ">**Import the libraies**"
   ]
  },
  {
   "cell_type": "code",
   "execution_count": 1,
   "metadata": {
    "_cell_guid": "b1076dfc-b9ad-4769-8c92-a6c4dae69d19",
    "_kg_hide-output": true,
    "_uuid": "8f2839f25d086af736a60e9eeb907d3b93b6e0e5"
   },
   "outputs": [
    {
     "name": "stdout",
     "output_type": "stream",
     "text": [
      "['potential_energy.csv', 'mulliken_charges.csv', 'train.csv', 'scalar_coupling_contributions.csv', 'sample_submission.csv', 'structures', 'test.csv', 'magnetic_shielding_tensors.csv', 'dipole_moments.csv', 'structures.csv']\n"
     ]
    }
   ],
   "source": [
    "import numpy as np \n",
    "import pandas as pd\n",
    "import matplotlib.pyplot as plt\n",
    "import seaborn as sn\n",
    "import warnings\n",
    "warnings.filterwarnings('ignore')\n",
    "from sklearn.metrics import make_scorer,mean_squared_error\n",
    "from sklearn.model_selection import cross_val_score\n",
    "import random\n",
    "random.seed(42)\n",
    "import os\n",
    "print(os.listdir(\"../input\"))\n"
   ]
  },
  {
   "cell_type": "markdown",
   "metadata": {},
   "source": [
    "> **Pre-processing**"
   ]
  },
  {
   "cell_type": "markdown",
   "metadata": {},
   "source": [
    "\n",
    "> Load the data"
   ]
  },
  {
   "cell_type": "code",
   "execution_count": 2,
   "metadata": {
    "_cell_guid": "79c7e3d0-c299-4dcb-8224-4455121ee9b0",
    "_uuid": "d629ff2d2480ee46fbb7e2d37f6b5fab8052498a"
   },
   "outputs": [],
   "source": [
    "\n",
    "pot_energy=pd.read_csv('../input/potential_energy.csv')\n",
    "mulliken_charges=pd.read_csv('../input/mulliken_charges.csv')\n",
    "train_df=pd.read_csv('../input/train.csv')\n",
    "scalar_coupling_cont=pd.read_csv('../input/scalar_coupling_contributions.csv')\n",
    "test_df=pd.read_csv('../input/test.csv')\n",
    "magnetic_shield_tensor=pd.read_csv('../input/magnetic_shielding_tensors.csv')\n",
    "dipole_moment=pd.read_csv('../input/dipole_moments.csv')\n",
    "structures=pd.read_csv('../input/structures.csv')"
   ]
  },
  {
   "cell_type": "markdown",
   "metadata": {},
   "source": [
    "\n",
    "> Let's see the shapes of our datasets"
   ]
  },
  {
   "cell_type": "code",
   "execution_count": 3,
   "metadata": {
    "_kg_hide-output": true
   },
   "outputs": [
    {
     "name": "stdout",
     "output_type": "stream",
     "text": [
      "Shape of potential energy dataset: (85003, 2)\n",
      "Shape of mulliken_charges dataset: (1533537, 3)\n",
      "Shape of train dataset: (4658147, 6)\n",
      "Shape of scalar coupling contributions dataset: (4658147, 8)\n",
      "Shape of test dataset: (2505542, 5)\n",
      "Shape of magnetic shielding tensors dataset: (1533537, 11)\n",
      "Shape of dipole moments dataset: (85003, 4)\n",
      "Shape of structures dataset: (2358657, 6)\n"
     ]
    }
   ],
   "source": [
    "print('Shape of potential energy dataset:',pot_energy.shape)\n",
    "print('Shape of mulliken_charges dataset:',mulliken_charges.shape)\n",
    "print('Shape of train dataset:',train_df.shape)\n",
    "print('Shape of scalar coupling contributions dataset:',scalar_coupling_cont.shape)\n",
    "print('Shape of test dataset:',test_df.shape)\n",
    "print('Shape of magnetic shielding tensors dataset:',magnetic_shield_tensor.shape)\n",
    "print('Shape of dipole moments dataset:',dipole_moment.shape)\n",
    "print('Shape of structures dataset:',structures.shape)"
   ]
  },
  {
   "cell_type": "markdown",
   "metadata": {},
   "source": [
    "> Let's explore our datasetes"
   ]
  },
  {
   "cell_type": "code",
   "execution_count": 4,
   "metadata": {
    "_kg_hide-output": true
   },
   "outputs": [
    {
     "name": "stdout",
     "output_type": "stream",
     "text": [
      "Data Types:\n",
      " molecule_name        object\n",
      "potential_energy    float64\n",
      "dtype: object\n",
      "Descriptive statistics:\n",
      "        potential_energy\n",
      "count         85003.000\n",
      "mean           -410.874\n",
      "std              39.829\n",
      "min            -714.626\n",
      "25%            -438.001\n",
      "50%            -416.922\n",
      "75%            -387.219\n",
      "max             -40.524\n"
     ]
    },
    {
     "data": {
      "text/html": [
       "<div>\n",
       "<style scoped>\n",
       "    .dataframe tbody tr th:only-of-type {\n",
       "        vertical-align: middle;\n",
       "    }\n",
       "\n",
       "    .dataframe tbody tr th {\n",
       "        vertical-align: top;\n",
       "    }\n",
       "\n",
       "    .dataframe thead th {\n",
       "        text-align: right;\n",
       "    }\n",
       "</style>\n",
       "<table border=\"1\" class=\"dataframe\">\n",
       "  <thead>\n",
       "    <tr style=\"text-align: right;\">\n",
       "      <th></th>\n",
       "      <th>molecule_name</th>\n",
       "      <th>potential_energy</th>\n",
       "    </tr>\n",
       "  </thead>\n",
       "  <tbody>\n",
       "    <tr>\n",
       "      <th>0</th>\n",
       "      <td>dsgdb9nsd_000001</td>\n",
       "      <td>-40.52368</td>\n",
       "    </tr>\n",
       "    <tr>\n",
       "      <th>1</th>\n",
       "      <td>dsgdb9nsd_000002</td>\n",
       "      <td>-56.56025</td>\n",
       "    </tr>\n",
       "    <tr>\n",
       "      <th>2</th>\n",
       "      <td>dsgdb9nsd_000003</td>\n",
       "      <td>-76.42608</td>\n",
       "    </tr>\n",
       "    <tr>\n",
       "      <th>3</th>\n",
       "      <td>dsgdb9nsd_000005</td>\n",
       "      <td>-93.42849</td>\n",
       "    </tr>\n",
       "    <tr>\n",
       "      <th>4</th>\n",
       "      <td>dsgdb9nsd_000007</td>\n",
       "      <td>-79.83869</td>\n",
       "    </tr>\n",
       "    <tr>\n",
       "      <th>5</th>\n",
       "      <td>dsgdb9nsd_000008</td>\n",
       "      <td>-115.73030</td>\n",
       "    </tr>\n",
       "  </tbody>\n",
       "</table>\n",
       "</div>"
      ],
      "text/plain": [
       "      molecule_name  potential_energy\n",
       "0  dsgdb9nsd_000001         -40.52368\n",
       "1  dsgdb9nsd_000002         -56.56025\n",
       "2  dsgdb9nsd_000003         -76.42608\n",
       "3  dsgdb9nsd_000005         -93.42849\n",
       "4  dsgdb9nsd_000007         -79.83869\n",
       "5  dsgdb9nsd_000008        -115.73030"
      ]
     },
     "execution_count": 4,
     "metadata": {},
     "output_type": "execute_result"
    }
   ],
   "source": [
    "#data types in dataset\n",
    "print('Data Types:\\n',pot_energy.dtypes)\n",
    "#Descriptive statistics\n",
    "print('Descriptive statistics:\\n',np.round(pot_energy.describe(),3))\n",
    "#Top few rows of dataset\n",
    "pot_energy.head(6)"
   ]
  },
  {
   "cell_type": "markdown",
   "metadata": {},
   "source": [
    "> molecule_name - Name of the molecule,  \n",
    ">potential_energy - Potential energy of the molecule"
   ]
  },
  {
   "cell_type": "code",
   "execution_count": 5,
   "metadata": {
    "_kg_hide-output": true
   },
   "outputs": [
    {
     "name": "stdout",
     "output_type": "stream",
     "text": [
      "Data Types:\n",
      " molecule_name       object\n",
      "atom_index           int64\n",
      "mulliken_charge    float64\n",
      "dtype: object\n",
      "Descriptive statistics:\n",
      "         atom_index  mulliken_charge\n",
      "count  1533537.000      1533537.000\n",
      "mean         8.759           -0.000\n",
      "std          5.593            0.225\n",
      "min          0.000           -0.733\n",
      "25%          4.000           -0.192\n",
      "50%          9.000            0.099\n",
      "75%         13.000            0.127\n",
      "max         28.000            0.729\n"
     ]
    },
    {
     "data": {
      "text/html": [
       "<div>\n",
       "<style scoped>\n",
       "    .dataframe tbody tr th:only-of-type {\n",
       "        vertical-align: middle;\n",
       "    }\n",
       "\n",
       "    .dataframe tbody tr th {\n",
       "        vertical-align: top;\n",
       "    }\n",
       "\n",
       "    .dataframe thead th {\n",
       "        text-align: right;\n",
       "    }\n",
       "</style>\n",
       "<table border=\"1\" class=\"dataframe\">\n",
       "  <thead>\n",
       "    <tr style=\"text-align: right;\">\n",
       "      <th></th>\n",
       "      <th>molecule_name</th>\n",
       "      <th>atom_index</th>\n",
       "      <th>mulliken_charge</th>\n",
       "    </tr>\n",
       "  </thead>\n",
       "  <tbody>\n",
       "    <tr>\n",
       "      <th>0</th>\n",
       "      <td>dsgdb9nsd_000001</td>\n",
       "      <td>0</td>\n",
       "      <td>-0.535689</td>\n",
       "    </tr>\n",
       "    <tr>\n",
       "      <th>1</th>\n",
       "      <td>dsgdb9nsd_000001</td>\n",
       "      <td>1</td>\n",
       "      <td>0.133921</td>\n",
       "    </tr>\n",
       "    <tr>\n",
       "      <th>2</th>\n",
       "      <td>dsgdb9nsd_000001</td>\n",
       "      <td>2</td>\n",
       "      <td>0.133922</td>\n",
       "    </tr>\n",
       "    <tr>\n",
       "      <th>3</th>\n",
       "      <td>dsgdb9nsd_000001</td>\n",
       "      <td>3</td>\n",
       "      <td>0.133923</td>\n",
       "    </tr>\n",
       "    <tr>\n",
       "      <th>4</th>\n",
       "      <td>dsgdb9nsd_000001</td>\n",
       "      <td>4</td>\n",
       "      <td>0.133923</td>\n",
       "    </tr>\n",
       "    <tr>\n",
       "      <th>5</th>\n",
       "      <td>dsgdb9nsd_000002</td>\n",
       "      <td>0</td>\n",
       "      <td>-0.707143</td>\n",
       "    </tr>\n",
       "  </tbody>\n",
       "</table>\n",
       "</div>"
      ],
      "text/plain": [
       "      molecule_name  atom_index  mulliken_charge\n",
       "0  dsgdb9nsd_000001           0        -0.535689\n",
       "1  dsgdb9nsd_000001           1         0.133921\n",
       "2  dsgdb9nsd_000001           2         0.133922\n",
       "3  dsgdb9nsd_000001           3         0.133923\n",
       "4  dsgdb9nsd_000001           4         0.133923\n",
       "5  dsgdb9nsd_000002           0        -0.707143"
      ]
     },
     "execution_count": 5,
     "metadata": {},
     "output_type": "execute_result"
    }
   ],
   "source": [
    "#data types in dataset\n",
    "print('Data Types:\\n',mulliken_charges.dtypes)\n",
    "#Descriptive statistics\n",
    "print('Descriptive statistics:\\n',np.round(mulliken_charges.describe(),3))\n",
    "#Top few rows of dataset\n",
    "mulliken_charges.head(6)"
   ]
  },
  {
   "cell_type": "markdown",
   "metadata": {},
   "source": [
    "> atom_index - Index of the atom in molecule,  \n",
    "> mulliken_charge- Mulliken charge of the atom"
   ]
  },
  {
   "cell_type": "code",
   "execution_count": 6,
   "metadata": {
    "_kg_hide-output": true
   },
   "outputs": [
    {
     "name": "stdout",
     "output_type": "stream",
     "text": [
      "Data Types:\n",
      " id                            int64\n",
      "molecule_name                object\n",
      "atom_index_0                  int64\n",
      "atom_index_1                  int64\n",
      "type                         object\n",
      "scalar_coupling_constant    float64\n",
      "dtype: object\n",
      "Descriptive statistics:\n",
      "                 id            ...             scalar_coupling_constant\n",
      "count  4658147.000            ...                          4658147.000\n",
      "mean   2329073.000            ...                               15.922\n",
      "std    1344691.357            ...                               34.942\n",
      "min          0.000            ...                              -36.219\n",
      "25%    1164536.500            ...                               -0.255\n",
      "50%    2329073.000            ...                                2.281\n",
      "75%    3493609.500            ...                                7.391\n",
      "max    4658146.000            ...                              204.880\n",
      "\n",
      "[8 rows x 4 columns]\n"
     ]
    },
    {
     "data": {
      "text/html": [
       "<div>\n",
       "<style scoped>\n",
       "    .dataframe tbody tr th:only-of-type {\n",
       "        vertical-align: middle;\n",
       "    }\n",
       "\n",
       "    .dataframe tbody tr th {\n",
       "        vertical-align: top;\n",
       "    }\n",
       "\n",
       "    .dataframe thead th {\n",
       "        text-align: right;\n",
       "    }\n",
       "</style>\n",
       "<table border=\"1\" class=\"dataframe\">\n",
       "  <thead>\n",
       "    <tr style=\"text-align: right;\">\n",
       "      <th></th>\n",
       "      <th>id</th>\n",
       "      <th>molecule_name</th>\n",
       "      <th>atom_index_0</th>\n",
       "      <th>atom_index_1</th>\n",
       "      <th>type</th>\n",
       "      <th>scalar_coupling_constant</th>\n",
       "    </tr>\n",
       "  </thead>\n",
       "  <tbody>\n",
       "    <tr>\n",
       "      <th>0</th>\n",
       "      <td>0</td>\n",
       "      <td>dsgdb9nsd_000001</td>\n",
       "      <td>1</td>\n",
       "      <td>0</td>\n",
       "      <td>1JHC</td>\n",
       "      <td>84.8076</td>\n",
       "    </tr>\n",
       "    <tr>\n",
       "      <th>1</th>\n",
       "      <td>1</td>\n",
       "      <td>dsgdb9nsd_000001</td>\n",
       "      <td>1</td>\n",
       "      <td>2</td>\n",
       "      <td>2JHH</td>\n",
       "      <td>-11.2570</td>\n",
       "    </tr>\n",
       "    <tr>\n",
       "      <th>2</th>\n",
       "      <td>2</td>\n",
       "      <td>dsgdb9nsd_000001</td>\n",
       "      <td>1</td>\n",
       "      <td>3</td>\n",
       "      <td>2JHH</td>\n",
       "      <td>-11.2548</td>\n",
       "    </tr>\n",
       "    <tr>\n",
       "      <th>3</th>\n",
       "      <td>3</td>\n",
       "      <td>dsgdb9nsd_000001</td>\n",
       "      <td>1</td>\n",
       "      <td>4</td>\n",
       "      <td>2JHH</td>\n",
       "      <td>-11.2543</td>\n",
       "    </tr>\n",
       "    <tr>\n",
       "      <th>4</th>\n",
       "      <td>4</td>\n",
       "      <td>dsgdb9nsd_000001</td>\n",
       "      <td>2</td>\n",
       "      <td>0</td>\n",
       "      <td>1JHC</td>\n",
       "      <td>84.8074</td>\n",
       "    </tr>\n",
       "    <tr>\n",
       "      <th>5</th>\n",
       "      <td>5</td>\n",
       "      <td>dsgdb9nsd_000001</td>\n",
       "      <td>2</td>\n",
       "      <td>3</td>\n",
       "      <td>2JHH</td>\n",
       "      <td>-11.2541</td>\n",
       "    </tr>\n",
       "  </tbody>\n",
       "</table>\n",
       "</div>"
      ],
      "text/plain": [
       "   id           ...            scalar_coupling_constant\n",
       "0   0           ...                             84.8076\n",
       "1   1           ...                            -11.2570\n",
       "2   2           ...                            -11.2548\n",
       "3   3           ...                            -11.2543\n",
       "4   4           ...                             84.8074\n",
       "5   5           ...                            -11.2541\n",
       "\n",
       "[6 rows x 6 columns]"
      ]
     },
     "execution_count": 6,
     "metadata": {},
     "output_type": "execute_result"
    }
   ],
   "source": [
    "#data types in dataset\n",
    "print('Data Types:\\n',train_df.dtypes)\n",
    "#Descriptive statistics\n",
    "print('Descriptive statistics:\\n',np.round(train_df.describe(),3))\n",
    "#Top few rows of dataset\n",
    "train_df.head(6)"
   ]
  },
  {
   "cell_type": "markdown",
   "metadata": {},
   "source": [
    "> atom_index_1 - atom indices of the atom-pair creating coupling,  \n",
    "> type - scalar coupling type,  \n",
    "> scalar_coupling_constant- scalar coupling constant that we want to predict (target variable)"
   ]
  },
  {
   "cell_type": "code",
   "execution_count": 7,
   "metadata": {
    "_kg_hide-output": true
   },
   "outputs": [
    {
     "name": "stdout",
     "output_type": "stream",
     "text": [
      "Data Types:\n",
      " molecule_name     object\n",
      "atom_index_0       int64\n",
      "atom_index_1       int64\n",
      "type              object\n",
      "fc               float64\n",
      "sd               float64\n",
      "pso              float64\n",
      "dso              float64\n",
      "dtype: object\n",
      "Descriptive statistics:\n",
      "        atom_index_0  atom_index_1     ...               pso          dso\n",
      "count   4658147.000   4658147.000     ...       4658147.000  4658147.000\n",
      "mean         13.357         5.884     ...             0.375       -0.234\n",
      "std           3.268         4.994     ...             0.742        0.930\n",
      "min           0.000         0.000     ...            -3.288       -6.857\n",
      "25%          11.000         2.000     ...            -0.035       -0.373\n",
      "50%          13.000         5.000     ...             0.159       -0.065\n",
      "75%          16.000         8.000     ...             0.435        0.143\n",
      "max          28.000        28.000     ...             8.202        1.702\n",
      "\n",
      "[8 rows x 6 columns]\n"
     ]
    },
    {
     "data": {
      "text/html": [
       "<div>\n",
       "<style scoped>\n",
       "    .dataframe tbody tr th:only-of-type {\n",
       "        vertical-align: middle;\n",
       "    }\n",
       "\n",
       "    .dataframe tbody tr th {\n",
       "        vertical-align: top;\n",
       "    }\n",
       "\n",
       "    .dataframe thead th {\n",
       "        text-align: right;\n",
       "    }\n",
       "</style>\n",
       "<table border=\"1\" class=\"dataframe\">\n",
       "  <thead>\n",
       "    <tr style=\"text-align: right;\">\n",
       "      <th></th>\n",
       "      <th>molecule_name</th>\n",
       "      <th>atom_index_0</th>\n",
       "      <th>atom_index_1</th>\n",
       "      <th>type</th>\n",
       "      <th>fc</th>\n",
       "      <th>sd</th>\n",
       "      <th>pso</th>\n",
       "      <th>dso</th>\n",
       "    </tr>\n",
       "  </thead>\n",
       "  <tbody>\n",
       "    <tr>\n",
       "      <th>0</th>\n",
       "      <td>dsgdb9nsd_000001</td>\n",
       "      <td>1</td>\n",
       "      <td>0</td>\n",
       "      <td>1JHC</td>\n",
       "      <td>83.0224</td>\n",
       "      <td>0.254579</td>\n",
       "      <td>1.25862</td>\n",
       "      <td>0.272010</td>\n",
       "    </tr>\n",
       "    <tr>\n",
       "      <th>1</th>\n",
       "      <td>dsgdb9nsd_000001</td>\n",
       "      <td>1</td>\n",
       "      <td>2</td>\n",
       "      <td>2JHH</td>\n",
       "      <td>-11.0347</td>\n",
       "      <td>0.352978</td>\n",
       "      <td>2.85839</td>\n",
       "      <td>-3.433600</td>\n",
       "    </tr>\n",
       "    <tr>\n",
       "      <th>2</th>\n",
       "      <td>dsgdb9nsd_000001</td>\n",
       "      <td>1</td>\n",
       "      <td>3</td>\n",
       "      <td>2JHH</td>\n",
       "      <td>-11.0325</td>\n",
       "      <td>0.352944</td>\n",
       "      <td>2.85852</td>\n",
       "      <td>-3.433870</td>\n",
       "    </tr>\n",
       "    <tr>\n",
       "      <th>3</th>\n",
       "      <td>dsgdb9nsd_000001</td>\n",
       "      <td>1</td>\n",
       "      <td>4</td>\n",
       "      <td>2JHH</td>\n",
       "      <td>-11.0319</td>\n",
       "      <td>0.352934</td>\n",
       "      <td>2.85855</td>\n",
       "      <td>-3.433930</td>\n",
       "    </tr>\n",
       "    <tr>\n",
       "      <th>4</th>\n",
       "      <td>dsgdb9nsd_000001</td>\n",
       "      <td>2</td>\n",
       "      <td>0</td>\n",
       "      <td>1JHC</td>\n",
       "      <td>83.0222</td>\n",
       "      <td>0.254585</td>\n",
       "      <td>1.25861</td>\n",
       "      <td>0.272013</td>\n",
       "    </tr>\n",
       "    <tr>\n",
       "      <th>5</th>\n",
       "      <td>dsgdb9nsd_000001</td>\n",
       "      <td>2</td>\n",
       "      <td>3</td>\n",
       "      <td>2JHH</td>\n",
       "      <td>-11.0317</td>\n",
       "      <td>0.352932</td>\n",
       "      <td>2.85856</td>\n",
       "      <td>-3.433950</td>\n",
       "    </tr>\n",
       "  </tbody>\n",
       "</table>\n",
       "</div>"
      ],
      "text/plain": [
       "      molecule_name  atom_index_0    ...         pso       dso\n",
       "0  dsgdb9nsd_000001             1    ...     1.25862  0.272010\n",
       "1  dsgdb9nsd_000001             1    ...     2.85839 -3.433600\n",
       "2  dsgdb9nsd_000001             1    ...     2.85852 -3.433870\n",
       "3  dsgdb9nsd_000001             1    ...     2.85855 -3.433930\n",
       "4  dsgdb9nsd_000001             2    ...     1.25861  0.272013\n",
       "5  dsgdb9nsd_000001             2    ...     2.85856 -3.433950\n",
       "\n",
       "[6 rows x 8 columns]"
      ]
     },
     "execution_count": 7,
     "metadata": {},
     "output_type": "execute_result"
    }
   ],
   "source": [
    "#data types in dataset\n",
    "print('Data Types:\\n',scalar_coupling_cont.dtypes)\n",
    "#Descriptive statistics\n",
    "print('Descriptive statistics:\\n',np.round(scalar_coupling_cont.describe(),3))\n",
    "#Top few rows of dataset\n",
    "scalar_coupling_cont.head(6)"
   ]
  },
  {
   "cell_type": "markdown",
   "metadata": {},
   "source": [
    "> fc  - Fermi contact contribution,  \n",
    "> sc  - Spin-dipolar contribution,  \n",
    "> pso - Paramagnetic spin-orbit contribution,  \n",
    "> dso - Diemagnetic spin-orbit contribution"
   ]
  },
  {
   "cell_type": "code",
   "execution_count": 8,
   "metadata": {
    "_kg_hide-output": true
   },
   "outputs": [
    {
     "name": "stdout",
     "output_type": "stream",
     "text": [
      "Data Types:\n",
      " id                int64\n",
      "molecule_name    object\n",
      "atom_index_0      int64\n",
      "atom_index_1      int64\n",
      "type             object\n",
      "dtype: object\n",
      "Descriptive statistics:\n",
      "                 id  atom_index_0  atom_index_1\n",
      "count  2505542.000   2505542.000   2505542.000\n",
      "mean   5910917.500        13.354         5.878\n",
      "std     723287.818         3.272         4.992\n",
      "min    4658147.000         1.000         0.000\n",
      "25%    5284532.250        11.000         2.000\n",
      "50%    5910917.500        13.000         5.000\n",
      "75%    6537302.750        16.000         8.000\n",
      "max    7163688.000        28.000        28.000\n"
     ]
    },
    {
     "data": {
      "text/html": [
       "<div>\n",
       "<style scoped>\n",
       "    .dataframe tbody tr th:only-of-type {\n",
       "        vertical-align: middle;\n",
       "    }\n",
       "\n",
       "    .dataframe tbody tr th {\n",
       "        vertical-align: top;\n",
       "    }\n",
       "\n",
       "    .dataframe thead th {\n",
       "        text-align: right;\n",
       "    }\n",
       "</style>\n",
       "<table border=\"1\" class=\"dataframe\">\n",
       "  <thead>\n",
       "    <tr style=\"text-align: right;\">\n",
       "      <th></th>\n",
       "      <th>id</th>\n",
       "      <th>molecule_name</th>\n",
       "      <th>atom_index_0</th>\n",
       "      <th>atom_index_1</th>\n",
       "      <th>type</th>\n",
       "    </tr>\n",
       "  </thead>\n",
       "  <tbody>\n",
       "    <tr>\n",
       "      <th>0</th>\n",
       "      <td>4658147</td>\n",
       "      <td>dsgdb9nsd_000004</td>\n",
       "      <td>2</td>\n",
       "      <td>0</td>\n",
       "      <td>2JHC</td>\n",
       "    </tr>\n",
       "    <tr>\n",
       "      <th>1</th>\n",
       "      <td>4658148</td>\n",
       "      <td>dsgdb9nsd_000004</td>\n",
       "      <td>2</td>\n",
       "      <td>1</td>\n",
       "      <td>1JHC</td>\n",
       "    </tr>\n",
       "    <tr>\n",
       "      <th>2</th>\n",
       "      <td>4658149</td>\n",
       "      <td>dsgdb9nsd_000004</td>\n",
       "      <td>2</td>\n",
       "      <td>3</td>\n",
       "      <td>3JHH</td>\n",
       "    </tr>\n",
       "    <tr>\n",
       "      <th>3</th>\n",
       "      <td>4658150</td>\n",
       "      <td>dsgdb9nsd_000004</td>\n",
       "      <td>3</td>\n",
       "      <td>0</td>\n",
       "      <td>1JHC</td>\n",
       "    </tr>\n",
       "    <tr>\n",
       "      <th>4</th>\n",
       "      <td>4658151</td>\n",
       "      <td>dsgdb9nsd_000004</td>\n",
       "      <td>3</td>\n",
       "      <td>1</td>\n",
       "      <td>2JHC</td>\n",
       "    </tr>\n",
       "    <tr>\n",
       "      <th>5</th>\n",
       "      <td>4658152</td>\n",
       "      <td>dsgdb9nsd_000015</td>\n",
       "      <td>3</td>\n",
       "      <td>0</td>\n",
       "      <td>1JHC</td>\n",
       "    </tr>\n",
       "  </tbody>\n",
       "</table>\n",
       "</div>"
      ],
      "text/plain": [
       "        id     molecule_name  atom_index_0  atom_index_1  type\n",
       "0  4658147  dsgdb9nsd_000004             2             0  2JHC\n",
       "1  4658148  dsgdb9nsd_000004             2             1  1JHC\n",
       "2  4658149  dsgdb9nsd_000004             2             3  3JHH\n",
       "3  4658150  dsgdb9nsd_000004             3             0  1JHC\n",
       "4  4658151  dsgdb9nsd_000004             3             1  2JHC\n",
       "5  4658152  dsgdb9nsd_000015             3             0  1JHC"
      ]
     },
     "execution_count": 8,
     "metadata": {},
     "output_type": "execute_result"
    }
   ],
   "source": [
    "#data types in dataset\n",
    "print('Data Types:\\n',test_df.dtypes)\n",
    "#Descriptive statistics\n",
    "print('Descriptive statistics:\\n',np.round(test_df.describe(),3))\n",
    "#Top few rows of dataset\n",
    "test_df.head(6)"
   ]
  },
  {
   "cell_type": "code",
   "execution_count": 9,
   "metadata": {
    "_kg_hide-output": true
   },
   "outputs": [
    {
     "name": "stdout",
     "output_type": "stream",
     "text": [
      "Data Types:\n",
      " molecule_name     object\n",
      "atom_index         int64\n",
      "XX               float64\n",
      "YX               float64\n",
      "ZX               float64\n",
      "XY               float64\n",
      "YY               float64\n",
      "ZY               float64\n",
      "XZ               float64\n",
      "YZ               float64\n",
      "ZZ               float64\n",
      "dtype: object\n",
      "Descriptive statistics:\n",
      "         atom_index           XX     ...                YZ           ZZ\n",
      "count  1533537.000  1533537.000     ...       1533537.000  1533537.000\n",
      "mean         8.759       68.816     ...             0.027       82.620\n",
      "std          5.593      114.787     ...            34.169       85.569\n",
      "min          0.000    -3452.650     ...          -654.202     -948.603\n",
      "25%          4.000       28.045     ...            -2.801       27.354\n",
      "50%          9.000       31.909     ...             0.000       33.783\n",
      "75%         13.000      148.043     ...             2.872      141.648\n",
      "max         28.000      425.402     ...           738.415      556.884\n",
      "\n",
      "[8 rows x 10 columns]\n"
     ]
    },
    {
     "data": {
      "text/html": [
       "<div>\n",
       "<style scoped>\n",
       "    .dataframe tbody tr th:only-of-type {\n",
       "        vertical-align: middle;\n",
       "    }\n",
       "\n",
       "    .dataframe tbody tr th {\n",
       "        vertical-align: top;\n",
       "    }\n",
       "\n",
       "    .dataframe thead th {\n",
       "        text-align: right;\n",
       "    }\n",
       "</style>\n",
       "<table border=\"1\" class=\"dataframe\">\n",
       "  <thead>\n",
       "    <tr style=\"text-align: right;\">\n",
       "      <th></th>\n",
       "      <th>molecule_name</th>\n",
       "      <th>atom_index</th>\n",
       "      <th>XX</th>\n",
       "      <th>YX</th>\n",
       "      <th>ZX</th>\n",
       "      <th>XY</th>\n",
       "      <th>YY</th>\n",
       "      <th>ZY</th>\n",
       "      <th>XZ</th>\n",
       "      <th>YZ</th>\n",
       "      <th>ZZ</th>\n",
       "    </tr>\n",
       "  </thead>\n",
       "  <tbody>\n",
       "    <tr>\n",
       "      <th>0</th>\n",
       "      <td>dsgdb9nsd_000001</td>\n",
       "      <td>0</td>\n",
       "      <td>195.3150</td>\n",
       "      <td>0.0000</td>\n",
       "      <td>-0.0001</td>\n",
       "      <td>0.0000</td>\n",
       "      <td>195.3170</td>\n",
       "      <td>0.0007</td>\n",
       "      <td>-0.0001</td>\n",
       "      <td>0.0007</td>\n",
       "      <td>195.3170</td>\n",
       "    </tr>\n",
       "    <tr>\n",
       "      <th>1</th>\n",
       "      <td>dsgdb9nsd_000001</td>\n",
       "      <td>1</td>\n",
       "      <td>31.3410</td>\n",
       "      <td>-1.2317</td>\n",
       "      <td>4.0544</td>\n",
       "      <td>-1.2317</td>\n",
       "      <td>28.9546</td>\n",
       "      <td>-1.7173</td>\n",
       "      <td>4.0546</td>\n",
       "      <td>-1.7173</td>\n",
       "      <td>34.0861</td>\n",
       "    </tr>\n",
       "    <tr>\n",
       "      <th>2</th>\n",
       "      <td>dsgdb9nsd_000001</td>\n",
       "      <td>2</td>\n",
       "      <td>31.5814</td>\n",
       "      <td>1.2173</td>\n",
       "      <td>-4.1474</td>\n",
       "      <td>1.2173</td>\n",
       "      <td>28.9036</td>\n",
       "      <td>-1.6036</td>\n",
       "      <td>-4.1476</td>\n",
       "      <td>-1.6036</td>\n",
       "      <td>33.8967</td>\n",
       "    </tr>\n",
       "    <tr>\n",
       "      <th>3</th>\n",
       "      <td>dsgdb9nsd_000001</td>\n",
       "      <td>3</td>\n",
       "      <td>31.5172</td>\n",
       "      <td>4.1086</td>\n",
       "      <td>1.2723</td>\n",
       "      <td>4.1088</td>\n",
       "      <td>33.9068</td>\n",
       "      <td>1.6950</td>\n",
       "      <td>1.2724</td>\n",
       "      <td>1.6951</td>\n",
       "      <td>28.9579</td>\n",
       "    </tr>\n",
       "    <tr>\n",
       "      <th>4</th>\n",
       "      <td>dsgdb9nsd_000001</td>\n",
       "      <td>4</td>\n",
       "      <td>31.4029</td>\n",
       "      <td>-4.0942</td>\n",
       "      <td>-1.1793</td>\n",
       "      <td>-4.0944</td>\n",
       "      <td>34.0776</td>\n",
       "      <td>1.6259</td>\n",
       "      <td>-1.1795</td>\n",
       "      <td>1.6260</td>\n",
       "      <td>28.9013</td>\n",
       "    </tr>\n",
       "    <tr>\n",
       "      <th>5</th>\n",
       "      <td>dsgdb9nsd_000002</td>\n",
       "      <td>0</td>\n",
       "      <td>275.6350</td>\n",
       "      <td>0.0003</td>\n",
       "      <td>0.0133</td>\n",
       "      <td>0.0003</td>\n",
       "      <td>275.6360</td>\n",
       "      <td>-0.0003</td>\n",
       "      <td>0.0161</td>\n",
       "      <td>-0.0004</td>\n",
       "      <td>237.4970</td>\n",
       "    </tr>\n",
       "  </tbody>\n",
       "</table>\n",
       "</div>"
      ],
      "text/plain": [
       "      molecule_name  atom_index        XX    ...         XZ      YZ        ZZ\n",
       "0  dsgdb9nsd_000001           0  195.3150    ...    -0.0001  0.0007  195.3170\n",
       "1  dsgdb9nsd_000001           1   31.3410    ...     4.0546 -1.7173   34.0861\n",
       "2  dsgdb9nsd_000001           2   31.5814    ...    -4.1476 -1.6036   33.8967\n",
       "3  dsgdb9nsd_000001           3   31.5172    ...     1.2724  1.6951   28.9579\n",
       "4  dsgdb9nsd_000001           4   31.4029    ...    -1.1795  1.6260   28.9013\n",
       "5  dsgdb9nsd_000002           0  275.6350    ...     0.0161 -0.0004  237.4970\n",
       "\n",
       "[6 rows x 11 columns]"
      ]
     },
     "execution_count": 9,
     "metadata": {},
     "output_type": "execute_result"
    }
   ],
   "source": [
    "\n",
    "#data types in dataset\n",
    "print('Data Types:\\n',magnetic_shield_tensor.dtypes)\n",
    "#Descriptive statistics\n",
    "print('Descriptive statistics:\\n',np.round(magnetic_shield_tensor.describe(),3))\n",
    "#Top few rows of dataset\n",
    "magnetic_shield_tensor.head(6)"
   ]
  },
  {
   "cell_type": "markdown",
   "metadata": {},
   "source": [
    "> XX, YX, ZX, XY, YY, ZY, XZ, YZ, ZZ- Elements of tensor/ matrix"
   ]
  },
  {
   "cell_type": "markdown",
   "metadata": {},
   "source": [
    "> X, Y, Z - X, Y, & Z componets of dipole moments"
   ]
  },
  {
   "cell_type": "code",
   "execution_count": 10,
   "metadata": {
    "_kg_hide-output": true
   },
   "outputs": [
    {
     "name": "stdout",
     "output_type": "stream",
     "text": [
      "Data Types:\n",
      " molecule_name     object\n",
      "atom_index         int64\n",
      "atom              object\n",
      "x                float64\n",
      "y                float64\n",
      "z                float64\n",
      "dtype: object\n",
      "Descriptive statistics:\n",
      "         atom_index            x            y            z\n",
      "count  2358657.000  2358657.000  2358657.000  2358657.000\n",
      "mean         8.757        0.095       -0.334        0.062\n",
      "std          5.592        1.655        1.989        1.446\n",
      "min          0.000       -9.235       -9.934       -9.135\n",
      "25%          4.000       -0.875       -1.826       -0.842\n",
      "50%          9.000        0.052       -0.404        0.011\n",
      "75%         13.000        1.116        1.374        0.939\n",
      "max         28.000        9.382       10.182        7.895\n"
     ]
    },
    {
     "data": {
      "text/html": [
       "<div>\n",
       "<style scoped>\n",
       "    .dataframe tbody tr th:only-of-type {\n",
       "        vertical-align: middle;\n",
       "    }\n",
       "\n",
       "    .dataframe tbody tr th {\n",
       "        vertical-align: top;\n",
       "    }\n",
       "\n",
       "    .dataframe thead th {\n",
       "        text-align: right;\n",
       "    }\n",
       "</style>\n",
       "<table border=\"1\" class=\"dataframe\">\n",
       "  <thead>\n",
       "    <tr style=\"text-align: right;\">\n",
       "      <th></th>\n",
       "      <th>molecule_name</th>\n",
       "      <th>atom_index</th>\n",
       "      <th>atom</th>\n",
       "      <th>x</th>\n",
       "      <th>y</th>\n",
       "      <th>z</th>\n",
       "    </tr>\n",
       "  </thead>\n",
       "  <tbody>\n",
       "    <tr>\n",
       "      <th>0</th>\n",
       "      <td>dsgdb9nsd_000001</td>\n",
       "      <td>0</td>\n",
       "      <td>C</td>\n",
       "      <td>-0.012698</td>\n",
       "      <td>1.085804</td>\n",
       "      <td>0.008001</td>\n",
       "    </tr>\n",
       "    <tr>\n",
       "      <th>1</th>\n",
       "      <td>dsgdb9nsd_000001</td>\n",
       "      <td>1</td>\n",
       "      <td>H</td>\n",
       "      <td>0.002150</td>\n",
       "      <td>-0.006031</td>\n",
       "      <td>0.001976</td>\n",
       "    </tr>\n",
       "    <tr>\n",
       "      <th>2</th>\n",
       "      <td>dsgdb9nsd_000001</td>\n",
       "      <td>2</td>\n",
       "      <td>H</td>\n",
       "      <td>1.011731</td>\n",
       "      <td>1.463751</td>\n",
       "      <td>0.000277</td>\n",
       "    </tr>\n",
       "    <tr>\n",
       "      <th>3</th>\n",
       "      <td>dsgdb9nsd_000001</td>\n",
       "      <td>3</td>\n",
       "      <td>H</td>\n",
       "      <td>-0.540815</td>\n",
       "      <td>1.447527</td>\n",
       "      <td>-0.876644</td>\n",
       "    </tr>\n",
       "    <tr>\n",
       "      <th>4</th>\n",
       "      <td>dsgdb9nsd_000001</td>\n",
       "      <td>4</td>\n",
       "      <td>H</td>\n",
       "      <td>-0.523814</td>\n",
       "      <td>1.437933</td>\n",
       "      <td>0.906397</td>\n",
       "    </tr>\n",
       "    <tr>\n",
       "      <th>5</th>\n",
       "      <td>dsgdb9nsd_000002</td>\n",
       "      <td>0</td>\n",
       "      <td>N</td>\n",
       "      <td>-0.040426</td>\n",
       "      <td>1.024108</td>\n",
       "      <td>0.062564</td>\n",
       "    </tr>\n",
       "  </tbody>\n",
       "</table>\n",
       "</div>"
      ],
      "text/plain": [
       "      molecule_name  atom_index atom         x         y         z\n",
       "0  dsgdb9nsd_000001           0    C -0.012698  1.085804  0.008001\n",
       "1  dsgdb9nsd_000001           1    H  0.002150 -0.006031  0.001976\n",
       "2  dsgdb9nsd_000001           2    H  1.011731  1.463751  0.000277\n",
       "3  dsgdb9nsd_000001           3    H -0.540815  1.447527 -0.876644\n",
       "4  dsgdb9nsd_000001           4    H -0.523814  1.437933  0.906397\n",
       "5  dsgdb9nsd_000002           0    N -0.040426  1.024108  0.062564"
      ]
     },
     "execution_count": 10,
     "metadata": {},
     "output_type": "execute_result"
    }
   ],
   "source": [
    "#data types in dataset\n",
    "print('Data Types:\\n',structures.dtypes)\n",
    "#Descriptive statistics\n",
    "print('Descriptive statistics:\\n',np.round(structures.describe(),3))\n",
    "#Top few rows of dataset\n",
    "structures.head(6)"
   ]
  },
  {
   "cell_type": "markdown",
   "metadata": {},
   "source": [
    "> x, y, & z - Cartesian co-oridnates of the atom"
   ]
  },
  {
   "cell_type": "code",
   "execution_count": 11,
   "metadata": {},
   "outputs": [],
   "source": [
    "#Map the atom structure data into train & test datasets\n",
    "\n",
    "def map_atom_data(df,atom_idx):\n",
    "    df=pd.merge(df,structures,how='left',\n",
    "               left_on=['molecule_name',f'atom_index_{atom_idx}'],\n",
    "               right_on=['molecule_name','atom_index'])\n",
    "    df=df.drop('atom_index',axis=1)\n",
    "    df=df.rename(columns={'atom':f'atom_{atom_idx}',\n",
    "                         'x':f'x_{atom_idx}',\n",
    "                         'y':f'y_{atom_idx}',\n",
    "                         'z':f'z_{atom_idx}'})\n",
    "    return df\n",
    "#train dataset\n",
    "train_df=map_atom_data(train_df,0)\n",
    "train_df=map_atom_data(train_df,1)\n",
    "#test dataset\n",
    "test_df=map_atom_data(test_df,0)\n",
    "test_df=map_atom_data(test_df,1)\n"
   ]
  },
  {
   "cell_type": "code",
   "execution_count": 12,
   "metadata": {},
   "outputs": [
    {
     "name": "stdout",
     "output_type": "stream",
     "text": [
      "CPU times: user 2.03 s, sys: 708 ms, total: 2.74 s\n",
      "Wall time: 1.28 s\n"
     ]
    }
   ],
   "source": [
    "%%time\n",
    "#Engineer a single feature: distance vector between atoms\n",
    "# for train dataset\n",
    "train_m_0=train_df[['x_0','y_0','z_0']].values\n",
    "train_m_1=train_df[['x_1','y_1','z_1']].values\n",
    "#for test dataset\n",
    "test_m_0=test_df[['x_0','y_0','z_0']].values\n",
    "test_m_1=test_df[['x_0','y_0','z_0']].values\n",
    "\n",
    "#distance vector between atoms for train dataset\n",
    "train_df['dist_vector']=np.linalg.norm(train_m_0-train_m_1,axis=1)\n",
    "train_df['dist_X']=(train_df['x_0']-train_df['x_1'])**2\n",
    "train_df['dist_Y']=(train_df['y_0']-train_df['y_1'])**2\n",
    "train_df['dist_Z']=(train_df['z_0']-train_df['z_1'])**2\n",
    "\n",
    "#distance vector between atoms for test dataset\n",
    "test_df['dist_vector']=np.linalg.norm(test_m_0-test_m_1,axis=1)\n",
    "test_df['dist_X']=(test_df['x_0']-test_df['x_1'])**2\n",
    "test_df['dist_Y']=(test_df['y_0']-test_df['y_1'])**2\n",
    "test_df['dist_Z']=(test_df['z_0']-test_df['z_1'])**2\n"
   ]
  },
  {
   "cell_type": "markdown",
   "metadata": {},
   "source": [
    "> > **References:-**     \n",
    "> 1. https://www.kaggle.com/abhishek/competition-metric,   \n",
    "> 2. https://www.kaggle.com/seriousran/just-speed-up-calculate-distance-from-benchmark,  \n",
    "> 3. https://www.kaggle.com/inversion/atomic-distance-benchmark,    \n",
    "> 4. https://www.kaggle.com/robikscube/exploring-molecular-properties-data"
   ]
  },
  {
   "cell_type": "markdown",
   "metadata": {},
   "source": [
    "> Now let's check our train & test dataset"
   ]
  },
  {
   "cell_type": "code",
   "execution_count": 13,
   "metadata": {},
   "outputs": [],
   "source": [
    "train_df['type_0']=train_df['type'].apply(lambda x:x)\n",
    "test_df['type_0']=test_df['type'].apply(lambda x : x)\n"
   ]
  },
  {
   "cell_type": "code",
   "execution_count": 14,
   "metadata": {
    "_kg_hide-output": true
   },
   "outputs": [
    {
     "data": {
      "text/html": [
       "<div>\n",
       "<style scoped>\n",
       "    .dataframe tbody tr th:only-of-type {\n",
       "        vertical-align: middle;\n",
       "    }\n",
       "\n",
       "    .dataframe tbody tr th {\n",
       "        vertical-align: top;\n",
       "    }\n",
       "\n",
       "    .dataframe thead th {\n",
       "        text-align: right;\n",
       "    }\n",
       "</style>\n",
       "<table border=\"1\" class=\"dataframe\">\n",
       "  <thead>\n",
       "    <tr style=\"text-align: right;\">\n",
       "      <th></th>\n",
       "      <th>id</th>\n",
       "      <th>atom_index_0</th>\n",
       "      <th>atom_index_1</th>\n",
       "      <th>scalar_coupling_constant</th>\n",
       "      <th>atom_0</th>\n",
       "      <th>x_0</th>\n",
       "      <th>y_0</th>\n",
       "      <th>z_0</th>\n",
       "      <th>atom_1</th>\n",
       "      <th>x_1</th>\n",
       "      <th>y_1</th>\n",
       "      <th>z_1</th>\n",
       "      <th>dist_vector</th>\n",
       "      <th>dist_X</th>\n",
       "      <th>dist_Y</th>\n",
       "      <th>dist_Z</th>\n",
       "      <th>type_0</th>\n",
       "    </tr>\n",
       "  </thead>\n",
       "  <tbody>\n",
       "    <tr>\n",
       "      <th>0</th>\n",
       "      <td>0</td>\n",
       "      <td>1</td>\n",
       "      <td>0</td>\n",
       "      <td>84.8076</td>\n",
       "      <td>H</td>\n",
       "      <td>0.002150</td>\n",
       "      <td>-0.006031</td>\n",
       "      <td>0.001976</td>\n",
       "      <td>C</td>\n",
       "      <td>-0.012698</td>\n",
       "      <td>1.085804</td>\n",
       "      <td>0.008001</td>\n",
       "      <td>1.091953</td>\n",
       "      <td>0.000220</td>\n",
       "      <td>1.192105</td>\n",
       "      <td>0.000036</td>\n",
       "      <td>1JHC</td>\n",
       "    </tr>\n",
       "    <tr>\n",
       "      <th>1</th>\n",
       "      <td>1</td>\n",
       "      <td>1</td>\n",
       "      <td>2</td>\n",
       "      <td>-11.2570</td>\n",
       "      <td>H</td>\n",
       "      <td>0.002150</td>\n",
       "      <td>-0.006031</td>\n",
       "      <td>0.001976</td>\n",
       "      <td>H</td>\n",
       "      <td>1.011731</td>\n",
       "      <td>1.463751</td>\n",
       "      <td>0.000277</td>\n",
       "      <td>1.783120</td>\n",
       "      <td>1.019253</td>\n",
       "      <td>2.160261</td>\n",
       "      <td>0.000003</td>\n",
       "      <td>2JHH</td>\n",
       "    </tr>\n",
       "    <tr>\n",
       "      <th>2</th>\n",
       "      <td>2</td>\n",
       "      <td>1</td>\n",
       "      <td>3</td>\n",
       "      <td>-11.2548</td>\n",
       "      <td>H</td>\n",
       "      <td>0.002150</td>\n",
       "      <td>-0.006031</td>\n",
       "      <td>0.001976</td>\n",
       "      <td>H</td>\n",
       "      <td>-0.540815</td>\n",
       "      <td>1.447527</td>\n",
       "      <td>-0.876644</td>\n",
       "      <td>1.783147</td>\n",
       "      <td>0.294812</td>\n",
       "      <td>2.112831</td>\n",
       "      <td>0.771973</td>\n",
       "      <td>2JHH</td>\n",
       "    </tr>\n",
       "    <tr>\n",
       "      <th>3</th>\n",
       "      <td>3</td>\n",
       "      <td>1</td>\n",
       "      <td>4</td>\n",
       "      <td>-11.2543</td>\n",
       "      <td>H</td>\n",
       "      <td>0.002150</td>\n",
       "      <td>-0.006031</td>\n",
       "      <td>0.001976</td>\n",
       "      <td>H</td>\n",
       "      <td>-0.523814</td>\n",
       "      <td>1.437933</td>\n",
       "      <td>0.906397</td>\n",
       "      <td>1.783157</td>\n",
       "      <td>0.276638</td>\n",
       "      <td>2.085032</td>\n",
       "      <td>0.817978</td>\n",
       "      <td>2JHH</td>\n",
       "    </tr>\n",
       "    <tr>\n",
       "      <th>4</th>\n",
       "      <td>4</td>\n",
       "      <td>2</td>\n",
       "      <td>0</td>\n",
       "      <td>84.8074</td>\n",
       "      <td>H</td>\n",
       "      <td>1.011731</td>\n",
       "      <td>1.463751</td>\n",
       "      <td>0.000277</td>\n",
       "      <td>C</td>\n",
       "      <td>-0.012698</td>\n",
       "      <td>1.085804</td>\n",
       "      <td>0.008001</td>\n",
       "      <td>1.091952</td>\n",
       "      <td>1.049455</td>\n",
       "      <td>0.142844</td>\n",
       "      <td>0.000060</td>\n",
       "      <td>1JHC</td>\n",
       "    </tr>\n",
       "    <tr>\n",
       "      <th>5</th>\n",
       "      <td>5</td>\n",
       "      <td>2</td>\n",
       "      <td>3</td>\n",
       "      <td>-11.2541</td>\n",
       "      <td>H</td>\n",
       "      <td>1.011731</td>\n",
       "      <td>1.463751</td>\n",
       "      <td>0.000277</td>\n",
       "      <td>H</td>\n",
       "      <td>-0.540815</td>\n",
       "      <td>1.447527</td>\n",
       "      <td>-0.876644</td>\n",
       "      <td>1.783158</td>\n",
       "      <td>2.410399</td>\n",
       "      <td>0.000263</td>\n",
       "      <td>0.768989</td>\n",
       "      <td>2JHH</td>\n",
       "    </tr>\n",
       "  </tbody>\n",
       "</table>\n",
       "</div>"
      ],
      "text/plain": [
       "   id  atom_index_0  atom_index_1   ...      dist_Y    dist_Z  type_0\n",
       "0   0             1             0   ...    1.192105  0.000036    1JHC\n",
       "1   1             1             2   ...    2.160261  0.000003    2JHH\n",
       "2   2             1             3   ...    2.112831  0.771973    2JHH\n",
       "3   3             1             4   ...    2.085032  0.817978    2JHH\n",
       "4   4             2             0   ...    0.142844  0.000060    1JHC\n",
       "5   5             2             3   ...    0.000263  0.768989    2JHH\n",
       "\n",
       "[6 rows x 17 columns]"
      ]
     },
     "metadata": {},
     "output_type": "display_data"
    }
   ],
   "source": [
    "train_df=train_df.drop(columns=['molecule_name','type'],axis=1)\n",
    "display(train_df.head(6))"
   ]
  },
  {
   "cell_type": "code",
   "execution_count": 15,
   "metadata": {
    "_kg_hide-output": true
   },
   "outputs": [
    {
     "data": {
      "text/html": [
       "<div>\n",
       "<style scoped>\n",
       "    .dataframe tbody tr th:only-of-type {\n",
       "        vertical-align: middle;\n",
       "    }\n",
       "\n",
       "    .dataframe tbody tr th {\n",
       "        vertical-align: top;\n",
       "    }\n",
       "\n",
       "    .dataframe thead th {\n",
       "        text-align: right;\n",
       "    }\n",
       "</style>\n",
       "<table border=\"1\" class=\"dataframe\">\n",
       "  <thead>\n",
       "    <tr style=\"text-align: right;\">\n",
       "      <th></th>\n",
       "      <th>id</th>\n",
       "      <th>atom_index_0</th>\n",
       "      <th>atom_index_1</th>\n",
       "      <th>atom_0</th>\n",
       "      <th>x_0</th>\n",
       "      <th>y_0</th>\n",
       "      <th>z_0</th>\n",
       "      <th>atom_1</th>\n",
       "      <th>x_1</th>\n",
       "      <th>y_1</th>\n",
       "      <th>z_1</th>\n",
       "      <th>dist_vector</th>\n",
       "      <th>dist_X</th>\n",
       "      <th>dist_Y</th>\n",
       "      <th>dist_Z</th>\n",
       "      <th>type_0</th>\n",
       "    </tr>\n",
       "  </thead>\n",
       "  <tbody>\n",
       "    <tr>\n",
       "      <th>0</th>\n",
       "      <td>4658147</td>\n",
       "      <td>2</td>\n",
       "      <td>0</td>\n",
       "      <td>H</td>\n",
       "      <td>-1.661639</td>\n",
       "      <td>0.000000</td>\n",
       "      <td>1.000000</td>\n",
       "      <td>C</td>\n",
       "      <td>0.599539</td>\n",
       "      <td>0.000000</td>\n",
       "      <td>1.000000</td>\n",
       "      <td>0.0</td>\n",
       "      <td>5.112926</td>\n",
       "      <td>0.000000</td>\n",
       "      <td>0.000000</td>\n",
       "      <td>2JHC</td>\n",
       "    </tr>\n",
       "    <tr>\n",
       "      <th>1</th>\n",
       "      <td>4658148</td>\n",
       "      <td>2</td>\n",
       "      <td>1</td>\n",
       "      <td>H</td>\n",
       "      <td>-1.661639</td>\n",
       "      <td>0.000000</td>\n",
       "      <td>1.000000</td>\n",
       "      <td>C</td>\n",
       "      <td>-0.599539</td>\n",
       "      <td>0.000000</td>\n",
       "      <td>1.000000</td>\n",
       "      <td>0.0</td>\n",
       "      <td>1.128054</td>\n",
       "      <td>0.000000</td>\n",
       "      <td>0.000000</td>\n",
       "      <td>1JHC</td>\n",
       "    </tr>\n",
       "    <tr>\n",
       "      <th>2</th>\n",
       "      <td>4658149</td>\n",
       "      <td>2</td>\n",
       "      <td>3</td>\n",
       "      <td>H</td>\n",
       "      <td>-1.661639</td>\n",
       "      <td>0.000000</td>\n",
       "      <td>1.000000</td>\n",
       "      <td>H</td>\n",
       "      <td>1.661639</td>\n",
       "      <td>0.000000</td>\n",
       "      <td>1.000000</td>\n",
       "      <td>0.0</td>\n",
       "      <td>11.044171</td>\n",
       "      <td>0.000000</td>\n",
       "      <td>0.000000</td>\n",
       "      <td>3JHH</td>\n",
       "    </tr>\n",
       "    <tr>\n",
       "      <th>3</th>\n",
       "      <td>4658150</td>\n",
       "      <td>3</td>\n",
       "      <td>0</td>\n",
       "      <td>H</td>\n",
       "      <td>1.661639</td>\n",
       "      <td>0.000000</td>\n",
       "      <td>1.000000</td>\n",
       "      <td>C</td>\n",
       "      <td>0.599539</td>\n",
       "      <td>0.000000</td>\n",
       "      <td>1.000000</td>\n",
       "      <td>0.0</td>\n",
       "      <td>1.128054</td>\n",
       "      <td>0.000000</td>\n",
       "      <td>0.000000</td>\n",
       "      <td>1JHC</td>\n",
       "    </tr>\n",
       "    <tr>\n",
       "      <th>4</th>\n",
       "      <td>4658151</td>\n",
       "      <td>3</td>\n",
       "      <td>1</td>\n",
       "      <td>H</td>\n",
       "      <td>1.661639</td>\n",
       "      <td>0.000000</td>\n",
       "      <td>1.000000</td>\n",
       "      <td>C</td>\n",
       "      <td>-0.599539</td>\n",
       "      <td>0.000000</td>\n",
       "      <td>1.000000</td>\n",
       "      <td>0.0</td>\n",
       "      <td>5.112926</td>\n",
       "      <td>0.000000</td>\n",
       "      <td>0.000000</td>\n",
       "      <td>2JHC</td>\n",
       "    </tr>\n",
       "    <tr>\n",
       "      <th>5</th>\n",
       "      <td>4658152</td>\n",
       "      <td>3</td>\n",
       "      <td>0</td>\n",
       "      <td>H</td>\n",
       "      <td>1.005284</td>\n",
       "      <td>1.810158</td>\n",
       "      <td>0.004656</td>\n",
       "      <td>C</td>\n",
       "      <td>-0.014821</td>\n",
       "      <td>1.392412</td>\n",
       "      <td>0.005671</td>\n",
       "      <td>0.0</td>\n",
       "      <td>1.040614</td>\n",
       "      <td>0.174511</td>\n",
       "      <td>0.000001</td>\n",
       "      <td>1JHC</td>\n",
       "    </tr>\n",
       "    <tr>\n",
       "      <th>6</th>\n",
       "      <td>4658153</td>\n",
       "      <td>3</td>\n",
       "      <td>2</td>\n",
       "      <td>H</td>\n",
       "      <td>1.005284</td>\n",
       "      <td>1.810158</td>\n",
       "      <td>0.004656</td>\n",
       "      <td>C</td>\n",
       "      <td>0.637949</td>\n",
       "      <td>-0.553297</td>\n",
       "      <td>-1.113582</td>\n",
       "      <td>0.0</td>\n",
       "      <td>0.134935</td>\n",
       "      <td>5.585919</td>\n",
       "      <td>1.250458</td>\n",
       "      <td>3JHC</td>\n",
       "    </tr>\n",
       "    <tr>\n",
       "      <th>7</th>\n",
       "      <td>4658154</td>\n",
       "      <td>3</td>\n",
       "      <td>4</td>\n",
       "      <td>H</td>\n",
       "      <td>1.005284</td>\n",
       "      <td>1.810158</td>\n",
       "      <td>0.004656</td>\n",
       "      <td>H</td>\n",
       "      <td>-0.546896</td>\n",
       "      <td>1.793435</td>\n",
       "      <td>-0.872511</td>\n",
       "      <td>0.0</td>\n",
       "      <td>2.409260</td>\n",
       "      <td>0.000280</td>\n",
       "      <td>0.769422</td>\n",
       "      <td>2JHH</td>\n",
       "    </tr>\n",
       "    <tr>\n",
       "      <th>8</th>\n",
       "      <td>4658155</td>\n",
       "      <td>3</td>\n",
       "      <td>5</td>\n",
       "      <td>H</td>\n",
       "      <td>1.005284</td>\n",
       "      <td>1.810158</td>\n",
       "      <td>0.004656</td>\n",
       "      <td>H</td>\n",
       "      <td>-0.530029</td>\n",
       "      <td>1.722920</td>\n",
       "      <td>0.911017</td>\n",
       "      <td>0.0</td>\n",
       "      <td>2.357185</td>\n",
       "      <td>0.007611</td>\n",
       "      <td>0.821490</td>\n",
       "      <td>2JHH</td>\n",
       "    </tr>\n",
       "    <tr>\n",
       "      <th>9</th>\n",
       "      <td>4658156</td>\n",
       "      <td>4</td>\n",
       "      <td>0</td>\n",
       "      <td>H</td>\n",
       "      <td>-0.546896</td>\n",
       "      <td>1.793435</td>\n",
       "      <td>-0.872511</td>\n",
       "      <td>C</td>\n",
       "      <td>-0.014821</td>\n",
       "      <td>1.392412</td>\n",
       "      <td>0.005671</td>\n",
       "      <td>0.0</td>\n",
       "      <td>0.283103</td>\n",
       "      <td>0.160819</td>\n",
       "      <td>0.771203</td>\n",
       "      <td>1JHC</td>\n",
       "    </tr>\n",
       "  </tbody>\n",
       "</table>\n",
       "</div>"
      ],
      "text/plain": [
       "        id  atom_index_0  atom_index_1   ...      dist_Y    dist_Z  type_0\n",
       "0  4658147             2             0   ...    0.000000  0.000000    2JHC\n",
       "1  4658148             2             1   ...    0.000000  0.000000    1JHC\n",
       "2  4658149             2             3   ...    0.000000  0.000000    3JHH\n",
       "3  4658150             3             0   ...    0.000000  0.000000    1JHC\n",
       "4  4658151             3             1   ...    0.000000  0.000000    2JHC\n",
       "5  4658152             3             0   ...    0.174511  0.000001    1JHC\n",
       "6  4658153             3             2   ...    5.585919  1.250458    3JHC\n",
       "7  4658154             3             4   ...    0.000280  0.769422    2JHH\n",
       "8  4658155             3             5   ...    0.007611  0.821490    2JHH\n",
       "9  4658156             4             0   ...    0.160819  0.771203    1JHC\n",
       "\n",
       "[10 rows x 16 columns]"
      ]
     },
     "metadata": {},
     "output_type": "display_data"
    }
   ],
   "source": [
    "test_df=test_df.drop(columns=['molecule_name','type'],axis=1)\n",
    "display(test_df.head(10))"
   ]
  },
  {
   "cell_type": "markdown",
   "metadata": {},
   "source": [
    "Attributes like **atom_0**, & **atom_1** requires type converson from **obejcet** to **categorical** for proper understanding"
   ]
  },
  {
   "cell_type": "code",
   "execution_count": 16,
   "metadata": {},
   "outputs": [],
   "source": [
    "#Type casting\n",
    "\n",
    "# for train data\n",
    "train_df['type_0']=train_df.type_0.astype('category')\n",
    "#train_df['type']=train_df.type.astype('category')\n",
    "train_df['atom_0']=train_df.atom_0.astype('category')\n",
    "train_df['atom_1']=train_df.atom_1.astype('category')\n",
    "\n",
    "#for test data\n",
    "test_df['type_0']=test_df.type_0.astype('category')\n",
    "#test_df['type']=test_df.type.astype('category')\n",
    "test_df['atom_0']=test_df.atom_0.astype('category')\n",
    "test_df['atom_1']=test_df.atom_1.astype('category')"
   ]
  },
  {
   "cell_type": "markdown",
   "metadata": {},
   "source": [
    "> **Histograms for Data Visualization**"
   ]
  },
  {
   "cell_type": "code",
   "execution_count": 17,
   "metadata": {},
   "outputs": [
    {
     "data": {
      "image/png": "[encoded data removed]",
      "text/plain": [
       "<Figure size 432x288 with 1 Axes>"
      ]
     },
     "metadata": {},
     "output_type": "display_data"
    }
   ],
   "source": [
    "plt.hist(train_df['scalar_coupling_constant'])\n",
    "plt.ylabel('No of times')\n",
    "plt.xlabel('scalar copling constant')\n",
    "plt.show()"
   ]
  },
  {
   "cell_type": "code",
   "execution_count": 18,
   "metadata": {},
   "outputs": [
    {
     "data": {
      "image/png": "[encoded data removed]",
      "text/plain": [
       "<Figure size 432x288 with 1 Axes>"
      ]
     },
     "metadata": {},
     "output_type": "display_data"
    }
   ],
   "source": [
    "plt.hist(train_df['dist_vector'])\n",
    "plt.ylabel('No of times')\n",
    "plt.xlabel('Distance vector')\n",
    "plt.show()"
   ]
  },
  {
   "cell_type": "code",
   "execution_count": 19,
   "metadata": {},
   "outputs": [
    {
     "data": {
      "image/png": "[encoded data removed]",
      "text/plain": [
       "<Figure size 432x288 with 1 Axes>"
      ]
     },
     "metadata": {},
     "output_type": "display_data"
    }
   ],
   "source": [
    "plt.hist(train_df['dist_X'])\n",
    "plt.ylabel('No of times')\n",
    "plt.xlabel('X distance vector')\n",
    "plt.show()"
   ]
  },
  {
   "cell_type": "code",
   "execution_count": 20,
   "metadata": {},
   "outputs": [
    {
     "data": {
      "image/png": "[encoded data removed]",
      "text/plain": [
       "<Figure size 432x288 with 1 Axes>"
      ]
     },
     "metadata": {},
     "output_type": "display_data"
    }
   ],
   "source": [
    "plt.hist(train_df['dist_Y'])\n",
    "plt.ylabel('No of times')\n",
    "plt.xlabel('Y distance vector')\n",
    "plt.show()"
   ]
  },
  {
   "cell_type": "code",
   "execution_count": 21,
   "metadata": {},
   "outputs": [
    {
     "data": {
      "image/png": "[encoded data removed]",
      "text/plain": [
       "<Figure size 432x288 with 1 Axes>"
      ]
     },
     "metadata": {},
     "output_type": "display_data"
    }
   ],
   "source": [
    "plt.hist(train_df['dist_Z'])\n",
    "plt.ylabel('No of times')\n",
    "plt.xlabel('Z distance vector')\n",
    "plt.show()"
   ]
  },
  {
   "cell_type": "markdown",
   "metadata": {},
   "source": [
    "**Feature engineering**"
   ]
  },
  {
   "cell_type": "code",
   "execution_count": 22,
   "metadata": {},
   "outputs": [
    {
     "data": {
      "text/html": [
       "<div>\n",
       "<style scoped>\n",
       "    .dataframe tbody tr th:only-of-type {\n",
       "        vertical-align: middle;\n",
       "    }\n",
       "\n",
       "    .dataframe tbody tr th {\n",
       "        vertical-align: top;\n",
       "    }\n",
       "\n",
       "    .dataframe thead th {\n",
       "        text-align: right;\n",
       "    }\n",
       "</style>\n",
       "<table border=\"1\" class=\"dataframe\">\n",
       "  <thead>\n",
       "    <tr style=\"text-align: right;\">\n",
       "      <th></th>\n",
       "      <th>id</th>\n",
       "      <th>atom_index_0</th>\n",
       "      <th>atom_index_1</th>\n",
       "      <th>scalar_coupling_constant</th>\n",
       "      <th>atom_0</th>\n",
       "      <th>x_0</th>\n",
       "      <th>y_0</th>\n",
       "      <th>z_0</th>\n",
       "      <th>atom_1</th>\n",
       "      <th>x_1</th>\n",
       "      <th>y_1</th>\n",
       "      <th>z_1</th>\n",
       "      <th>dist_vector</th>\n",
       "      <th>dist_X</th>\n",
       "      <th>dist_Y</th>\n",
       "      <th>dist_Z</th>\n",
       "      <th>type_0</th>\n",
       "    </tr>\n",
       "  </thead>\n",
       "  <tbody>\n",
       "    <tr>\n",
       "      <th>0</th>\n",
       "      <td>0</td>\n",
       "      <td>1</td>\n",
       "      <td>0</td>\n",
       "      <td>84.8076</td>\n",
       "      <td>H</td>\n",
       "      <td>0.002150</td>\n",
       "      <td>-0.006031</td>\n",
       "      <td>0.001976</td>\n",
       "      <td>C</td>\n",
       "      <td>-0.012698</td>\n",
       "      <td>1.085804</td>\n",
       "      <td>0.008001</td>\n",
       "      <td>1.091953</td>\n",
       "      <td>0.000220</td>\n",
       "      <td>1.192105</td>\n",
       "      <td>0.000036</td>\n",
       "      <td>1JHC</td>\n",
       "    </tr>\n",
       "    <tr>\n",
       "      <th>1</th>\n",
       "      <td>1</td>\n",
       "      <td>1</td>\n",
       "      <td>2</td>\n",
       "      <td>-11.2570</td>\n",
       "      <td>H</td>\n",
       "      <td>0.002150</td>\n",
       "      <td>-0.006031</td>\n",
       "      <td>0.001976</td>\n",
       "      <td>H</td>\n",
       "      <td>1.011731</td>\n",
       "      <td>1.463751</td>\n",
       "      <td>0.000277</td>\n",
       "      <td>1.783120</td>\n",
       "      <td>1.019253</td>\n",
       "      <td>2.160261</td>\n",
       "      <td>0.000003</td>\n",
       "      <td>2JHH</td>\n",
       "    </tr>\n",
       "    <tr>\n",
       "      <th>2</th>\n",
       "      <td>2</td>\n",
       "      <td>1</td>\n",
       "      <td>3</td>\n",
       "      <td>-11.2548</td>\n",
       "      <td>H</td>\n",
       "      <td>0.002150</td>\n",
       "      <td>-0.006031</td>\n",
       "      <td>0.001976</td>\n",
       "      <td>H</td>\n",
       "      <td>-0.540815</td>\n",
       "      <td>1.447527</td>\n",
       "      <td>-0.876644</td>\n",
       "      <td>1.783147</td>\n",
       "      <td>0.294812</td>\n",
       "      <td>2.112831</td>\n",
       "      <td>0.771973</td>\n",
       "      <td>2JHH</td>\n",
       "    </tr>\n",
       "    <tr>\n",
       "      <th>3</th>\n",
       "      <td>3</td>\n",
       "      <td>1</td>\n",
       "      <td>4</td>\n",
       "      <td>-11.2543</td>\n",
       "      <td>H</td>\n",
       "      <td>0.002150</td>\n",
       "      <td>-0.006031</td>\n",
       "      <td>0.001976</td>\n",
       "      <td>H</td>\n",
       "      <td>-0.523814</td>\n",
       "      <td>1.437933</td>\n",
       "      <td>0.906397</td>\n",
       "      <td>1.783157</td>\n",
       "      <td>0.276638</td>\n",
       "      <td>2.085032</td>\n",
       "      <td>0.817978</td>\n",
       "      <td>2JHH</td>\n",
       "    </tr>\n",
       "    <tr>\n",
       "      <th>4</th>\n",
       "      <td>4</td>\n",
       "      <td>2</td>\n",
       "      <td>0</td>\n",
       "      <td>84.8074</td>\n",
       "      <td>H</td>\n",
       "      <td>1.011731</td>\n",
       "      <td>1.463751</td>\n",
       "      <td>0.000277</td>\n",
       "      <td>C</td>\n",
       "      <td>-0.012698</td>\n",
       "      <td>1.085804</td>\n",
       "      <td>0.008001</td>\n",
       "      <td>1.091952</td>\n",
       "      <td>1.049455</td>\n",
       "      <td>0.142844</td>\n",
       "      <td>0.000060</td>\n",
       "      <td>1JHC</td>\n",
       "    </tr>\n",
       "  </tbody>\n",
       "</table>\n",
       "</div>"
      ],
      "text/plain": [
       "   id  atom_index_0  atom_index_1   ...      dist_Y    dist_Z  type_0\n",
       "0   0             1             0   ...    1.192105  0.000036    1JHC\n",
       "1   1             1             2   ...    2.160261  0.000003    2JHH\n",
       "2   2             1             3   ...    2.112831  0.771973    2JHH\n",
       "3   3             1             4   ...    2.085032  0.817978    2JHH\n",
       "4   4             2             0   ...    0.142844  0.000060    1JHC\n",
       "\n",
       "[5 rows x 17 columns]"
      ]
     },
     "execution_count": 22,
     "metadata": {},
     "output_type": "execute_result"
    }
   ],
   "source": [
    "train_df.head(5)"
   ]
  },
  {
   "cell_type": "markdown",
   "metadata": {},
   "source": [
    "> **Distribution plots using Seaborn**"
   ]
  },
  {
   "cell_type": "code",
   "execution_count": 23,
   "metadata": {},
   "outputs": [
    {
     "data": {
      "text/plain": [
       "<matplotlib.axes._subplots.AxesSubplot at 0x7f8223664710>"
      ]
     },
     "execution_count": 23,
     "metadata": {},
     "output_type": "execute_result"
    },
    {
     "data": {
      "image/png": "[encoded data removed]",
      "text/plain": [
       "<Figure size 720x576 with 1 Axes>"
      ]
     },
     "metadata": {},
     "output_type": "display_data"
    }
   ],
   "source": [
    "plt.figure(figsize=(10,8))\n",
    "plt.ylabel('Frequency')\n",
    "plt.xlabel('scalar coupling constant')\n",
    "sn.distplot(train_df['scalar_coupling_constant'])"
   ]
  },
  {
   "cell_type": "code",
   "execution_count": 24,
   "metadata": {},
   "outputs": [
    {
     "data": {
      "text/plain": [
       "<matplotlib.axes._subplots.AxesSubplot at 0x7f82236b46d8>"
      ]
     },
     "execution_count": 24,
     "metadata": {},
     "output_type": "execute_result"
    },
    {
     "data": {
      "image/png": "[encoded data removed]",
      "text/plain": [
       "<Figure size 720x576 with 1 Axes>"
      ]
     },
     "metadata": {},
     "output_type": "display_data"
    }
   ],
   "source": [
    "plt.figure(figsize=(10,8))\n",
    "plt.ylabel('Frequency')\n",
    "plt.xlabel('Distance vector')\n",
    "sn.distplot(train_df['dist_vector'])"
   ]
  },
  {
   "cell_type": "code",
   "execution_count": 25,
   "metadata": {},
   "outputs": [
    {
     "data": {
      "text/plain": [
       "<matplotlib.axes._subplots.AxesSubplot at 0x7f82237089b0>"
      ]
     },
     "execution_count": 25,
     "metadata": {},
     "output_type": "execute_result"
    },
    {
     "data": {
      "image/png": "[encoded data removed]",
      "text/plain": [
       "<Figure size 720x576 with 1 Axes>"
      ]
     },
     "metadata": {},
     "output_type": "display_data"
    }
   ],
   "source": [
    "plt.figure(figsize=(10,8))\n",
    "plt.ylabel('Frequency')\n",
    "plt.xlabel('dist_X')\n",
    "sn.distplot(train_df['dist_X'])"
   ]
  },
  {
   "cell_type": "code",
   "execution_count": 26,
   "metadata": {},
   "outputs": [
    {
     "data": {
      "text/plain": [
       "<matplotlib.axes._subplots.AxesSubplot at 0x7f82234a6da0>"
      ]
     },
     "execution_count": 26,
     "metadata": {},
     "output_type": "execute_result"
    },
    {
     "data": {
      "image/png": "[encoded data removed]",
      "text/plain": [
       "<Figure size 720x576 with 1 Axes>"
      ]
     },
     "metadata": {},
     "output_type": "display_data"
    }
   ],
   "source": [
    "plt.figure(figsize=(10,8))\n",
    "plt.ylabel('Frequency')\n",
    "plt.xlabel('dist_Y')\n",
    "sn.distplot(train_df['dist_Y'])"
   ]
  },
  {
   "cell_type": "code",
   "execution_count": 27,
   "metadata": {},
   "outputs": [
    {
     "data": {
      "text/plain": [
       "<matplotlib.axes._subplots.AxesSubplot at 0x7f821b3561d0>"
      ]
     },
     "execution_count": 27,
     "metadata": {},
     "output_type": "execute_result"
    },
    {
     "data": {
      "image/png": "[encoded data removed]",
      "text/plain": [
       "<Figure size 720x576 with 1 Axes>"
      ]
     },
     "metadata": {},
     "output_type": "display_data"
    }
   ],
   "source": [
    "plt.figure(figsize=(10,8))\n",
    "plt.ylabel('Frequency')\n",
    "plt.xlabel('dist_Z')\n",
    "sn.distplot(train_df['dist_Z'])"
   ]
  },
  {
   "cell_type": "code",
   "execution_count": 28,
   "metadata": {},
   "outputs": [],
   "source": [
    "#Threshold for removing correalated values\n",
    "#threshold=0.95\n",
    "#Absolute value correlation matrix\n",
    "#corr_matrix=train_df.corr().abs()\n",
    "\n",
    "#Gettng the upper traingle of correlations\n",
    "#upper=corr_matrix.where(np.triu(np.ones(corr_matrix.shape),k=1).astype(np.bool))"
   ]
  },
  {
   "cell_type": "code",
   "execution_count": 29,
   "metadata": {},
   "outputs": [],
   "source": [
    "#select columns with correlations above threshold\n",
    "#to_drop=[column for column in upper.columns if any(upper[column]>threshold)]\n",
    "#print('There are are %d columns to remove.'%(len(to_drop)))"
   ]
  },
  {
   "cell_type": "code",
   "execution_count": 30,
   "metadata": {},
   "outputs": [],
   "source": [
    "#train_df=train_df.drop(columns=to_drop)\n",
    "#test_df=test_df.drop(columns=to_drop)\n",
    "#print('Training data shape',train_df.shape)\n",
    "#print('Testing data shape',test_df.shape)"
   ]
  },
  {
   "cell_type": "code",
   "execution_count": 31,
   "metadata": {},
   "outputs": [],
   "source": [
    "Attributes=['atom_index_0','atom_index_1','type_0','x_0','y_0','z_0','atom_0',\n",
    "            'atom_1','x_1','y_1','z_1','dist_vector','dist_X','dist_Y','dist_Z']\n",
    "#categorical attributes\n",
    "cat_attributes=['type_0','atom_0','atom_1']\n",
    "target_label=['scalar_coupling_constant']\n",
    "# split the data into X_train,X_test,& y_target\n",
    "\n",
    "X_train=train_df[Attributes]\n",
    "X_test=test_df[Attributes]\n",
    "y_target=train_df[target_label]\n",
    "            "
   ]
  },
  {
   "cell_type": "code",
   "execution_count": 32,
   "metadata": {},
   "outputs": [],
   "source": [
    "#Transfrom categorical variables\n",
    "X_train=pd.get_dummies(data=X_train,columns=cat_attributes)\n",
    "X_test=pd.get_dummies(data=X_test,columns=cat_attributes)"
   ]
  },
  {
   "cell_type": "code",
   "execution_count": 33,
   "metadata": {
    "_kg_hide-output": true
   },
   "outputs": [
    {
     "name": "stdout",
     "output_type": "stream",
     "text": [
      "(4658147, 24) (2505542, 24)\n"
     ]
    }
   ],
   "source": [
    "print(X_train.shape,X_test.shape)"
   ]
  },
  {
   "cell_type": "code",
   "execution_count": 34,
   "metadata": {
    "_kg_hide-output": true
   },
   "outputs": [
    {
     "data": {
      "text/plain": [
       "(4658147, 1)"
      ]
     },
     "metadata": {},
     "output_type": "display_data"
    }
   ],
   "source": [
    "display(y_target.shape)"
   ]
  },
  {
   "cell_type": "code",
   "execution_count": 35,
   "metadata": {
    "_kg_hide-output": true
   },
   "outputs": [],
   "source": [
    "#Enocode the categorigal variables\n",
    "#from sklearn.preprocessing import LabelEncoder\n",
    "#for f in ['type','atom_index_0','atom_index_1','atom_0','atom_1']:\n",
    "    #if f in good_columns:\n",
    "       # lbl=LabelEncoder()\n",
    "       # lbl.fit(list(X_train[f].values)+list(X_test[f].values))\n",
    "       # X_train[f]=lbl.transform(list(X_train[f].values))\n",
    "     #   X_test[f]=lbl.transform(list(X_test[f].values))\n"
   ]
  },
  {
   "cell_type": "markdown",
   "metadata": {},
   "source": [
    "> Let's look at our transformed data"
   ]
  },
  {
   "cell_type": "code",
   "execution_count": 36,
   "metadata": {},
   "outputs": [
    {
     "data": {
      "text/html": [
       "<div>\n",
       "<style scoped>\n",
       "    .dataframe tbody tr th:only-of-type {\n",
       "        vertical-align: middle;\n",
       "    }\n",
       "\n",
       "    .dataframe tbody tr th {\n",
       "        vertical-align: top;\n",
       "    }\n",
       "\n",
       "    .dataframe thead th {\n",
       "        text-align: right;\n",
       "    }\n",
       "</style>\n",
       "<table border=\"1\" class=\"dataframe\">\n",
       "  <thead>\n",
       "    <tr style=\"text-align: right;\">\n",
       "      <th></th>\n",
       "      <th>atom_index_0</th>\n",
       "      <th>atom_index_1</th>\n",
       "      <th>x_0</th>\n",
       "      <th>y_0</th>\n",
       "      <th>z_0</th>\n",
       "      <th>x_1</th>\n",
       "      <th>y_1</th>\n",
       "      <th>z_1</th>\n",
       "      <th>dist_vector</th>\n",
       "      <th>dist_X</th>\n",
       "      <th>dist_Y</th>\n",
       "      <th>dist_Z</th>\n",
       "      <th>type_0_1JHC</th>\n",
       "      <th>type_0_1JHN</th>\n",
       "      <th>type_0_2JHC</th>\n",
       "      <th>type_0_2JHH</th>\n",
       "      <th>type_0_2JHN</th>\n",
       "      <th>type_0_3JHC</th>\n",
       "      <th>type_0_3JHH</th>\n",
       "      <th>type_0_3JHN</th>\n",
       "      <th>atom_0_H</th>\n",
       "      <th>atom_1_C</th>\n",
       "      <th>atom_1_H</th>\n",
       "      <th>atom_1_N</th>\n",
       "    </tr>\n",
       "  </thead>\n",
       "  <tbody>\n",
       "    <tr>\n",
       "      <th>0</th>\n",
       "      <td>1</td>\n",
       "      <td>0</td>\n",
       "      <td>0.002150</td>\n",
       "      <td>-0.006031</td>\n",
       "      <td>0.001976</td>\n",
       "      <td>-0.012698</td>\n",
       "      <td>1.085804</td>\n",
       "      <td>0.008001</td>\n",
       "      <td>1.091953</td>\n",
       "      <td>0.000220</td>\n",
       "      <td>1.192105</td>\n",
       "      <td>0.000036</td>\n",
       "      <td>1</td>\n",
       "      <td>0</td>\n",
       "      <td>0</td>\n",
       "      <td>0</td>\n",
       "      <td>0</td>\n",
       "      <td>0</td>\n",
       "      <td>0</td>\n",
       "      <td>0</td>\n",
       "      <td>1</td>\n",
       "      <td>1</td>\n",
       "      <td>0</td>\n",
       "      <td>0</td>\n",
       "    </tr>\n",
       "    <tr>\n",
       "      <th>1</th>\n",
       "      <td>1</td>\n",
       "      <td>2</td>\n",
       "      <td>0.002150</td>\n",
       "      <td>-0.006031</td>\n",
       "      <td>0.001976</td>\n",
       "      <td>1.011731</td>\n",
       "      <td>1.463751</td>\n",
       "      <td>0.000277</td>\n",
       "      <td>1.783120</td>\n",
       "      <td>1.019253</td>\n",
       "      <td>2.160261</td>\n",
       "      <td>0.000003</td>\n",
       "      <td>0</td>\n",
       "      <td>0</td>\n",
       "      <td>0</td>\n",
       "      <td>1</td>\n",
       "      <td>0</td>\n",
       "      <td>0</td>\n",
       "      <td>0</td>\n",
       "      <td>0</td>\n",
       "      <td>1</td>\n",
       "      <td>0</td>\n",
       "      <td>1</td>\n",
       "      <td>0</td>\n",
       "    </tr>\n",
       "    <tr>\n",
       "      <th>2</th>\n",
       "      <td>1</td>\n",
       "      <td>3</td>\n",
       "      <td>0.002150</td>\n",
       "      <td>-0.006031</td>\n",
       "      <td>0.001976</td>\n",
       "      <td>-0.540815</td>\n",
       "      <td>1.447527</td>\n",
       "      <td>-0.876644</td>\n",
       "      <td>1.783147</td>\n",
       "      <td>0.294812</td>\n",
       "      <td>2.112831</td>\n",
       "      <td>0.771973</td>\n",
       "      <td>0</td>\n",
       "      <td>0</td>\n",
       "      <td>0</td>\n",
       "      <td>1</td>\n",
       "      <td>0</td>\n",
       "      <td>0</td>\n",
       "      <td>0</td>\n",
       "      <td>0</td>\n",
       "      <td>1</td>\n",
       "      <td>0</td>\n",
       "      <td>1</td>\n",
       "      <td>0</td>\n",
       "    </tr>\n",
       "    <tr>\n",
       "      <th>3</th>\n",
       "      <td>1</td>\n",
       "      <td>4</td>\n",
       "      <td>0.002150</td>\n",
       "      <td>-0.006031</td>\n",
       "      <td>0.001976</td>\n",
       "      <td>-0.523814</td>\n",
       "      <td>1.437933</td>\n",
       "      <td>0.906397</td>\n",
       "      <td>1.783157</td>\n",
       "      <td>0.276638</td>\n",
       "      <td>2.085032</td>\n",
       "      <td>0.817978</td>\n",
       "      <td>0</td>\n",
       "      <td>0</td>\n",
       "      <td>0</td>\n",
       "      <td>1</td>\n",
       "      <td>0</td>\n",
       "      <td>0</td>\n",
       "      <td>0</td>\n",
       "      <td>0</td>\n",
       "      <td>1</td>\n",
       "      <td>0</td>\n",
       "      <td>1</td>\n",
       "      <td>0</td>\n",
       "    </tr>\n",
       "    <tr>\n",
       "      <th>4</th>\n",
       "      <td>2</td>\n",
       "      <td>0</td>\n",
       "      <td>1.011731</td>\n",
       "      <td>1.463751</td>\n",
       "      <td>0.000277</td>\n",
       "      <td>-0.012698</td>\n",
       "      <td>1.085804</td>\n",
       "      <td>0.008001</td>\n",
       "      <td>1.091952</td>\n",
       "      <td>1.049455</td>\n",
       "      <td>0.142844</td>\n",
       "      <td>0.000060</td>\n",
       "      <td>1</td>\n",
       "      <td>0</td>\n",
       "      <td>0</td>\n",
       "      <td>0</td>\n",
       "      <td>0</td>\n",
       "      <td>0</td>\n",
       "      <td>0</td>\n",
       "      <td>0</td>\n",
       "      <td>1</td>\n",
       "      <td>1</td>\n",
       "      <td>0</td>\n",
       "      <td>0</td>\n",
       "    </tr>\n",
       "    <tr>\n",
       "      <th>5</th>\n",
       "      <td>2</td>\n",
       "      <td>3</td>\n",
       "      <td>1.011731</td>\n",
       "      <td>1.463751</td>\n",
       "      <td>0.000277</td>\n",
       "      <td>-0.540815</td>\n",
       "      <td>1.447527</td>\n",
       "      <td>-0.876644</td>\n",
       "      <td>1.783158</td>\n",
       "      <td>2.410399</td>\n",
       "      <td>0.000263</td>\n",
       "      <td>0.768989</td>\n",
       "      <td>0</td>\n",
       "      <td>0</td>\n",
       "      <td>0</td>\n",
       "      <td>1</td>\n",
       "      <td>0</td>\n",
       "      <td>0</td>\n",
       "      <td>0</td>\n",
       "      <td>0</td>\n",
       "      <td>1</td>\n",
       "      <td>0</td>\n",
       "      <td>1</td>\n",
       "      <td>0</td>\n",
       "    </tr>\n",
       "  </tbody>\n",
       "</table>\n",
       "</div>"
      ],
      "text/plain": [
       "   atom_index_0  atom_index_1       x_0    ...     atom_1_C  atom_1_H  atom_1_N\n",
       "0             1             0  0.002150    ...            1         0         0\n",
       "1             1             2  0.002150    ...            0         1         0\n",
       "2             1             3  0.002150    ...            0         1         0\n",
       "3             1             4  0.002150    ...            0         1         0\n",
       "4             2             0  1.011731    ...            1         0         0\n",
       "5             2             3  1.011731    ...            0         1         0\n",
       "\n",
       "[6 rows x 24 columns]"
      ]
     },
     "execution_count": 36,
     "metadata": {},
     "output_type": "execute_result"
    }
   ],
   "source": [
    "\n",
    "\n",
    "X_train.head(6)"
   ]
  },
  {
   "cell_type": "code",
   "execution_count": 37,
   "metadata": {},
   "outputs": [
    {
     "data": {
      "text/html": [
       "<div>\n",
       "<style scoped>\n",
       "    .dataframe tbody tr th:only-of-type {\n",
       "        vertical-align: middle;\n",
       "    }\n",
       "\n",
       "    .dataframe tbody tr th {\n",
       "        vertical-align: top;\n",
       "    }\n",
       "\n",
       "    .dataframe thead th {\n",
       "        text-align: right;\n",
       "    }\n",
       "</style>\n",
       "<table border=\"1\" class=\"dataframe\">\n",
       "  <thead>\n",
       "    <tr style=\"text-align: right;\">\n",
       "      <th></th>\n",
       "      <th>atom_index_0</th>\n",
       "      <th>atom_index_1</th>\n",
       "      <th>x_0</th>\n",
       "      <th>y_0</th>\n",
       "      <th>z_0</th>\n",
       "      <th>x_1</th>\n",
       "      <th>y_1</th>\n",
       "      <th>z_1</th>\n",
       "      <th>dist_vector</th>\n",
       "      <th>dist_X</th>\n",
       "      <th>dist_Y</th>\n",
       "      <th>dist_Z</th>\n",
       "      <th>type_0_1JHC</th>\n",
       "      <th>type_0_1JHN</th>\n",
       "      <th>type_0_2JHC</th>\n",
       "      <th>type_0_2JHH</th>\n",
       "      <th>type_0_2JHN</th>\n",
       "      <th>type_0_3JHC</th>\n",
       "      <th>type_0_3JHH</th>\n",
       "      <th>type_0_3JHN</th>\n",
       "      <th>atom_0_H</th>\n",
       "      <th>atom_1_C</th>\n",
       "      <th>atom_1_H</th>\n",
       "      <th>atom_1_N</th>\n",
       "    </tr>\n",
       "  </thead>\n",
       "  <tbody>\n",
       "    <tr>\n",
       "      <th>0</th>\n",
       "      <td>2</td>\n",
       "      <td>0</td>\n",
       "      <td>-1.661639</td>\n",
       "      <td>0.000000</td>\n",
       "      <td>1.000000</td>\n",
       "      <td>0.599539</td>\n",
       "      <td>0.000000</td>\n",
       "      <td>1.000000</td>\n",
       "      <td>0.0</td>\n",
       "      <td>5.112926</td>\n",
       "      <td>0.000000</td>\n",
       "      <td>0.000000</td>\n",
       "      <td>0</td>\n",
       "      <td>0</td>\n",
       "      <td>1</td>\n",
       "      <td>0</td>\n",
       "      <td>0</td>\n",
       "      <td>0</td>\n",
       "      <td>0</td>\n",
       "      <td>0</td>\n",
       "      <td>1</td>\n",
       "      <td>1</td>\n",
       "      <td>0</td>\n",
       "      <td>0</td>\n",
       "    </tr>\n",
       "    <tr>\n",
       "      <th>1</th>\n",
       "      <td>2</td>\n",
       "      <td>1</td>\n",
       "      <td>-1.661639</td>\n",
       "      <td>0.000000</td>\n",
       "      <td>1.000000</td>\n",
       "      <td>-0.599539</td>\n",
       "      <td>0.000000</td>\n",
       "      <td>1.000000</td>\n",
       "      <td>0.0</td>\n",
       "      <td>1.128054</td>\n",
       "      <td>0.000000</td>\n",
       "      <td>0.000000</td>\n",
       "      <td>1</td>\n",
       "      <td>0</td>\n",
       "      <td>0</td>\n",
       "      <td>0</td>\n",
       "      <td>0</td>\n",
       "      <td>0</td>\n",
       "      <td>0</td>\n",
       "      <td>0</td>\n",
       "      <td>1</td>\n",
       "      <td>1</td>\n",
       "      <td>0</td>\n",
       "      <td>0</td>\n",
       "    </tr>\n",
       "    <tr>\n",
       "      <th>2</th>\n",
       "      <td>2</td>\n",
       "      <td>3</td>\n",
       "      <td>-1.661639</td>\n",
       "      <td>0.000000</td>\n",
       "      <td>1.000000</td>\n",
       "      <td>1.661639</td>\n",
       "      <td>0.000000</td>\n",
       "      <td>1.000000</td>\n",
       "      <td>0.0</td>\n",
       "      <td>11.044171</td>\n",
       "      <td>0.000000</td>\n",
       "      <td>0.000000</td>\n",
       "      <td>0</td>\n",
       "      <td>0</td>\n",
       "      <td>0</td>\n",
       "      <td>0</td>\n",
       "      <td>0</td>\n",
       "      <td>0</td>\n",
       "      <td>1</td>\n",
       "      <td>0</td>\n",
       "      <td>1</td>\n",
       "      <td>0</td>\n",
       "      <td>1</td>\n",
       "      <td>0</td>\n",
       "    </tr>\n",
       "    <tr>\n",
       "      <th>3</th>\n",
       "      <td>3</td>\n",
       "      <td>0</td>\n",
       "      <td>1.661639</td>\n",
       "      <td>0.000000</td>\n",
       "      <td>1.000000</td>\n",
       "      <td>0.599539</td>\n",
       "      <td>0.000000</td>\n",
       "      <td>1.000000</td>\n",
       "      <td>0.0</td>\n",
       "      <td>1.128054</td>\n",
       "      <td>0.000000</td>\n",
       "      <td>0.000000</td>\n",
       "      <td>1</td>\n",
       "      <td>0</td>\n",
       "      <td>0</td>\n",
       "      <td>0</td>\n",
       "      <td>0</td>\n",
       "      <td>0</td>\n",
       "      <td>0</td>\n",
       "      <td>0</td>\n",
       "      <td>1</td>\n",
       "      <td>1</td>\n",
       "      <td>0</td>\n",
       "      <td>0</td>\n",
       "    </tr>\n",
       "    <tr>\n",
       "      <th>4</th>\n",
       "      <td>3</td>\n",
       "      <td>1</td>\n",
       "      <td>1.661639</td>\n",
       "      <td>0.000000</td>\n",
       "      <td>1.000000</td>\n",
       "      <td>-0.599539</td>\n",
       "      <td>0.000000</td>\n",
       "      <td>1.000000</td>\n",
       "      <td>0.0</td>\n",
       "      <td>5.112926</td>\n",
       "      <td>0.000000</td>\n",
       "      <td>0.000000</td>\n",
       "      <td>0</td>\n",
       "      <td>0</td>\n",
       "      <td>1</td>\n",
       "      <td>0</td>\n",
       "      <td>0</td>\n",
       "      <td>0</td>\n",
       "      <td>0</td>\n",
       "      <td>0</td>\n",
       "      <td>1</td>\n",
       "      <td>1</td>\n",
       "      <td>0</td>\n",
       "      <td>0</td>\n",
       "    </tr>\n",
       "    <tr>\n",
       "      <th>5</th>\n",
       "      <td>3</td>\n",
       "      <td>0</td>\n",
       "      <td>1.005284</td>\n",
       "      <td>1.810158</td>\n",
       "      <td>0.004656</td>\n",
       "      <td>-0.014821</td>\n",
       "      <td>1.392412</td>\n",
       "      <td>0.005671</td>\n",
       "      <td>0.0</td>\n",
       "      <td>1.040614</td>\n",
       "      <td>0.174511</td>\n",
       "      <td>0.000001</td>\n",
       "      <td>1</td>\n",
       "      <td>0</td>\n",
       "      <td>0</td>\n",
       "      <td>0</td>\n",
       "      <td>0</td>\n",
       "      <td>0</td>\n",
       "      <td>0</td>\n",
       "      <td>0</td>\n",
       "      <td>1</td>\n",
       "      <td>1</td>\n",
       "      <td>0</td>\n",
       "      <td>0</td>\n",
       "    </tr>\n",
       "  </tbody>\n",
       "</table>\n",
       "</div>"
      ],
      "text/plain": [
       "   atom_index_0  atom_index_1       x_0    ...     atom_1_C  atom_1_H  atom_1_N\n",
       "0             2             0 -1.661639    ...            1         0         0\n",
       "1             2             1 -1.661639    ...            1         0         0\n",
       "2             2             3 -1.661639    ...            0         1         0\n",
       "3             3             0  1.661639    ...            1         0         0\n",
       "4             3             1  1.661639    ...            1         0         0\n",
       "5             3             0  1.005284    ...            1         0         0\n",
       "\n",
       "[6 rows x 24 columns]"
      ]
     },
     "execution_count": 37,
     "metadata": {},
     "output_type": "execute_result"
    }
   ],
   "source": [
    "X_test.head(6)"
   ]
  },
  {
   "cell_type": "code",
   "execution_count": 38,
   "metadata": {},
   "outputs": [
    {
     "data": {
      "text/html": [
       "<div>\n",
       "<style scoped>\n",
       "    .dataframe tbody tr th:only-of-type {\n",
       "        vertical-align: middle;\n",
       "    }\n",
       "\n",
       "    .dataframe tbody tr th {\n",
       "        vertical-align: top;\n",
       "    }\n",
       "\n",
       "    .dataframe thead th {\n",
       "        text-align: right;\n",
       "    }\n",
       "</style>\n",
       "<table border=\"1\" class=\"dataframe\">\n",
       "  <thead>\n",
       "    <tr style=\"text-align: right;\">\n",
       "      <th></th>\n",
       "      <th>scalar_coupling_constant</th>\n",
       "    </tr>\n",
       "  </thead>\n",
       "  <tbody>\n",
       "    <tr>\n",
       "      <th>0</th>\n",
       "      <td>84.8076</td>\n",
       "    </tr>\n",
       "    <tr>\n",
       "      <th>1</th>\n",
       "      <td>-11.2570</td>\n",
       "    </tr>\n",
       "    <tr>\n",
       "      <th>2</th>\n",
       "      <td>-11.2548</td>\n",
       "    </tr>\n",
       "    <tr>\n",
       "      <th>3</th>\n",
       "      <td>-11.2543</td>\n",
       "    </tr>\n",
       "    <tr>\n",
       "      <th>4</th>\n",
       "      <td>84.8074</td>\n",
       "    </tr>\n",
       "    <tr>\n",
       "      <th>5</th>\n",
       "      <td>-11.2541</td>\n",
       "    </tr>\n",
       "  </tbody>\n",
       "</table>\n",
       "</div>"
      ],
      "text/plain": [
       "   scalar_coupling_constant\n",
       "0                   84.8076\n",
       "1                  -11.2570\n",
       "2                  -11.2548\n",
       "3                  -11.2543\n",
       "4                   84.8074\n",
       "5                  -11.2541"
      ]
     },
     "execution_count": 38,
     "metadata": {},
     "output_type": "execute_result"
    }
   ],
   "source": [
    "y_target.head(6)"
   ]
  },
  {
   "cell_type": "markdown",
   "metadata": {},
   "source": [
    "**Linear Regression model**"
   ]
  },
  {
   "cell_type": "code",
   "execution_count": 39,
   "metadata": {
    "_kg_hide-input": false
   },
   "outputs": [],
   "source": [
    "\n",
    "#from sklearn import linear_model\n",
    "#linear_reg=linear_model.LinearRegression()\n",
    "#n_folds=5\n",
    "#Cross validation\n",
    "#lin_reg_score=cross_val_score(linear_reg,X_train,y_target,\n",
    "                         # scoring=make_scorer(mean_squared_error),\n",
    "                          #cv=n_folds)\n",
    "#lin_score=sum(lin_reg_score)/n_folds\n",
    "#print('Lin_score:',lin_score)"
   ]
  },
  {
   "cell_type": "code",
   "execution_count": 40,
   "metadata": {},
   "outputs": [],
   "source": [
    "#lr_model=linear_reg.fit(X_train,y_target)\n",
    "#score=np.round(lr_model.score(X_train,y_target),3)\n",
    "#print('Accuracy of trained model:',score)\n",
    "#model_coeff=np.round(lr_model.coef_,3)\n",
    "#print('Model coefficients:',model_coeff)\n",
    "#model_intercept=np.round(lr_model.intercept_,3)\n",
    "#print('Model intercept value:',model_intercept)"
   ]
  },
  {
   "cell_type": "code",
   "execution_count": 41,
   "metadata": {},
   "outputs": [],
   "source": [
    "#model prediction\n",
    "#from sklearn.metrics import r2_score\n",
    "#y_pred=lr_model.predict(X_test)\n",
    "#SCC=pd.read_csv('../input/sample_submission.csv')\n",
    "#SCC['scalar_coupling_constant']= y_pred\n",
    "#SCC.to_csv('Linear_Regression_model.csv',index=False)"
   ]
  },
  {
   "cell_type": "markdown",
   "metadata": {},
   "source": [
    "> **Lasso Regression model**"
   ]
  },
  {
   "cell_type": "code",
   "execution_count": 42,
   "metadata": {},
   "outputs": [
    {
     "name": "stdout",
     "output_type": "stream",
     "text": [
      "CPU times: user 0 ns, sys: 0 ns, total: 0 ns\n",
      "Wall time: 10.3 µs\n"
     ]
    }
   ],
   "source": [
    "%%time\n",
    "#from sklearn import linear_model\n",
    "#lasso=linear_model.Lasso(alpha=0.001)\n",
    "#n_folds=5\n",
    "#Cross validation\n",
    "#lasso_score=cross_val_score(lasso,X_train,y_target,\n",
    "                         # scoring=make_scorer(mean_squared_error),\n",
    "                          #cv=n_folds)\n",
    "#lasso_score=sum(lasso_score)/n_folds\n",
    "#print('lasso_score:',lasso_score)\n",
    "#print(lasso)"
   ]
  },
  {
   "cell_type": "code",
   "execution_count": 43,
   "metadata": {},
   "outputs": [],
   "source": [
    "#lasso_model=lasso.fit(X_train,y_target)\n",
    "#score=np.round(lasso_model.score(X_train,y_target),3)\n",
    "#print('Accuracy of trained model:',score)"
   ]
  },
  {
   "cell_type": "code",
   "execution_count": 44,
   "metadata": {},
   "outputs": [],
   "source": [
    "#model prediction\n",
    "#y_pred=lasso_model.predict(X_test)\n",
    "#SCC=pd.read_csv('../input/sample_submission.csv')\n",
    "#SCC['scalar_coupling_constant']= y_pred\n",
    "#SCC.to_csv('Lasso_Regression_model.csv',index=False)\n",
    "#y_pred"
   ]
  },
  {
   "cell_type": "code",
   "execution_count": 45,
   "metadata": {},
   "outputs": [],
   "source": [
    "#from sklearn import linear_model\n",
    "#Elast=linear_model.ElasticNet(alpha=0.008,l1_ratio=0.5,random_state=42)\n",
    "#n_folds=5\n",
    "#Cross validation\n",
    "#Elast_score=cross_val_score(Elast,X_train,y_target,\n",
    "                          #scoring=make_scorer(mean_squared_error),\n",
    "                          #cv=n_folds)\n",
    "#Elast_score=sum(Elast_score)/n_folds\n",
    "#print('Elast_score:',Elast_score)\n",
    "#print(Elast)"
   ]
  },
  {
   "cell_type": "code",
   "execution_count": 46,
   "metadata": {},
   "outputs": [],
   "source": [
    "#ElasticNet_model=linear_reg.fit(X_train,y_target)\n",
    "#score=np.round(ElasticNet_model.score(X_train,y_target),3)\n",
    "#print('Accuracy of trained model:',score)"
   ]
  },
  {
   "cell_type": "code",
   "execution_count": 47,
   "metadata": {},
   "outputs": [],
   "source": [
    "#model prediction\n",
    "#y_pred=ElasticNet_model.predict(X_test)\n",
    "#SCC=pd.read_csv('../input/sample_submission.csv')\n",
    "#SCC['scalar_coupling_constant']= y_pred\n",
    "#SCC.to_csv('ElasticNet_Regression_model.csv',index=False)\n",
    "#y_pred"
   ]
  },
  {
   "cell_type": "markdown",
   "metadata": {},
   "source": [
    "\n",
    "\n",
    "**Light Gradient Boostng Machine**"
   ]
  },
  {
   "cell_type": "markdown",
   "metadata": {},
   "source": [
    "> Hyperopt for Hyperparameter tuning (Bayesian optimization)"
   ]
  },
  {
   "cell_type": "code",
   "execution_count": 48,
   "metadata": {},
   "outputs": [],
   "source": [
    "#Define hyper space\n",
    "#from hyperopt import fmin,hp,tpe,Trials,space_eval,STATUS_OK,STATUS_RUNNING\n",
    "#hyper_space={'objective':'regression',\n",
    "            # 'metric':'mape',\n",
    "             #'boosting':'gbdt',\n",
    "             #'n_estimators':hp.choice('n_estimators',[100,250,450,600,850,1000,2000,3000,4000,5000]),\n",
    "            # 'max_depth':hp.choice('max_depth',[5,10,15,20,25,30,35]),\n",
    "             #'num_leaves':hp.choice('num_leaves',[45,60,95,125,145,200]),\n",
    "             #'subsample':hp.choice('subsample',[.1,.2,.3,.4,0.5,0.6,0.7,0.8,0.9,1]),\n",
    "             #'colsample_bytree': hp.choice('colsample_bytree',[.1,.2,.3,.4,.5,0.6,0.7,0.8,0.9,1.0]),\n",
    "             #'learning_rate': hp.choice('learning_rate',[0.1,0.2,0.3,0.35,0.4,0.5]),\n",
    "             #'reg_lambda': hp.choice('reg_lambda',[.1,.2,.3,.4,.5,.6,.7,.8,.9,1.0]),\n",
    "            # 'reg_alpha': hp.choice('reg_alpha',[.1,.2,.3,.4,.5,.6,.7,.8,.9,1.0]),\n",
    "            # 'min_child_samples':hp.choice('min_child_samples',[3,6,8,12,15])\n",
    "           # }\n"
   ]
  },
  {
   "cell_type": "code",
   "execution_count": 49,
   "metadata": {},
   "outputs": [],
   "source": [
    "#Defining the metric to score our optimizer\n",
    "#def metric(df,pred):\n",
    "    #df['diff']=(df['scalar_coupling_constant']-pred).abs()\n",
    "    #return np.log(df.groupby([['type']])['diff'].mean().map(lambda x:max(x,1e-9))).mean()"
   ]
  },
  {
   "cell_type": "code",
   "execution_count": 50,
   "metadata": {},
   "outputs": [
    {
     "name": "stdout",
     "output_type": "stream",
     "text": [
      "(4192332, 24) (465815, 24)\n",
      "(4192332, 1) (465815, 1)\n"
     ]
    }
   ],
   "source": [
    "#Split the train data into train(90%) & valid dataset(10%)\n",
    "from sklearn.model_selection import train_test_split\n",
    "X_train,X_valid,y_train,y_valid=train_test_split(X_train,y_target,\n",
    "                                               test_size=0.1, random_state=42)\n",
    "#df_valid=pd.DataFrame({'type':X_valid['type']})\n",
    "#df_valid['scalar_coupling_constant']=y_valid\n",
    "print(X_train.shape,X_valid.shape)\n",
    "print(y_train.shape,y_valid.shape)\n",
    "#print(df_valid.shape)\n",
    "\n"
   ]
  },
  {
   "cell_type": "code",
   "execution_count": 51,
   "metadata": {},
   "outputs": [],
   "source": [
    "from lightgbm import LGBMRegressor\n",
    "import lightgbm as lgb\n",
    "#Create a function for Hyper parameters optimization\n",
    "train_data=lgb.Dataset(X_train,label=y_train)\n",
    "valid_data=lgb.Dataset(X_valid,label=y_valid)\n",
    "#def evaluate_metric(params):\n",
    "    #lgbm_model=lgb.train(params,train_data,500,\n",
    "                             # valid_sets=[train_data,valid_data],\n",
    "                            # early_stopping_rounds=20,verbose_eval=500)\n",
    "   # pred=lgbm_model.predict(X_valid)\n",
    "   # score=metric(df_valid,pred)\n",
    "   # print(score)\n",
    "   # return {\n",
    "        #'loss':score,\n",
    "        #'status':STATUS_OK,\n",
    "       # 'staus running':STATUS_RUNNING\n",
    "    #}\n",
    "    "
   ]
  },
  {
   "cell_type": "markdown",
   "metadata": {},
   "source": [
    "> **Initalzing the optimizer**"
   ]
  },
  {
   "cell_type": "code",
   "execution_count": 52,
   "metadata": {},
   "outputs": [],
   "source": [
    "#from functools import partial\n",
    "#Trial\n",
    "#trials=Trials()\n",
    "#set algorithm parameters\n",
    "#algo=partial(tpe.suggest,n_startup_jobs=-1)\n",
    "#set the no.of evaluations\n",
    "#Max_evals=20\n",
    "#Fit the Tree parzen estimator\n",
    "#best_vals=fmin(evaluate_metric,space=hyper_space,verbose=1,\n",
    "             # algo=algo,max_evals=Max_evals,trials=trials)\n",
    "\n"
   ]
  },
  {
   "cell_type": "code",
   "execution_count": 53,
   "metadata": {},
   "outputs": [],
   "source": [
    "#print the best parameters\n",
    "#best_params=space_eval(hyper_space,best_vals)\n",
    "#print('Best Parameters from Hyperopt:\\n'+str(best_params))"
   ]
  },
  {
   "cell_type": "code",
   "execution_count": 54,
   "metadata": {},
   "outputs": [
    {
     "name": "stdout",
     "output_type": "stream",
     "text": [
      "Training until validation scores don't improve for 100 rounds.\n",
      "[100]\ttraining's l1: 2.29084\tvalid_1's l1: 2.29883\n",
      "[200]\ttraining's l1: 2.21176\tvalid_1's l1: 2.22659\n",
      "[300]\ttraining's l1: 2.16414\tvalid_1's l1: 2.18561\n",
      "[400]\ttraining's l1: 2.12245\tvalid_1's l1: 2.15039\n",
      "[500]\ttraining's l1: 2.08855\tvalid_1's l1: 2.12233\n",
      "[600]\ttraining's l1: 2.0611\tvalid_1's l1: 2.10058\n",
      "[700]\ttraining's l1: 2.03941\tvalid_1's l1: 2.08427\n",
      "[800]\ttraining's l1: 2.01739\tvalid_1's l1: 2.06769\n",
      "[900]\ttraining's l1: 1.99798\tvalid_1's l1: 2.05334\n",
      "[1000]\ttraining's l1: 1.98075\tvalid_1's l1: 2.04083\n",
      "[1100]\ttraining's l1: 1.96447\tvalid_1's l1: 2.02899\n",
      "[1200]\ttraining's l1: 1.94851\tvalid_1's l1: 2.01788\n",
      "[1300]\ttraining's l1: 1.93264\tvalid_1's l1: 2.0068\n",
      "[1400]\ttraining's l1: 1.91902\tvalid_1's l1: 1.99732\n",
      "[1500]\ttraining's l1: 1.90639\tvalid_1's l1: 1.98948\n",
      "[1600]\ttraining's l1: 1.89515\tvalid_1's l1: 1.98281\n",
      "[1700]\ttraining's l1: 1.88326\tvalid_1's l1: 1.97557\n",
      "[1800]\ttraining's l1: 1.87286\tvalid_1's l1: 1.9694\n",
      "[1900]\ttraining's l1: 1.86225\tvalid_1's l1: 1.96291\n",
      "[2000]\ttraining's l1: 1.8515\tvalid_1's l1: 1.95652\n",
      "[2100]\ttraining's l1: 1.84253\tvalid_1's l1: 1.95166\n",
      "[2200]\ttraining's l1: 1.83352\tvalid_1's l1: 1.94632\n",
      "[2300]\ttraining's l1: 1.82403\tvalid_1's l1: 1.94105\n",
      "[2400]\ttraining's l1: 1.81486\tvalid_1's l1: 1.9357\n",
      "[2500]\ttraining's l1: 1.80632\tvalid_1's l1: 1.93138\n",
      "[2600]\ttraining's l1: 1.7976\tvalid_1's l1: 1.92637\n",
      "[2700]\ttraining's l1: 1.79021\tvalid_1's l1: 1.92262\n",
      "[2800]\ttraining's l1: 1.78203\tvalid_1's l1: 1.91842\n",
      "[2900]\ttraining's l1: 1.77465\tvalid_1's l1: 1.91467\n",
      "[3000]\ttraining's l1: 1.76717\tvalid_1's l1: 1.91083\n",
      "[3100]\ttraining's l1: 1.75996\tvalid_1's l1: 1.90736\n",
      "[3200]\ttraining's l1: 1.75273\tvalid_1's l1: 1.90361\n",
      "[3300]\ttraining's l1: 1.74552\tvalid_1's l1: 1.89994\n",
      "[3400]\ttraining's l1: 1.73896\tvalid_1's l1: 1.89649\n",
      "[3500]\ttraining's l1: 1.7318\tvalid_1's l1: 1.89284\n",
      "[3600]\ttraining's l1: 1.72534\tvalid_1's l1: 1.88996\n",
      "[3700]\ttraining's l1: 1.71823\tvalid_1's l1: 1.88614\n",
      "[3800]\ttraining's l1: 1.71151\tvalid_1's l1: 1.88313\n",
      "[3900]\ttraining's l1: 1.70522\tvalid_1's l1: 1.87989\n",
      "[4000]\ttraining's l1: 1.69902\tvalid_1's l1: 1.87686\n",
      "[4100]\ttraining's l1: 1.69273\tvalid_1's l1: 1.87384\n",
      "[4200]\ttraining's l1: 1.68592\tvalid_1's l1: 1.87037\n",
      "[4300]\ttraining's l1: 1.68009\tvalid_1's l1: 1.86791\n",
      "[4400]\ttraining's l1: 1.67408\tvalid_1's l1: 1.86514\n",
      "[4500]\ttraining's l1: 1.66845\tvalid_1's l1: 1.86272\n",
      "[4600]\ttraining's l1: 1.66346\tvalid_1's l1: 1.8608\n",
      "[4700]\ttraining's l1: 1.65762\tvalid_1's l1: 1.85802\n",
      "[4800]\ttraining's l1: 1.65217\tvalid_1's l1: 1.85577\n",
      "[4900]\ttraining's l1: 1.64677\tvalid_1's l1: 1.85362\n",
      "[5000]\ttraining's l1: 1.6412\tvalid_1's l1: 1.85148\n",
      "[5100]\ttraining's l1: 1.63582\tvalid_1's l1: 1.84923\n",
      "[5200]\ttraining's l1: 1.63042\tvalid_1's l1: 1.84686\n",
      "[5300]\ttraining's l1: 1.62516\tvalid_1's l1: 1.84447\n",
      "[5400]\ttraining's l1: 1.6201\tvalid_1's l1: 1.84251\n",
      "[5500]\ttraining's l1: 1.61504\tvalid_1's l1: 1.84043\n",
      "[5600]\ttraining's l1: 1.61042\tvalid_1's l1: 1.83844\n",
      "[5700]\ttraining's l1: 1.60506\tvalid_1's l1: 1.83583\n",
      "[5800]\ttraining's l1: 1.59992\tvalid_1's l1: 1.83367\n",
      "[5900]\ttraining's l1: 1.59489\tvalid_1's l1: 1.8316\n",
      "[6000]\ttraining's l1: 1.59041\tvalid_1's l1: 1.82964\n",
      "[6100]\ttraining's l1: 1.58555\tvalid_1's l1: 1.82735\n",
      "[6200]\ttraining's l1: 1.5809\tvalid_1's l1: 1.8252\n",
      "[6300]\ttraining's l1: 1.57616\tvalid_1's l1: 1.82337\n",
      "[6400]\ttraining's l1: 1.57182\tvalid_1's l1: 1.82199\n",
      "[6500]\ttraining's l1: 1.56697\tvalid_1's l1: 1.81993\n",
      "[6600]\ttraining's l1: 1.56232\tvalid_1's l1: 1.81782\n",
      "[6700]\ttraining's l1: 1.55788\tvalid_1's l1: 1.8161\n",
      "[6800]\ttraining's l1: 1.55381\tvalid_1's l1: 1.81461\n",
      "[6900]\ttraining's l1: 1.54988\tvalid_1's l1: 1.81346\n",
      "[7000]\ttraining's l1: 1.5457\tvalid_1's l1: 1.81196\n",
      "[7100]\ttraining's l1: 1.54136\tvalid_1's l1: 1.81037\n",
      "[7200]\ttraining's l1: 1.53713\tvalid_1's l1: 1.80889\n",
      "[7300]\ttraining's l1: 1.53291\tvalid_1's l1: 1.80731\n",
      "[7400]\ttraining's l1: 1.52872\tvalid_1's l1: 1.80586\n",
      "[7500]\ttraining's l1: 1.5246\tvalid_1's l1: 1.80457\n",
      "[7600]\ttraining's l1: 1.52094\tvalid_1's l1: 1.80321\n",
      "[7700]\ttraining's l1: 1.51687\tvalid_1's l1: 1.80181\n",
      "[7800]\ttraining's l1: 1.51283\tvalid_1's l1: 1.80042\n",
      "[7900]\ttraining's l1: 1.5091\tvalid_1's l1: 1.79932\n",
      "[8000]\ttraining's l1: 1.50507\tvalid_1's l1: 1.7978\n",
      "[8100]\ttraining's l1: 1.50101\tvalid_1's l1: 1.79639\n",
      "[8200]\ttraining's l1: 1.49728\tvalid_1's l1: 1.79522\n",
      "[8300]\ttraining's l1: 1.49356\tvalid_1's l1: 1.79395\n",
      "[8400]\ttraining's l1: 1.48995\tvalid_1's l1: 1.79271\n",
      "[8500]\ttraining's l1: 1.486\tvalid_1's l1: 1.79121\n",
      "[8600]\ttraining's l1: 1.48218\tvalid_1's l1: 1.78981\n",
      "[8700]\ttraining's l1: 1.47872\tvalid_1's l1: 1.78859\n",
      "[8800]\ttraining's l1: 1.47541\tvalid_1's l1: 1.78782\n",
      "[8900]\ttraining's l1: 1.47189\tvalid_1's l1: 1.78664\n",
      "[9000]\ttraining's l1: 1.46846\tvalid_1's l1: 1.78554\n",
      "[9100]\ttraining's l1: 1.46483\tvalid_1's l1: 1.78437\n",
      "[9200]\ttraining's l1: 1.46125\tvalid_1's l1: 1.78349\n",
      "[9300]\ttraining's l1: 1.4579\tvalid_1's l1: 1.7825\n",
      "[9400]\ttraining's l1: 1.45432\tvalid_1's l1: 1.78138\n",
      "[9500]\ttraining's l1: 1.45085\tvalid_1's l1: 1.78048\n",
      "[9600]\ttraining's l1: 1.44729\tvalid_1's l1: 1.77928\n",
      "[9700]\ttraining's l1: 1.44376\tvalid_1's l1: 1.77823\n",
      "[9800]\ttraining's l1: 1.44029\tvalid_1's l1: 1.77718\n",
      "[9900]\ttraining's l1: 1.43684\tvalid_1's l1: 1.77615\n",
      "[10000]\ttraining's l1: 1.43339\tvalid_1's l1: 1.77494\n",
      "Did not meet early stopping. Best iteration is:\n",
      "[10000]\ttraining's l1: 1.43339\tvalid_1's l1: 1.77494\n"
     ]
    }
   ],
   "source": [
    "params={'boosting':'gbdt',\n",
    "        'colsample_bytree':0.9,\n",
    "        'learning_rate':0.2,\n",
    "        'metric':'mae',\n",
    "        'min_child_samples':25,\n",
    "        'num_leaves':60,\n",
    "        'reg_alpha':0.1,    #L1 regularization\n",
    "        }\n",
    "\n",
    "lgb_model=lgb.train(params,train_data,10000,valid_sets=[train_data,valid_data],verbose_eval=100,\n",
    "                   early_stopping_rounds=100)\n"
   ]
  },
  {
   "cell_type": "code",
   "execution_count": 55,
   "metadata": {},
   "outputs": [
    {
     "name": "stdout",
     "output_type": "stream",
     "text": [
      "CPU times: user 38min 27s, sys: 3.46 s, total: 38min 30s\n",
      "Wall time: 9min 57s\n"
     ]
    }
   ],
   "source": [
    "%%time\n",
    "y_pred=lgb_model.predict(X_test,num_iteration=lgb_model.best_iteration)\n",
    "#display(y_pred)\n",
    "SCC=pd.read_csv('../input/sample_submission.csv')\n",
    "SCC['scalar_coupling_constant']= y_pred\n",
    "SCC.to_csv('LGBM_gbdt_model.csv',index=False)"
   ]
  },
  {
   "cell_type": "markdown",
   "metadata": {},
   "source": [
    "**Regurized Greedy Forest (RGF) algorithm**"
   ]
  },
  {
   "cell_type": "code",
   "execution_count": 56,
   "metadata": {},
   "outputs": [],
   "source": [
    "from rgf.sklearn import RGFRegressor,FastRGFRegressor\n",
    "from sklearn.metrics import make_scorer,mean_squared_error\n",
    "from sklearn.model_selection import cross_val_score\n"
   ]
  },
  {
   "cell_type": "code",
   "execution_count": 57,
   "metadata": {},
   "outputs": [],
   "source": [
    "#%%time\n",
    "#rgf=RGFRegressor(max_leaf=500,algorithm='RGF_Sib',test_interval=100,\n",
    "               # loss='LS',verbose=False)\n",
    "#n_folds=3\n",
    "#rgf_scores = cross_val_score(rgf,\n",
    "                             #X_train,\n",
    "                            # y_target,\n",
    "                             #scoring=make_scorer(mean_squared_error,greater_is_better=False),\n",
    "                             #cv=n_folds)\n",
    "#rgf_score=sum(rgf_scores)/n_folds\n",
    "#print('rgf_score:',rgf_score)"
   ]
  },
  {
   "cell_type": "code",
   "execution_count": 58,
   "metadata": {},
   "outputs": [],
   "source": [
    "#%%time\n",
    "#Tran the model\n",
    "#rgf_model=rgf.fit(X_train,y_target)"
   ]
  },
  {
   "cell_type": "code",
   "execution_count": 59,
   "metadata": {
    "_kg_hide-input": false
   },
   "outputs": [],
   "source": [
    "#%%time\n",
    "#model prediction\n",
    "#y_pred=rgf_model.predict(X_test)\n",
    "#SCC=pd.read_csv('../input/sample_submission.csv')\n",
    "#SCC['scalar_coupling_constant']= y_pred\n",
    "#SCC.to_csv('RGF_model.csv',index=False)\n",
    "#y_pred\n"
   ]
  },
  {
   "cell_type": "markdown",
   "metadata": {},
   "source": [
    "**Fast Regurized Greedy Forest (RGF) algorithm**"
   ]
  },
  {
   "cell_type": "code",
   "execution_count": 60,
   "metadata": {},
   "outputs": [
    {
     "name": "stdout",
     "output_type": "stream",
     "text": [
      "CPU times: user 0 ns, sys: 0 ns, total: 0 ns\n",
      "Wall time: 10.3 µs\n"
     ]
    }
   ],
   "source": [
    "%%time\n",
    "#Frgf=FastRGFRegressor( opt_algorithm='rgf',\n",
    "                     #l2=2000.0,\n",
    "                     #min_child_weight=5.0,\n",
    "                     #sparse_max_features=80000,\n",
    "                    # sparse_min_occurences=5\n",
    "                     #)\n",
    "#Frgf=FastRGFRegressor(n_estimators=1000)\n",
    "#n_folds=3\n",
    "#Frgf_scores=cross_val_score(Frgf,X_train,y_target,\n",
    "                         # scoring=make_scorer(mean_squared_error),\n",
    "                          #cv=n_folds)\n",
    "#Frgf_score=sum(Frgf_scores)/n_folds\n",
    "#print('Frgf_score:',Frgf_score)\n",
    "#print(Frgf)"
   ]
  },
  {
   "cell_type": "code",
   "execution_count": 61,
   "metadata": {},
   "outputs": [],
   "source": [
    "#Train the model\n",
    "#Frgf_model=Frgf.fit(X_train,y_target)"
   ]
  },
  {
   "cell_type": "code",
   "execution_count": 62,
   "metadata": {},
   "outputs": [],
   "source": [
    "#model prediction\n",
    "#y_pred=Frgf_model.predict(X_test)\n",
    "#SCC=pd.read_csv('../input/sample_submission.csv')\n",
    "#SCC['scalar_coupling_constant']= y_pred\n",
    "#SCC.to_csv('FRGF_model.csv',index=False)\n",
    "#y_pred\n"
   ]
  }
 ],
 "metadata": {
  "kernelspec": {
   "display_name": "Python 3",
   "language": "python",
   "name": "python3"
  },
  "language_info": {
   "codemirror_mode": {
    "name": "ipython",
    "version": 3
   },
   "file_extension": ".py",
   "mimetype": "text/x-python",
   "name": "python",
   "nbconvert_exporter": "python",
   "pygments_lexer": "ipython3",
   "version": "3.6.4"
  }
 },
 "nbformat": 4,
 "nbformat_minor": 1
}
