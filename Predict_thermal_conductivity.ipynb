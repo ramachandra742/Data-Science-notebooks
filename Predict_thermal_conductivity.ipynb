{
  "nbformat": 4,
  "nbformat_minor": 0,
  "metadata": {
    "colab": {
      "name": "Predict_thermal_conductivity.ipynb",
      "provenance": [],
      "collapsed_sections": []
    },
    "kernelspec": {
      "name": "python3",
      "display_name": "Python 3"
    },
    "language_info": {
      "name": "python"
    }
  },
  "cells": [
    {
      "cell_type": "markdown",
      "metadata": {
        "id": "Fzu67oGJsdZS"
      },
      "source": [
        "### Mount Google drive"
      ]
    },
    {
      "cell_type": "code",
      "metadata": {
        "colab": {
          "base_uri": "https://localhost:8080/"
        },
        "id": "4yj1QxOssL93",
        "outputId": "0e0eba2b-0bbb-452b-b996-b342a1c6e3aa"
      },
      "source": [
        "from google.colab import drive\n",
        "drive.mount('/content/drive')"
      ],
      "execution_count": null,
      "outputs": [
        {
          "output_type": "stream",
          "text": [
            "Drive already mounted at /content/drive; to attempt to forcibly remount, call drive.mount(\"/content/drive\", force_remount=True).\n"
          ],
          "name": "stdout"
        }
      ]
    },
    {
      "cell_type": "code",
      "metadata": {
        "id": "iKTgOi1nsvFT"
      },
      "source": [
        "import os \n",
        "os.chdir(\"/content/drive/MyDrive/predict_thermal_conductivity\")"
      ],
      "execution_count": null,
      "outputs": []
    },
    {
      "cell_type": "code",
      "metadata": {
        "id": "1Mf83S6ztnfj"
      },
      "source": [
        "#import required libraries\n",
        "import numpy as np \n",
        "import pandas as pd\n",
        "import seaborn as sns\n",
        "import matplotlib.pyplot as plt  \n",
        "\n",
        "# Make numpy printouts easier to read\n",
        "np.set_printoptions(precision=3, suppress=True)\n",
        "\n",
        "import tensorflow as tf  \n",
        "from tensorflow import keras \n",
        "from tensorflow.keras.layers.experimental import preprocessing"
      ],
      "execution_count": null,
      "outputs": []
    },
    {
      "cell_type": "markdown",
      "metadata": {
        "id": "q40CQ205xFtG"
      },
      "source": [
        "# ANN model for in-plane thermal conductivity prediction"
      ]
    },
    {
      "cell_type": "code",
      "metadata": {
        "colab": {
          "base_uri": "https://localhost:8080/",
          "height": 191
        },
        "id": "SvJDv9fRw0u1",
        "outputId": "c43e7e8e-6f2f-48f2-9541-f226f7857c88"
      },
      "source": [
        "# Read the dataset  \n",
        "k11_df = pd.read_excel('/content/drive/MyDrive/predict_thermal_conductivity/Results_updated_k11.xlsx')\n",
        "k11_df.head()"
      ],
      "execution_count": null,
      "outputs": [
        {
          "output_type": "execute_result",
          "data": {
            "text/html": [
              "<div>\n",
              "<style scoped>\n",
              "    .dataframe tbody tr th:only-of-type {\n",
              "        vertical-align: middle;\n",
              "    }\n",
              "\n",
              "    .dataframe tbody tr th {\n",
              "        vertical-align: top;\n",
              "    }\n",
              "\n",
              "    .dataframe thead th {\n",
              "        text-align: right;\n",
              "    }\n",
              "</style>\n",
              "<table border=\"1\" class=\"dataframe\">\n",
              "  <thead>\n",
              "    <tr style=\"text-align: right;\">\n",
              "      <th></th>\n",
              "      <th>Vf</th>\n",
              "      <th>Discrete_input</th>\n",
              "      <th>Ty/Sy</th>\n",
              "      <th>Wy/Sy</th>\n",
              "      <th>K11</th>\n",
              "    </tr>\n",
              "  </thead>\n",
              "  <tbody>\n",
              "    <tr>\n",
              "      <th>0</th>\n",
              "      <td>0.25</td>\n",
              "      <td>Plain(1,0,0)</td>\n",
              "      <td>0.1</td>\n",
              "      <td>0.8</td>\n",
              "      <td>0.928251</td>\n",
              "    </tr>\n",
              "    <tr>\n",
              "      <th>1</th>\n",
              "      <td>0.35</td>\n",
              "      <td>Plain(1,0,0)</td>\n",
              "      <td>0.1</td>\n",
              "      <td>0.8</td>\n",
              "      <td>1.235390</td>\n",
              "    </tr>\n",
              "    <tr>\n",
              "      <th>2</th>\n",
              "      <td>0.45</td>\n",
              "      <td>Plain(1,0,0)</td>\n",
              "      <td>0.1</td>\n",
              "      <td>0.8</td>\n",
              "      <td>1.542542</td>\n",
              "    </tr>\n",
              "    <tr>\n",
              "      <th>3</th>\n",
              "      <td>0.55</td>\n",
              "      <td>Plain(1,0,0)</td>\n",
              "      <td>0.1</td>\n",
              "      <td>0.8</td>\n",
              "      <td>1.853576</td>\n",
              "    </tr>\n",
              "    <tr>\n",
              "      <th>4</th>\n",
              "      <td>0.65</td>\n",
              "      <td>Plain(1,0,0)</td>\n",
              "      <td>0.1</td>\n",
              "      <td>0.8</td>\n",
              "      <td>2.164610</td>\n",
              "    </tr>\n",
              "  </tbody>\n",
              "</table>\n",
              "</div>"
            ],
            "text/plain": [
              "     Vf Discrete_input  Ty/Sy  Wy/Sy       K11\n",
              "0  0.25   Plain(1,0,0)    0.1    0.8  0.928251\n",
              "1  0.35   Plain(1,0,0)    0.1    0.8  1.235390\n",
              "2  0.45   Plain(1,0,0)    0.1    0.8  1.542542\n",
              "3  0.55   Plain(1,0,0)    0.1    0.8  1.853576\n",
              "4  0.65   Plain(1,0,0)    0.1    0.8  2.164610"
            ]
          },
          "metadata": {
            "tags": []
          },
          "execution_count": 4
        }
      ]
    },
    {
      "cell_type": "markdown",
      "metadata": {
        "id": "ddUcxb77xtKO"
      },
      "source": [
        "**Clean the data**"
      ]
    },
    {
      "cell_type": "code",
      "metadata": {
        "colab": {
          "base_uri": "https://localhost:8080/"
        },
        "id": "-2G3vWFfxh0T",
        "outputId": "b538d589-a5fb-48ac-d4ac-712f7cc3adfe"
      },
      "source": [
        "k11_df.isnull().sum()"
      ],
      "execution_count": null,
      "outputs": [
        {
          "output_type": "execute_result",
          "data": {
            "text/plain": [
              "Vf                0\n",
              "Discrete_input    0\n",
              "Ty/Sy             0\n",
              "Wy/Sy             0\n",
              "K11               0\n",
              "dtype: int64"
            ]
          },
          "metadata": {
            "tags": []
          },
          "execution_count": 5
        }
      ]
    },
    {
      "cell_type": "markdown",
      "metadata": {
        "id": "7I6g0BKvx4i5"
      },
      "source": [
        "No null values are present."
      ]
    },
    {
      "cell_type": "markdown",
      "metadata": {
        "id": "0DFMcb-ZyH3M"
      },
      "source": [
        "The **Discrete input** is categorical not numeric. So we need to convert it to a **one hot encoding** with **pd.dummies**:"
      ]
    },
    {
      "cell_type": "code",
      "metadata": {
        "id": "2_x-g50xx0l4"
      },
      "source": [
        "k11_df = pd.get_dummies(k11_df, columns=['Discrete_input'])"
      ],
      "execution_count": null,
      "outputs": []
    },
    {
      "cell_type": "code",
      "metadata": {
        "colab": {
          "base_uri": "https://localhost:8080/",
          "height": 191
        },
        "id": "eXr0qWD7y_Cx",
        "outputId": "81386527-5b01-43c0-e8c8-80488a823b32"
      },
      "source": [
        "k11_df.head()"
      ],
      "execution_count": null,
      "outputs": [
        {
          "output_type": "execute_result",
          "data": {
            "text/html": [
              "<div>\n",
              "<style scoped>\n",
              "    .dataframe tbody tr th:only-of-type {\n",
              "        vertical-align: middle;\n",
              "    }\n",
              "\n",
              "    .dataframe tbody tr th {\n",
              "        vertical-align: top;\n",
              "    }\n",
              "\n",
              "    .dataframe thead th {\n",
              "        text-align: right;\n",
              "    }\n",
              "</style>\n",
              "<table border=\"1\" class=\"dataframe\">\n",
              "  <thead>\n",
              "    <tr style=\"text-align: right;\">\n",
              "      <th></th>\n",
              "      <th>Vf</th>\n",
              "      <th>Ty/Sy</th>\n",
              "      <th>Wy/Sy</th>\n",
              "      <th>K11</th>\n",
              "      <th>Discrete_input_5HS(0,0,1)</th>\n",
              "      <th>Discrete_input_Plain(1,0,0)</th>\n",
              "      <th>Discrete_input_Twill(0,1,0)</th>\n",
              "    </tr>\n",
              "  </thead>\n",
              "  <tbody>\n",
              "    <tr>\n",
              "      <th>0</th>\n",
              "      <td>0.25</td>\n",
              "      <td>0.1</td>\n",
              "      <td>0.8</td>\n",
              "      <td>0.928251</td>\n",
              "      <td>0</td>\n",
              "      <td>1</td>\n",
              "      <td>0</td>\n",
              "    </tr>\n",
              "    <tr>\n",
              "      <th>1</th>\n",
              "      <td>0.35</td>\n",
              "      <td>0.1</td>\n",
              "      <td>0.8</td>\n",
              "      <td>1.235390</td>\n",
              "      <td>0</td>\n",
              "      <td>1</td>\n",
              "      <td>0</td>\n",
              "    </tr>\n",
              "    <tr>\n",
              "      <th>2</th>\n",
              "      <td>0.45</td>\n",
              "      <td>0.1</td>\n",
              "      <td>0.8</td>\n",
              "      <td>1.542542</td>\n",
              "      <td>0</td>\n",
              "      <td>1</td>\n",
              "      <td>0</td>\n",
              "    </tr>\n",
              "    <tr>\n",
              "      <th>3</th>\n",
              "      <td>0.55</td>\n",
              "      <td>0.1</td>\n",
              "      <td>0.8</td>\n",
              "      <td>1.853576</td>\n",
              "      <td>0</td>\n",
              "      <td>1</td>\n",
              "      <td>0</td>\n",
              "    </tr>\n",
              "    <tr>\n",
              "      <th>4</th>\n",
              "      <td>0.65</td>\n",
              "      <td>0.1</td>\n",
              "      <td>0.8</td>\n",
              "      <td>2.164610</td>\n",
              "      <td>0</td>\n",
              "      <td>1</td>\n",
              "      <td>0</td>\n",
              "    </tr>\n",
              "  </tbody>\n",
              "</table>\n",
              "</div>"
            ],
            "text/plain": [
              "     Vf  Ty/Sy  ...  Discrete_input_Plain(1,0,0)  Discrete_input_Twill(0,1,0)\n",
              "0  0.25    0.1  ...                            1                            0\n",
              "1  0.35    0.1  ...                            1                            0\n",
              "2  0.45    0.1  ...                            1                            0\n",
              "3  0.55    0.1  ...                            1                            0\n",
              "4  0.65    0.1  ...                            1                            0\n",
              "\n",
              "[5 rows x 7 columns]"
            ]
          },
          "metadata": {
            "tags": []
          },
          "execution_count": 7
        }
      ]
    },
    {
      "cell_type": "markdown",
      "metadata": {
        "id": "-KUV8esczzae"
      },
      "source": [
        "**Data visualization**"
      ]
    },
    {
      "cell_type": "code",
      "metadata": {
        "colab": {
          "base_uri": "https://localhost:8080/",
          "height": 566
        },
        "id": "FdEQYutKzsGh",
        "outputId": "21b355c0-fb30-4b90-8d23-1bdd0b104922"
      },
      "source": [
        "sns.pairplot(k11_df[['K11', 'Vf', 'Wy/Sy']], diag_kind='kde')"
      ],
      "execution_count": null,
      "outputs": [
        {
          "output_type": "execute_result",
          "data": {
            "text/plain": [
              "<seaborn.axisgrid.PairGrid at 0x7f9569877110>"
            ]
          },
          "metadata": {
            "tags": []
          },
          "execution_count": 8
        },
        {
          "output_type": "display_data",
          "data": {
            "image/png": "[encoded data removed]",
            "text/plain": [
              "<Figure size 540x540 with 12 Axes>"
            ]
          },
          "metadata": {
            "tags": [],
            "needs_background": "light"
          }
        }
      ]
    },
    {
      "cell_type": "markdown",
      "metadata": {
        "id": "N8bIlyx_0wBZ"
      },
      "source": [
        "**Split features from labels**"
      ]
    },
    {
      "cell_type": "code",
      "metadata": {
        "colab": {
          "base_uri": "https://localhost:8080/"
        },
        "id": "2EL8Bv2H0dpt",
        "outputId": "0b0126f7-89be-4215-f152-21775e9f5c85"
      },
      "source": [
        "feats = k11_df.drop('K11', axis=1)\n",
        "labels = k11_df['K11']\n",
        "\n",
        "print(\"Features shape:\", feats.shape)\n",
        "print(\"Labels shape:\", labels.shape)"
      ],
      "execution_count": null,
      "outputs": [
        {
          "output_type": "stream",
          "text": [
            "Features shape: (39, 6)\n",
            "Labels shape: (39,)\n"
          ],
          "name": "stdout"
        }
      ]
    },
    {
      "cell_type": "markdown",
      "metadata": {
        "id": "zOkok1hV2GnT"
      },
      "source": [
        "**Build an ANN model**"
      ]
    },
    {
      "cell_type": "code",
      "metadata": {
        "id": "KcIMZFRl18Gl"
      },
      "source": [
        "in_plane_model = keras.Sequential([\n",
        "    keras.layers.Dense(units=64, activation='relu'),\n",
        "    keras.layers.Dense(units=64, activation='relu'),\n",
        "    keras.layers.Dense(1)\n",
        "])"
      ],
      "execution_count": null,
      "outputs": []
    },
    {
      "cell_type": "code",
      "metadata": {
        "id": "pZv8Glre21sw"
      },
      "source": [
        "# Compile the model\n",
        "in_plane_model.compile(optimizer=tf.optimizers.Adam(learning_rate=0.001), loss = 'mean_absolute_error')"
      ],
      "execution_count": null,
      "outputs": []
    },
    {
      "cell_type": "code",
      "metadata": {
        "colab": {
          "base_uri": "https://localhost:8080/"
        },
        "id": "4ZsJa1PN3jtr",
        "outputId": "0fd7249d-0061-4bc1-946e-006d187d8558"
      },
      "source": [
        "# Train the model \n",
        "%%time \n",
        "history = in_plane_model.fit(\n",
        "    feats, labels, \n",
        "    epochs = 175,\n",
        "    validation_split=0.2  # 20% of features data\n",
        ")"
      ],
      "execution_count": null,
      "outputs": [
        {
          "output_type": "stream",
          "text": [
            "Epoch 1/175\n",
            "1/1 [==============================] - 1s 759ms/step - loss: 1.5491 - val_loss: 1.4662\n",
            "Epoch 2/175\n",
            "1/1 [==============================] - 0s 29ms/step - loss: 1.5096 - val_loss: 1.4234\n",
            "Epoch 3/175\n",
            "1/1 [==============================] - 0s 31ms/step - loss: 1.4704 - val_loss: 1.3807\n",
            "Epoch 4/175\n",
            "1/1 [==============================] - 0s 26ms/step - loss: 1.4309 - val_loss: 1.3380\n",
            "Epoch 5/175\n",
            "1/1 [==============================] - 0s 22ms/step - loss: 1.3913 - val_loss: 1.2949\n",
            "Epoch 6/175\n",
            "1/1 [==============================] - 0s 23ms/step - loss: 1.3520 - val_loss: 1.2516\n",
            "Epoch 7/175\n",
            "1/1 [==============================] - 0s 23ms/step - loss: 1.3140 - val_loss: 1.2079\n",
            "Epoch 8/175\n",
            "1/1 [==============================] - 0s 21ms/step - loss: 1.2764 - val_loss: 1.1632\n",
            "Epoch 9/175\n",
            "1/1 [==============================] - 0s 21ms/step - loss: 1.2390 - val_loss: 1.1172\n",
            "Epoch 10/175\n",
            "1/1 [==============================] - 0s 26ms/step - loss: 1.2004 - val_loss: 1.0703\n",
            "Epoch 11/175\n",
            "1/1 [==============================] - 0s 22ms/step - loss: 1.1605 - val_loss: 1.0225\n",
            "Epoch 12/175\n",
            "1/1 [==============================] - 0s 28ms/step - loss: 1.1195 - val_loss: 0.9735\n",
            "Epoch 13/175\n",
            "1/1 [==============================] - 0s 28ms/step - loss: 1.0770 - val_loss: 0.9218\n",
            "Epoch 14/175\n",
            "1/1 [==============================] - 0s 25ms/step - loss: 1.0329 - val_loss: 0.8657\n",
            "Epoch 15/175\n",
            "1/1 [==============================] - 0s 22ms/step - loss: 0.9866 - val_loss: 0.8074\n",
            "Epoch 16/175\n",
            "1/1 [==============================] - 0s 27ms/step - loss: 0.9384 - val_loss: 0.7585\n",
            "Epoch 17/175\n",
            "1/1 [==============================] - 0s 22ms/step - loss: 0.8883 - val_loss: 0.7101\n",
            "Epoch 18/175\n",
            "1/1 [==============================] - 0s 33ms/step - loss: 0.8372 - val_loss: 0.6605\n",
            "Epoch 19/175\n",
            "1/1 [==============================] - 0s 37ms/step - loss: 0.7873 - val_loss: 0.6101\n",
            "Epoch 20/175\n",
            "1/1 [==============================] - 0s 26ms/step - loss: 0.7356 - val_loss: 0.5615\n",
            "Epoch 21/175\n",
            "1/1 [==============================] - 0s 25ms/step - loss: 0.6838 - val_loss: 0.5263\n",
            "Epoch 22/175\n",
            "1/1 [==============================] - 0s 25ms/step - loss: 0.6354 - val_loss: 0.4905\n",
            "Epoch 23/175\n",
            "1/1 [==============================] - 0s 30ms/step - loss: 0.5892 - val_loss: 0.4537\n",
            "Epoch 24/175\n",
            "1/1 [==============================] - 0s 24ms/step - loss: 0.5442 - val_loss: 0.4288\n",
            "Epoch 25/175\n",
            "1/1 [==============================] - 0s 23ms/step - loss: 0.5026 - val_loss: 0.4264\n",
            "Epoch 26/175\n",
            "1/1 [==============================] - 0s 24ms/step - loss: 0.4685 - val_loss: 0.4245\n",
            "Epoch 27/175\n",
            "1/1 [==============================] - 0s 24ms/step - loss: 0.4382 - val_loss: 0.4223\n",
            "Epoch 28/175\n",
            "1/1 [==============================] - 0s 25ms/step - loss: 0.4111 - val_loss: 0.4200\n",
            "Epoch 29/175\n",
            "1/1 [==============================] - 0s 23ms/step - loss: 0.3877 - val_loss: 0.4272\n",
            "Epoch 30/175\n",
            "1/1 [==============================] - 0s 32ms/step - loss: 0.3749 - val_loss: 0.4437\n",
            "Epoch 31/175\n",
            "1/1 [==============================] - 0s 30ms/step - loss: 0.3703 - val_loss: 0.4745\n",
            "Epoch 32/175\n",
            "1/1 [==============================] - 0s 25ms/step - loss: 0.3655 - val_loss: 0.5084\n",
            "Epoch 33/175\n",
            "1/1 [==============================] - 0s 25ms/step - loss: 0.3647 - val_loss: 0.5443\n",
            "Epoch 34/175\n",
            "1/1 [==============================] - 0s 23ms/step - loss: 0.3739 - val_loss: 0.5714\n",
            "Epoch 35/175\n",
            "1/1 [==============================] - 0s 22ms/step - loss: 0.3833 - val_loss: 0.5885\n",
            "Epoch 36/175\n",
            "1/1 [==============================] - 0s 22ms/step - loss: 0.3921 - val_loss: 0.5966\n",
            "Epoch 37/175\n",
            "1/1 [==============================] - 0s 24ms/step - loss: 0.3966 - val_loss: 0.5966\n",
            "Epoch 38/175\n",
            "1/1 [==============================] - 0s 22ms/step - loss: 0.3973 - val_loss: 0.5896\n",
            "Epoch 39/175\n",
            "1/1 [==============================] - 0s 31ms/step - loss: 0.3947 - val_loss: 0.5766\n",
            "Epoch 40/175\n",
            "1/1 [==============================] - 0s 21ms/step - loss: 0.3891 - val_loss: 0.5583\n",
            "Epoch 41/175\n",
            "1/1 [==============================] - 0s 22ms/step - loss: 0.3812 - val_loss: 0.5353\n",
            "Epoch 42/175\n",
            "1/1 [==============================] - 0s 26ms/step - loss: 0.3723 - val_loss: 0.5093\n",
            "Epoch 43/175\n",
            "1/1 [==============================] - 0s 28ms/step - loss: 0.3628 - val_loss: 0.4805\n",
            "Epoch 44/175\n",
            "1/1 [==============================] - 0s 27ms/step - loss: 0.3524 - val_loss: 0.4575\n",
            "Epoch 45/175\n",
            "1/1 [==============================] - 0s 24ms/step - loss: 0.3464 - val_loss: 0.4390\n",
            "Epoch 46/175\n",
            "1/1 [==============================] - 0s 26ms/step - loss: 0.3434 - val_loss: 0.4212\n",
            "Epoch 47/175\n",
            "1/1 [==============================] - 0s 24ms/step - loss: 0.3409 - val_loss: 0.4101\n",
            "Epoch 48/175\n",
            "1/1 [==============================] - 0s 23ms/step - loss: 0.3385 - val_loss: 0.4021\n",
            "Epoch 49/175\n",
            "1/1 [==============================] - 0s 24ms/step - loss: 0.3368 - val_loss: 0.3945\n",
            "Epoch 50/175\n",
            "1/1 [==============================] - 0s 28ms/step - loss: 0.3358 - val_loss: 0.3889\n",
            "Epoch 51/175\n",
            "1/1 [==============================] - 0s 22ms/step - loss: 0.3357 - val_loss: 0.3880\n",
            "Epoch 52/175\n",
            "1/1 [==============================] - 0s 25ms/step - loss: 0.3363 - val_loss: 0.3866\n",
            "Epoch 53/175\n",
            "1/1 [==============================] - 0s 21ms/step - loss: 0.3365 - val_loss: 0.3849\n",
            "Epoch 54/175\n",
            "1/1 [==============================] - 0s 27ms/step - loss: 0.3357 - val_loss: 0.3830\n",
            "Epoch 55/175\n",
            "1/1 [==============================] - 0s 22ms/step - loss: 0.3342 - val_loss: 0.3810\n",
            "Epoch 56/175\n",
            "1/1 [==============================] - 0s 25ms/step - loss: 0.3323 - val_loss: 0.3789\n",
            "Epoch 57/175\n",
            "1/1 [==============================] - 0s 24ms/step - loss: 0.3301 - val_loss: 0.3767\n",
            "Epoch 58/175\n",
            "1/1 [==============================] - 0s 26ms/step - loss: 0.3275 - val_loss: 0.3745\n",
            "Epoch 59/175\n",
            "1/1 [==============================] - 0s 25ms/step - loss: 0.3257 - val_loss: 0.3724\n",
            "Epoch 60/175\n",
            "1/1 [==============================] - 0s 26ms/step - loss: 0.3237 - val_loss: 0.3702\n",
            "Epoch 61/175\n",
            "1/1 [==============================] - 0s 36ms/step - loss: 0.3221 - val_loss: 0.3690\n",
            "Epoch 62/175\n",
            "1/1 [==============================] - 0s 24ms/step - loss: 0.3209 - val_loss: 0.3693\n",
            "Epoch 63/175\n",
            "1/1 [==============================] - 0s 22ms/step - loss: 0.3202 - val_loss: 0.3692\n",
            "Epoch 64/175\n",
            "1/1 [==============================] - 0s 28ms/step - loss: 0.3194 - val_loss: 0.3688\n",
            "Epoch 65/175\n",
            "1/1 [==============================] - 0s 28ms/step - loss: 0.3184 - val_loss: 0.3679\n",
            "Epoch 66/175\n",
            "1/1 [==============================] - 0s 24ms/step - loss: 0.3175 - val_loss: 0.3666\n",
            "Epoch 67/175\n",
            "1/1 [==============================] - 0s 22ms/step - loss: 0.3162 - val_loss: 0.3647\n",
            "Epoch 68/175\n",
            "1/1 [==============================] - 0s 29ms/step - loss: 0.3147 - val_loss: 0.3624\n",
            "Epoch 69/175\n",
            "1/1 [==============================] - 0s 22ms/step - loss: 0.3130 - val_loss: 0.3613\n",
            "Epoch 70/175\n",
            "1/1 [==============================] - 0s 25ms/step - loss: 0.3111 - val_loss: 0.3613\n",
            "Epoch 71/175\n",
            "1/1 [==============================] - 0s 21ms/step - loss: 0.3092 - val_loss: 0.3612\n",
            "Epoch 72/175\n",
            "1/1 [==============================] - 0s 29ms/step - loss: 0.3086 - val_loss: 0.3610\n",
            "Epoch 73/175\n",
            "1/1 [==============================] - 0s 29ms/step - loss: 0.3077 - val_loss: 0.3607\n",
            "Epoch 74/175\n",
            "1/1 [==============================] - 0s 24ms/step - loss: 0.3066 - val_loss: 0.3603\n",
            "Epoch 75/175\n",
            "1/1 [==============================] - 0s 25ms/step - loss: 0.3053 - val_loss: 0.3598\n",
            "Epoch 76/175\n",
            "1/1 [==============================] - 0s 24ms/step - loss: 0.3041 - val_loss: 0.3592\n",
            "Epoch 77/175\n",
            "1/1 [==============================] - 0s 32ms/step - loss: 0.3028 - val_loss: 0.3585\n",
            "Epoch 78/175\n",
            "1/1 [==============================] - 0s 25ms/step - loss: 0.3015 - val_loss: 0.3578\n",
            "Epoch 79/175\n",
            "1/1 [==============================] - 0s 33ms/step - loss: 0.3001 - val_loss: 0.3570\n",
            "Epoch 80/175\n",
            "1/1 [==============================] - 0s 29ms/step - loss: 0.2986 - val_loss: 0.3561\n",
            "Epoch 81/175\n",
            "1/1 [==============================] - 0s 27ms/step - loss: 0.2972 - val_loss: 0.3552\n",
            "Epoch 82/175\n",
            "1/1 [==============================] - 0s 28ms/step - loss: 0.2961 - val_loss: 0.3543\n",
            "Epoch 83/175\n",
            "1/1 [==============================] - 0s 36ms/step - loss: 0.2950 - val_loss: 0.3535\n",
            "Epoch 84/175\n",
            "1/1 [==============================] - 0s 22ms/step - loss: 0.2938 - val_loss: 0.3528\n",
            "Epoch 85/175\n",
            "1/1 [==============================] - 0s 27ms/step - loss: 0.2926 - val_loss: 0.3517\n",
            "Epoch 86/175\n",
            "1/1 [==============================] - 0s 25ms/step - loss: 0.2912 - val_loss: 0.3502\n",
            "Epoch 87/175\n",
            "1/1 [==============================] - 0s 24ms/step - loss: 0.2898 - val_loss: 0.3492\n",
            "Epoch 88/175\n",
            "1/1 [==============================] - 0s 24ms/step - loss: 0.2883 - val_loss: 0.3480\n",
            "Epoch 89/175\n",
            "1/1 [==============================] - 0s 26ms/step - loss: 0.2868 - val_loss: 0.3469\n",
            "Epoch 90/175\n",
            "1/1 [==============================] - 0s 31ms/step - loss: 0.2852 - val_loss: 0.3457\n",
            "Epoch 91/175\n",
            "1/1 [==============================] - 0s 25ms/step - loss: 0.2839 - val_loss: 0.3445\n",
            "Epoch 92/175\n",
            "1/1 [==============================] - 0s 27ms/step - loss: 0.2825 - val_loss: 0.3434\n",
            "Epoch 93/175\n",
            "1/1 [==============================] - 0s 25ms/step - loss: 0.2810 - val_loss: 0.3422\n",
            "Epoch 94/175\n",
            "1/1 [==============================] - 0s 23ms/step - loss: 0.2794 - val_loss: 0.3409\n",
            "Epoch 95/175\n",
            "1/1 [==============================] - 0s 22ms/step - loss: 0.2778 - val_loss: 0.3397\n",
            "Epoch 96/175\n",
            "1/1 [==============================] - 0s 24ms/step - loss: 0.2763 - val_loss: 0.3386\n",
            "Epoch 97/175\n",
            "1/1 [==============================] - 0s 24ms/step - loss: 0.2748 - val_loss: 0.3379\n",
            "Epoch 98/175\n",
            "1/1 [==============================] - 0s 20ms/step - loss: 0.2731 - val_loss: 0.3371\n",
            "Epoch 99/175\n",
            "1/1 [==============================] - 0s 23ms/step - loss: 0.2715 - val_loss: 0.3362\n",
            "Epoch 100/175\n",
            "1/1 [==============================] - 0s 29ms/step - loss: 0.2700 - val_loss: 0.3353\n",
            "Epoch 101/175\n",
            "1/1 [==============================] - 0s 28ms/step - loss: 0.2684 - val_loss: 0.3342\n",
            "Epoch 102/175\n",
            "1/1 [==============================] - 0s 23ms/step - loss: 0.2667 - val_loss: 0.3330\n",
            "Epoch 103/175\n",
            "1/1 [==============================] - 0s 29ms/step - loss: 0.2648 - val_loss: 0.3317\n",
            "Epoch 104/175\n",
            "1/1 [==============================] - 0s 26ms/step - loss: 0.2633 - val_loss: 0.3303\n",
            "Epoch 105/175\n",
            "1/1 [==============================] - 0s 35ms/step - loss: 0.2617 - val_loss: 0.3290\n",
            "Epoch 106/175\n",
            "1/1 [==============================] - 0s 26ms/step - loss: 0.2600 - val_loss: 0.3280\n",
            "Epoch 107/175\n",
            "1/1 [==============================] - 0s 25ms/step - loss: 0.2581 - val_loss: 0.3269\n",
            "Epoch 108/175\n",
            "1/1 [==============================] - 0s 31ms/step - loss: 0.2562 - val_loss: 0.3255\n",
            "Epoch 109/175\n",
            "1/1 [==============================] - 0s 26ms/step - loss: 0.2542 - val_loss: 0.3240\n",
            "Epoch 110/175\n",
            "1/1 [==============================] - 0s 33ms/step - loss: 0.2523 - val_loss: 0.3222\n",
            "Epoch 111/175\n",
            "1/1 [==============================] - 0s 26ms/step - loss: 0.2502 - val_loss: 0.3204\n",
            "Epoch 112/175\n",
            "1/1 [==============================] - 0s 24ms/step - loss: 0.2483 - val_loss: 0.3188\n",
            "Epoch 113/175\n",
            "1/1 [==============================] - 0s 32ms/step - loss: 0.2462 - val_loss: 0.3176\n",
            "Epoch 114/175\n",
            "1/1 [==============================] - 0s 24ms/step - loss: 0.2443 - val_loss: 0.3162\n",
            "Epoch 115/175\n",
            "1/1 [==============================] - 0s 32ms/step - loss: 0.2422 - val_loss: 0.3145\n",
            "Epoch 116/175\n",
            "1/1 [==============================] - 0s 50ms/step - loss: 0.2400 - val_loss: 0.3129\n",
            "Epoch 117/175\n",
            "1/1 [==============================] - 0s 24ms/step - loss: 0.2376 - val_loss: 0.3110\n",
            "Epoch 118/175\n",
            "1/1 [==============================] - 0s 27ms/step - loss: 0.2355 - val_loss: 0.3095\n",
            "Epoch 119/175\n",
            "1/1 [==============================] - 0s 23ms/step - loss: 0.2332 - val_loss: 0.3083\n",
            "Epoch 120/175\n",
            "1/1 [==============================] - 0s 23ms/step - loss: 0.2308 - val_loss: 0.3070\n",
            "Epoch 121/175\n",
            "1/1 [==============================] - 0s 26ms/step - loss: 0.2285 - val_loss: 0.3056\n",
            "Epoch 122/175\n",
            "1/1 [==============================] - 0s 28ms/step - loss: 0.2266 - val_loss: 0.3035\n",
            "Epoch 123/175\n",
            "1/1 [==============================] - 0s 25ms/step - loss: 0.2239 - val_loss: 0.3014\n",
            "Epoch 124/175\n",
            "1/1 [==============================] - 0s 25ms/step - loss: 0.2217 - val_loss: 0.2996\n",
            "Epoch 125/175\n",
            "1/1 [==============================] - 0s 26ms/step - loss: 0.2193 - val_loss: 0.2983\n",
            "Epoch 126/175\n",
            "1/1 [==============================] - 0s 29ms/step - loss: 0.2167 - val_loss: 0.2963\n",
            "Epoch 127/175\n",
            "1/1 [==============================] - 0s 26ms/step - loss: 0.2142 - val_loss: 0.2943\n",
            "Epoch 128/175\n",
            "1/1 [==============================] - 0s 25ms/step - loss: 0.2119 - val_loss: 0.2927\n",
            "Epoch 129/175\n",
            "1/1 [==============================] - 0s 31ms/step - loss: 0.2093 - val_loss: 0.2913\n",
            "Epoch 130/175\n",
            "1/1 [==============================] - 0s 32ms/step - loss: 0.2067 - val_loss: 0.2893\n",
            "Epoch 131/175\n",
            "1/1 [==============================] - 0s 25ms/step - loss: 0.2041 - val_loss: 0.2878\n",
            "Epoch 132/175\n",
            "1/1 [==============================] - 0s 27ms/step - loss: 0.2017 - val_loss: 0.2857\n",
            "Epoch 133/175\n",
            "1/1 [==============================] - 0s 44ms/step - loss: 0.1990 - val_loss: 0.2839\n",
            "Epoch 134/175\n",
            "1/1 [==============================] - 0s 26ms/step - loss: 0.1965 - val_loss: 0.2825\n",
            "Epoch 135/175\n",
            "1/1 [==============================] - 0s 25ms/step - loss: 0.1939 - val_loss: 0.2809\n",
            "Epoch 136/175\n",
            "1/1 [==============================] - 0s 36ms/step - loss: 0.1913 - val_loss: 0.2788\n",
            "Epoch 137/175\n",
            "1/1 [==============================] - 0s 25ms/step - loss: 0.1886 - val_loss: 0.2768\n",
            "Epoch 138/175\n",
            "1/1 [==============================] - 0s 28ms/step - loss: 0.1859 - val_loss: 0.2751\n",
            "Epoch 139/175\n",
            "1/1 [==============================] - 0s 34ms/step - loss: 0.1834 - val_loss: 0.2738\n",
            "Epoch 140/175\n",
            "1/1 [==============================] - 0s 29ms/step - loss: 0.1810 - val_loss: 0.2722\n",
            "Epoch 141/175\n",
            "1/1 [==============================] - 0s 30ms/step - loss: 0.1783 - val_loss: 0.2704\n",
            "Epoch 142/175\n",
            "1/1 [==============================] - 0s 28ms/step - loss: 0.1756 - val_loss: 0.2686\n",
            "Epoch 143/175\n",
            "1/1 [==============================] - 0s 26ms/step - loss: 0.1728 - val_loss: 0.2666\n",
            "Epoch 144/175\n",
            "1/1 [==============================] - 0s 27ms/step - loss: 0.1701 - val_loss: 0.2651\n",
            "Epoch 145/175\n",
            "1/1 [==============================] - 0s 31ms/step - loss: 0.1672 - val_loss: 0.2637\n",
            "Epoch 146/175\n",
            "1/1 [==============================] - 0s 27ms/step - loss: 0.1645 - val_loss: 0.2620\n",
            "Epoch 147/175\n",
            "1/1 [==============================] - 0s 27ms/step - loss: 0.1616 - val_loss: 0.2600\n",
            "Epoch 148/175\n",
            "1/1 [==============================] - 0s 28ms/step - loss: 0.1587 - val_loss: 0.2586\n",
            "Epoch 149/175\n",
            "1/1 [==============================] - 0s 23ms/step - loss: 0.1556 - val_loss: 0.2570\n",
            "Epoch 150/175\n",
            "1/1 [==============================] - 0s 23ms/step - loss: 0.1525 - val_loss: 0.2552\n",
            "Epoch 151/175\n",
            "1/1 [==============================] - 0s 25ms/step - loss: 0.1496 - val_loss: 0.2539\n",
            "Epoch 152/175\n",
            "1/1 [==============================] - 0s 23ms/step - loss: 0.1464 - val_loss: 0.2526\n",
            "Epoch 153/175\n",
            "1/1 [==============================] - 0s 28ms/step - loss: 0.1432 - val_loss: 0.2504\n",
            "Epoch 154/175\n",
            "1/1 [==============================] - 0s 45ms/step - loss: 0.1397 - val_loss: 0.2481\n",
            "Epoch 155/175\n",
            "1/1 [==============================] - 0s 31ms/step - loss: 0.1362 - val_loss: 0.2457\n",
            "Epoch 156/175\n",
            "1/1 [==============================] - 0s 29ms/step - loss: 0.1331 - val_loss: 0.2441\n",
            "Epoch 157/175\n",
            "1/1 [==============================] - 0s 24ms/step - loss: 0.1302 - val_loss: 0.2422\n",
            "Epoch 158/175\n",
            "1/1 [==============================] - 0s 22ms/step - loss: 0.1273 - val_loss: 0.2398\n",
            "Epoch 159/175\n",
            "1/1 [==============================] - 0s 24ms/step - loss: 0.1239 - val_loss: 0.2380\n",
            "Epoch 160/175\n",
            "1/1 [==============================] - 0s 25ms/step - loss: 0.1206 - val_loss: 0.2369\n",
            "Epoch 161/175\n",
            "1/1 [==============================] - 0s 25ms/step - loss: 0.1174 - val_loss: 0.2356\n",
            "Epoch 162/175\n",
            "1/1 [==============================] - 0s 24ms/step - loss: 0.1142 - val_loss: 0.2340\n",
            "Epoch 163/175\n",
            "1/1 [==============================] - 0s 26ms/step - loss: 0.1111 - val_loss: 0.2323\n",
            "Epoch 164/175\n",
            "1/1 [==============================] - 0s 27ms/step - loss: 0.1079 - val_loss: 0.2301\n",
            "Epoch 165/175\n",
            "1/1 [==============================] - 0s 26ms/step - loss: 0.1045 - val_loss: 0.2290\n",
            "Epoch 166/175\n",
            "1/1 [==============================] - 0s 27ms/step - loss: 0.1015 - val_loss: 0.2261\n",
            "Epoch 167/175\n",
            "1/1 [==============================] - 0s 42ms/step - loss: 0.0976 - val_loss: 0.2240\n",
            "Epoch 168/175\n",
            "1/1 [==============================] - 0s 30ms/step - loss: 0.0942 - val_loss: 0.2226\n",
            "Epoch 169/175\n",
            "1/1 [==============================] - 0s 23ms/step - loss: 0.0908 - val_loss: 0.2213\n",
            "Epoch 170/175\n",
            "1/1 [==============================] - 0s 27ms/step - loss: 0.0876 - val_loss: 0.2212\n",
            "Epoch 171/175\n",
            "1/1 [==============================] - 0s 27ms/step - loss: 0.0835 - val_loss: 0.2218\n",
            "Epoch 172/175\n",
            "1/1 [==============================] - 0s 26ms/step - loss: 0.0799 - val_loss: 0.2211\n",
            "Epoch 173/175\n",
            "1/1 [==============================] - 0s 26ms/step - loss: 0.0764 - val_loss: 0.2185\n",
            "Epoch 174/175\n",
            "1/1 [==============================] - 0s 37ms/step - loss: 0.0720 - val_loss: 0.2138\n",
            "Epoch 175/175\n",
            "1/1 [==============================] - 0s 26ms/step - loss: 0.0684 - val_loss: 0.2109\n",
            "CPU times: user 5.55 s, sys: 320 ms, total: 5.87 s\n",
            "Wall time: 6.25 s\n"
          ],
          "name": "stdout"
        }
      ]
    },
    {
      "cell_type": "markdown",
      "metadata": {
        "id": "6lN10KXl48NO"
      },
      "source": [
        "**Visualize the model's training progress using the stats stored in the history object.**"
      ]
    },
    {
      "cell_type": "code",
      "metadata": {
        "colab": {
          "base_uri": "https://localhost:8080/",
          "height": 191
        },
        "id": "CvmrEk2v3pEt",
        "outputId": "c19e6493-4be4-4453-cca5-556671fdd7b7"
      },
      "source": [
        "history_df = pd.DataFrame(history.history)\n",
        "history_df['epoch'] = history.epoch\n",
        "history_df.head()"
      ],
      "execution_count": null,
      "outputs": [
        {
          "output_type": "execute_result",
          "data": {
            "text/html": [
              "<div>\n",
              "<style scoped>\n",
              "    .dataframe tbody tr th:only-of-type {\n",
              "        vertical-align: middle;\n",
              "    }\n",
              "\n",
              "    .dataframe tbody tr th {\n",
              "        vertical-align: top;\n",
              "    }\n",
              "\n",
              "    .dataframe thead th {\n",
              "        text-align: right;\n",
              "    }\n",
              "</style>\n",
              "<table border=\"1\" class=\"dataframe\">\n",
              "  <thead>\n",
              "    <tr style=\"text-align: right;\">\n",
              "      <th></th>\n",
              "      <th>loss</th>\n",
              "      <th>val_loss</th>\n",
              "      <th>epoch</th>\n",
              "    </tr>\n",
              "  </thead>\n",
              "  <tbody>\n",
              "    <tr>\n",
              "      <th>0</th>\n",
              "      <td>1.549112</td>\n",
              "      <td>1.466234</td>\n",
              "      <td>0</td>\n",
              "    </tr>\n",
              "    <tr>\n",
              "      <th>1</th>\n",
              "      <td>1.509612</td>\n",
              "      <td>1.423374</td>\n",
              "      <td>1</td>\n",
              "    </tr>\n",
              "    <tr>\n",
              "      <th>2</th>\n",
              "      <td>1.470374</td>\n",
              "      <td>1.380719</td>\n",
              "      <td>2</td>\n",
              "    </tr>\n",
              "    <tr>\n",
              "      <th>3</th>\n",
              "      <td>1.430913</td>\n",
              "      <td>1.338048</td>\n",
              "      <td>3</td>\n",
              "    </tr>\n",
              "    <tr>\n",
              "      <th>4</th>\n",
              "      <td>1.391272</td>\n",
              "      <td>1.294924</td>\n",
              "      <td>4</td>\n",
              "    </tr>\n",
              "  </tbody>\n",
              "</table>\n",
              "</div>"
            ],
            "text/plain": [
              "       loss  val_loss  epoch\n",
              "0  1.549112  1.466234      0\n",
              "1  1.509612  1.423374      1\n",
              "2  1.470374  1.380719      2\n",
              "3  1.430913  1.338048      3\n",
              "4  1.391272  1.294924      4"
            ]
          },
          "metadata": {
            "tags": []
          },
          "execution_count": 13
        }
      ]
    },
    {
      "cell_type": "code",
      "metadata": {
        "id": "orip-fzf5UpN"
      },
      "source": [
        "def plot_loss(history):\n",
        "  plt.plot(history.history['loss'], label='Training')\n",
        "  plt.plot(history.history['val_loss'], label='Validation')\n",
        "  plt.xlabel('Epoch')\n",
        "  plt.ylabel('MSE [K11]')\n",
        "  plt.legend()\n",
        "  plt.grid(True)"
      ],
      "execution_count": null,
      "outputs": []
    },
    {
      "cell_type": "code",
      "metadata": {
        "colab": {
          "base_uri": "https://localhost:8080/",
          "height": 280
        },
        "id": "QhgyMem66aoJ",
        "outputId": "1131fb5c-4153-48e1-c276-01cc8269df7f"
      },
      "source": [
        "# Plot loss\n",
        "plot_loss(history)"
      ],
      "execution_count": null,
      "outputs": [
        {
          "output_type": "display_data",
          "data": {
            "image/png": "[encoded data removed]",
            "text/plain": [
              "<Figure size 432x288 with 1 Axes>"
            ]
          },
          "metadata": {
            "tags": [],
            "needs_background": "light"
          }
        }
      ]
    },
    {
      "cell_type": "markdown",
      "metadata": {
        "id": "4nKRMLIC0kkK"
      },
      "source": [
        "### Model predictions"
      ]
    },
    {
      "cell_type": "code",
      "metadata": {
        "colab": {
          "base_uri": "https://localhost:8080/",
          "height": 191
        },
        "id": "zTiKSjQR0oOG",
        "outputId": "b25ce0bd-f468-4b9b-9266-740f318c981e"
      },
      "source": [
        "y_pred = in_plane_model.predict(feats)\n",
        "y_true = labels     \n",
        "k11_results = pd.DataFrame(y_pred, columns=['y_pred'])\n",
        "k11_results['y_true'] = y_true\n",
        "k11_results.head()"
      ],
      "execution_count": null,
      "outputs": [
        {
          "output_type": "execute_result",
          "data": {
            "text/html": [
              "<div>\n",
              "<style scoped>\n",
              "    .dataframe tbody tr th:only-of-type {\n",
              "        vertical-align: middle;\n",
              "    }\n",
              "\n",
              "    .dataframe tbody tr th {\n",
              "        vertical-align: top;\n",
              "    }\n",
              "\n",
              "    .dataframe thead th {\n",
              "        text-align: right;\n",
              "    }\n",
              "</style>\n",
              "<table border=\"1\" class=\"dataframe\">\n",
              "  <thead>\n",
              "    <tr style=\"text-align: right;\">\n",
              "      <th></th>\n",
              "      <th>y_pred</th>\n",
              "      <th>y_true</th>\n",
              "    </tr>\n",
              "  </thead>\n",
              "  <tbody>\n",
              "    <tr>\n",
              "      <th>0</th>\n",
              "      <td>1.175673</td>\n",
              "      <td>0.928251</td>\n",
              "    </tr>\n",
              "    <tr>\n",
              "      <th>1</th>\n",
              "      <td>1.405660</td>\n",
              "      <td>1.235390</td>\n",
              "    </tr>\n",
              "    <tr>\n",
              "      <th>2</th>\n",
              "      <td>1.639115</td>\n",
              "      <td>1.542542</td>\n",
              "    </tr>\n",
              "    <tr>\n",
              "      <th>3</th>\n",
              "      <td>1.872570</td>\n",
              "      <td>1.853576</td>\n",
              "    </tr>\n",
              "    <tr>\n",
              "      <th>4</th>\n",
              "      <td>2.106025</td>\n",
              "      <td>2.164610</td>\n",
              "    </tr>\n",
              "  </tbody>\n",
              "</table>\n",
              "</div>"
            ],
            "text/plain": [
              "     y_pred    y_true\n",
              "0  1.175673  0.928251\n",
              "1  1.405660  1.235390\n",
              "2  1.639115  1.542542\n",
              "3  1.872570  1.853576\n",
              "4  2.106025  2.164610"
            ]
          },
          "metadata": {
            "tags": []
          },
          "execution_count": 16
        }
      ]
    },
    {
      "cell_type": "code",
      "metadata": {
        "id": "POlILaeab-bU"
      },
      "source": [
        "k11_df['K11_predicted'] = y_pred"
      ],
      "execution_count": null,
      "outputs": []
    },
    {
      "cell_type": "code",
      "metadata": {
        "colab": {
          "base_uri": "https://localhost:8080/",
          "height": 191
        },
        "id": "mbpRCZ_6cE0V",
        "outputId": "9721ecd5-f89a-4b67-a783-495885e4204e"
      },
      "source": [
        "k11_df.head()"
      ],
      "execution_count": null,
      "outputs": [
        {
          "output_type": "execute_result",
          "data": {
            "text/html": [
              "<div>\n",
              "<style scoped>\n",
              "    .dataframe tbody tr th:only-of-type {\n",
              "        vertical-align: middle;\n",
              "    }\n",
              "\n",
              "    .dataframe tbody tr th {\n",
              "        vertical-align: top;\n",
              "    }\n",
              "\n",
              "    .dataframe thead th {\n",
              "        text-align: right;\n",
              "    }\n",
              "</style>\n",
              "<table border=\"1\" class=\"dataframe\">\n",
              "  <thead>\n",
              "    <tr style=\"text-align: right;\">\n",
              "      <th></th>\n",
              "      <th>Vf</th>\n",
              "      <th>Ty/Sy</th>\n",
              "      <th>Wy/Sy</th>\n",
              "      <th>K11</th>\n",
              "      <th>Discrete_input_5HS(0,0,1)</th>\n",
              "      <th>Discrete_input_Plain(1,0,0)</th>\n",
              "      <th>Discrete_input_Twill(0,1,0)</th>\n",
              "      <th>K11_predicted</th>\n",
              "    </tr>\n",
              "  </thead>\n",
              "  <tbody>\n",
              "    <tr>\n",
              "      <th>0</th>\n",
              "      <td>0.25</td>\n",
              "      <td>0.1</td>\n",
              "      <td>0.8</td>\n",
              "      <td>0.928251</td>\n",
              "      <td>0</td>\n",
              "      <td>1</td>\n",
              "      <td>0</td>\n",
              "      <td>1.175673</td>\n",
              "    </tr>\n",
              "    <tr>\n",
              "      <th>1</th>\n",
              "      <td>0.35</td>\n",
              "      <td>0.1</td>\n",
              "      <td>0.8</td>\n",
              "      <td>1.235390</td>\n",
              "      <td>0</td>\n",
              "      <td>1</td>\n",
              "      <td>0</td>\n",
              "      <td>1.405660</td>\n",
              "    </tr>\n",
              "    <tr>\n",
              "      <th>2</th>\n",
              "      <td>0.45</td>\n",
              "      <td>0.1</td>\n",
              "      <td>0.8</td>\n",
              "      <td>1.542542</td>\n",
              "      <td>0</td>\n",
              "      <td>1</td>\n",
              "      <td>0</td>\n",
              "      <td>1.639115</td>\n",
              "    </tr>\n",
              "    <tr>\n",
              "      <th>3</th>\n",
              "      <td>0.55</td>\n",
              "      <td>0.1</td>\n",
              "      <td>0.8</td>\n",
              "      <td>1.853576</td>\n",
              "      <td>0</td>\n",
              "      <td>1</td>\n",
              "      <td>0</td>\n",
              "      <td>1.872570</td>\n",
              "    </tr>\n",
              "    <tr>\n",
              "      <th>4</th>\n",
              "      <td>0.65</td>\n",
              "      <td>0.1</td>\n",
              "      <td>0.8</td>\n",
              "      <td>2.164610</td>\n",
              "      <td>0</td>\n",
              "      <td>1</td>\n",
              "      <td>0</td>\n",
              "      <td>2.106025</td>\n",
              "    </tr>\n",
              "  </tbody>\n",
              "</table>\n",
              "</div>"
            ],
            "text/plain": [
              "     Vf  Ty/Sy  ...  Discrete_input_Twill(0,1,0)  K11_predicted\n",
              "0  0.25    0.1  ...                            0       1.175673\n",
              "1  0.35    0.1  ...                            0       1.405660\n",
              "2  0.45    0.1  ...                            0       1.639115\n",
              "3  0.55    0.1  ...                            0       1.872570\n",
              "4  0.65    0.1  ...                            0       2.106025\n",
              "\n",
              "[5 rows x 8 columns]"
            ]
          },
          "metadata": {
            "tags": []
          },
          "execution_count": 39
        }
      ]
    },
    {
      "cell_type": "code",
      "metadata": {
        "id": "QyQvZRiObVu7"
      },
      "source": [
        "k11_df.to_csv(\"K11_results.csv\", index=False)"
      ],
      "execution_count": null,
      "outputs": []
    },
    {
      "cell_type": "code",
      "metadata": {
        "colab": {
          "base_uri": "https://localhost:8080/",
          "height": 327
        },
        "id": "RtsoM7ns1QlS",
        "outputId": "84c56053-1297-4a46-9093-0dc93db41c06"
      },
      "source": [
        "#Plot predictions\n",
        "def best_fit(y_true, y_pred):\n",
        "\n",
        "    y_true_bar = sum(y_true)/len(y_true)\n",
        "    y_pred_bar = sum(y_pred)/len(y_pred)\n",
        "    n = len(y_true) # or len(y_pred)\n",
        "\n",
        "    numer = sum([xi*yi for xi,yi in zip(y_true, y_pred)]) - n * y_true_bar * y_pred_bar\n",
        "    denum = sum([xi**2 for xi in y_true]) - n * y_true_bar**2\n",
        "\n",
        "    b = numer / denum\n",
        "    a = y_pred_bar - b * y_true_bar\n",
        "\n",
        "    print('best fit line:\\ny = {} + {}x'.format(a, b))\n",
        "\n",
        "    return a, b\n",
        "\n",
        "# solution\n",
        "a, b = best_fit(y_true.values, y_pred)\n",
        "#best fit line:\n",
        "#y = 0.80 + 0.92x\n",
        "\n",
        "# plot points and fit line\n",
        "import matplotlib.pyplot as plt\n",
        "plt.scatter(y_true.values, y_pred)\n",
        "yfit = [a + b * xi for xi in y_true.values]\n",
        "plt.xlabel('True values [K11]')\n",
        "plt.ylabel('Predictions [K11]')\n",
        "plt.plot(y_true.values, yfit)"
      ],
      "execution_count": null,
      "outputs": [
        {
          "output_type": "stream",
          "text": [
            "best fit line:\n",
            "y = [0.364] + [0.807]x\n"
          ],
          "name": "stdout"
        },
        {
          "output_type": "execute_result",
          "data": {
            "text/plain": [
              "[<matplotlib.lines.Line2D at 0x7f9559364490>]"
            ]
          },
          "metadata": {
            "tags": []
          },
          "execution_count": 17
        },
        {
          "output_type": "display_data",
          "data": {
            "image/png": "[encoded data removed]",
            "text/plain": [
              "<Figure size 432x288 with 1 Axes>"
            ]
          },
          "metadata": {
            "tags": [],
            "needs_background": "light"
          }
        }
      ]
    },
    {
      "cell_type": "markdown",
      "metadata": {
        "id": "CkJIIudE9MUn"
      },
      "source": [
        "# ANN model for out of plane thermal conductivity prediction"
      ]
    },
    {
      "cell_type": "code",
      "metadata": {
        "colab": {
          "base_uri": "https://localhost:8080/",
          "height": 191
        },
        "id": "PnCjWbMG6gFM",
        "outputId": "e11578e5-1eef-4031-883d-74a352d7b6ca"
      },
      "source": [
        "# Read the dataset  \n",
        "k33_df = pd.read_excel('/content/drive/MyDrive/predict_thermal_conductivity/Results_updated_k33.xlsx')\n",
        "k33_df.head()"
      ],
      "execution_count": null,
      "outputs": [
        {
          "output_type": "execute_result",
          "data": {
            "text/html": [
              "<div>\n",
              "<style scoped>\n",
              "    .dataframe tbody tr th:only-of-type {\n",
              "        vertical-align: middle;\n",
              "    }\n",
              "\n",
              "    .dataframe tbody tr th {\n",
              "        vertical-align: top;\n",
              "    }\n",
              "\n",
              "    .dataframe thead th {\n",
              "        text-align: right;\n",
              "    }\n",
              "</style>\n",
              "<table border=\"1\" class=\"dataframe\">\n",
              "  <thead>\n",
              "    <tr style=\"text-align: right;\">\n",
              "      <th></th>\n",
              "      <th>Vf</th>\n",
              "      <th>Discrete_input</th>\n",
              "      <th>Ty/Sy</th>\n",
              "      <th>Wy/Sy</th>\n",
              "      <th>K33</th>\n",
              "      <th>Unnamed: 5</th>\n",
              "      <th>Unnamed: 6</th>\n",
              "      <th>Unnamed: 7</th>\n",
              "      <th>Unnamed: 8</th>\n",
              "      <th>Fig12(b)ref</th>\n",
              "    </tr>\n",
              "  </thead>\n",
              "  <tbody>\n",
              "    <tr>\n",
              "      <th>0</th>\n",
              "      <td>0.25</td>\n",
              "      <td>Plain(1,0,0)</td>\n",
              "      <td>0.1</td>\n",
              "      <td>0.8</td>\n",
              "      <td>0.237818</td>\n",
              "      <td>NaN</td>\n",
              "      <td>NaN</td>\n",
              "      <td>NaN</td>\n",
              "      <td>NaN</td>\n",
              "      <td>NaN</td>\n",
              "    </tr>\n",
              "    <tr>\n",
              "      <th>1</th>\n",
              "      <td>0.35</td>\n",
              "      <td>Plain(1,0,0)</td>\n",
              "      <td>0.1</td>\n",
              "      <td>0.8</td>\n",
              "      <td>0.262592</td>\n",
              "      <td>NaN</td>\n",
              "      <td>NaN</td>\n",
              "      <td>NaN</td>\n",
              "      <td>NaN</td>\n",
              "      <td>NaN</td>\n",
              "    </tr>\n",
              "    <tr>\n",
              "      <th>2</th>\n",
              "      <td>0.45</td>\n",
              "      <td>Plain(1,0,0)</td>\n",
              "      <td>0.1</td>\n",
              "      <td>0.8</td>\n",
              "      <td>0.289824</td>\n",
              "      <td>NaN</td>\n",
              "      <td>NaN</td>\n",
              "      <td>NaN</td>\n",
              "      <td>NaN</td>\n",
              "      <td>NaN</td>\n",
              "    </tr>\n",
              "    <tr>\n",
              "      <th>3</th>\n",
              "      <td>0.55</td>\n",
              "      <td>Plain(1,0,0)</td>\n",
              "      <td>0.1</td>\n",
              "      <td>0.8</td>\n",
              "      <td>0.321724</td>\n",
              "      <td>NaN</td>\n",
              "      <td>NaN</td>\n",
              "      <td>NaN</td>\n",
              "      <td>NaN</td>\n",
              "      <td>NaN</td>\n",
              "    </tr>\n",
              "    <tr>\n",
              "      <th>4</th>\n",
              "      <td>0.65</td>\n",
              "      <td>Plain(1,0,0)</td>\n",
              "      <td>0.1</td>\n",
              "      <td>0.8</td>\n",
              "      <td>0.354853</td>\n",
              "      <td>NaN</td>\n",
              "      <td>NaN</td>\n",
              "      <td>NaN</td>\n",
              "      <td>NaN</td>\n",
              "      <td>NaN</td>\n",
              "    </tr>\n",
              "  </tbody>\n",
              "</table>\n",
              "</div>"
            ],
            "text/plain": [
              "     Vf Discrete_input  Ty/Sy  ...  Unnamed: 7  Unnamed: 8  Fig12(b)ref\n",
              "0  0.25   Plain(1,0,0)    0.1  ...         NaN         NaN          NaN\n",
              "1  0.35   Plain(1,0,0)    0.1  ...         NaN         NaN          NaN\n",
              "2  0.45   Plain(1,0,0)    0.1  ...         NaN         NaN          NaN\n",
              "3  0.55   Plain(1,0,0)    0.1  ...         NaN         NaN          NaN\n",
              "4  0.65   Plain(1,0,0)    0.1  ...         NaN         NaN          NaN\n",
              "\n",
              "[5 rows x 10 columns]"
            ]
          },
          "metadata": {
            "tags": []
          },
          "execution_count": 18
        }
      ]
    },
    {
      "cell_type": "code",
      "metadata": {
        "colab": {
          "base_uri": "https://localhost:8080/",
          "height": 191
        },
        "id": "FwfTxUQe9tAW",
        "outputId": "878f741b-f243-4073-c02f-d60ba8d9cfad"
      },
      "source": [
        "# Skip redunctant columns\n",
        "k33_df = k33_df.iloc[:, :5]\n",
        "k33_df.head()"
      ],
      "execution_count": null,
      "outputs": [
        {
          "output_type": "execute_result",
          "data": {
            "text/html": [
              "<div>\n",
              "<style scoped>\n",
              "    .dataframe tbody tr th:only-of-type {\n",
              "        vertical-align: middle;\n",
              "    }\n",
              "\n",
              "    .dataframe tbody tr th {\n",
              "        vertical-align: top;\n",
              "    }\n",
              "\n",
              "    .dataframe thead th {\n",
              "        text-align: right;\n",
              "    }\n",
              "</style>\n",
              "<table border=\"1\" class=\"dataframe\">\n",
              "  <thead>\n",
              "    <tr style=\"text-align: right;\">\n",
              "      <th></th>\n",
              "      <th>Vf</th>\n",
              "      <th>Discrete_input</th>\n",
              "      <th>Ty/Sy</th>\n",
              "      <th>Wy/Sy</th>\n",
              "      <th>K33</th>\n",
              "    </tr>\n",
              "  </thead>\n",
              "  <tbody>\n",
              "    <tr>\n",
              "      <th>0</th>\n",
              "      <td>0.25</td>\n",
              "      <td>Plain(1,0,0)</td>\n",
              "      <td>0.1</td>\n",
              "      <td>0.8</td>\n",
              "      <td>0.237818</td>\n",
              "    </tr>\n",
              "    <tr>\n",
              "      <th>1</th>\n",
              "      <td>0.35</td>\n",
              "      <td>Plain(1,0,0)</td>\n",
              "      <td>0.1</td>\n",
              "      <td>0.8</td>\n",
              "      <td>0.262592</td>\n",
              "    </tr>\n",
              "    <tr>\n",
              "      <th>2</th>\n",
              "      <td>0.45</td>\n",
              "      <td>Plain(1,0,0)</td>\n",
              "      <td>0.1</td>\n",
              "      <td>0.8</td>\n",
              "      <td>0.289824</td>\n",
              "    </tr>\n",
              "    <tr>\n",
              "      <th>3</th>\n",
              "      <td>0.55</td>\n",
              "      <td>Plain(1,0,0)</td>\n",
              "      <td>0.1</td>\n",
              "      <td>0.8</td>\n",
              "      <td>0.321724</td>\n",
              "    </tr>\n",
              "    <tr>\n",
              "      <th>4</th>\n",
              "      <td>0.65</td>\n",
              "      <td>Plain(1,0,0)</td>\n",
              "      <td>0.1</td>\n",
              "      <td>0.8</td>\n",
              "      <td>0.354853</td>\n",
              "    </tr>\n",
              "  </tbody>\n",
              "</table>\n",
              "</div>"
            ],
            "text/plain": [
              "     Vf Discrete_input  Ty/Sy  Wy/Sy       K33\n",
              "0  0.25   Plain(1,0,0)    0.1    0.8  0.237818\n",
              "1  0.35   Plain(1,0,0)    0.1    0.8  0.262592\n",
              "2  0.45   Plain(1,0,0)    0.1    0.8  0.289824\n",
              "3  0.55   Plain(1,0,0)    0.1    0.8  0.321724\n",
              "4  0.65   Plain(1,0,0)    0.1    0.8  0.354853"
            ]
          },
          "metadata": {
            "tags": []
          },
          "execution_count": 19
        }
      ]
    },
    {
      "cell_type": "markdown",
      "metadata": {
        "id": "GPBoE-qU-KXg"
      },
      "source": [
        "**Clean the data**"
      ]
    },
    {
      "cell_type": "code",
      "metadata": {
        "colab": {
          "base_uri": "https://localhost:8080/"
        },
        "id": "lqac8IpS-C1W",
        "outputId": "0d389028-e698-4eaa-ab14-ad71151c993e"
      },
      "source": [
        "k33_df.isnull().sum()"
      ],
      "execution_count": null,
      "outputs": [
        {
          "output_type": "execute_result",
          "data": {
            "text/plain": [
              "Vf                0\n",
              "Discrete_input    0\n",
              "Ty/Sy             0\n",
              "Wy/Sy             0\n",
              "K33               0\n",
              "dtype: int64"
            ]
          },
          "metadata": {
            "tags": []
          },
          "execution_count": 20
        }
      ]
    },
    {
      "cell_type": "markdown",
      "metadata": {
        "id": "IjY-b8Ki-RpF"
      },
      "source": [
        "No null values are present."
      ]
    },
    {
      "cell_type": "markdown",
      "metadata": {
        "id": "YsM2wW-h-bwg"
      },
      "source": [
        "The **Discrete input** is categorical not numeric. So we need to convert it to a **one hot encoding** with **pd.dummies**:"
      ]
    },
    {
      "cell_type": "code",
      "metadata": {
        "id": "BqbHxh7M-QqK"
      },
      "source": [
        "k33_df = pd.get_dummies(k33_df, columns=['Discrete_input'])"
      ],
      "execution_count": null,
      "outputs": []
    },
    {
      "cell_type": "code",
      "metadata": {
        "colab": {
          "base_uri": "https://localhost:8080/",
          "height": 191
        },
        "id": "n6-6r8wZ-lNe",
        "outputId": "a23d451e-7503-4ba5-cb31-e62e738612b4"
      },
      "source": [
        "k33_df.head()"
      ],
      "execution_count": null,
      "outputs": [
        {
          "output_type": "execute_result",
          "data": {
            "text/html": [
              "<div>\n",
              "<style scoped>\n",
              "    .dataframe tbody tr th:only-of-type {\n",
              "        vertical-align: middle;\n",
              "    }\n",
              "\n",
              "    .dataframe tbody tr th {\n",
              "        vertical-align: top;\n",
              "    }\n",
              "\n",
              "    .dataframe thead th {\n",
              "        text-align: right;\n",
              "    }\n",
              "</style>\n",
              "<table border=\"1\" class=\"dataframe\">\n",
              "  <thead>\n",
              "    <tr style=\"text-align: right;\">\n",
              "      <th></th>\n",
              "      <th>Vf</th>\n",
              "      <th>Ty/Sy</th>\n",
              "      <th>Wy/Sy</th>\n",
              "      <th>K33</th>\n",
              "      <th>Discrete_input_5HS(0,0,1)</th>\n",
              "      <th>Discrete_input_Plain(1,0,0)</th>\n",
              "      <th>Discrete_input_Twill(0,1,0)</th>\n",
              "    </tr>\n",
              "  </thead>\n",
              "  <tbody>\n",
              "    <tr>\n",
              "      <th>0</th>\n",
              "      <td>0.25</td>\n",
              "      <td>0.1</td>\n",
              "      <td>0.8</td>\n",
              "      <td>0.237818</td>\n",
              "      <td>0</td>\n",
              "      <td>1</td>\n",
              "      <td>0</td>\n",
              "    </tr>\n",
              "    <tr>\n",
              "      <th>1</th>\n",
              "      <td>0.35</td>\n",
              "      <td>0.1</td>\n",
              "      <td>0.8</td>\n",
              "      <td>0.262592</td>\n",
              "      <td>0</td>\n",
              "      <td>1</td>\n",
              "      <td>0</td>\n",
              "    </tr>\n",
              "    <tr>\n",
              "      <th>2</th>\n",
              "      <td>0.45</td>\n",
              "      <td>0.1</td>\n",
              "      <td>0.8</td>\n",
              "      <td>0.289824</td>\n",
              "      <td>0</td>\n",
              "      <td>1</td>\n",
              "      <td>0</td>\n",
              "    </tr>\n",
              "    <tr>\n",
              "      <th>3</th>\n",
              "      <td>0.55</td>\n",
              "      <td>0.1</td>\n",
              "      <td>0.8</td>\n",
              "      <td>0.321724</td>\n",
              "      <td>0</td>\n",
              "      <td>1</td>\n",
              "      <td>0</td>\n",
              "    </tr>\n",
              "    <tr>\n",
              "      <th>4</th>\n",
              "      <td>0.65</td>\n",
              "      <td>0.1</td>\n",
              "      <td>0.8</td>\n",
              "      <td>0.354853</td>\n",
              "      <td>0</td>\n",
              "      <td>1</td>\n",
              "      <td>0</td>\n",
              "    </tr>\n",
              "  </tbody>\n",
              "</table>\n",
              "</div>"
            ],
            "text/plain": [
              "     Vf  Ty/Sy  ...  Discrete_input_Plain(1,0,0)  Discrete_input_Twill(0,1,0)\n",
              "0  0.25    0.1  ...                            1                            0\n",
              "1  0.35    0.1  ...                            1                            0\n",
              "2  0.45    0.1  ...                            1                            0\n",
              "3  0.55    0.1  ...                            1                            0\n",
              "4  0.65    0.1  ...                            1                            0\n",
              "\n",
              "[5 rows x 7 columns]"
            ]
          },
          "metadata": {
            "tags": []
          },
          "execution_count": 22
        }
      ]
    },
    {
      "cell_type": "markdown",
      "metadata": {
        "id": "qrAXndWv-wZN"
      },
      "source": [
        "**Data visualization**"
      ]
    },
    {
      "cell_type": "code",
      "metadata": {
        "colab": {
          "base_uri": "https://localhost:8080/",
          "height": 566
        },
        "id": "QPmp1wQC-vQz",
        "outputId": "981a9d99-ba1b-48f6-a9eb-251e156abbc1"
      },
      "source": [
        "sns.pairplot(k33_df[['K33', 'Vf', 'Ty/Sy']], diag_kind='kde')"
      ],
      "execution_count": null,
      "outputs": [
        {
          "output_type": "execute_result",
          "data": {
            "text/plain": [
              "<seaborn.axisgrid.PairGrid at 0x7f9556a8c990>"
            ]
          },
          "metadata": {
            "tags": []
          },
          "execution_count": 23
        },
        {
          "output_type": "display_data",
          "data": {
            "image/png": "[encoded data removed]",
            "text/plain": [
              "<Figure size 540x540 with 12 Axes>"
            ]
          },
          "metadata": {
            "tags": [],
            "needs_background": "light"
          }
        }
      ]
    },
    {
      "cell_type": "markdown",
      "metadata": {
        "id": "KpMxvge9_Ckf"
      },
      "source": [
        "**Split features from labels**"
      ]
    },
    {
      "cell_type": "code",
      "metadata": {
        "colab": {
          "base_uri": "https://localhost:8080/"
        },
        "id": "9fLJJvtf-5EO",
        "outputId": "d480a4e6-a287-41ed-fa94-98efe0edf544"
      },
      "source": [
        "feats_ = k33_df.drop('K33', axis=1)\n",
        "labels_ = k33_df['K33']\n",
        "\n",
        "print(\"Features shape:\", feats_.shape)\n",
        "print(\"Labels shape:\", labels_.shape)"
      ],
      "execution_count": null,
      "outputs": [
        {
          "output_type": "stream",
          "text": [
            "Features shape: (39, 6)\n",
            "Labels shape: (39,)\n"
          ],
          "name": "stdout"
        }
      ]
    },
    {
      "cell_type": "markdown",
      "metadata": {
        "id": "EROewkTI_XxL"
      },
      "source": [
        "**Build an ANN model**"
      ]
    },
    {
      "cell_type": "code",
      "metadata": {
        "id": "te4clatP_Qnt"
      },
      "source": [
        "out_plane_model = keras.Sequential([\n",
        "    keras.layers.Dense(units=64, activation='relu'),\n",
        "    keras.layers.Dense(units=32, activation='relu'),\n",
        "    keras.layers.Dense(1)\n",
        "])"
      ],
      "execution_count": null,
      "outputs": []
    },
    {
      "cell_type": "code",
      "metadata": {
        "id": "XICqvhep_kxv"
      },
      "source": [
        "# Compile the model\n",
        "out_plane_model.compile(optimizer=tf.optimizers.Adam(learning_rate=0.001), loss = 'mean_absolute_error')"
      ],
      "execution_count": null,
      "outputs": []
    },
    {
      "cell_type": "code",
      "metadata": {
        "colab": {
          "base_uri": "https://localhost:8080/"
        },
        "id": "IQjvGay__sHa",
        "outputId": "5676b178-5ebe-45e4-8e18-dab800c9012d"
      },
      "source": [
        "# Train the model \n",
        "%%time \n",
        "history_ = out_plane_model.fit(\n",
        "    feats_, labels_, \n",
        "    epochs = 175,\n",
        "    validation_split=0.2  # 20% of features data\n",
        ")"
      ],
      "execution_count": null,
      "outputs": [
        {
          "output_type": "stream",
          "text": [
            "Epoch 1/175\n",
            "1/1 [==============================] - 0s 484ms/step - loss: 0.3887 - val_loss: 0.4575\n",
            "Epoch 2/175\n",
            "1/1 [==============================] - 0s 25ms/step - loss: 0.3490 - val_loss: 0.4314\n",
            "Epoch 3/175\n",
            "1/1 [==============================] - 0s 20ms/step - loss: 0.3090 - val_loss: 0.4039\n",
            "Epoch 4/175\n",
            "1/1 [==============================] - 0s 23ms/step - loss: 0.2692 - val_loss: 0.3740\n",
            "Epoch 5/175\n",
            "1/1 [==============================] - 0s 22ms/step - loss: 0.2306 - val_loss: 0.3416\n",
            "Epoch 6/175\n",
            "1/1 [==============================] - 0s 22ms/step - loss: 0.1927 - val_loss: 0.3071\n",
            "Epoch 7/175\n",
            "1/1 [==============================] - 0s 22ms/step - loss: 0.1550 - val_loss: 0.2702\n",
            "Epoch 8/175\n",
            "1/1 [==============================] - 0s 23ms/step - loss: 0.1176 - val_loss: 0.2316\n",
            "Epoch 9/175\n",
            "1/1 [==============================] - 0s 25ms/step - loss: 0.0874 - val_loss: 0.1930\n",
            "Epoch 10/175\n",
            "1/1 [==============================] - 0s 26ms/step - loss: 0.0742 - val_loss: 0.1548\n",
            "Epoch 11/175\n",
            "1/1 [==============================] - 0s 33ms/step - loss: 0.0687 - val_loss: 0.1191\n",
            "Epoch 12/175\n",
            "1/1 [==============================] - 0s 26ms/step - loss: 0.0691 - val_loss: 0.0878\n",
            "Epoch 13/175\n",
            "1/1 [==============================] - 0s 25ms/step - loss: 0.0748 - val_loss: 0.0614\n",
            "Epoch 14/175\n",
            "1/1 [==============================] - 0s 29ms/step - loss: 0.0817 - val_loss: 0.0411\n",
            "Epoch 15/175\n",
            "1/1 [==============================] - 0s 43ms/step - loss: 0.0860 - val_loss: 0.0269\n",
            "Epoch 16/175\n",
            "1/1 [==============================] - 0s 21ms/step - loss: 0.0882 - val_loss: 0.0234\n",
            "Epoch 17/175\n",
            "1/1 [==============================] - 0s 24ms/step - loss: 0.0870 - val_loss: 0.0229\n",
            "Epoch 18/175\n",
            "1/1 [==============================] - 0s 24ms/step - loss: 0.0821 - val_loss: 0.0236\n",
            "Epoch 19/175\n",
            "1/1 [==============================] - 0s 24ms/step - loss: 0.0742 - val_loss: 0.0250\n",
            "Epoch 20/175\n",
            "1/1 [==============================] - 0s 23ms/step - loss: 0.0647 - val_loss: 0.0270\n",
            "Epoch 21/175\n",
            "1/1 [==============================] - 0s 23ms/step - loss: 0.0552 - val_loss: 0.0332\n",
            "Epoch 22/175\n",
            "1/1 [==============================] - 0s 30ms/step - loss: 0.0462 - val_loss: 0.0435\n",
            "Epoch 23/175\n",
            "1/1 [==============================] - 0s 28ms/step - loss: 0.0391 - val_loss: 0.0533\n",
            "Epoch 24/175\n",
            "1/1 [==============================] - 0s 25ms/step - loss: 0.0367 - val_loss: 0.0621\n",
            "Epoch 25/175\n",
            "1/1 [==============================] - 0s 21ms/step - loss: 0.0392 - val_loss: 0.0681\n",
            "Epoch 26/175\n",
            "1/1 [==============================] - 0s 28ms/step - loss: 0.0449 - val_loss: 0.0709\n",
            "Epoch 27/175\n",
            "1/1 [==============================] - 0s 26ms/step - loss: 0.0486 - val_loss: 0.0705\n",
            "Epoch 28/175\n",
            "1/1 [==============================] - 0s 28ms/step - loss: 0.0500 - val_loss: 0.0671\n",
            "Epoch 29/175\n",
            "1/1 [==============================] - 0s 24ms/step - loss: 0.0490 - val_loss: 0.0609\n",
            "Epoch 30/175\n",
            "1/1 [==============================] - 0s 25ms/step - loss: 0.0456 - val_loss: 0.0524\n",
            "Epoch 31/175\n",
            "1/1 [==============================] - 0s 34ms/step - loss: 0.0412 - val_loss: 0.0429\n",
            "Epoch 32/175\n",
            "1/1 [==============================] - 0s 25ms/step - loss: 0.0361 - val_loss: 0.0329\n",
            "Epoch 33/175\n",
            "1/1 [==============================] - 0s 23ms/step - loss: 0.0334 - val_loss: 0.0283\n",
            "Epoch 34/175\n",
            "1/1 [==============================] - 0s 26ms/step - loss: 0.0337 - val_loss: 0.0271\n",
            "Epoch 35/175\n",
            "1/1 [==============================] - 0s 26ms/step - loss: 0.0347 - val_loss: 0.0271\n",
            "Epoch 36/175\n",
            "1/1 [==============================] - 0s 25ms/step - loss: 0.0358 - val_loss: 0.0270\n",
            "Epoch 37/175\n",
            "1/1 [==============================] - 0s 25ms/step - loss: 0.0364 - val_loss: 0.0267\n",
            "Epoch 38/175\n",
            "1/1 [==============================] - 0s 23ms/step - loss: 0.0362 - val_loss: 0.0262\n",
            "Epoch 39/175\n",
            "1/1 [==============================] - 0s 33ms/step - loss: 0.0350 - val_loss: 0.0264\n",
            "Epoch 40/175\n",
            "1/1 [==============================] - 0s 23ms/step - loss: 0.0332 - val_loss: 0.0274\n",
            "Epoch 41/175\n",
            "1/1 [==============================] - 0s 23ms/step - loss: 0.0313 - val_loss: 0.0326\n",
            "Epoch 42/175\n",
            "1/1 [==============================] - 0s 23ms/step - loss: 0.0289 - val_loss: 0.0401\n",
            "Epoch 43/175\n",
            "1/1 [==============================] - 0s 23ms/step - loss: 0.0271 - val_loss: 0.0469\n",
            "Epoch 44/175\n",
            "1/1 [==============================] - 0s 24ms/step - loss: 0.0259 - val_loss: 0.0529\n",
            "Epoch 45/175\n",
            "1/1 [==============================] - 0s 25ms/step - loss: 0.0265 - val_loss: 0.0563\n",
            "Epoch 46/175\n",
            "1/1 [==============================] - 0s 23ms/step - loss: 0.0280 - val_loss: 0.0552\n",
            "Epoch 47/175\n",
            "1/1 [==============================] - 0s 25ms/step - loss: 0.0273 - val_loss: 0.0501\n",
            "Epoch 48/175\n",
            "1/1 [==============================] - 0s 32ms/step - loss: 0.0242 - val_loss: 0.0431\n",
            "Epoch 49/175\n",
            "1/1 [==============================] - 0s 27ms/step - loss: 0.0223 - val_loss: 0.0366\n",
            "Epoch 50/175\n",
            "1/1 [==============================] - 0s 28ms/step - loss: 0.0220 - val_loss: 0.0310\n",
            "Epoch 51/175\n",
            "1/1 [==============================] - 0s 26ms/step - loss: 0.0221 - val_loss: 0.0272\n",
            "Epoch 52/175\n",
            "1/1 [==============================] - 0s 23ms/step - loss: 0.0221 - val_loss: 0.0253\n",
            "Epoch 53/175\n",
            "1/1 [==============================] - 0s 25ms/step - loss: 0.0218 - val_loss: 0.0254\n",
            "Epoch 54/175\n",
            "1/1 [==============================] - 0s 25ms/step - loss: 0.0209 - val_loss: 0.0272\n",
            "Epoch 55/175\n",
            "1/1 [==============================] - 0s 22ms/step - loss: 0.0199 - val_loss: 0.0300\n",
            "Epoch 56/175\n",
            "1/1 [==============================] - 0s 25ms/step - loss: 0.0189 - val_loss: 0.0324\n",
            "Epoch 57/175\n",
            "1/1 [==============================] - 0s 24ms/step - loss: 0.0183 - val_loss: 0.0341\n",
            "Epoch 58/175\n",
            "1/1 [==============================] - 0s 24ms/step - loss: 0.0181 - val_loss: 0.0343\n",
            "Epoch 59/175\n",
            "1/1 [==============================] - 0s 25ms/step - loss: 0.0179 - val_loss: 0.0330\n",
            "Epoch 60/175\n",
            "1/1 [==============================] - 0s 25ms/step - loss: 0.0172 - val_loss: 0.0305\n",
            "Epoch 61/175\n",
            "1/1 [==============================] - 0s 46ms/step - loss: 0.0165 - val_loss: 0.0274\n",
            "Epoch 62/175\n",
            "1/1 [==============================] - 0s 25ms/step - loss: 0.0156 - val_loss: 0.0246\n",
            "Epoch 63/175\n",
            "1/1 [==============================] - 0s 27ms/step - loss: 0.0153 - val_loss: 0.0232\n",
            "Epoch 64/175\n",
            "1/1 [==============================] - 0s 29ms/step - loss: 0.0151 - val_loss: 0.0237\n",
            "Epoch 65/175\n",
            "1/1 [==============================] - 0s 38ms/step - loss: 0.0146 - val_loss: 0.0253\n",
            "Epoch 66/175\n",
            "1/1 [==============================] - 0s 27ms/step - loss: 0.0139 - val_loss: 0.0259\n",
            "Epoch 67/175\n",
            "1/1 [==============================] - 0s 27ms/step - loss: 0.0136 - val_loss: 0.0248\n",
            "Epoch 68/175\n",
            "1/1 [==============================] - 0s 23ms/step - loss: 0.0131 - val_loss: 0.0216\n",
            "Epoch 69/175\n",
            "1/1 [==============================] - 0s 25ms/step - loss: 0.0125 - val_loss: 0.0180\n",
            "Epoch 70/175\n",
            "1/1 [==============================] - 0s 24ms/step - loss: 0.0122 - val_loss: 0.0162\n",
            "Epoch 71/175\n",
            "1/1 [==============================] - 0s 23ms/step - loss: 0.0120 - val_loss: 0.0155\n",
            "Epoch 72/175\n",
            "1/1 [==============================] - 0s 25ms/step - loss: 0.0118 - val_loss: 0.0149\n",
            "Epoch 73/175\n",
            "1/1 [==============================] - 0s 23ms/step - loss: 0.0115 - val_loss: 0.0146\n",
            "Epoch 74/175\n",
            "1/1 [==============================] - 0s 24ms/step - loss: 0.0109 - val_loss: 0.0147\n",
            "Epoch 75/175\n",
            "1/1 [==============================] - 0s 24ms/step - loss: 0.0108 - val_loss: 0.0157\n",
            "Epoch 76/175\n",
            "1/1 [==============================] - 0s 25ms/step - loss: 0.0108 - val_loss: 0.0151\n",
            "Epoch 77/175\n",
            "1/1 [==============================] - 0s 26ms/step - loss: 0.0104 - val_loss: 0.0139\n",
            "Epoch 78/175\n",
            "1/1 [==============================] - 0s 40ms/step - loss: 0.0099 - val_loss: 0.0128\n",
            "Epoch 79/175\n",
            "1/1 [==============================] - 0s 22ms/step - loss: 0.0097 - val_loss: 0.0124\n",
            "Epoch 80/175\n",
            "1/1 [==============================] - 0s 46ms/step - loss: 0.0095 - val_loss: 0.0126\n",
            "Epoch 81/175\n",
            "1/1 [==============================] - 0s 24ms/step - loss: 0.0092 - val_loss: 0.0128\n",
            "Epoch 82/175\n",
            "1/1 [==============================] - 0s 29ms/step - loss: 0.0089 - val_loss: 0.0125\n",
            "Epoch 83/175\n",
            "1/1 [==============================] - 0s 25ms/step - loss: 0.0087 - val_loss: 0.0118\n",
            "Epoch 84/175\n",
            "1/1 [==============================] - 0s 29ms/step - loss: 0.0085 - val_loss: 0.0110\n",
            "Epoch 85/175\n",
            "1/1 [==============================] - 0s 34ms/step - loss: 0.0083 - val_loss: 0.0108\n",
            "Epoch 86/175\n",
            "1/1 [==============================] - 0s 27ms/step - loss: 0.0081 - val_loss: 0.0111\n",
            "Epoch 87/175\n",
            "1/1 [==============================] - 0s 24ms/step - loss: 0.0079 - val_loss: 0.0112\n",
            "Epoch 88/175\n",
            "1/1 [==============================] - 0s 26ms/step - loss: 0.0078 - val_loss: 0.0105\n",
            "Epoch 89/175\n",
            "1/1 [==============================] - 0s 25ms/step - loss: 0.0076 - val_loss: 0.0099\n",
            "Epoch 90/175\n",
            "1/1 [==============================] - 0s 25ms/step - loss: 0.0074 - val_loss: 0.0096\n",
            "Epoch 91/175\n",
            "1/1 [==============================] - 0s 27ms/step - loss: 0.0074 - val_loss: 0.0095\n",
            "Epoch 92/175\n",
            "1/1 [==============================] - 0s 24ms/step - loss: 0.0073 - val_loss: 0.0093\n",
            "Epoch 93/175\n",
            "1/1 [==============================] - 0s 29ms/step - loss: 0.0072 - val_loss: 0.0089\n",
            "Epoch 94/175\n",
            "1/1 [==============================] - 0s 31ms/step - loss: 0.0070 - val_loss: 0.0090\n",
            "Epoch 95/175\n",
            "1/1 [==============================] - 0s 30ms/step - loss: 0.0069 - val_loss: 0.0087\n",
            "Epoch 96/175\n",
            "1/1 [==============================] - 0s 26ms/step - loss: 0.0067 - val_loss: 0.0086\n",
            "Epoch 97/175\n",
            "1/1 [==============================] - 0s 23ms/step - loss: 0.0067 - val_loss: 0.0087\n",
            "Epoch 98/175\n",
            "1/1 [==============================] - 0s 35ms/step - loss: 0.0066 - val_loss: 0.0086\n",
            "Epoch 99/175\n",
            "1/1 [==============================] - 0s 27ms/step - loss: 0.0065 - val_loss: 0.0086\n",
            "Epoch 100/175\n",
            "1/1 [==============================] - 0s 27ms/step - loss: 0.0064 - val_loss: 0.0082\n",
            "Epoch 101/175\n",
            "1/1 [==============================] - 0s 27ms/step - loss: 0.0063 - val_loss: 0.0082\n",
            "Epoch 102/175\n",
            "1/1 [==============================] - 0s 23ms/step - loss: 0.0065 - val_loss: 0.0084\n",
            "Epoch 103/175\n",
            "1/1 [==============================] - 0s 26ms/step - loss: 0.0062 - val_loss: 0.0086\n",
            "Epoch 104/175\n",
            "1/1 [==============================] - 0s 28ms/step - loss: 0.0062 - val_loss: 0.0090\n",
            "Epoch 105/175\n",
            "1/1 [==============================] - 0s 24ms/step - loss: 0.0061 - val_loss: 0.0093\n",
            "Epoch 106/175\n",
            "1/1 [==============================] - 0s 24ms/step - loss: 0.0061 - val_loss: 0.0092\n",
            "Epoch 107/175\n",
            "1/1 [==============================] - 0s 29ms/step - loss: 0.0061 - val_loss: 0.0089\n",
            "Epoch 108/175\n",
            "1/1 [==============================] - 0s 28ms/step - loss: 0.0060 - val_loss: 0.0086\n",
            "Epoch 109/175\n",
            "1/1 [==============================] - 0s 25ms/step - loss: 0.0060 - val_loss: 0.0085\n",
            "Epoch 110/175\n",
            "1/1 [==============================] - 0s 25ms/step - loss: 0.0059 - val_loss: 0.0083\n",
            "Epoch 111/175\n",
            "1/1 [==============================] - 0s 24ms/step - loss: 0.0060 - val_loss: 0.0083\n",
            "Epoch 112/175\n",
            "1/1 [==============================] - 0s 52ms/step - loss: 0.0058 - val_loss: 0.0083\n",
            "Epoch 113/175\n",
            "1/1 [==============================] - 0s 28ms/step - loss: 0.0057 - val_loss: 0.0085\n",
            "Epoch 114/175\n",
            "1/1 [==============================] - 0s 27ms/step - loss: 0.0057 - val_loss: 0.0084\n",
            "Epoch 115/175\n",
            "1/1 [==============================] - 0s 31ms/step - loss: 0.0057 - val_loss: 0.0084\n",
            "Epoch 116/175\n",
            "1/1 [==============================] - 0s 28ms/step - loss: 0.0056 - val_loss: 0.0081\n",
            "Epoch 117/175\n",
            "1/1 [==============================] - 0s 25ms/step - loss: 0.0055 - val_loss: 0.0078\n",
            "Epoch 118/175\n",
            "1/1 [==============================] - 0s 25ms/step - loss: 0.0055 - val_loss: 0.0078\n",
            "Epoch 119/175\n",
            "1/1 [==============================] - 0s 25ms/step - loss: 0.0054 - val_loss: 0.0083\n",
            "Epoch 120/175\n",
            "1/1 [==============================] - 0s 28ms/step - loss: 0.0054 - val_loss: 0.0084\n",
            "Epoch 121/175\n",
            "1/1 [==============================] - 0s 25ms/step - loss: 0.0054 - val_loss: 0.0082\n",
            "Epoch 122/175\n",
            "1/1 [==============================] - 0s 29ms/step - loss: 0.0056 - val_loss: 0.0081\n",
            "Epoch 123/175\n",
            "1/1 [==============================] - 0s 37ms/step - loss: 0.0052 - val_loss: 0.0082\n",
            "Epoch 124/175\n",
            "1/1 [==============================] - 0s 27ms/step - loss: 0.0056 - val_loss: 0.0075\n",
            "Epoch 125/175\n",
            "1/1 [==============================] - 0s 24ms/step - loss: 0.0054 - val_loss: 0.0077\n",
            "Epoch 126/175\n",
            "1/1 [==============================] - 0s 25ms/step - loss: 0.0055 - val_loss: 0.0080\n",
            "Epoch 127/175\n",
            "1/1 [==============================] - 0s 27ms/step - loss: 0.0052 - val_loss: 0.0096\n",
            "Epoch 128/175\n",
            "1/1 [==============================] - 0s 22ms/step - loss: 0.0051 - val_loss: 0.0103\n",
            "Epoch 129/175\n",
            "1/1 [==============================] - 0s 29ms/step - loss: 0.0053 - val_loss: 0.0103\n",
            "Epoch 130/175\n",
            "1/1 [==============================] - 0s 27ms/step - loss: 0.0051 - val_loss: 0.0097\n",
            "Epoch 131/175\n",
            "1/1 [==============================] - 0s 30ms/step - loss: 0.0049 - val_loss: 0.0087\n",
            "Epoch 132/175\n",
            "1/1 [==============================] - 0s 23ms/step - loss: 0.0051 - val_loss: 0.0089\n",
            "Epoch 133/175\n",
            "1/1 [==============================] - 0s 22ms/step - loss: 0.0050 - val_loss: 0.0099\n",
            "Epoch 134/175\n",
            "1/1 [==============================] - 0s 27ms/step - loss: 0.0050 - val_loss: 0.0108\n",
            "Epoch 135/175\n",
            "1/1 [==============================] - 0s 27ms/step - loss: 0.0051 - val_loss: 0.0105\n",
            "Epoch 136/175\n",
            "1/1 [==============================] - 0s 30ms/step - loss: 0.0049 - val_loss: 0.0094\n",
            "Epoch 137/175\n",
            "1/1 [==============================] - 0s 26ms/step - loss: 0.0050 - val_loss: 0.0090\n",
            "Epoch 138/175\n",
            "1/1 [==============================] - 0s 29ms/step - loss: 0.0049 - val_loss: 0.0090\n",
            "Epoch 139/175\n",
            "1/1 [==============================] - 0s 29ms/step - loss: 0.0049 - val_loss: 0.0087\n",
            "Epoch 140/175\n",
            "1/1 [==============================] - 0s 30ms/step - loss: 0.0048 - val_loss: 0.0082\n",
            "Epoch 141/175\n",
            "1/1 [==============================] - 0s 26ms/step - loss: 0.0049 - val_loss: 0.0083\n",
            "Epoch 142/175\n",
            "1/1 [==============================] - 0s 31ms/step - loss: 0.0046 - val_loss: 0.0090\n",
            "Epoch 143/175\n",
            "1/1 [==============================] - 0s 24ms/step - loss: 0.0048 - val_loss: 0.0086\n",
            "Epoch 144/175\n",
            "1/1 [==============================] - 0s 29ms/step - loss: 0.0046 - val_loss: 0.0086\n",
            "Epoch 145/175\n",
            "1/1 [==============================] - 0s 27ms/step - loss: 0.0045 - val_loss: 0.0091\n",
            "Epoch 146/175\n",
            "1/1 [==============================] - 0s 25ms/step - loss: 0.0046 - val_loss: 0.0089\n",
            "Epoch 147/175\n",
            "1/1 [==============================] - 0s 28ms/step - loss: 0.0046 - val_loss: 0.0087\n",
            "Epoch 148/175\n",
            "1/1 [==============================] - 0s 26ms/step - loss: 0.0045 - val_loss: 0.0093\n",
            "Epoch 149/175\n",
            "1/1 [==============================] - 0s 26ms/step - loss: 0.0045 - val_loss: 0.0100\n",
            "Epoch 150/175\n",
            "1/1 [==============================] - 0s 26ms/step - loss: 0.0046 - val_loss: 0.0095\n",
            "Epoch 151/175\n",
            "1/1 [==============================] - 0s 27ms/step - loss: 0.0044 - val_loss: 0.0086\n",
            "Epoch 152/175\n",
            "1/1 [==============================] - 0s 31ms/step - loss: 0.0051 - val_loss: 0.0099\n",
            "Epoch 153/175\n",
            "1/1 [==============================] - 0s 28ms/step - loss: 0.0053 - val_loss: 0.0096\n",
            "Epoch 154/175\n",
            "1/1 [==============================] - 0s 29ms/step - loss: 0.0053 - val_loss: 0.0079\n",
            "Epoch 155/175\n",
            "1/1 [==============================] - 0s 25ms/step - loss: 0.0047 - val_loss: 0.0078\n",
            "Epoch 156/175\n",
            "1/1 [==============================] - 0s 25ms/step - loss: 0.0046 - val_loss: 0.0099\n",
            "Epoch 157/175\n",
            "1/1 [==============================] - 0s 23ms/step - loss: 0.0046 - val_loss: 0.0105\n",
            "Epoch 158/175\n",
            "1/1 [==============================] - 0s 25ms/step - loss: 0.0045 - val_loss: 0.0098\n",
            "Epoch 159/175\n",
            "1/1 [==============================] - 0s 25ms/step - loss: 0.0048 - val_loss: 0.0097\n",
            "Epoch 160/175\n",
            "1/1 [==============================] - 0s 27ms/step - loss: 0.0042 - val_loss: 0.0098\n",
            "Epoch 161/175\n",
            "1/1 [==============================] - 0s 31ms/step - loss: 0.0044 - val_loss: 0.0090\n",
            "Epoch 162/175\n",
            "1/1 [==============================] - 0s 25ms/step - loss: 0.0043 - val_loss: 0.0081\n",
            "Epoch 163/175\n",
            "1/1 [==============================] - 0s 35ms/step - loss: 0.0045 - val_loss: 0.0086\n",
            "Epoch 164/175\n",
            "1/1 [==============================] - 0s 27ms/step - loss: 0.0041 - val_loss: 0.0088\n",
            "Epoch 165/175\n",
            "1/1 [==============================] - 0s 29ms/step - loss: 0.0042 - val_loss: 0.0080\n",
            "Epoch 166/175\n",
            "1/1 [==============================] - 0s 29ms/step - loss: 0.0043 - val_loss: 0.0074\n",
            "Epoch 167/175\n",
            "1/1 [==============================] - 0s 31ms/step - loss: 0.0041 - val_loss: 0.0076\n",
            "Epoch 168/175\n",
            "1/1 [==============================] - 0s 32ms/step - loss: 0.0045 - val_loss: 0.0072\n",
            "Epoch 169/175\n",
            "1/1 [==============================] - 0s 26ms/step - loss: 0.0044 - val_loss: 0.0070\n",
            "Epoch 170/175\n",
            "1/1 [==============================] - 0s 31ms/step - loss: 0.0040 - val_loss: 0.0078\n",
            "Epoch 171/175\n",
            "1/1 [==============================] - 0s 23ms/step - loss: 0.0041 - val_loss: 0.0084\n",
            "Epoch 172/175\n",
            "1/1 [==============================] - 0s 32ms/step - loss: 0.0041 - val_loss: 0.0081\n",
            "Epoch 173/175\n",
            "1/1 [==============================] - 0s 27ms/step - loss: 0.0039 - val_loss: 0.0074\n",
            "Epoch 174/175\n",
            "1/1 [==============================] - 0s 30ms/step - loss: 0.0044 - val_loss: 0.0082\n",
            "Epoch 175/175\n",
            "1/1 [==============================] - 0s 28ms/step - loss: 0.0042 - val_loss: 0.0085\n",
            "CPU times: user 5.32 s, sys: 287 ms, total: 5.6 s\n",
            "Wall time: 5.88 s\n"
          ],
          "name": "stdout"
        }
      ]
    },
    {
      "cell_type": "markdown",
      "metadata": {
        "id": "RTs592uH_xJx"
      },
      "source": [
        "**Visualize the model's training progress using the stats stored in the history object.**"
      ]
    },
    {
      "cell_type": "code",
      "metadata": {
        "colab": {
          "base_uri": "https://localhost:8080/",
          "height": 191
        },
        "id": "BlLYXnYu_x6L",
        "outputId": "5c6de55a-cea9-4c8c-a86c-775bbb044dd7"
      },
      "source": [
        "history_df1 = pd.DataFrame(history_.history)\n",
        "history_df1['epoch'] = history_.epoch\n",
        "history_df1.head()"
      ],
      "execution_count": null,
      "outputs": [
        {
          "output_type": "execute_result",
          "data": {
            "text/html": [
              "<div>\n",
              "<style scoped>\n",
              "    .dataframe tbody tr th:only-of-type {\n",
              "        vertical-align: middle;\n",
              "    }\n",
              "\n",
              "    .dataframe tbody tr th {\n",
              "        vertical-align: top;\n",
              "    }\n",
              "\n",
              "    .dataframe thead th {\n",
              "        text-align: right;\n",
              "    }\n",
              "</style>\n",
              "<table border=\"1\" class=\"dataframe\">\n",
              "  <thead>\n",
              "    <tr style=\"text-align: right;\">\n",
              "      <th></th>\n",
              "      <th>loss</th>\n",
              "      <th>val_loss</th>\n",
              "      <th>epoch</th>\n",
              "    </tr>\n",
              "  </thead>\n",
              "  <tbody>\n",
              "    <tr>\n",
              "      <th>0</th>\n",
              "      <td>0.388732</td>\n",
              "      <td>0.457460</td>\n",
              "      <td>0</td>\n",
              "    </tr>\n",
              "    <tr>\n",
              "      <th>1</th>\n",
              "      <td>0.348957</td>\n",
              "      <td>0.431397</td>\n",
              "      <td>1</td>\n",
              "    </tr>\n",
              "    <tr>\n",
              "      <th>2</th>\n",
              "      <td>0.308989</td>\n",
              "      <td>0.403873</td>\n",
              "      <td>2</td>\n",
              "    </tr>\n",
              "    <tr>\n",
              "      <th>3</th>\n",
              "      <td>0.269171</td>\n",
              "      <td>0.373989</td>\n",
              "      <td>3</td>\n",
              "    </tr>\n",
              "    <tr>\n",
              "      <th>4</th>\n",
              "      <td>0.230582</td>\n",
              "      <td>0.341609</td>\n",
              "      <td>4</td>\n",
              "    </tr>\n",
              "  </tbody>\n",
              "</table>\n",
              "</div>"
            ],
            "text/plain": [
              "       loss  val_loss  epoch\n",
              "0  0.388732  0.457460      0\n",
              "1  0.348957  0.431397      1\n",
              "2  0.308989  0.403873      2\n",
              "3  0.269171  0.373989      3\n",
              "4  0.230582  0.341609      4"
            ]
          },
          "metadata": {
            "tags": []
          },
          "execution_count": 28
        }
      ]
    },
    {
      "cell_type": "code",
      "metadata": {
        "id": "t9cPN8LU_6RL"
      },
      "source": [
        "def plot_loss(history):\n",
        "  plt.plot(history.history['loss'], label='Training')\n",
        "  plt.plot(history.history['val_loss'], label='Validation')\n",
        "  plt.xlabel('Epoch')\n",
        "  plt.ylabel('MSE [K33]')\n",
        "  plt.legend()\n",
        "  plt.grid(True)"
      ],
      "execution_count": null,
      "outputs": []
    },
    {
      "cell_type": "code",
      "metadata": {
        "colab": {
          "base_uri": "https://localhost:8080/",
          "height": 278
        },
        "id": "FMtyc4j7_-kY",
        "outputId": "977a5df7-a224-4da4-efea-5743c45fc4ed"
      },
      "source": [
        "# Plot loss\n",
        "plot_loss(history_)"
      ],
      "execution_count": null,
      "outputs": [
        {
          "output_type": "display_data",
          "data": {
            "image/png": "[encoded data removed]",
            "text/plain": [
              "<Figure size 432x288 with 1 Axes>"
            ]
          },
          "metadata": {
            "tags": [],
            "needs_background": "light"
          }
        }
      ]
    },
    {
      "cell_type": "markdown",
      "metadata": {
        "id": "eqs9aErZART8"
      },
      "source": [
        "### Model predictions"
      ]
    },
    {
      "cell_type": "code",
      "metadata": {
        "id": "_7b1t93VBJ8b",
        "colab": {
          "base_uri": "https://localhost:8080/",
          "height": 191
        },
        "outputId": "99f5ff34-fb36-4e80-c141-71ec9c61c08f"
      },
      "source": [
        "y_pred_ = out_plane_model.predict(feats_)\n",
        "y_true_ = labels_     \n",
        "k33_results = pd.DataFrame(y_pred_, columns=['y_pred'])\n",
        "k33_results['y_true'] = y_true_\n",
        "k33_results.head()"
      ],
      "execution_count": null,
      "outputs": [
        {
          "output_type": "execute_result",
          "data": {
            "text/html": [
              "<div>\n",
              "<style scoped>\n",
              "    .dataframe tbody tr th:only-of-type {\n",
              "        vertical-align: middle;\n",
              "    }\n",
              "\n",
              "    .dataframe tbody tr th {\n",
              "        vertical-align: top;\n",
              "    }\n",
              "\n",
              "    .dataframe thead th {\n",
              "        text-align: right;\n",
              "    }\n",
              "</style>\n",
              "<table border=\"1\" class=\"dataframe\">\n",
              "  <thead>\n",
              "    <tr style=\"text-align: right;\">\n",
              "      <th></th>\n",
              "      <th>y_pred</th>\n",
              "      <th>y_true</th>\n",
              "    </tr>\n",
              "  </thead>\n",
              "  <tbody>\n",
              "    <tr>\n",
              "      <th>0</th>\n",
              "      <td>0.233946</td>\n",
              "      <td>0.237818</td>\n",
              "    </tr>\n",
              "    <tr>\n",
              "      <th>1</th>\n",
              "      <td>0.262140</td>\n",
              "      <td>0.262592</td>\n",
              "    </tr>\n",
              "    <tr>\n",
              "      <th>2</th>\n",
              "      <td>0.290765</td>\n",
              "      <td>0.289824</td>\n",
              "    </tr>\n",
              "    <tr>\n",
              "      <th>3</th>\n",
              "      <td>0.321292</td>\n",
              "      <td>0.321724</td>\n",
              "    </tr>\n",
              "    <tr>\n",
              "      <th>4</th>\n",
              "      <td>0.356487</td>\n",
              "      <td>0.354853</td>\n",
              "    </tr>\n",
              "  </tbody>\n",
              "</table>\n",
              "</div>"
            ],
            "text/plain": [
              "     y_pred    y_true\n",
              "0  0.233946  0.237818\n",
              "1  0.262140  0.262592\n",
              "2  0.290765  0.289824\n",
              "3  0.321292  0.321724\n",
              "4  0.356487  0.354853"
            ]
          },
          "metadata": {
            "tags": []
          },
          "execution_count": 31
        }
      ]
    },
    {
      "cell_type": "code",
      "metadata": {
        "id": "F8Hptpkebp1O"
      },
      "source": [
        "k33_df['K33_predicted'] = y_pred_"
      ],
      "execution_count": null,
      "outputs": []
    },
    {
      "cell_type": "code",
      "metadata": {
        "colab": {
          "base_uri": "https://localhost:8080/",
          "height": 191
        },
        "id": "qnKa6Ifgb1OC",
        "outputId": "c0d86e5a-1965-4fb6-e894-3f3a4a0c00ec"
      },
      "source": [
        "k33_df.head()"
      ],
      "execution_count": null,
      "outputs": [
        {
          "output_type": "execute_result",
          "data": {
            "text/html": [
              "<div>\n",
              "<style scoped>\n",
              "    .dataframe tbody tr th:only-of-type {\n",
              "        vertical-align: middle;\n",
              "    }\n",
              "\n",
              "    .dataframe tbody tr th {\n",
              "        vertical-align: top;\n",
              "    }\n",
              "\n",
              "    .dataframe thead th {\n",
              "        text-align: right;\n",
              "    }\n",
              "</style>\n",
              "<table border=\"1\" class=\"dataframe\">\n",
              "  <thead>\n",
              "    <tr style=\"text-align: right;\">\n",
              "      <th></th>\n",
              "      <th>Vf</th>\n",
              "      <th>Ty/Sy</th>\n",
              "      <th>Wy/Sy</th>\n",
              "      <th>K33</th>\n",
              "      <th>Discrete_input_5HS(0,0,1)</th>\n",
              "      <th>Discrete_input_Plain(1,0,0)</th>\n",
              "      <th>Discrete_input_Twill(0,1,0)</th>\n",
              "      <th>K33_predicted</th>\n",
              "    </tr>\n",
              "  </thead>\n",
              "  <tbody>\n",
              "    <tr>\n",
              "      <th>0</th>\n",
              "      <td>0.25</td>\n",
              "      <td>0.1</td>\n",
              "      <td>0.8</td>\n",
              "      <td>0.237818</td>\n",
              "      <td>0</td>\n",
              "      <td>1</td>\n",
              "      <td>0</td>\n",
              "      <td>0.233946</td>\n",
              "    </tr>\n",
              "    <tr>\n",
              "      <th>1</th>\n",
              "      <td>0.35</td>\n",
              "      <td>0.1</td>\n",
              "      <td>0.8</td>\n",
              "      <td>0.262592</td>\n",
              "      <td>0</td>\n",
              "      <td>1</td>\n",
              "      <td>0</td>\n",
              "      <td>0.262140</td>\n",
              "    </tr>\n",
              "    <tr>\n",
              "      <th>2</th>\n",
              "      <td>0.45</td>\n",
              "      <td>0.1</td>\n",
              "      <td>0.8</td>\n",
              "      <td>0.289824</td>\n",
              "      <td>0</td>\n",
              "      <td>1</td>\n",
              "      <td>0</td>\n",
              "      <td>0.290765</td>\n",
              "    </tr>\n",
              "    <tr>\n",
              "      <th>3</th>\n",
              "      <td>0.55</td>\n",
              "      <td>0.1</td>\n",
              "      <td>0.8</td>\n",
              "      <td>0.321724</td>\n",
              "      <td>0</td>\n",
              "      <td>1</td>\n",
              "      <td>0</td>\n",
              "      <td>0.321292</td>\n",
              "    </tr>\n",
              "    <tr>\n",
              "      <th>4</th>\n",
              "      <td>0.65</td>\n",
              "      <td>0.1</td>\n",
              "      <td>0.8</td>\n",
              "      <td>0.354853</td>\n",
              "      <td>0</td>\n",
              "      <td>1</td>\n",
              "      <td>0</td>\n",
              "      <td>0.356487</td>\n",
              "    </tr>\n",
              "  </tbody>\n",
              "</table>\n",
              "</div>"
            ],
            "text/plain": [
              "     Vf  Ty/Sy  ...  Discrete_input_Twill(0,1,0)  K33_predicted\n",
              "0  0.25    0.1  ...                            0       0.233946\n",
              "1  0.35    0.1  ...                            0       0.262140\n",
              "2  0.45    0.1  ...                            0       0.290765\n",
              "3  0.55    0.1  ...                            0       0.321292\n",
              "4  0.65    0.1  ...                            0       0.356487\n",
              "\n",
              "[5 rows x 8 columns]"
            ]
          },
          "metadata": {
            "tags": []
          },
          "execution_count": 36
        }
      ]
    },
    {
      "cell_type": "code",
      "metadata": {
        "id": "AvPDmUMRbjeb"
      },
      "source": [
        "k33_df.to_csv(\"K33_results.csv\", index=False)"
      ],
      "execution_count": null,
      "outputs": []
    },
    {
      "cell_type": "code",
      "metadata": {
        "colab": {
          "base_uri": "https://localhost:8080/",
          "height": 327
        },
        "id": "kJDYBJbWAnV5",
        "outputId": "7198aead-e840-4f9d-b8d9-4f0cfc25d749"
      },
      "source": [
        "# solution\n",
        "a1, b1 = best_fit(y_true_.values, y_pred_)\n",
        "#best fit line:\n",
        "#y = 0.80 + 0.92x\n",
        "\n",
        "# plot points and fit line\n",
        "import matplotlib.pyplot as plt\n",
        "plt.scatter(y_true_.values, y_pred_)\n",
        "yfit = [a1 + b1 * xi for xi in y_true_.values]\n",
        "plt.xlabel('True values [K33')\n",
        "plt.ylabel('Predictions [K33')\n",
        "plt.plot(y_true_.values, yfit)"
      ],
      "execution_count": null,
      "outputs": [
        {
          "output_type": "stream",
          "text": [
            "best fit line:\n",
            "y = [0.003] + [0.988]x\n"
          ],
          "name": "stdout"
        },
        {
          "output_type": "execute_result",
          "data": {
            "text/plain": [
              "[<matplotlib.lines.Line2D at 0x7f9554c28210>]"
            ]
          },
          "metadata": {
            "tags": []
          },
          "execution_count": 32
        },
        {
          "output_type": "display_data",
          "data": {
            "image/png": "[encoded data removed]",
            "text/plain": [
              "<Figure size 432x288 with 1 Axes>"
            ]
          },
          "metadata": {
            "tags": [],
            "needs_background": "light"
          }
        }
      ]
    },
    {
      "cell_type": "code",
      "metadata": {
        "id": "jwXooxwcBj43"
      },
      "source": [
        ""
      ],
      "execution_count": null,
      "outputs": []
    }
  ]
}