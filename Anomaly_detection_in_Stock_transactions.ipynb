{
  "nbformat": 4,
  "nbformat_minor": 0,
  "metadata": {
    "colab": {
      "name": "Anomaly detection in Stock transactions.ipynb",
      "provenance": [],
      "collapsed_sections": []
    },
    "kernelspec": {
      "name": "python3",
      "display_name": "Python 3"
    },
    "language_info": {
      "name": "python"
    }
  },
  "cells": [
    {
      "cell_type": "markdown",
      "metadata": {
        "id": "eULTvMaGWk4-"
      },
      "source": [
        "### This notebook involves the Anomaly detection in Stock transactions."
      ]
    },
    {
      "cell_type": "code",
      "metadata": {
        "id": "W6i6p25i6Aln"
      },
      "source": [
        "import pandas as pd\n",
        "from scipy import stats\n",
        "import numpy as np\n",
        "import matplotlib.pyplot as plt\n",
        "import seaborn as sns\n",
        "\n",
        "from scipy.stats.mstats import mquantiles\n",
        "from scipy import stats\n",
        "\n",
        "import warnings\n",
        "warnings.filterwarnings('ignore')"
      ],
      "execution_count": null,
      "outputs": []
    },
    {
      "cell_type": "markdown",
      "metadata": {
        "id": "H4IXBDtJS8mj"
      },
      "source": [
        "Read the dataset"
      ]
    },
    {
      "cell_type": "code",
      "metadata": {
        "id": "wDlnsN-RSvzv"
      },
      "source": [
        "df = pd.read_csv('CREX.csv')"
      ],
      "execution_count": null,
      "outputs": []
    },
    {
      "cell_type": "code",
      "metadata": {
        "id": "KBiamwJjI2cX"
      },
      "source": [
        "df.index+=1           # To start index from 1 instead of 0"
      ],
      "execution_count": null,
      "outputs": []
    },
    {
      "cell_type": "code",
      "metadata": {
        "colab": {
          "base_uri": "https://localhost:8080/",
          "height": 191
        },
        "id": "2wfUh0IdS16j",
        "outputId": "abac4356-a405-4a96-ca7b-c9db5be6360d"
      },
      "source": [
        "df.head()"
      ],
      "execution_count": null,
      "outputs": [
        {
          "output_type": "execute_result",
          "data": {
            "text/html": [
              "<div>\n",
              "<style scoped>\n",
              "    .dataframe tbody tr th:only-of-type {\n",
              "        vertical-align: middle;\n",
              "    }\n",
              "\n",
              "    .dataframe tbody tr th {\n",
              "        vertical-align: top;\n",
              "    }\n",
              "\n",
              "    .dataframe thead th {\n",
              "        text-align: right;\n",
              "    }\n",
              "</style>\n",
              "<table border=\"1\" class=\"dataframe\">\n",
              "  <thead>\n",
              "    <tr style=\"text-align: right;\">\n",
              "      <th></th>\n",
              "      <th>ticker</th>\n",
              "      <th>date</th>\n",
              "      <th>c_x</th>\n",
              "      <th>change</th>\n",
              "      <th>v</th>\n",
              "      <th>change3</th>\n",
              "      <th>h_y</th>\n",
              "      <th>v_y</th>\n",
              "      <th>oneminvol_y</th>\n",
              "      <th>stddev</th>\n",
              "      <th>count</th>\n",
              "      <th>day_ratio_15</th>\n",
              "      <th>lo_breakout</th>\n",
              "    </tr>\n",
              "  </thead>\n",
              "  <tbody>\n",
              "    <tr>\n",
              "      <th>1</th>\n",
              "      <td>CREX</td>\n",
              "      <td>2018-11-16</td>\n",
              "      <td>3.05</td>\n",
              "      <td>10.752688</td>\n",
              "      <td>71838</td>\n",
              "      <td>0</td>\n",
              "      <td>0</td>\n",
              "      <td>0</td>\n",
              "      <td>0</td>\n",
              "      <td>394.84445</td>\n",
              "      <td>260</td>\n",
              "      <td>1</td>\n",
              "      <td>0</td>\n",
              "    </tr>\n",
              "    <tr>\n",
              "      <th>2</th>\n",
              "      <td>CREX</td>\n",
              "      <td>2018-11-19</td>\n",
              "      <td>2.99</td>\n",
              "      <td>2.622951</td>\n",
              "      <td>45460</td>\n",
              "      <td>0</td>\n",
              "      <td>1</td>\n",
              "      <td>0</td>\n",
              "      <td>1</td>\n",
              "      <td>280.59512</td>\n",
              "      <td>234</td>\n",
              "      <td>3</td>\n",
              "      <td>0</td>\n",
              "    </tr>\n",
              "    <tr>\n",
              "      <th>3</th>\n",
              "      <td>CREX</td>\n",
              "      <td>2018-11-20</td>\n",
              "      <td>3.12</td>\n",
              "      <td>14.715719</td>\n",
              "      <td>112457</td>\n",
              "      <td>0</td>\n",
              "      <td>3</td>\n",
              "      <td>2</td>\n",
              "      <td>3</td>\n",
              "      <td>413.19757</td>\n",
              "      <td>432</td>\n",
              "      <td>7</td>\n",
              "      <td>2</td>\n",
              "    </tr>\n",
              "    <tr>\n",
              "      <th>4</th>\n",
              "      <td>CREX</td>\n",
              "      <td>2018-11-21</td>\n",
              "      <td>3.30</td>\n",
              "      <td>8.012820</td>\n",
              "      <td>9903</td>\n",
              "      <td>0</td>\n",
              "      <td>0</td>\n",
              "      <td>0</td>\n",
              "      <td>0</td>\n",
              "      <td>235.26692</td>\n",
              "      <td>45</td>\n",
              "      <td>7</td>\n",
              "      <td>2</td>\n",
              "    </tr>\n",
              "    <tr>\n",
              "      <th>5</th>\n",
              "      <td>CREX</td>\n",
              "      <td>2018-11-23</td>\n",
              "      <td>3.35</td>\n",
              "      <td>2.727273</td>\n",
              "      <td>843</td>\n",
              "      <td>0</td>\n",
              "      <td>1</td>\n",
              "      <td>0</td>\n",
              "      <td>0</td>\n",
              "      <td>159.88638</td>\n",
              "      <td>11</td>\n",
              "      <td>14</td>\n",
              "      <td>2</td>\n",
              "    </tr>\n",
              "  </tbody>\n",
              "</table>\n",
              "</div>"
            ],
            "text/plain": [
              "  ticker        date   c_x  ...  count  day_ratio_15  lo_breakout\n",
              "1   CREX  2018-11-16  3.05  ...    260             1            0\n",
              "2   CREX  2018-11-19  2.99  ...    234             3            0\n",
              "3   CREX  2018-11-20  3.12  ...    432             7            2\n",
              "4   CREX  2018-11-21  3.30  ...     45             7            2\n",
              "5   CREX  2018-11-23  3.35  ...     11            14            2\n",
              "\n",
              "[5 rows x 13 columns]"
            ]
          },
          "metadata": {
            "tags": []
          },
          "execution_count": 16
        }
      ]
    },
    {
      "cell_type": "code",
      "metadata": {
        "colab": {
          "base_uri": "https://localhost:8080/"
        },
        "id": "z0kVPTk9cWm8",
        "outputId": "a9c2c298-4a6d-407c-e9fe-6fa6c0f023e2"
      },
      "source": [
        "df.shape"
      ],
      "execution_count": null,
      "outputs": [
        {
          "output_type": "execute_result",
          "data": {
            "text/plain": [
              "(518, 13)"
            ]
          },
          "metadata": {
            "tags": []
          },
          "execution_count": 17
        }
      ]
    },
    {
      "cell_type": "code",
      "metadata": {
        "colab": {
          "base_uri": "https://localhost:8080/",
          "height": 162
        },
        "id": "MlydbN7rJxfq",
        "outputId": "911e1da3-e667-47c0-bff6-4c4ae80dcfd3"
      },
      "source": [
        "# Check the rows for which change3 == 1\n",
        "df[df.change3 ==1]"
      ],
      "execution_count": null,
      "outputs": [
        {
          "output_type": "execute_result",
          "data": {
            "text/html": [
              "<div>\n",
              "<style scoped>\n",
              "    .dataframe tbody tr th:only-of-type {\n",
              "        vertical-align: middle;\n",
              "    }\n",
              "\n",
              "    .dataframe tbody tr th {\n",
              "        vertical-align: top;\n",
              "    }\n",
              "\n",
              "    .dataframe thead th {\n",
              "        text-align: right;\n",
              "    }\n",
              "</style>\n",
              "<table border=\"1\" class=\"dataframe\">\n",
              "  <thead>\n",
              "    <tr style=\"text-align: right;\">\n",
              "      <th></th>\n",
              "      <th>ticker</th>\n",
              "      <th>date</th>\n",
              "      <th>c_x</th>\n",
              "      <th>change</th>\n",
              "      <th>v</th>\n",
              "      <th>change3</th>\n",
              "      <th>h_y</th>\n",
              "      <th>v_y</th>\n",
              "      <th>oneminvol_y</th>\n",
              "      <th>stddev</th>\n",
              "      <th>count</th>\n",
              "      <th>day_ratio_15</th>\n",
              "      <th>lo_breakout</th>\n",
              "    </tr>\n",
              "  </thead>\n",
              "  <tbody>\n",
              "    <tr>\n",
              "      <th>344</th>\n",
              "      <td>CREX</td>\n",
              "      <td>2020-04-23</td>\n",
              "      <td>0.84</td>\n",
              "      <td>12.000000</td>\n",
              "      <td>13773</td>\n",
              "      <td>1</td>\n",
              "      <td>6</td>\n",
              "      <td>3</td>\n",
              "      <td>2</td>\n",
              "      <td>848.82904</td>\n",
              "      <td>45</td>\n",
              "      <td>16</td>\n",
              "      <td>37</td>\n",
              "    </tr>\n",
              "    <tr>\n",
              "      <th>345</th>\n",
              "      <td>CREX</td>\n",
              "      <td>2020-04-24</td>\n",
              "      <td>0.82</td>\n",
              "      <td>0.000000</td>\n",
              "      <td>1989</td>\n",
              "      <td>1</td>\n",
              "      <td>0</td>\n",
              "      <td>0</td>\n",
              "      <td>0</td>\n",
              "      <td>246.12035</td>\n",
              "      <td>32</td>\n",
              "      <td>16</td>\n",
              "      <td>27</td>\n",
              "    </tr>\n",
              "    <tr>\n",
              "      <th>346</th>\n",
              "      <td>CREX</td>\n",
              "      <td>2020-04-27</td>\n",
              "      <td>1.00</td>\n",
              "      <td>21.951220</td>\n",
              "      <td>40994</td>\n",
              "      <td>1</td>\n",
              "      <td>11</td>\n",
              "      <td>25</td>\n",
              "      <td>1</td>\n",
              "      <td>216.89069</td>\n",
              "      <td>212</td>\n",
              "      <td>16</td>\n",
              "      <td>4</td>\n",
              "    </tr>\n",
              "    <tr>\n",
              "      <th>355</th>\n",
              "      <td>CREX</td>\n",
              "      <td>2020-05-08</td>\n",
              "      <td>2.78</td>\n",
              "      <td>9.701492</td>\n",
              "      <td>784376</td>\n",
              "      <td>1</td>\n",
              "      <td>3</td>\n",
              "      <td>1</td>\n",
              "      <td>0</td>\n",
              "      <td>874.30273</td>\n",
              "      <td>2099</td>\n",
              "      <td>109</td>\n",
              "      <td>8</td>\n",
              "    </tr>\n",
              "  </tbody>\n",
              "</table>\n",
              "</div>"
            ],
            "text/plain": [
              "    ticker        date   c_x  ...  count  day_ratio_15  lo_breakout\n",
              "344   CREX  2020-04-23  0.84  ...     45            16           37\n",
              "345   CREX  2020-04-24  0.82  ...     32            16           27\n",
              "346   CREX  2020-04-27  1.00  ...    212            16            4\n",
              "355   CREX  2020-05-08  2.78  ...   2099           109            8\n",
              "\n",
              "[4 rows x 13 columns]"
            ]
          },
          "metadata": {
            "tags": []
          },
          "execution_count": 18
        }
      ]
    },
    {
      "cell_type": "code",
      "metadata": {
        "id": "RMfIFr0_S5Ts"
      },
      "source": [
        "# Drop reduntant columns\n",
        "cols = ['ticker', 'date']\n",
        "df_trans = df.drop(cols, axis=1)"
      ],
      "execution_count": null,
      "outputs": []
    },
    {
      "cell_type": "code",
      "metadata": {
        "colab": {
          "base_uri": "https://localhost:8080/"
        },
        "id": "hPfh8ayxbMRI",
        "outputId": "95e580f4-6fc0-4171-888f-44fdd025a484"
      },
      "source": [
        "df_trans.head()"
      ],
      "execution_count": null,
      "outputs": [
        {
          "output_type": "execute_result",
          "data": {
            "text/html": [
              "<div>\n",
              "<style scoped>\n",
              "    .dataframe tbody tr th:only-of-type {\n",
              "        vertical-align: middle;\n",
              "    }\n",
              "\n",
              "    .dataframe tbody tr th {\n",
              "        vertical-align: top;\n",
              "    }\n",
              "\n",
              "    .dataframe thead th {\n",
              "        text-align: right;\n",
              "    }\n",
              "</style>\n",
              "<table border=\"1\" class=\"dataframe\">\n",
              "  <thead>\n",
              "    <tr style=\"text-align: right;\">\n",
              "      <th></th>\n",
              "      <th>c_x</th>\n",
              "      <th>change</th>\n",
              "      <th>v</th>\n",
              "      <th>change3</th>\n",
              "      <th>h_y</th>\n",
              "      <th>v_y</th>\n",
              "      <th>oneminvol_y</th>\n",
              "      <th>stddev</th>\n",
              "      <th>count</th>\n",
              "      <th>day_ratio_15</th>\n",
              "      <th>lo_breakout</th>\n",
              "    </tr>\n",
              "  </thead>\n",
              "  <tbody>\n",
              "    <tr>\n",
              "      <th>1</th>\n",
              "      <td>3.05</td>\n",
              "      <td>10.752688</td>\n",
              "      <td>71838</td>\n",
              "      <td>0</td>\n",
              "      <td>0</td>\n",
              "      <td>0</td>\n",
              "      <td>0</td>\n",
              "      <td>394.84445</td>\n",
              "      <td>260</td>\n",
              "      <td>1</td>\n",
              "      <td>0</td>\n",
              "    </tr>\n",
              "    <tr>\n",
              "      <th>2</th>\n",
              "      <td>2.99</td>\n",
              "      <td>2.622951</td>\n",
              "      <td>45460</td>\n",
              "      <td>0</td>\n",
              "      <td>1</td>\n",
              "      <td>0</td>\n",
              "      <td>1</td>\n",
              "      <td>280.59512</td>\n",
              "      <td>234</td>\n",
              "      <td>3</td>\n",
              "      <td>0</td>\n",
              "    </tr>\n",
              "    <tr>\n",
              "      <th>3</th>\n",
              "      <td>3.12</td>\n",
              "      <td>14.715719</td>\n",
              "      <td>112457</td>\n",
              "      <td>0</td>\n",
              "      <td>3</td>\n",
              "      <td>2</td>\n",
              "      <td>3</td>\n",
              "      <td>413.19757</td>\n",
              "      <td>432</td>\n",
              "      <td>7</td>\n",
              "      <td>2</td>\n",
              "    </tr>\n",
              "    <tr>\n",
              "      <th>4</th>\n",
              "      <td>3.30</td>\n",
              "      <td>8.012820</td>\n",
              "      <td>9903</td>\n",
              "      <td>0</td>\n",
              "      <td>0</td>\n",
              "      <td>0</td>\n",
              "      <td>0</td>\n",
              "      <td>235.26692</td>\n",
              "      <td>45</td>\n",
              "      <td>7</td>\n",
              "      <td>2</td>\n",
              "    </tr>\n",
              "    <tr>\n",
              "      <th>5</th>\n",
              "      <td>3.35</td>\n",
              "      <td>2.727273</td>\n",
              "      <td>843</td>\n",
              "      <td>0</td>\n",
              "      <td>1</td>\n",
              "      <td>0</td>\n",
              "      <td>0</td>\n",
              "      <td>159.88638</td>\n",
              "      <td>11</td>\n",
              "      <td>14</td>\n",
              "      <td>2</td>\n",
              "    </tr>\n",
              "  </tbody>\n",
              "</table>\n",
              "</div>"
            ],
            "text/plain": [
              "    c_x     change       v  ...  count  day_ratio_15  lo_breakout\n",
              "1  3.05  10.752688   71838  ...    260             1            0\n",
              "2  2.99   2.622951   45460  ...    234             3            0\n",
              "3  3.12  14.715719  112457  ...    432             7            2\n",
              "4  3.30   8.012820    9903  ...     45             7            2\n",
              "5  3.35   2.727273     843  ...     11            14            2\n",
              "\n",
              "[5 rows x 11 columns]"
            ]
          },
          "metadata": {
            "tags": []
          },
          "execution_count": 20
        }
      ]
    },
    {
      "cell_type": "code",
      "metadata": {
        "colab": {
          "base_uri": "https://localhost:8080/"
        },
        "id": "KH1D4nOGbOc4",
        "outputId": "f78b9bdf-1cf1-4a17-9616-929d638fdb05"
      },
      "source": [
        "df_trans.shape"
      ],
      "execution_count": null,
      "outputs": [
        {
          "output_type": "execute_result",
          "data": {
            "text/plain": [
              "(518, 11)"
            ]
          },
          "metadata": {
            "tags": []
          },
          "execution_count": 21
        }
      ]
    },
    {
      "cell_type": "markdown",
      "metadata": {
        "id": "jz4u_V8EcfqR"
      },
      "source": [
        "**Data Scaling using MinMax Scaler**"
      ]
    },
    {
      "cell_type": "code",
      "metadata": {
        "id": "Ss1lyMcBcbsa"
      },
      "source": [
        "from sklearn.preprocessing import QuantileTransformer\n",
        "\n",
        "scaler = QuantileTransformer(n_quantiles = df.shape[0], output_distribution = 'uniform')\n",
        " # Fit & transform our data\n",
        "df_scaled = scaler.fit_transform(df_trans.values)"
      ],
      "execution_count": null,
      "outputs": []
    },
    {
      "cell_type": "code",
      "metadata": {
        "colab": {
          "base_uri": "https://localhost:8080/"
        },
        "id": "SEwhKSoHdSGf",
        "outputId": "12ae4b87-65a4-4d15-eaac-f3e9b0d568e1"
      },
      "source": [
        "df_scaled"
      ],
      "execution_count": null,
      "outputs": [
        {
          "output_type": "execute_result",
          "data": {
            "text/plain": [
              "array([[0.94390716, 0.86460348, 0.65377176, ..., 0.6615087 , 0.        ,\n",
              "        0.        ],\n",
              "       [0.93713733, 0.4622824 , 0.62475822, ..., 0.64990329, 0.01837524,\n",
              "        0.        ],\n",
              "       [0.9622824 , 0.91489362, 0.70212766, ..., 0.72727273, 0.13829787,\n",
              "        0.04642166],\n",
              "       ...,\n",
              "       [0.27756286, 0.9729207 , 0.96131528, ..., 0.93810445, 0.29303675,\n",
              "        0.51257253],\n",
              "       [0.21470019, 0.13926499, 0.89361702, ..., 0.84139265, 0.29303675,\n",
              "        0.41972921],\n",
              "       [0.24371373, 0.81141199, 0.83558994, ..., 0.79303675, 0.29303675,\n",
              "        0.41972921]])"
            ]
          },
          "metadata": {
            "tags": []
          },
          "execution_count": 23
        }
      ]
    },
    {
      "cell_type": "markdown",
      "metadata": {
        "id": "aqEKb2badqb5"
      },
      "source": [
        "**Isolation Forest**"
      ]
    },
    {
      "cell_type": "code",
      "metadata": {
        "id": "78adcWFZdbu1"
      },
      "source": [
        "from sklearn.ensemble import IsolationForest"
      ],
      "execution_count": null,
      "outputs": []
    },
    {
      "cell_type": "code",
      "metadata": {
        "colab": {
          "base_uri": "https://localhost:8080/"
        },
        "id": "p9XnIEeLd1LD",
        "outputId": "b5b01fa2-66b6-485a-be77-ce1ce2209513"
      },
      "source": [
        "#Initialize Isolation Forest\n",
        "# contamination is the proportion of anomalies in our dataset. I'm assuming 1% of observations are anomalies\n",
        "clf = IsolationForest(contamination = 0.01, random_state=42)\n",
        "\n",
        "# Fit the data\n",
        "clf.fit(df_scaled)"
      ],
      "execution_count": null,
      "outputs": [
        {
          "output_type": "execute_result",
          "data": {
            "text/plain": [
              "IsolationForest(behaviour='deprecated', bootstrap=False, contamination=0.01,\n",
              "                max_features=1.0, max_samples='auto', n_estimators=100,\n",
              "                n_jobs=None, random_state=42, verbose=0, warm_start=False)"
            ]
          },
          "metadata": {
            "tags": []
          },
          "execution_count": 25
        }
      ]
    },
    {
      "cell_type": "code",
      "metadata": {
        "id": "v_GW0e1peUpJ"
      },
      "source": [
        "# Predict clusters\n",
        "y_pred = clf.predict(df_scaled)"
      ],
      "execution_count": null,
      "outputs": []
    },
    {
      "cell_type": "code",
      "metadata": {
        "colab": {
          "base_uri": "https://localhost:8080/"
        },
        "id": "QvAIa9hhiQe7",
        "outputId": "5fdc7f3c-63d4-4a7a-b14b-e017d7d22aaa"
      },
      "source": [
        "y_pred"
      ],
      "execution_count": null,
      "outputs": [
        {
          "output_type": "execute_result",
          "data": {
            "text/plain": [
              "array([ 1,  1,  1,  1,  1,  1,  1,  1,  1,  1,  1,  1,  1,  1,  1,  1,  1,\n",
              "        1,  1,  1,  1,  1,  1,  1,  1,  1,  1,  1,  1,  1,  1,  1,  1,  1,\n",
              "        1,  1,  1,  1,  1,  1,  1,  1,  1,  1,  1,  1,  1,  1,  1,  1,  1,\n",
              "        1,  1,  1,  1,  1,  1,  1,  1,  1,  1,  1,  1,  1,  1,  1,  1,  1,\n",
              "        1,  1,  1,  1,  1,  1,  1,  1,  1,  1,  1,  1,  1,  1,  1,  1, -1,\n",
              "        1,  1,  1,  1,  1,  1,  1,  1,  1,  1,  1,  1,  1,  1,  1,  1,  1,\n",
              "        1,  1,  1,  1,  1,  1,  1,  1,  1,  1,  1,  1,  1,  1,  1,  1,  1,\n",
              "        1,  1,  1,  1,  1,  1,  1,  1,  1,  1,  1,  1,  1,  1,  1,  1,  1,\n",
              "        1,  1,  1,  1,  1,  1,  1,  1,  1,  1,  1,  1,  1,  1,  1,  1,  1,\n",
              "        1,  1,  1,  1,  1,  1,  1,  1,  1,  1,  1,  1,  1,  1,  1,  1,  1,\n",
              "        1,  1,  1,  1,  1,  1,  1,  1,  1,  1,  1,  1,  1,  1,  1,  1,  1,\n",
              "        1,  1,  1,  1,  1,  1,  1,  1,  1,  1,  1,  1,  1,  1,  1,  1,  1,\n",
              "        1,  1,  1,  1,  1,  1,  1,  1,  1,  1,  1,  1,  1,  1,  1,  1,  1,\n",
              "        1,  1,  1,  1,  1,  1,  1,  1,  1,  1,  1,  1,  1,  1,  1,  1,  1,\n",
              "        1,  1,  1,  1,  1,  1,  1,  1,  1,  1,  1,  1,  1,  1,  1,  1,  1,\n",
              "        1,  1,  1,  1,  1,  1,  1,  1,  1,  1,  1,  1,  1,  1,  1,  1,  1,\n",
              "        1,  1,  1,  1,  1,  1,  1,  1,  1,  1,  1,  1,  1,  1,  1,  1,  1,\n",
              "        1,  1,  1,  1,  1,  1,  1,  1,  1,  1,  1,  1,  1,  1,  1,  1,  1,\n",
              "        1,  1,  1,  1,  1,  1,  1,  1,  1,  1,  1,  1,  1,  1,  1,  1,  1,\n",
              "        1,  1,  1,  1,  1,  1,  1,  1,  1,  1,  1,  1,  1,  1,  1,  1,  1,\n",
              "        1,  1,  1, -1,  1, -1, -1,  1,  1,  1,  1,  1,  1,  1, -1,  1,  1,\n",
              "       -1,  1,  1,  1,  1,  1,  1,  1,  1,  1,  1,  1,  1,  1,  1,  1,  1,\n",
              "        1,  1,  1,  1,  1,  1,  1,  1,  1,  1,  1,  1,  1,  1,  1,  1,  1,\n",
              "        1,  1,  1,  1,  1,  1,  1,  1,  1,  1,  1,  1,  1,  1,  1,  1,  1,\n",
              "        1,  1,  1,  1,  1,  1,  1,  1,  1,  1,  1,  1,  1,  1,  1,  1,  1,\n",
              "        1,  1,  1,  1,  1,  1,  1,  1,  1,  1,  1,  1,  1,  1,  1,  1,  1,\n",
              "        1,  1,  1,  1,  1,  1,  1,  1,  1,  1,  1,  1,  1,  1,  1,  1,  1,\n",
              "        1,  1,  1,  1,  1,  1,  1,  1,  1,  1,  1,  1,  1,  1,  1,  1,  1,\n",
              "        1,  1,  1,  1,  1,  1,  1,  1,  1,  1,  1,  1,  1,  1,  1,  1,  1,\n",
              "        1,  1,  1,  1,  1,  1,  1,  1,  1,  1,  1,  1,  1,  1,  1,  1,  1,\n",
              "        1,  1,  1,  1,  1,  1,  1,  1])"
            ]
          },
          "metadata": {
            "tags": []
          },
          "execution_count": 27
        }
      ]
    },
    {
      "cell_type": "code",
      "metadata": {
        "id": "tnCvNe8zlkql"
      },
      "source": [
        "# Add y_pred to df column\n",
        "df_iso = df.copy()\n",
        "df_iso['clusters_iso'] = y_pred"
      ],
      "execution_count": null,
      "outputs": []
    },
    {
      "cell_type": "code",
      "metadata": {
        "colab": {
          "base_uri": "https://localhost:8080/"
        },
        "id": "0E38qUN7MhDu",
        "outputId": "d308a3f9-cdce-4d8b-d5cc-3816bb9f81b9"
      },
      "source": [
        "# Data point is anomaly if pred == -1\n",
        "outliers = df_iso.loc[df_iso['clusters_iso']==-1]\n",
        "outlier_index_iso=list(outliers.index)\n",
        "# Index of outliers\n",
        "outlier_index_iso"
      ],
      "execution_count": null,
      "outputs": [
        {
          "output_type": "execute_result",
          "data": {
            "text/plain": [
              "[85, 344, 346, 347, 355, 358]"
            ]
          },
          "metadata": {
            "tags": []
          },
          "execution_count": 29
        }
      ]
    },
    {
      "cell_type": "markdown",
      "metadata": {
        "id": "AHSy7NBRPHrT"
      },
      "source": [
        "Now, We will try to visualize the results and check if the clustering makes sense. Normalize and fit the dimensions to a PCA to reduce the number of dimensions and then plot them in 3D highlighting the anomalies."
      ]
    },
    {
      "cell_type": "code",
      "metadata": {
        "id": "qBrsSki5PC46"
      },
      "source": [
        "import matplotlib.pyplot as plt\n",
        "from sklearn.decomposition import PCA\n",
        "from mpl_toolkits.mplot3d import Axes3D\n",
        "\n",
        "# Define a function to plot 3D highlighting the anomalies\n",
        "def Axes3d_plot(df, outlier_index, method):\n",
        "  # Initialize PCA\n",
        "  pca = PCA(n_components=3)  # Reduce to k=3 dimensions\n",
        "  # Fit\n",
        "  df_pca = pca.fit_transform(df)\n",
        "\n",
        "  # Plot PCA components\n",
        "  fig = plt.figure(figsize = (12, 6))\n",
        "  ax = fig.add_subplot(111, projection='3d')\n",
        "  ax.set_title(f'PCA components with normal stars, & anomalies - {method}')\n",
        "  ax.set_xlabel(\"X component\")\n",
        "  ax.set_ylabel(\"Y component\")\n",
        "  ax.set_zlabel(\"Z component\")\n",
        "  # Plot the compressed data points\n",
        "  ax.scatter(df_pca[:, 0], df_pca[:, 1], zs=df_pca[:, 2], s=4, lw=1, label=\"normal\",c=\"green\")\n",
        "  # Plot x's for the ground truth outliers\n",
        "  ax.scatter(df_pca[outlier_index,0],df_pca[outlier_index,1], df_pca[outlier_index,2],\n",
        "           lw=2, s=60, marker=\"x\", c=\"red\", label=\"Anomalies\")\n",
        "  ax.legend()\n",
        "  plt.show()"
      ],
      "execution_count": null,
      "outputs": []
    },
    {
      "cell_type": "code",
      "metadata": {
        "colab": {
          "base_uri": "https://localhost:8080/"
        },
        "id": "8rirnLPTPVSb",
        "outputId": "8ab60652-e0b1-40f9-abb8-986fa51fe8b8"
      },
      "source": [
        "# Plot 3D for Isolation forest\n",
        "Axes3d_plot(df_scaled, outlier_index_iso, 'Isolation Forest')"
      ],
      "execution_count": null,
      "outputs": [
        {
          "output_type": "display_data",
          "data": {
            "image/png": "[encoded data removed]",
            "text/plain": [
              "<Figure size 864x432 with 1 Axes>"
            ]
          },
          "metadata": {
            "tags": [],
            "needs_background": "light"
          }
        }
      ]
    },
    {
      "cell_type": "code",
      "metadata": {
        "colab": {
          "base_uri": "https://localhost:8080/",
          "height": 220
        },
        "id": "_JKGwWSzl_JL",
        "outputId": "5437db3b-cf9c-44d1-937c-2a9f810b1578"
      },
      "source": [
        "# Anomalies\n",
        "df_iso[df_iso['clusters_iso']== -1]"
      ],
      "execution_count": null,
      "outputs": [
        {
          "output_type": "execute_result",
          "data": {
            "text/html": [
              "<div>\n",
              "<style scoped>\n",
              "    .dataframe tbody tr th:only-of-type {\n",
              "        vertical-align: middle;\n",
              "    }\n",
              "\n",
              "    .dataframe tbody tr th {\n",
              "        vertical-align: top;\n",
              "    }\n",
              "\n",
              "    .dataframe thead th {\n",
              "        text-align: right;\n",
              "    }\n",
              "</style>\n",
              "<table border=\"1\" class=\"dataframe\">\n",
              "  <thead>\n",
              "    <tr style=\"text-align: right;\">\n",
              "      <th></th>\n",
              "      <th>ticker</th>\n",
              "      <th>date</th>\n",
              "      <th>c_x</th>\n",
              "      <th>change</th>\n",
              "      <th>v</th>\n",
              "      <th>change3</th>\n",
              "      <th>h_y</th>\n",
              "      <th>v_y</th>\n",
              "      <th>oneminvol_y</th>\n",
              "      <th>stddev</th>\n",
              "      <th>count</th>\n",
              "      <th>day_ratio_15</th>\n",
              "      <th>lo_breakout</th>\n",
              "      <th>clusters_iso</th>\n",
              "    </tr>\n",
              "  </thead>\n",
              "  <tbody>\n",
              "    <tr>\n",
              "      <th>85</th>\n",
              "      <td>CREX</td>\n",
              "      <td>2019-03-27</td>\n",
              "      <td>2.61</td>\n",
              "      <td>56.540085</td>\n",
              "      <td>1024067</td>\n",
              "      <td>0</td>\n",
              "      <td>56</td>\n",
              "      <td>56</td>\n",
              "      <td>56</td>\n",
              "      <td>397.47076</td>\n",
              "      <td>4122</td>\n",
              "      <td>138</td>\n",
              "      <td>52</td>\n",
              "      <td>-1</td>\n",
              "    </tr>\n",
              "    <tr>\n",
              "      <th>344</th>\n",
              "      <td>CREX</td>\n",
              "      <td>2020-04-23</td>\n",
              "      <td>0.84</td>\n",
              "      <td>12.000000</td>\n",
              "      <td>13773</td>\n",
              "      <td>1</td>\n",
              "      <td>6</td>\n",
              "      <td>3</td>\n",
              "      <td>2</td>\n",
              "      <td>848.82904</td>\n",
              "      <td>45</td>\n",
              "      <td>16</td>\n",
              "      <td>37</td>\n",
              "      <td>-1</td>\n",
              "    </tr>\n",
              "    <tr>\n",
              "      <th>346</th>\n",
              "      <td>CREX</td>\n",
              "      <td>2020-04-27</td>\n",
              "      <td>1.00</td>\n",
              "      <td>21.951220</td>\n",
              "      <td>40994</td>\n",
              "      <td>1</td>\n",
              "      <td>11</td>\n",
              "      <td>25</td>\n",
              "      <td>1</td>\n",
              "      <td>216.89069</td>\n",
              "      <td>212</td>\n",
              "      <td>16</td>\n",
              "      <td>4</td>\n",
              "      <td>-1</td>\n",
              "    </tr>\n",
              "    <tr>\n",
              "      <th>347</th>\n",
              "      <td>CREX</td>\n",
              "      <td>2020-04-28</td>\n",
              "      <td>4.08</td>\n",
              "      <td>336.000000</td>\n",
              "      <td>66256416</td>\n",
              "      <td>0</td>\n",
              "      <td>247</td>\n",
              "      <td>247</td>\n",
              "      <td>247</td>\n",
              "      <td>521.17970</td>\n",
              "      <td>270825</td>\n",
              "      <td>12</td>\n",
              "      <td>256</td>\n",
              "      <td>-1</td>\n",
              "    </tr>\n",
              "    <tr>\n",
              "      <th>355</th>\n",
              "      <td>CREX</td>\n",
              "      <td>2020-05-08</td>\n",
              "      <td>2.78</td>\n",
              "      <td>9.701492</td>\n",
              "      <td>784376</td>\n",
              "      <td>1</td>\n",
              "      <td>3</td>\n",
              "      <td>1</td>\n",
              "      <td>0</td>\n",
              "      <td>874.30273</td>\n",
              "      <td>2099</td>\n",
              "      <td>109</td>\n",
              "      <td>8</td>\n",
              "      <td>-1</td>\n",
              "    </tr>\n",
              "    <tr>\n",
              "      <th>358</th>\n",
              "      <td>CREX</td>\n",
              "      <td>2020-05-13</td>\n",
              "      <td>4.58</td>\n",
              "      <td>85.139320</td>\n",
              "      <td>29439440</td>\n",
              "      <td>0</td>\n",
              "      <td>248</td>\n",
              "      <td>10</td>\n",
              "      <td>0</td>\n",
              "      <td>640.97565</td>\n",
              "      <td>116365</td>\n",
              "      <td>109</td>\n",
              "      <td>27</td>\n",
              "      <td>-1</td>\n",
              "    </tr>\n",
              "  </tbody>\n",
              "</table>\n",
              "</div>"
            ],
            "text/plain": [
              "    ticker        date   c_x  ...  day_ratio_15  lo_breakout  clusters_iso\n",
              "85    CREX  2019-03-27  2.61  ...           138           52            -1\n",
              "344   CREX  2020-04-23  0.84  ...            16           37            -1\n",
              "346   CREX  2020-04-27  1.00  ...            16            4            -1\n",
              "347   CREX  2020-04-28  4.08  ...            12          256            -1\n",
              "355   CREX  2020-05-08  2.78  ...           109            8            -1\n",
              "358   CREX  2020-05-13  4.58  ...           109           27            -1\n",
              "\n",
              "[6 rows x 14 columns]"
            ]
          },
          "metadata": {
            "tags": []
          },
          "execution_count": 32
        }
      ]
    },
    {
      "cell_type": "code",
      "metadata": {
        "id": "xoY00TD2mNZu"
      },
      "source": [
        "# Get the anomalies\n",
        "y_scores = clf.score_samples(df_scaled)"
      ],
      "execution_count": null,
      "outputs": []
    },
    {
      "cell_type": "code",
      "metadata": {
        "colab": {
          "base_uri": "https://localhost:8080/"
        },
        "id": "jvvPHNWzI9-2",
        "outputId": "f282f337-40b1-486d-b2a7-b30d45f4e408"
      },
      "source": [
        "y_scores"
      ],
      "execution_count": null,
      "outputs": [
        {
          "output_type": "execute_result",
          "data": {
            "text/plain": [
              "array([-0.52519976, -0.56945679, -0.54029439, -0.50810361, -0.54801165,\n",
              "       -0.50130158, -0.50962183, -0.51347166, -0.50944697, -0.51209942,\n",
              "       -0.54442573, -0.51775332, -0.50730817, -0.50723581, -0.5265675 ,\n",
              "       -0.48748827, -0.48928056, -0.49029887, -0.52163105, -0.48891872,\n",
              "       -0.51523557, -0.50575089, -0.48984347, -0.49434064, -0.5048981 ,\n",
              "       -0.44382971, -0.49098247, -0.46811935, -0.50957309, -0.55216584,\n",
              "       -0.5514316 , -0.54090107, -0.49976917, -0.49439991, -0.51869179,\n",
              "       -0.47418925, -0.51561821, -0.51798289, -0.49335984, -0.54307882,\n",
              "       -0.46739666, -0.49620081, -0.51647814, -0.51944786, -0.50440814,\n",
              "       -0.52845724, -0.54971057, -0.51104255, -0.45079946, -0.48895181,\n",
              "       -0.50734859, -0.51139771, -0.53073171, -0.49703515, -0.52513059,\n",
              "       -0.53733293, -0.54977546, -0.49167766, -0.46728162, -0.49730888,\n",
              "       -0.50029226, -0.49114741, -0.54219257, -0.52624949, -0.50235008,\n",
              "       -0.50329858, -0.45968727, -0.50141396, -0.50162596, -0.49415099,\n",
              "       -0.48145645, -0.49261259, -0.47881233, -0.51818796, -0.50054685,\n",
              "       -0.4900537 , -0.44742799, -0.47417541, -0.4748808 , -0.47954409,\n",
              "       -0.48687155, -0.51737321, -0.45231722, -0.50242911, -0.59437248,\n",
              "       -0.53756586, -0.53069745, -0.52124612, -0.50177319, -0.53044623,\n",
              "       -0.52080084, -0.47423802, -0.52177623, -0.48849331, -0.48472792,\n",
              "       -0.51717526, -0.54187529, -0.46836819, -0.45305007, -0.45640222,\n",
              "       -0.43720854, -0.49912104, -0.44110545, -0.48867432, -0.47530186,\n",
              "       -0.51034379, -0.50173465, -0.46780854, -0.46545195, -0.49100381,\n",
              "       -0.50279921, -0.44773852, -0.47861388, -0.48906775, -0.49267159,\n",
              "       -0.55842462, -0.49336839, -0.52874444, -0.47253935, -0.51714561,\n",
              "       -0.46824646, -0.45884984, -0.50361892, -0.47788122, -0.46465222,\n",
              "       -0.45745461, -0.53909505, -0.46018529, -0.47617147, -0.47961805,\n",
              "       -0.50250289, -0.49532659, -0.48600083, -0.45882657, -0.44650678,\n",
              "       -0.46417395, -0.47207881, -0.49471065, -0.43584651, -0.46550546,\n",
              "       -0.49739935, -0.48637598, -0.52018835, -0.52014623, -0.55934882,\n",
              "       -0.49607028, -0.50145461, -0.50124845, -0.46162324, -0.51066546,\n",
              "       -0.45196517, -0.4746954 , -0.48171283, -0.47460143, -0.46420347,\n",
              "       -0.51596008, -0.4862726 , -0.50338913, -0.48510113, -0.50740274,\n",
              "       -0.51696693, -0.52435756, -0.45299644, -0.4877129 , -0.48057405,\n",
              "       -0.55038614, -0.50655822, -0.51352896, -0.52413301, -0.48324483,\n",
              "       -0.49696605, -0.4829601 , -0.47697796, -0.43954091, -0.44795717,\n",
              "       -0.45389191, -0.4879676 , -0.49148725, -0.50526059, -0.45131121,\n",
              "       -0.45419797, -0.48739191, -0.49507702, -0.49706436, -0.53165886,\n",
              "       -0.48426698, -0.47932938, -0.51354024, -0.52298906, -0.49379738,\n",
              "       -0.50538721, -0.45378441, -0.51478555, -0.44285094, -0.48650839,\n",
              "       -0.48870027, -0.49289979, -0.51571637, -0.48726708, -0.44607297,\n",
              "       -0.49858056, -0.51902007, -0.49263992, -0.46077473, -0.4822003 ,\n",
              "       -0.47454868, -0.4697949 , -0.47852757, -0.48700004, -0.46627914,\n",
              "       -0.45686817, -0.46058348, -0.46350855, -0.44512193, -0.46027317,\n",
              "       -0.49773924, -0.49737565, -0.51345702, -0.47946134, -0.47678188,\n",
              "       -0.4903718 , -0.46938475, -0.49554953, -0.47873981, -0.55427236,\n",
              "       -0.5128836 , -0.51659213, -0.48336084, -0.50564196, -0.51481978,\n",
              "       -0.49669018, -0.49969727, -0.46837446, -0.5018704 , -0.50472832,\n",
              "       -0.52844889, -0.44866313, -0.47514026, -0.45790947, -0.46919539,\n",
              "       -0.44162894, -0.48474836, -0.46453604, -0.48137466, -0.4508437 ,\n",
              "       -0.51904053, -0.47075967, -0.49379617, -0.47032971, -0.51702823,\n",
              "       -0.51143768, -0.49470227, -0.5391662 , -0.53371815, -0.53013114,\n",
              "       -0.52246461, -0.52807745, -0.52869216, -0.55846457, -0.57560518,\n",
              "       -0.53388881, -0.49787402, -0.50141389, -0.5484886 , -0.53478115,\n",
              "       -0.52266038, -0.48976649, -0.47252296, -0.50547546, -0.46779236,\n",
              "       -0.51864792, -0.47738308, -0.47418826, -0.52597781, -0.49403053,\n",
              "       -0.48207515, -0.49982488, -0.45641349, -0.50228013, -0.48776896,\n",
              "       -0.4687663 , -0.46649282, -0.48735717, -0.46713563, -0.46371476,\n",
              "       -0.51553235, -0.46637526, -0.51905631, -0.51635393, -0.51947077,\n",
              "       -0.50689599, -0.49583312, -0.47481317, -0.48878288, -0.47530783,\n",
              "       -0.53408801, -0.52243273, -0.53219036, -0.51479446, -0.51234071,\n",
              "       -0.512572  , -0.53619988, -0.47542021, -0.50278532, -0.49020708,\n",
              "       -0.47114263, -0.50359184, -0.48406474, -0.53056473, -0.47052477,\n",
              "       -0.57368661, -0.48114678, -0.47758397, -0.50519654, -0.53365307,\n",
              "       -0.4988411 , -0.51880746, -0.55430633, -0.48426893, -0.48748903,\n",
              "       -0.51009212, -0.51882069, -0.4644219 , -0.52176191, -0.52997512,\n",
              "       -0.53306012, -0.4974836 , -0.52539815, -0.49869072, -0.55111486,\n",
              "       -0.53969982, -0.52207981, -0.56001871, -0.51308548, -0.51278673,\n",
              "       -0.47403772, -0.47492196, -0.46430579, -0.50432069, -0.50845307,\n",
              "       -0.50019767, -0.52372222, -0.49980324, -0.61424841, -0.58425924,\n",
              "       -0.62997594, -0.60438642, -0.56646666, -0.55820062, -0.58326239,\n",
              "       -0.52304677, -0.51049413, -0.56245672, -0.53010577, -0.62484697,\n",
              "       -0.55080217, -0.58618715, -0.60655224, -0.5308333 , -0.55079566,\n",
              "       -0.50776384, -0.47149653, -0.51928065, -0.48164458, -0.52923858,\n",
              "       -0.47452389, -0.52338382, -0.52363404, -0.47689845, -0.46036827,\n",
              "       -0.51581133, -0.52261043, -0.54651592, -0.48976568, -0.54184617,\n",
              "       -0.5083579 , -0.52159398, -0.5347549 , -0.46757725, -0.4969187 ,\n",
              "       -0.54849506, -0.48556415, -0.47415982, -0.45850542, -0.5034604 ,\n",
              "       -0.52325255, -0.48389675, -0.51331459, -0.50849113, -0.50250655,\n",
              "       -0.50726571, -0.51055782, -0.49100455, -0.44364861, -0.44560915,\n",
              "       -0.48906923, -0.43881803, -0.52827877, -0.52957665, -0.5133611 ,\n",
              "       -0.52860026, -0.47044541, -0.46719674, -0.49448774, -0.46289186,\n",
              "       -0.51722219, -0.45606787, -0.47649946, -0.44551134, -0.4937777 ,\n",
              "       -0.49232176, -0.51150755, -0.5367586 , -0.46562476, -0.51204144,\n",
              "       -0.51102274, -0.52047609, -0.47161457, -0.52629915, -0.45452345,\n",
              "       -0.50165062, -0.52617894, -0.5399543 , -0.46351546, -0.4728989 ,\n",
              "       -0.48090118, -0.49523408, -0.49400987, -0.50332484, -0.45407541,\n",
              "       -0.48902648, -0.52302399, -0.48146579, -0.47067374, -0.47345041,\n",
              "       -0.51413122, -0.46991035, -0.4949807 , -0.46733713, -0.50559077,\n",
              "       -0.51215148, -0.4661931 , -0.50767774, -0.49631145, -0.48976888,\n",
              "       -0.50234971, -0.44697997, -0.49410312, -0.44592656, -0.49336297,\n",
              "       -0.50916579, -0.46739478, -0.49586994, -0.55950009, -0.4815963 ,\n",
              "       -0.54918701, -0.48823413, -0.50638875, -0.51158754, -0.48267225,\n",
              "       -0.50892632, -0.45365048, -0.56182819, -0.49187781, -0.47466806,\n",
              "       -0.46267414, -0.47176366, -0.50307091, -0.46924987, -0.49967864,\n",
              "       -0.46068823, -0.51245651, -0.48747391, -0.46995002, -0.49498603,\n",
              "       -0.44684451, -0.52527705, -0.47197038, -0.53098658, -0.48779489,\n",
              "       -0.50493976, -0.46740776, -0.4821661 , -0.48335372, -0.52873191,\n",
              "       -0.52813442, -0.52501318, -0.47987042, -0.47050482, -0.51509355,\n",
              "       -0.47581577, -0.50206789, -0.52532443, -0.52030688, -0.45904237,\n",
              "       -0.50904823, -0.5576789 , -0.49917671, -0.509407  , -0.48397548,\n",
              "       -0.52567129, -0.5451435 , -0.45770941, -0.46398558, -0.48991659,\n",
              "       -0.52569945, -0.57063811, -0.50234205, -0.45975816, -0.4893283 ,\n",
              "       -0.46436606, -0.49972028, -0.49705718, -0.50719819, -0.50967366,\n",
              "       -0.53301718, -0.47746069, -0.46649168])"
            ]
          },
          "metadata": {
            "tags": []
          },
          "execution_count": 34
        }
      ]
    },
    {
      "cell_type": "code",
      "metadata": {
        "id": "wIw9DlONmiS8"
      },
      "source": [
        "# Add y_scores to df_iso\n",
        "df_iso['Anomaly Score'] = y_scores"
      ],
      "execution_count": null,
      "outputs": []
    },
    {
      "cell_type": "code",
      "metadata": {
        "colab": {
          "base_uri": "https://localhost:8080/",
          "height": 220
        },
        "id": "TXGf4VLKmob8",
        "outputId": "8066d492-fccd-4dcf-ce72-ffc265ad3d04"
      },
      "source": [
        "# Check anomalies\n",
        "df_iso[df_iso['clusters_iso']== -1]"
      ],
      "execution_count": null,
      "outputs": [
        {
          "output_type": "execute_result",
          "data": {
            "text/html": [
              "<div>\n",
              "<style scoped>\n",
              "    .dataframe tbody tr th:only-of-type {\n",
              "        vertical-align: middle;\n",
              "    }\n",
              "\n",
              "    .dataframe tbody tr th {\n",
              "        vertical-align: top;\n",
              "    }\n",
              "\n",
              "    .dataframe thead th {\n",
              "        text-align: right;\n",
              "    }\n",
              "</style>\n",
              "<table border=\"1\" class=\"dataframe\">\n",
              "  <thead>\n",
              "    <tr style=\"text-align: right;\">\n",
              "      <th></th>\n",
              "      <th>ticker</th>\n",
              "      <th>date</th>\n",
              "      <th>c_x</th>\n",
              "      <th>change</th>\n",
              "      <th>v</th>\n",
              "      <th>change3</th>\n",
              "      <th>h_y</th>\n",
              "      <th>v_y</th>\n",
              "      <th>oneminvol_y</th>\n",
              "      <th>stddev</th>\n",
              "      <th>count</th>\n",
              "      <th>day_ratio_15</th>\n",
              "      <th>lo_breakout</th>\n",
              "      <th>clusters_iso</th>\n",
              "      <th>Anomaly Score</th>\n",
              "    </tr>\n",
              "  </thead>\n",
              "  <tbody>\n",
              "    <tr>\n",
              "      <th>85</th>\n",
              "      <td>CREX</td>\n",
              "      <td>2019-03-27</td>\n",
              "      <td>2.61</td>\n",
              "      <td>56.540085</td>\n",
              "      <td>1024067</td>\n",
              "      <td>0</td>\n",
              "      <td>56</td>\n",
              "      <td>56</td>\n",
              "      <td>56</td>\n",
              "      <td>397.47076</td>\n",
              "      <td>4122</td>\n",
              "      <td>138</td>\n",
              "      <td>52</td>\n",
              "      <td>-1</td>\n",
              "      <td>-0.594372</td>\n",
              "    </tr>\n",
              "    <tr>\n",
              "      <th>344</th>\n",
              "      <td>CREX</td>\n",
              "      <td>2020-04-23</td>\n",
              "      <td>0.84</td>\n",
              "      <td>12.000000</td>\n",
              "      <td>13773</td>\n",
              "      <td>1</td>\n",
              "      <td>6</td>\n",
              "      <td>3</td>\n",
              "      <td>2</td>\n",
              "      <td>848.82904</td>\n",
              "      <td>45</td>\n",
              "      <td>16</td>\n",
              "      <td>37</td>\n",
              "      <td>-1</td>\n",
              "      <td>-0.614248</td>\n",
              "    </tr>\n",
              "    <tr>\n",
              "      <th>346</th>\n",
              "      <td>CREX</td>\n",
              "      <td>2020-04-27</td>\n",
              "      <td>1.00</td>\n",
              "      <td>21.951220</td>\n",
              "      <td>40994</td>\n",
              "      <td>1</td>\n",
              "      <td>11</td>\n",
              "      <td>25</td>\n",
              "      <td>1</td>\n",
              "      <td>216.89069</td>\n",
              "      <td>212</td>\n",
              "      <td>16</td>\n",
              "      <td>4</td>\n",
              "      <td>-1</td>\n",
              "      <td>-0.629976</td>\n",
              "    </tr>\n",
              "    <tr>\n",
              "      <th>347</th>\n",
              "      <td>CREX</td>\n",
              "      <td>2020-04-28</td>\n",
              "      <td>4.08</td>\n",
              "      <td>336.000000</td>\n",
              "      <td>66256416</td>\n",
              "      <td>0</td>\n",
              "      <td>247</td>\n",
              "      <td>247</td>\n",
              "      <td>247</td>\n",
              "      <td>521.17970</td>\n",
              "      <td>270825</td>\n",
              "      <td>12</td>\n",
              "      <td>256</td>\n",
              "      <td>-1</td>\n",
              "      <td>-0.604386</td>\n",
              "    </tr>\n",
              "    <tr>\n",
              "      <th>355</th>\n",
              "      <td>CREX</td>\n",
              "      <td>2020-05-08</td>\n",
              "      <td>2.78</td>\n",
              "      <td>9.701492</td>\n",
              "      <td>784376</td>\n",
              "      <td>1</td>\n",
              "      <td>3</td>\n",
              "      <td>1</td>\n",
              "      <td>0</td>\n",
              "      <td>874.30273</td>\n",
              "      <td>2099</td>\n",
              "      <td>109</td>\n",
              "      <td>8</td>\n",
              "      <td>-1</td>\n",
              "      <td>-0.624847</td>\n",
              "    </tr>\n",
              "    <tr>\n",
              "      <th>358</th>\n",
              "      <td>CREX</td>\n",
              "      <td>2020-05-13</td>\n",
              "      <td>4.58</td>\n",
              "      <td>85.139320</td>\n",
              "      <td>29439440</td>\n",
              "      <td>0</td>\n",
              "      <td>248</td>\n",
              "      <td>10</td>\n",
              "      <td>0</td>\n",
              "      <td>640.97565</td>\n",
              "      <td>116365</td>\n",
              "      <td>109</td>\n",
              "      <td>27</td>\n",
              "      <td>-1</td>\n",
              "      <td>-0.606552</td>\n",
              "    </tr>\n",
              "  </tbody>\n",
              "</table>\n",
              "</div>"
            ],
            "text/plain": [
              "    ticker        date   c_x  ...  lo_breakout  clusters_iso  Anomaly Score\n",
              "85    CREX  2019-03-27  2.61  ...           52            -1      -0.594372\n",
              "344   CREX  2020-04-23  0.84  ...           37            -1      -0.614248\n",
              "346   CREX  2020-04-27  1.00  ...            4            -1      -0.629976\n",
              "347   CREX  2020-04-28  4.08  ...          256            -1      -0.604386\n",
              "355   CREX  2020-05-08  2.78  ...            8            -1      -0.624847\n",
              "358   CREX  2020-05-13  4.58  ...           27            -1      -0.606552\n",
              "\n",
              "[6 rows x 15 columns]"
            ]
          },
          "metadata": {
            "tags": []
          },
          "execution_count": 36
        }
      ]
    },
    {
      "cell_type": "code",
      "metadata": {
        "colab": {
          "base_uri": "https://localhost:8080/"
        },
        "id": "MrD2r_ngmsjh",
        "outputId": "d0410ca3-ad61-4c5b-a914-df066f3cb48b"
      },
      "source": [
        "print('Number of outliers:', len(df_iso[df_iso['clusters_iso']== -1]))"
      ],
      "execution_count": null,
      "outputs": [
        {
          "output_type": "stream",
          "text": [
            "Number of outliers: 6\n"
          ],
          "name": "stdout"
        }
      ]
    },
    {
      "cell_type": "code",
      "metadata": {
        "colab": {
          "base_uri": "https://localhost:8080/"
        },
        "id": "eNixI3y2KDYQ",
        "outputId": "85d640fb-0563-4277-8bcf-e4f57f105400"
      },
      "source": [
        "# Threshold value\n",
        "# If threshold value < Anamoly score ---> an Anamoly if not a normal transaction\n",
        "iso_score = df_iso['Anomaly Score'].values\n",
        "tau_iso = stats.scoreatpercentile(iso_score, 100*0.01)\n",
        "print(f'Threshold value : {tau_iso}')"
      ],
      "execution_count": null,
      "outputs": [
        {
          "output_type": "stream",
          "text": [
            "Threshold value : -0.592980975191986\n"
          ],
          "name": "stdout"
        }
      ]
    },
    {
      "cell_type": "markdown",
      "metadata": {
        "id": "VmCqLul7L9mP"
      },
      "source": [
        "**Kernel Density estimator (KDE)**"
      ]
    },
    {
      "cell_type": "markdown",
      "metadata": {
        "id": "AxEKTc_JQnvO"
      },
      "source": [
        "It helps us measure kernel density of samples which can be then used to take out outliers. It uses KDTree or BallTree algorithm for kernel density estimation. We are using 'gaussian' kernel for this estimation."
      ]
    },
    {
      "cell_type": "code",
      "metadata": {
        "id": "zjMjhCtvK45_",
        "colab": {
          "base_uri": "https://localhost:8080/"
        },
        "outputId": "4f51da23-dc6b-479c-c2b1-375a10f18828"
      },
      "source": [
        "from sklearn.neighbors.kde import KernelDensity\n",
        "\n",
        "# Estimate density with a Gaussian kernel density estimator\n",
        "kde = KernelDensity(kernel='gaussian')\n",
        "kde.fit(df_scaled)"
      ],
      "execution_count": null,
      "outputs": [
        {
          "output_type": "execute_result",
          "data": {
            "text/plain": [
              "KernelDensity(algorithm='auto', atol=0, bandwidth=1.0, breadth_first=True,\n",
              "              kernel='gaussian', leaf_size=40, metric='euclidean',\n",
              "              metric_params=None, rtol=0)"
            ]
          },
          "metadata": {
            "tags": []
          },
          "execution_count": 39
        }
      ]
    },
    {
      "cell_type": "markdown",
      "metadata": {
        "id": "zpuFD6QBRYCu"
      },
      "source": [
        "Calculate Log Density Evaluations for Each Sample using score_samples() function."
      ]
    },
    {
      "cell_type": "code",
      "metadata": {
        "id": "paTrWfNJQtlZ"
      },
      "source": [
        "# Get the Anamoly score for KDE\n",
        "kde_score = kde.score_samples(df_scaled)"
      ],
      "execution_count": null,
      "outputs": []
    },
    {
      "cell_type": "markdown",
      "metadata": {
        "id": "vCyUjeszR2XF"
      },
      "source": [
        "Dividing Dataset into Valid Samples and Outliers"
      ]
    },
    {
      "cell_type": "markdown",
      "metadata": {
        "id": "RrBO8GQjR7wl"
      },
      "source": [
        "We'll divide these values into 99% as valid data and 1% as outliers based on the output of score_samples() function."
      ]
    },
    {
      "cell_type": "code",
      "metadata": {
        "id": "76HkY-5IRlDm",
        "colab": {
          "base_uri": "https://localhost:8080/"
        },
        "outputId": "052d0f14-aa22-459f-cdca-6fa331bb9ec8"
      },
      "source": [
        "from scipy.stats.mstats import mquantiles\n",
        "\n",
        "alpha_set = 0.99   # Data excluding outlier, I'm assuming 1% of observations are anomalies\n",
        "tau_kde = mquantiles(kde_score, 1. - alpha_set)       # Threshold value\n",
        "print(f'Threshold value : {tau_kde}')"
      ],
      "execution_count": null,
      "outputs": [
        {
          "output_type": "stream",
          "text": [
            "Threshold value : [-11.56703728]\n"
          ],
          "name": "stdout"
        }
      ]
    },
    {
      "cell_type": "markdown",
      "metadata": {
        "id": "9rMGkwT2SYWJ"
      },
      "source": [
        "All the values in df_kde array which are less than tau_kde will be outliers and values greater than it will be qualified as normal samples. We'll try to find out indexes of samples that are outliers and normal. We'll then use these indexes to filter data to divide it into outliers and normal samples."
      ]
    },
    {
      "cell_type": "code",
      "metadata": {
        "colab": {
          "base_uri": "https://localhost:8080/"
        },
        "id": "GQJr_8CTRmhh",
        "outputId": "a1667661-c286-4246-b802-137830e5207a"
      },
      "source": [
        "# Anamolies\n",
        "outliers = np.argwhere(kde_score < tau_kde)\n",
        "outliers_index_kde = outliers.flatten()\n",
        "kde_outliers = df.values[outliers_index_kde]\n",
        "kde_outliers = pd.DataFrame(kde_outliers, columns = df.columns)\n",
        "\n",
        "# Normal transactions\n",
        "normal_samples = np.argwhere(kde_score >= tau_kde)\n",
        "normal_samples = normal_samples.flatten()\n",
        "kde_valid = df.values[normal_samples]\n",
        "\n",
        "print(\"Original Samples : \",df_iso.shape[0])\n",
        "print(\"Number of Anomalies : \", len(outliers))\n",
        "print(\"Number of Normal Samples : \", len(normal_samples))"
      ],
      "execution_count": null,
      "outputs": [
        {
          "output_type": "stream",
          "text": [
            "Original Samples :  518\n",
            "Number of Anomalies :  5\n",
            "Number of Normal Samples :  513\n"
          ],
          "name": "stdout"
        }
      ]
    },
    {
      "cell_type": "code",
      "metadata": {
        "colab": {
          "base_uri": "https://localhost:8080/"
        },
        "id": "6ZstFl1vSkW3",
        "outputId": "35943168-3390-4479-e3ea-4fea68c0fb30"
      },
      "source": [
        "# Outliers\n",
        "kde_outliers['Index'] = outliers_index_kde\n",
        "kde_outliers = kde_outliers.set_index('Index')\n",
        "kde_outliers.index+=1\n",
        "kde_outliers"
      ],
      "execution_count": null,
      "outputs": [
        {
          "output_type": "execute_result",
          "data": {
            "text/html": [
              "<div>\n",
              "<style scoped>\n",
              "    .dataframe tbody tr th:only-of-type {\n",
              "        vertical-align: middle;\n",
              "    }\n",
              "\n",
              "    .dataframe tbody tr th {\n",
              "        vertical-align: top;\n",
              "    }\n",
              "\n",
              "    .dataframe thead th {\n",
              "        text-align: right;\n",
              "    }\n",
              "</style>\n",
              "<table border=\"1\" class=\"dataframe\">\n",
              "  <thead>\n",
              "    <tr style=\"text-align: right;\">\n",
              "      <th></th>\n",
              "      <th>ticker</th>\n",
              "      <th>date</th>\n",
              "      <th>c_x</th>\n",
              "      <th>change</th>\n",
              "      <th>v</th>\n",
              "      <th>change3</th>\n",
              "      <th>h_y</th>\n",
              "      <th>v_y</th>\n",
              "      <th>oneminvol_y</th>\n",
              "      <th>stddev</th>\n",
              "      <th>count</th>\n",
              "      <th>day_ratio_15</th>\n",
              "      <th>lo_breakout</th>\n",
              "    </tr>\n",
              "    <tr>\n",
              "      <th>Index</th>\n",
              "      <th></th>\n",
              "      <th></th>\n",
              "      <th></th>\n",
              "      <th></th>\n",
              "      <th></th>\n",
              "      <th></th>\n",
              "      <th></th>\n",
              "      <th></th>\n",
              "      <th></th>\n",
              "      <th></th>\n",
              "      <th></th>\n",
              "      <th></th>\n",
              "      <th></th>\n",
              "    </tr>\n",
              "  </thead>\n",
              "  <tbody>\n",
              "    <tr>\n",
              "      <th>344</th>\n",
              "      <td>CREX</td>\n",
              "      <td>2020-04-23</td>\n",
              "      <td>0.84</td>\n",
              "      <td>12</td>\n",
              "      <td>13773</td>\n",
              "      <td>1</td>\n",
              "      <td>6</td>\n",
              "      <td>3</td>\n",
              "      <td>2</td>\n",
              "      <td>848.829</td>\n",
              "      <td>45</td>\n",
              "      <td>16</td>\n",
              "      <td>37</td>\n",
              "    </tr>\n",
              "    <tr>\n",
              "      <th>346</th>\n",
              "      <td>CREX</td>\n",
              "      <td>2020-04-27</td>\n",
              "      <td>1</td>\n",
              "      <td>21.9512</td>\n",
              "      <td>40994</td>\n",
              "      <td>1</td>\n",
              "      <td>11</td>\n",
              "      <td>25</td>\n",
              "      <td>1</td>\n",
              "      <td>216.891</td>\n",
              "      <td>212</td>\n",
              "      <td>16</td>\n",
              "      <td>4</td>\n",
              "    </tr>\n",
              "    <tr>\n",
              "      <th>347</th>\n",
              "      <td>CREX</td>\n",
              "      <td>2020-04-28</td>\n",
              "      <td>4.08</td>\n",
              "      <td>336</td>\n",
              "      <td>66256416</td>\n",
              "      <td>0</td>\n",
              "      <td>247</td>\n",
              "      <td>247</td>\n",
              "      <td>247</td>\n",
              "      <td>521.18</td>\n",
              "      <td>270825</td>\n",
              "      <td>12</td>\n",
              "      <td>256</td>\n",
              "    </tr>\n",
              "    <tr>\n",
              "      <th>355</th>\n",
              "      <td>CREX</td>\n",
              "      <td>2020-05-08</td>\n",
              "      <td>2.78</td>\n",
              "      <td>9.70149</td>\n",
              "      <td>784376</td>\n",
              "      <td>1</td>\n",
              "      <td>3</td>\n",
              "      <td>1</td>\n",
              "      <td>0</td>\n",
              "      <td>874.303</td>\n",
              "      <td>2099</td>\n",
              "      <td>109</td>\n",
              "      <td>8</td>\n",
              "    </tr>\n",
              "    <tr>\n",
              "      <th>358</th>\n",
              "      <td>CREX</td>\n",
              "      <td>2020-05-13</td>\n",
              "      <td>4.58</td>\n",
              "      <td>85.1393</td>\n",
              "      <td>29439440</td>\n",
              "      <td>0</td>\n",
              "      <td>248</td>\n",
              "      <td>10</td>\n",
              "      <td>0</td>\n",
              "      <td>640.976</td>\n",
              "      <td>116365</td>\n",
              "      <td>109</td>\n",
              "      <td>27</td>\n",
              "    </tr>\n",
              "  </tbody>\n",
              "</table>\n",
              "</div>"
            ],
            "text/plain": [
              "      ticker        date   c_x  ...   count day_ratio_15 lo_breakout\n",
              "Index                           ...                                 \n",
              "344     CREX  2020-04-23  0.84  ...      45           16          37\n",
              "346     CREX  2020-04-27     1  ...     212           16           4\n",
              "347     CREX  2020-04-28  4.08  ...  270825           12         256\n",
              "355     CREX  2020-05-08  2.78  ...    2099          109           8\n",
              "358     CREX  2020-05-13  4.58  ...  116365          109          27\n",
              "\n",
              "[5 rows x 13 columns]"
            ]
          },
          "metadata": {
            "tags": []
          },
          "execution_count": 43
        }
      ]
    },
    {
      "cell_type": "code",
      "metadata": {
        "colab": {
          "base_uri": "https://localhost:8080/"
        },
        "id": "Wm5zwLr7YiaA",
        "outputId": "127bb88e-5e23-481a-b83a-1d385d2b07a1"
      },
      "source": [
        "# Plot 3D for Isolation forest\n",
        "Axes3d_plot(df_scaled, outliers_index_kde, 'KDE')"
      ],
      "execution_count": null,
      "outputs": [
        {
          "output_type": "display_data",
          "data": {
            "image/png": "[encoded data removed]",
            "text/plain": [
              "<Figure size 864x432 with 1 Axes>"
            ]
          },
          "metadata": {
            "tags": [],
            "needs_background": "light"
          }
        }
      ]
    },
    {
      "cell_type": "markdown",
      "metadata": {
        "id": "I6DgQUTocC-5"
      },
      "source": [
        "**Local Outlier Factor (LOF)**"
      ]
    },
    {
      "cell_type": "markdown",
      "metadata": {
        "id": "fgDoUDBLcNZ5"
      },
      "source": [
        "It measures the local density of a sample with respect to its neighbors. Based on a comparison between the local density of the sample and its neighbors, the decision is made whether the sample is an outlier or not."
      ]
    },
    {
      "cell_type": "code",
      "metadata": {
        "colab": {
          "base_uri": "https://localhost:8080/"
        },
        "id": "zv9GPROgaEnB",
        "outputId": "01cec645-b32f-4323-cb42-3d5ff051eeec"
      },
      "source": [
        "from sklearn.neighbors import LocalOutlierFactor\n",
        "# Initialize LOF\n",
        "# contamination is the proportion of anomalies in our dataset. I'm assuming 1% of observations are anomalies\n",
        "lof = LocalOutlierFactor(contamination = 0.01, metric = 'euclidean')\n",
        "\n",
        "# fit data \n",
        "lof.fit(df_scaled)"
      ],
      "execution_count": null,
      "outputs": [
        {
          "output_type": "execute_result",
          "data": {
            "text/plain": [
              "LocalOutlierFactor(algorithm='auto', contamination=0.01, leaf_size=30,\n",
              "                   metric='euclidean', metric_params=None, n_jobs=None,\n",
              "                   n_neighbors=20, novelty=False, p=2)"
            ]
          },
          "metadata": {
            "tags": []
          },
          "execution_count": 45
        }
      ]
    },
    {
      "cell_type": "markdown",
      "metadata": {
        "id": "umlH0DQAcXln"
      },
      "source": [
        "LOF provides fit_predict() method which accepts samples and returns array consisting of values 1 or -1. Here 1 represents a valid sample and -1 represents an outlier."
      ]
    },
    {
      "cell_type": "code",
      "metadata": {
        "id": "H4RDNotPcToI"
      },
      "source": [
        "preds = lof.fit_predict(df_scaled)\n",
        "\n",
        "# Take a copy of df_lof\n",
        "df_lof = df.copy()\n",
        "# Add preds to df_lof\n",
        "df_lof['cluster_lof'] = preds"
      ],
      "execution_count": null,
      "outputs": []
    },
    {
      "cell_type": "code",
      "metadata": {
        "id": "8aMqKEneeG0K"
      },
      "source": [
        "# Anomaly score\n",
        "df_lof['Anomaly score'] = lof.negative_outlier_factor_"
      ],
      "execution_count": null,
      "outputs": []
    },
    {
      "cell_type": "markdown",
      "metadata": {
        "id": "L1FGtDnecwCM"
      },
      "source": [
        "Dividing Dataset into Normal Samples and Anamolies"
      ]
    },
    {
      "cell_type": "code",
      "metadata": {
        "colab": {
          "base_uri": "https://localhost:8080/"
        },
        "id": "mJFFsm6gcrqd",
        "outputId": "fc9e1e81-ca2f-4877-d8b2-cab35cb9d1b5"
      },
      "source": [
        "lof_outliers = df_lof.values[preds == -1]   # -1 --> anomalies\n",
        "lof_valid = df_lof.values[preds != -1]\n",
        "lof_outliers_index = df_lof.index[preds == -1]\n",
        "\n",
        "print(\"Original Samples : \",df_lof.shape[0])\n",
        "print(\"Number of Outliers : \", lof_outliers.shape[0])\n",
        "print(\"Number of Normal Samples : \", lof_valid.shape[0])"
      ],
      "execution_count": null,
      "outputs": [
        {
          "output_type": "stream",
          "text": [
            "Original Samples :  518\n",
            "Number of Outliers :  6\n",
            "Number of Normal Samples :  512\n"
          ],
          "name": "stdout"
        }
      ]
    },
    {
      "cell_type": "code",
      "metadata": {
        "colab": {
          "base_uri": "https://localhost:8080/"
        },
        "id": "RGvEgHwidEP6",
        "outputId": "c1f90f8c-5298-40cc-bbdb-93e7ca2c5c52"
      },
      "source": [
        "# Plot 3D for LocalOutlierFactor\n",
        "Axes3d_plot(df_scaled, list(lof_outliers_index), 'LOF')"
      ],
      "execution_count": null,
      "outputs": [
        {
          "output_type": "display_data",
          "data": {
            "image/png": "[encoded data removed]",
            "text/plain": [
              "<Figure size 864x432 with 1 Axes>"
            ]
          },
          "metadata": {
            "tags": [],
            "needs_background": "light"
          }
        }
      ]
    },
    {
      "cell_type": "code",
      "metadata": {
        "colab": {
          "base_uri": "https://localhost:8080/"
        },
        "id": "ZDNOmGMsdP9_",
        "outputId": "9250041f-cf08-4264-dc0a-101cd4ac0854"
      },
      "source": [
        "# Create a dataframe for lof_outliers\n",
        "lof_outliers = pd.DataFrame(lof_outliers, columns = df_lof.columns)\n",
        "lof_outliers['Index'] = lof_outliers_index\n",
        "lof_outliers = lof_outliers.set_index('Index')\n",
        "lof_outliers.index+=1\n",
        "lof_outliers"
      ],
      "execution_count": null,
      "outputs": [
        {
          "output_type": "execute_result",
          "data": {
            "text/html": [
              "<div>\n",
              "<style scoped>\n",
              "    .dataframe tbody tr th:only-of-type {\n",
              "        vertical-align: middle;\n",
              "    }\n",
              "\n",
              "    .dataframe tbody tr th {\n",
              "        vertical-align: top;\n",
              "    }\n",
              "\n",
              "    .dataframe thead th {\n",
              "        text-align: right;\n",
              "    }\n",
              "</style>\n",
              "<table border=\"1\" class=\"dataframe\">\n",
              "  <thead>\n",
              "    <tr style=\"text-align: right;\">\n",
              "      <th></th>\n",
              "      <th>ticker</th>\n",
              "      <th>date</th>\n",
              "      <th>c_x</th>\n",
              "      <th>change</th>\n",
              "      <th>v</th>\n",
              "      <th>change3</th>\n",
              "      <th>h_y</th>\n",
              "      <th>v_y</th>\n",
              "      <th>oneminvol_y</th>\n",
              "      <th>stddev</th>\n",
              "      <th>count</th>\n",
              "      <th>day_ratio_15</th>\n",
              "      <th>lo_breakout</th>\n",
              "      <th>cluster_lof</th>\n",
              "      <th>Anomaly score</th>\n",
              "    </tr>\n",
              "    <tr>\n",
              "      <th>Index</th>\n",
              "      <th></th>\n",
              "      <th></th>\n",
              "      <th></th>\n",
              "      <th></th>\n",
              "      <th></th>\n",
              "      <th></th>\n",
              "      <th></th>\n",
              "      <th></th>\n",
              "      <th></th>\n",
              "      <th></th>\n",
              "      <th></th>\n",
              "      <th></th>\n",
              "      <th></th>\n",
              "      <th></th>\n",
              "      <th></th>\n",
              "    </tr>\n",
              "  </thead>\n",
              "  <tbody>\n",
              "    <tr>\n",
              "      <th>345</th>\n",
              "      <td>CREX</td>\n",
              "      <td>2020-04-23</td>\n",
              "      <td>0.84</td>\n",
              "      <td>12</td>\n",
              "      <td>13773</td>\n",
              "      <td>1</td>\n",
              "      <td>6</td>\n",
              "      <td>3</td>\n",
              "      <td>2</td>\n",
              "      <td>848.829</td>\n",
              "      <td>45</td>\n",
              "      <td>16</td>\n",
              "      <td>37</td>\n",
              "      <td>-1</td>\n",
              "      <td>-1.61959</td>\n",
              "    </tr>\n",
              "    <tr>\n",
              "      <th>346</th>\n",
              "      <td>CREX</td>\n",
              "      <td>2020-04-24</td>\n",
              "      <td>0.82</td>\n",
              "      <td>0</td>\n",
              "      <td>1989</td>\n",
              "      <td>1</td>\n",
              "      <td>0</td>\n",
              "      <td>0</td>\n",
              "      <td>0</td>\n",
              "      <td>246.12</td>\n",
              "      <td>32</td>\n",
              "      <td>16</td>\n",
              "      <td>27</td>\n",
              "      <td>-1</td>\n",
              "      <td>-1.98679</td>\n",
              "    </tr>\n",
              "    <tr>\n",
              "      <th>347</th>\n",
              "      <td>CREX</td>\n",
              "      <td>2020-04-27</td>\n",
              "      <td>1</td>\n",
              "      <td>21.9512</td>\n",
              "      <td>40994</td>\n",
              "      <td>1</td>\n",
              "      <td>11</td>\n",
              "      <td>25</td>\n",
              "      <td>1</td>\n",
              "      <td>216.891</td>\n",
              "      <td>212</td>\n",
              "      <td>16</td>\n",
              "      <td>4</td>\n",
              "      <td>-1</td>\n",
              "      <td>-1.74564</td>\n",
              "    </tr>\n",
              "    <tr>\n",
              "      <th>356</th>\n",
              "      <td>CREX</td>\n",
              "      <td>2020-05-08</td>\n",
              "      <td>2.78</td>\n",
              "      <td>9.70149</td>\n",
              "      <td>784376</td>\n",
              "      <td>1</td>\n",
              "      <td>3</td>\n",
              "      <td>1</td>\n",
              "      <td>0</td>\n",
              "      <td>874.303</td>\n",
              "      <td>2099</td>\n",
              "      <td>109</td>\n",
              "      <td>8</td>\n",
              "      <td>-1</td>\n",
              "      <td>-1.61851</td>\n",
              "    </tr>\n",
              "    <tr>\n",
              "      <th>358</th>\n",
              "      <td>CREX</td>\n",
              "      <td>2020-05-12</td>\n",
              "      <td>3.23</td>\n",
              "      <td>21.7391</td>\n",
              "      <td>4694309</td>\n",
              "      <td>0</td>\n",
              "      <td>9</td>\n",
              "      <td>0</td>\n",
              "      <td>9</td>\n",
              "      <td>1111.93</td>\n",
              "      <td>13792</td>\n",
              "      <td>109</td>\n",
              "      <td>18</td>\n",
              "      <td>-1</td>\n",
              "      <td>-1.38997</td>\n",
              "    </tr>\n",
              "    <tr>\n",
              "      <th>359</th>\n",
              "      <td>CREX</td>\n",
              "      <td>2020-05-13</td>\n",
              "      <td>4.58</td>\n",
              "      <td>85.1393</td>\n",
              "      <td>29439440</td>\n",
              "      <td>0</td>\n",
              "      <td>248</td>\n",
              "      <td>10</td>\n",
              "      <td>0</td>\n",
              "      <td>640.976</td>\n",
              "      <td>116365</td>\n",
              "      <td>109</td>\n",
              "      <td>27</td>\n",
              "      <td>-1</td>\n",
              "      <td>-1.33846</td>\n",
              "    </tr>\n",
              "  </tbody>\n",
              "</table>\n",
              "</div>"
            ],
            "text/plain": [
              "      ticker        date   c_x  ... lo_breakout cluster_lof Anomaly score\n",
              "Index                           ...                                      \n",
              "345     CREX  2020-04-23  0.84  ...          37          -1      -1.61959\n",
              "346     CREX  2020-04-24  0.82  ...          27          -1      -1.98679\n",
              "347     CREX  2020-04-27     1  ...           4          -1      -1.74564\n",
              "356     CREX  2020-05-08  2.78  ...           8          -1      -1.61851\n",
              "358     CREX  2020-05-12  3.23  ...          18          -1      -1.38997\n",
              "359     CREX  2020-05-13  4.58  ...          27          -1      -1.33846\n",
              "\n",
              "[6 rows x 15 columns]"
            ]
          },
          "metadata": {
            "tags": []
          },
          "execution_count": 50
        }
      ]
    },
    {
      "cell_type": "code",
      "metadata": {
        "id": "S13TqCAdoJSt",
        "colab": {
          "base_uri": "https://localhost:8080/"
        },
        "outputId": "48765532-5134-49e8-ffea-10192548fa07"
      },
      "source": [
        "# Threshold value\n",
        "# If threshold value < Anomaly score ---> an Anomaly if not a normal transaction\n",
        "lof_score = df_lof['Anomaly score'].values\n",
        "tau_lof = stats.scoreatpercentile(lof_score, 100*0.01)\n",
        "print(f'Threshold value : {tau_lof}')"
      ],
      "execution_count": null,
      "outputs": [
        {
          "output_type": "stream",
          "text": [
            "Threshold value : -1.3360492700935598\n"
          ],
          "name": "stdout"
        }
      ]
    },
    {
      "cell_type": "code",
      "metadata": {
        "colab": {
          "base_uri": "https://localhost:8080/"
        },
        "id": "KJ49D6OIRDge",
        "outputId": "357cc005-b77d-4130-df99-bef4b6735a85"
      },
      "source": [
        "# Filtering anomalies from our dataset\n",
        "df_filtered1  = df_lof[df_lof['cluster_lof'] !=-1].reset_index(drop=True)\n",
        "df_filtered1"
      ],
      "execution_count": null,
      "outputs": [
        {
          "output_type": "execute_result",
          "data": {
            "text/html": [
              "<div>\n",
              "<style scoped>\n",
              "    .dataframe tbody tr th:only-of-type {\n",
              "        vertical-align: middle;\n",
              "    }\n",
              "\n",
              "    .dataframe tbody tr th {\n",
              "        vertical-align: top;\n",
              "    }\n",
              "\n",
              "    .dataframe thead th {\n",
              "        text-align: right;\n",
              "    }\n",
              "</style>\n",
              "<table border=\"1\" class=\"dataframe\">\n",
              "  <thead>\n",
              "    <tr style=\"text-align: right;\">\n",
              "      <th></th>\n",
              "      <th>ticker</th>\n",
              "      <th>date</th>\n",
              "      <th>c_x</th>\n",
              "      <th>change</th>\n",
              "      <th>v</th>\n",
              "      <th>change3</th>\n",
              "      <th>h_y</th>\n",
              "      <th>v_y</th>\n",
              "      <th>oneminvol_y</th>\n",
              "      <th>stddev</th>\n",
              "      <th>count</th>\n",
              "      <th>day_ratio_15</th>\n",
              "      <th>lo_breakout</th>\n",
              "      <th>cluster_lof</th>\n",
              "      <th>Anomaly score</th>\n",
              "    </tr>\n",
              "  </thead>\n",
              "  <tbody>\n",
              "    <tr>\n",
              "      <th>0</th>\n",
              "      <td>CREX</td>\n",
              "      <td>2018-11-16</td>\n",
              "      <td>3.05</td>\n",
              "      <td>10.752688</td>\n",
              "      <td>71838</td>\n",
              "      <td>0</td>\n",
              "      <td>0</td>\n",
              "      <td>0</td>\n",
              "      <td>0</td>\n",
              "      <td>394.84445</td>\n",
              "      <td>260</td>\n",
              "      <td>1</td>\n",
              "      <td>0</td>\n",
              "      <td>1</td>\n",
              "      <td>-1.146211</td>\n",
              "    </tr>\n",
              "    <tr>\n",
              "      <th>1</th>\n",
              "      <td>CREX</td>\n",
              "      <td>2018-11-19</td>\n",
              "      <td>2.99</td>\n",
              "      <td>2.622951</td>\n",
              "      <td>45460</td>\n",
              "      <td>0</td>\n",
              "      <td>1</td>\n",
              "      <td>0</td>\n",
              "      <td>1</td>\n",
              "      <td>280.59512</td>\n",
              "      <td>234</td>\n",
              "      <td>3</td>\n",
              "      <td>0</td>\n",
              "      <td>1</td>\n",
              "      <td>-1.289559</td>\n",
              "    </tr>\n",
              "    <tr>\n",
              "      <th>2</th>\n",
              "      <td>CREX</td>\n",
              "      <td>2018-11-20</td>\n",
              "      <td>3.12</td>\n",
              "      <td>14.715719</td>\n",
              "      <td>112457</td>\n",
              "      <td>0</td>\n",
              "      <td>3</td>\n",
              "      <td>2</td>\n",
              "      <td>3</td>\n",
              "      <td>413.19757</td>\n",
              "      <td>432</td>\n",
              "      <td>7</td>\n",
              "      <td>2</td>\n",
              "      <td>1</td>\n",
              "      <td>-1.057026</td>\n",
              "    </tr>\n",
              "    <tr>\n",
              "      <th>3</th>\n",
              "      <td>CREX</td>\n",
              "      <td>2018-11-21</td>\n",
              "      <td>3.30</td>\n",
              "      <td>8.012820</td>\n",
              "      <td>9903</td>\n",
              "      <td>0</td>\n",
              "      <td>0</td>\n",
              "      <td>0</td>\n",
              "      <td>0</td>\n",
              "      <td>235.26692</td>\n",
              "      <td>45</td>\n",
              "      <td>7</td>\n",
              "      <td>2</td>\n",
              "      <td>1</td>\n",
              "      <td>-1.149173</td>\n",
              "    </tr>\n",
              "    <tr>\n",
              "      <th>4</th>\n",
              "      <td>CREX</td>\n",
              "      <td>2018-11-23</td>\n",
              "      <td>3.35</td>\n",
              "      <td>2.727273</td>\n",
              "      <td>843</td>\n",
              "      <td>0</td>\n",
              "      <td>1</td>\n",
              "      <td>0</td>\n",
              "      <td>0</td>\n",
              "      <td>159.88638</td>\n",
              "      <td>11</td>\n",
              "      <td>14</td>\n",
              "      <td>2</td>\n",
              "      <td>1</td>\n",
              "      <td>-1.151161</td>\n",
              "    </tr>\n",
              "    <tr>\n",
              "      <th>...</th>\n",
              "      <td>...</td>\n",
              "      <td>...</td>\n",
              "      <td>...</td>\n",
              "      <td>...</td>\n",
              "      <td>...</td>\n",
              "      <td>...</td>\n",
              "      <td>...</td>\n",
              "      <td>...</td>\n",
              "      <td>...</td>\n",
              "      <td>...</td>\n",
              "      <td>...</td>\n",
              "      <td>...</td>\n",
              "      <td>...</td>\n",
              "      <td>...</td>\n",
              "      <td>...</td>\n",
              "    </tr>\n",
              "    <tr>\n",
              "      <th>507</th>\n",
              "      <td>CREX</td>\n",
              "      <td>2020-12-23</td>\n",
              "      <td>1.22</td>\n",
              "      <td>10.810811</td>\n",
              "      <td>688986</td>\n",
              "      <td>0</td>\n",
              "      <td>5</td>\n",
              "      <td>6</td>\n",
              "      <td>5</td>\n",
              "      <td>1732.19680</td>\n",
              "      <td>1267</td>\n",
              "      <td>10</td>\n",
              "      <td>11</td>\n",
              "      <td>1</td>\n",
              "      <td>-0.990618</td>\n",
              "    </tr>\n",
              "    <tr>\n",
              "      <th>508</th>\n",
              "      <td>CREX</td>\n",
              "      <td>2020-12-24</td>\n",
              "      <td>1.30</td>\n",
              "      <td>10.655738</td>\n",
              "      <td>866043</td>\n",
              "      <td>0</td>\n",
              "      <td>7</td>\n",
              "      <td>7</td>\n",
              "      <td>6</td>\n",
              "      <td>1436.53980</td>\n",
              "      <td>1778</td>\n",
              "      <td>10</td>\n",
              "      <td>10</td>\n",
              "      <td>1</td>\n",
              "      <td>-0.993014</td>\n",
              "    </tr>\n",
              "    <tr>\n",
              "      <th>509</th>\n",
              "      <td>CREX</td>\n",
              "      <td>2020-12-28</td>\n",
              "      <td>1.48</td>\n",
              "      <td>28.461538</td>\n",
              "      <td>1772823</td>\n",
              "      <td>0</td>\n",
              "      <td>87</td>\n",
              "      <td>8</td>\n",
              "      <td>8</td>\n",
              "      <td>1411.19180</td>\n",
              "      <td>3202</td>\n",
              "      <td>10</td>\n",
              "      <td>10</td>\n",
              "      <td>1</td>\n",
              "      <td>-0.992229</td>\n",
              "    </tr>\n",
              "    <tr>\n",
              "      <th>510</th>\n",
              "      <td>CREX</td>\n",
              "      <td>2020-12-29</td>\n",
              "      <td>1.32</td>\n",
              "      <td>-0.675676</td>\n",
              "      <td>613006</td>\n",
              "      <td>0</td>\n",
              "      <td>0</td>\n",
              "      <td>0</td>\n",
              "      <td>0</td>\n",
              "      <td>1796.10340</td>\n",
              "      <td>1106</td>\n",
              "      <td>10</td>\n",
              "      <td>8</td>\n",
              "      <td>1</td>\n",
              "      <td>-0.990078</td>\n",
              "    </tr>\n",
              "    <tr>\n",
              "      <th>511</th>\n",
              "      <td>CREX</td>\n",
              "      <td>2020-12-30</td>\n",
              "      <td>1.39</td>\n",
              "      <td>8.333333</td>\n",
              "      <td>356486</td>\n",
              "      <td>0</td>\n",
              "      <td>0</td>\n",
              "      <td>0</td>\n",
              "      <td>0</td>\n",
              "      <td>1332.10950</td>\n",
              "      <td>677</td>\n",
              "      <td>10</td>\n",
              "      <td>8</td>\n",
              "      <td>1</td>\n",
              "      <td>-1.034348</td>\n",
              "    </tr>\n",
              "  </tbody>\n",
              "</table>\n",
              "<p>512 rows × 15 columns</p>\n",
              "</div>"
            ],
            "text/plain": [
              "    ticker        date   c_x  ...  lo_breakout  cluster_lof  Anomaly score\n",
              "0     CREX  2018-11-16  3.05  ...            0            1      -1.146211\n",
              "1     CREX  2018-11-19  2.99  ...            0            1      -1.289559\n",
              "2     CREX  2018-11-20  3.12  ...            2            1      -1.057026\n",
              "3     CREX  2018-11-21  3.30  ...            2            1      -1.149173\n",
              "4     CREX  2018-11-23  3.35  ...            2            1      -1.151161\n",
              "..     ...         ...   ...  ...          ...          ...            ...\n",
              "507   CREX  2020-12-23  1.22  ...           11            1      -0.990618\n",
              "508   CREX  2020-12-24  1.30  ...           10            1      -0.993014\n",
              "509   CREX  2020-12-28  1.48  ...           10            1      -0.992229\n",
              "510   CREX  2020-12-29  1.32  ...            8            1      -0.990078\n",
              "511   CREX  2020-12-30  1.39  ...            8            1      -1.034348\n",
              "\n",
              "[512 rows x 15 columns]"
            ]
          },
          "metadata": {
            "tags": []
          },
          "execution_count": 52
        }
      ]
    },
    {
      "cell_type": "code",
      "metadata": {
        "colab": {
          "base_uri": "https://localhost:8080/"
        },
        "id": "v0_zEDE0RsKO",
        "outputId": "adf4327c-125f-4a7e-f253-67e8dc3b722e"
      },
      "source": [
        "df_filtered1.shape"
      ],
      "execution_count": null,
      "outputs": [
        {
          "output_type": "execute_result",
          "data": {
            "text/plain": [
              "(512, 15)"
            ]
          },
          "metadata": {
            "tags": []
          },
          "execution_count": 53
        }
      ]
    },
    {
      "cell_type": "code",
      "metadata": {
        "colab": {
          "base_uri": "https://localhost:8080/"
        },
        "id": "MYRu7HQeRjTP",
        "outputId": "78aef48b-3615-4375-e27e-94c3b94bd686"
      },
      "source": [
        "# Filtering anomalies from our dataset by Anomaly score\n",
        "# Sort values by Anomaly score in ascending order ---> lowest to highest\n",
        "df_lof = df_lof.sort_values(by = ['Anomaly score'])\n",
        "# Check first 6 index values\n",
        "df_lof.head(6)"
      ],
      "execution_count": null,
      "outputs": [
        {
          "output_type": "execute_result",
          "data": {
            "text/html": [
              "<div>\n",
              "<style scoped>\n",
              "    .dataframe tbody tr th:only-of-type {\n",
              "        vertical-align: middle;\n",
              "    }\n",
              "\n",
              "    .dataframe tbody tr th {\n",
              "        vertical-align: top;\n",
              "    }\n",
              "\n",
              "    .dataframe thead th {\n",
              "        text-align: right;\n",
              "    }\n",
              "</style>\n",
              "<table border=\"1\" class=\"dataframe\">\n",
              "  <thead>\n",
              "    <tr style=\"text-align: right;\">\n",
              "      <th></th>\n",
              "      <th>ticker</th>\n",
              "      <th>date</th>\n",
              "      <th>c_x</th>\n",
              "      <th>change</th>\n",
              "      <th>v</th>\n",
              "      <th>change3</th>\n",
              "      <th>h_y</th>\n",
              "      <th>v_y</th>\n",
              "      <th>oneminvol_y</th>\n",
              "      <th>stddev</th>\n",
              "      <th>count</th>\n",
              "      <th>day_ratio_15</th>\n",
              "      <th>lo_breakout</th>\n",
              "      <th>cluster_lof</th>\n",
              "      <th>Anomaly score</th>\n",
              "    </tr>\n",
              "  </thead>\n",
              "  <tbody>\n",
              "    <tr>\n",
              "      <th>345</th>\n",
              "      <td>CREX</td>\n",
              "      <td>2020-04-24</td>\n",
              "      <td>0.82</td>\n",
              "      <td>0.000000</td>\n",
              "      <td>1989</td>\n",
              "      <td>1</td>\n",
              "      <td>0</td>\n",
              "      <td>0</td>\n",
              "      <td>0</td>\n",
              "      <td>246.12035</td>\n",
              "      <td>32</td>\n",
              "      <td>16</td>\n",
              "      <td>27</td>\n",
              "      <td>-1</td>\n",
              "      <td>-1.986786</td>\n",
              "    </tr>\n",
              "    <tr>\n",
              "      <th>346</th>\n",
              "      <td>CREX</td>\n",
              "      <td>2020-04-27</td>\n",
              "      <td>1.00</td>\n",
              "      <td>21.951220</td>\n",
              "      <td>40994</td>\n",
              "      <td>1</td>\n",
              "      <td>11</td>\n",
              "      <td>25</td>\n",
              "      <td>1</td>\n",
              "      <td>216.89069</td>\n",
              "      <td>212</td>\n",
              "      <td>16</td>\n",
              "      <td>4</td>\n",
              "      <td>-1</td>\n",
              "      <td>-1.745638</td>\n",
              "    </tr>\n",
              "    <tr>\n",
              "      <th>344</th>\n",
              "      <td>CREX</td>\n",
              "      <td>2020-04-23</td>\n",
              "      <td>0.84</td>\n",
              "      <td>12.000000</td>\n",
              "      <td>13773</td>\n",
              "      <td>1</td>\n",
              "      <td>6</td>\n",
              "      <td>3</td>\n",
              "      <td>2</td>\n",
              "      <td>848.82904</td>\n",
              "      <td>45</td>\n",
              "      <td>16</td>\n",
              "      <td>37</td>\n",
              "      <td>-1</td>\n",
              "      <td>-1.619590</td>\n",
              "    </tr>\n",
              "    <tr>\n",
              "      <th>355</th>\n",
              "      <td>CREX</td>\n",
              "      <td>2020-05-08</td>\n",
              "      <td>2.78</td>\n",
              "      <td>9.701492</td>\n",
              "      <td>784376</td>\n",
              "      <td>1</td>\n",
              "      <td>3</td>\n",
              "      <td>1</td>\n",
              "      <td>0</td>\n",
              "      <td>874.30273</td>\n",
              "      <td>2099</td>\n",
              "      <td>109</td>\n",
              "      <td>8</td>\n",
              "      <td>-1</td>\n",
              "      <td>-1.618506</td>\n",
              "    </tr>\n",
              "    <tr>\n",
              "      <th>357</th>\n",
              "      <td>CREX</td>\n",
              "      <td>2020-05-12</td>\n",
              "      <td>3.23</td>\n",
              "      <td>21.739130</td>\n",
              "      <td>4694309</td>\n",
              "      <td>0</td>\n",
              "      <td>9</td>\n",
              "      <td>0</td>\n",
              "      <td>9</td>\n",
              "      <td>1111.93070</td>\n",
              "      <td>13792</td>\n",
              "      <td>109</td>\n",
              "      <td>18</td>\n",
              "      <td>-1</td>\n",
              "      <td>-1.389971</td>\n",
              "    </tr>\n",
              "    <tr>\n",
              "      <th>358</th>\n",
              "      <td>CREX</td>\n",
              "      <td>2020-05-13</td>\n",
              "      <td>4.58</td>\n",
              "      <td>85.139320</td>\n",
              "      <td>29439440</td>\n",
              "      <td>0</td>\n",
              "      <td>248</td>\n",
              "      <td>10</td>\n",
              "      <td>0</td>\n",
              "      <td>640.97565</td>\n",
              "      <td>116365</td>\n",
              "      <td>109</td>\n",
              "      <td>27</td>\n",
              "      <td>-1</td>\n",
              "      <td>-1.338455</td>\n",
              "    </tr>\n",
              "  </tbody>\n",
              "</table>\n",
              "</div>"
            ],
            "text/plain": [
              "    ticker        date   c_x  ...  lo_breakout  cluster_lof  Anomaly score\n",
              "345   CREX  2020-04-24  0.82  ...           27           -1      -1.986786\n",
              "346   CREX  2020-04-27  1.00  ...            4           -1      -1.745638\n",
              "344   CREX  2020-04-23  0.84  ...           37           -1      -1.619590\n",
              "355   CREX  2020-05-08  2.78  ...            8           -1      -1.618506\n",
              "357   CREX  2020-05-12  3.23  ...           18           -1      -1.389971\n",
              "358   CREX  2020-05-13  4.58  ...           27           -1      -1.338455\n",
              "\n",
              "[6 rows x 15 columns]"
            ]
          },
          "metadata": {
            "tags": []
          },
          "execution_count": 54
        }
      ]
    },
    {
      "cell_type": "code",
      "metadata": {
        "colab": {
          "base_uri": "https://localhost:8080/"
        },
        "id": "ZbAhFJUhZVNT",
        "outputId": "315d09e4-9b8e-4f7d-a80c-24198c073d3f"
      },
      "source": [
        "# Filter anamolies\n",
        "df_filtered2 = df_lof[df_lof['Anomaly score'] > tau_lof].reset_index(drop=True)\n",
        "df_filtered2"
      ],
      "execution_count": null,
      "outputs": [
        {
          "output_type": "execute_result",
          "data": {
            "text/html": [
              "<div>\n",
              "<style scoped>\n",
              "    .dataframe tbody tr th:only-of-type {\n",
              "        vertical-align: middle;\n",
              "    }\n",
              "\n",
              "    .dataframe tbody tr th {\n",
              "        vertical-align: top;\n",
              "    }\n",
              "\n",
              "    .dataframe thead th {\n",
              "        text-align: right;\n",
              "    }\n",
              "</style>\n",
              "<table border=\"1\" class=\"dataframe\">\n",
              "  <thead>\n",
              "    <tr style=\"text-align: right;\">\n",
              "      <th></th>\n",
              "      <th>ticker</th>\n",
              "      <th>date</th>\n",
              "      <th>c_x</th>\n",
              "      <th>change</th>\n",
              "      <th>v</th>\n",
              "      <th>change3</th>\n",
              "      <th>h_y</th>\n",
              "      <th>v_y</th>\n",
              "      <th>oneminvol_y</th>\n",
              "      <th>stddev</th>\n",
              "      <th>count</th>\n",
              "      <th>day_ratio_15</th>\n",
              "      <th>lo_breakout</th>\n",
              "      <th>cluster_lof</th>\n",
              "      <th>Anomaly score</th>\n",
              "    </tr>\n",
              "  </thead>\n",
              "  <tbody>\n",
              "    <tr>\n",
              "      <th>0</th>\n",
              "      <td>CREX</td>\n",
              "      <td>2020-06-04</td>\n",
              "      <td>3.16</td>\n",
              "      <td>25.992780</td>\n",
              "      <td>4568566</td>\n",
              "      <td>0</td>\n",
              "      <td>13</td>\n",
              "      <td>0</td>\n",
              "      <td>0</td>\n",
              "      <td>616.625060</td>\n",
              "      <td>13961</td>\n",
              "      <td>8</td>\n",
              "      <td>14</td>\n",
              "      <td>1</td>\n",
              "      <td>-1.324302</td>\n",
              "    </tr>\n",
              "    <tr>\n",
              "      <th>1</th>\n",
              "      <td>CREX</td>\n",
              "      <td>2019-10-16</td>\n",
              "      <td>1.51</td>\n",
              "      <td>0.666667</td>\n",
              "      <td>6221</td>\n",
              "      <td>0</td>\n",
              "      <td>2</td>\n",
              "      <td>0</td>\n",
              "      <td>0</td>\n",
              "      <td>1625.481800</td>\n",
              "      <td>11</td>\n",
              "      <td>52</td>\n",
              "      <td>46</td>\n",
              "      <td>1</td>\n",
              "      <td>-1.298396</td>\n",
              "    </tr>\n",
              "    <tr>\n",
              "      <th>2</th>\n",
              "      <td>CREX</td>\n",
              "      <td>2019-04-12</td>\n",
              "      <td>2.28</td>\n",
              "      <td>12.612613</td>\n",
              "      <td>79157</td>\n",
              "      <td>0</td>\n",
              "      <td>8</td>\n",
              "      <td>0</td>\n",
              "      <td>8</td>\n",
              "      <td>598.226260</td>\n",
              "      <td>235</td>\n",
              "      <td>392</td>\n",
              "      <td>14</td>\n",
              "      <td>1</td>\n",
              "      <td>-1.297948</td>\n",
              "    </tr>\n",
              "    <tr>\n",
              "      <th>3</th>\n",
              "      <td>CREX</td>\n",
              "      <td>2020-05-06</td>\n",
              "      <td>2.45</td>\n",
              "      <td>13.414634</td>\n",
              "      <td>863339</td>\n",
              "      <td>0</td>\n",
              "      <td>0</td>\n",
              "      <td>1</td>\n",
              "      <td>2</td>\n",
              "      <td>705.949400</td>\n",
              "      <td>2656</td>\n",
              "      <td>109</td>\n",
              "      <td>2</td>\n",
              "      <td>1</td>\n",
              "      <td>-1.295674</td>\n",
              "    </tr>\n",
              "    <tr>\n",
              "      <th>4</th>\n",
              "      <td>CREX</td>\n",
              "      <td>2018-11-19</td>\n",
              "      <td>2.99</td>\n",
              "      <td>2.622951</td>\n",
              "      <td>45460</td>\n",
              "      <td>0</td>\n",
              "      <td>1</td>\n",
              "      <td>0</td>\n",
              "      <td>1</td>\n",
              "      <td>280.595120</td>\n",
              "      <td>234</td>\n",
              "      <td>3</td>\n",
              "      <td>0</td>\n",
              "      <td>1</td>\n",
              "      <td>-1.289559</td>\n",
              "    </tr>\n",
              "    <tr>\n",
              "      <th>...</th>\n",
              "      <td>...</td>\n",
              "      <td>...</td>\n",
              "      <td>...</td>\n",
              "      <td>...</td>\n",
              "      <td>...</td>\n",
              "      <td>...</td>\n",
              "      <td>...</td>\n",
              "      <td>...</td>\n",
              "      <td>...</td>\n",
              "      <td>...</td>\n",
              "      <td>...</td>\n",
              "      <td>...</td>\n",
              "      <td>...</td>\n",
              "      <td>...</td>\n",
              "      <td>...</td>\n",
              "    </tr>\n",
              "    <tr>\n",
              "      <th>507</th>\n",
              "      <td>CREX</td>\n",
              "      <td>2020-08-17</td>\n",
              "      <td>1.80</td>\n",
              "      <td>3.389831</td>\n",
              "      <td>385237</td>\n",
              "      <td>0</td>\n",
              "      <td>0</td>\n",
              "      <td>0</td>\n",
              "      <td>0</td>\n",
              "      <td>525.360700</td>\n",
              "      <td>1526</td>\n",
              "      <td>3</td>\n",
              "      <td>10</td>\n",
              "      <td>1</td>\n",
              "      <td>-0.959047</td>\n",
              "    </tr>\n",
              "    <tr>\n",
              "      <th>508</th>\n",
              "      <td>CREX</td>\n",
              "      <td>2019-12-31</td>\n",
              "      <td>1.53</td>\n",
              "      <td>11.888112</td>\n",
              "      <td>17342</td>\n",
              "      <td>0</td>\n",
              "      <td>7</td>\n",
              "      <td>4</td>\n",
              "      <td>4</td>\n",
              "      <td>583.022100</td>\n",
              "      <td>66</td>\n",
              "      <td>17</td>\n",
              "      <td>8</td>\n",
              "      <td>1</td>\n",
              "      <td>-0.958496</td>\n",
              "    </tr>\n",
              "    <tr>\n",
              "      <th>509</th>\n",
              "      <td>CREX</td>\n",
              "      <td>2019-09-30</td>\n",
              "      <td>1.72</td>\n",
              "      <td>1.162791</td>\n",
              "      <td>4724</td>\n",
              "      <td>0</td>\n",
              "      <td>0</td>\n",
              "      <td>0</td>\n",
              "      <td>0</td>\n",
              "      <td>141.668460</td>\n",
              "      <td>48</td>\n",
              "      <td>19</td>\n",
              "      <td>6</td>\n",
              "      <td>1</td>\n",
              "      <td>-0.954264</td>\n",
              "    </tr>\n",
              "    <tr>\n",
              "      <th>510</th>\n",
              "      <td>CREX</td>\n",
              "      <td>2019-09-25</td>\n",
              "      <td>1.78</td>\n",
              "      <td>-0.537634</td>\n",
              "      <td>2994</td>\n",
              "      <td>0</td>\n",
              "      <td>0</td>\n",
              "      <td>0</td>\n",
              "      <td>0</td>\n",
              "      <td>110.118866</td>\n",
              "      <td>34</td>\n",
              "      <td>34</td>\n",
              "      <td>9</td>\n",
              "      <td>1</td>\n",
              "      <td>-0.953014</td>\n",
              "    </tr>\n",
              "    <tr>\n",
              "      <th>511</th>\n",
              "      <td>CREX</td>\n",
              "      <td>2019-06-07</td>\n",
              "      <td>1.99</td>\n",
              "      <td>1.015228</td>\n",
              "      <td>1447</td>\n",
              "      <td>0</td>\n",
              "      <td>0</td>\n",
              "      <td>0</td>\n",
              "      <td>0</td>\n",
              "      <td>253.375030</td>\n",
              "      <td>17</td>\n",
              "      <td>29</td>\n",
              "      <td>11</td>\n",
              "      <td>1</td>\n",
              "      <td>-0.947585</td>\n",
              "    </tr>\n",
              "  </tbody>\n",
              "</table>\n",
              "<p>512 rows × 15 columns</p>\n",
              "</div>"
            ],
            "text/plain": [
              "    ticker        date   c_x  ...  lo_breakout  cluster_lof  Anomaly score\n",
              "0     CREX  2020-06-04  3.16  ...           14            1      -1.324302\n",
              "1     CREX  2019-10-16  1.51  ...           46            1      -1.298396\n",
              "2     CREX  2019-04-12  2.28  ...           14            1      -1.297948\n",
              "3     CREX  2020-05-06  2.45  ...            2            1      -1.295674\n",
              "4     CREX  2018-11-19  2.99  ...            0            1      -1.289559\n",
              "..     ...         ...   ...  ...          ...          ...            ...\n",
              "507   CREX  2020-08-17  1.80  ...           10            1      -0.959047\n",
              "508   CREX  2019-12-31  1.53  ...            8            1      -0.958496\n",
              "509   CREX  2019-09-30  1.72  ...            6            1      -0.954264\n",
              "510   CREX  2019-09-25  1.78  ...            9            1      -0.953014\n",
              "511   CREX  2019-06-07  1.99  ...           11            1      -0.947585\n",
              "\n",
              "[512 rows x 15 columns]"
            ]
          },
          "metadata": {
            "tags": []
          },
          "execution_count": 55
        }
      ]
    },
    {
      "cell_type": "markdown",
      "metadata": {
        "id": "ADbM3DDiSk3V"
      },
      "source": [
        "We can see that all the anamolies in the dataset are sorted from starting index 345 to 355 based on Anamoly score."
      ]
    },
    {
      "cell_type": "code",
      "metadata": {
        "colab": {
          "base_uri": "https://localhost:8080/"
        },
        "id": "TD0P-YcfTYlq",
        "outputId": "5f433829-0db2-4c06-e1a9-7ff0f3fa7d37"
      },
      "source": [
        "# Filtering anomalies from our dataset by Anomaly score\n",
        "# Sort values by Anomaly score in descending order --> highest to lowest\n",
        "df_lof = df_lof.sort_values(by = ['Anomaly score'], ascending=False)\n",
        "# Check last 6 index values\n",
        "df_lof.tail(6)"
      ],
      "execution_count": null,
      "outputs": [
        {
          "output_type": "execute_result",
          "data": {
            "text/html": [
              "<div>\n",
              "<style scoped>\n",
              "    .dataframe tbody tr th:only-of-type {\n",
              "        vertical-align: middle;\n",
              "    }\n",
              "\n",
              "    .dataframe tbody tr th {\n",
              "        vertical-align: top;\n",
              "    }\n",
              "\n",
              "    .dataframe thead th {\n",
              "        text-align: right;\n",
              "    }\n",
              "</style>\n",
              "<table border=\"1\" class=\"dataframe\">\n",
              "  <thead>\n",
              "    <tr style=\"text-align: right;\">\n",
              "      <th></th>\n",
              "      <th>ticker</th>\n",
              "      <th>date</th>\n",
              "      <th>c_x</th>\n",
              "      <th>change</th>\n",
              "      <th>v</th>\n",
              "      <th>change3</th>\n",
              "      <th>h_y</th>\n",
              "      <th>v_y</th>\n",
              "      <th>oneminvol_y</th>\n",
              "      <th>stddev</th>\n",
              "      <th>count</th>\n",
              "      <th>day_ratio_15</th>\n",
              "      <th>lo_breakout</th>\n",
              "      <th>cluster_lof</th>\n",
              "      <th>Anomaly score</th>\n",
              "    </tr>\n",
              "  </thead>\n",
              "  <tbody>\n",
              "    <tr>\n",
              "      <th>358</th>\n",
              "      <td>CREX</td>\n",
              "      <td>2020-05-13</td>\n",
              "      <td>4.58</td>\n",
              "      <td>85.139320</td>\n",
              "      <td>29439440</td>\n",
              "      <td>0</td>\n",
              "      <td>248</td>\n",
              "      <td>10</td>\n",
              "      <td>0</td>\n",
              "      <td>640.97565</td>\n",
              "      <td>116365</td>\n",
              "      <td>109</td>\n",
              "      <td>27</td>\n",
              "      <td>-1</td>\n",
              "      <td>-1.338455</td>\n",
              "    </tr>\n",
              "    <tr>\n",
              "      <th>357</th>\n",
              "      <td>CREX</td>\n",
              "      <td>2020-05-12</td>\n",
              "      <td>3.23</td>\n",
              "      <td>21.739130</td>\n",
              "      <td>4694309</td>\n",
              "      <td>0</td>\n",
              "      <td>9</td>\n",
              "      <td>0</td>\n",
              "      <td>9</td>\n",
              "      <td>1111.93070</td>\n",
              "      <td>13792</td>\n",
              "      <td>109</td>\n",
              "      <td>18</td>\n",
              "      <td>-1</td>\n",
              "      <td>-1.389971</td>\n",
              "    </tr>\n",
              "    <tr>\n",
              "      <th>355</th>\n",
              "      <td>CREX</td>\n",
              "      <td>2020-05-08</td>\n",
              "      <td>2.78</td>\n",
              "      <td>9.701492</td>\n",
              "      <td>784376</td>\n",
              "      <td>1</td>\n",
              "      <td>3</td>\n",
              "      <td>1</td>\n",
              "      <td>0</td>\n",
              "      <td>874.30273</td>\n",
              "      <td>2099</td>\n",
              "      <td>109</td>\n",
              "      <td>8</td>\n",
              "      <td>-1</td>\n",
              "      <td>-1.618506</td>\n",
              "    </tr>\n",
              "    <tr>\n",
              "      <th>344</th>\n",
              "      <td>CREX</td>\n",
              "      <td>2020-04-23</td>\n",
              "      <td>0.84</td>\n",
              "      <td>12.000000</td>\n",
              "      <td>13773</td>\n",
              "      <td>1</td>\n",
              "      <td>6</td>\n",
              "      <td>3</td>\n",
              "      <td>2</td>\n",
              "      <td>848.82904</td>\n",
              "      <td>45</td>\n",
              "      <td>16</td>\n",
              "      <td>37</td>\n",
              "      <td>-1</td>\n",
              "      <td>-1.619590</td>\n",
              "    </tr>\n",
              "    <tr>\n",
              "      <th>346</th>\n",
              "      <td>CREX</td>\n",
              "      <td>2020-04-27</td>\n",
              "      <td>1.00</td>\n",
              "      <td>21.951220</td>\n",
              "      <td>40994</td>\n",
              "      <td>1</td>\n",
              "      <td>11</td>\n",
              "      <td>25</td>\n",
              "      <td>1</td>\n",
              "      <td>216.89069</td>\n",
              "      <td>212</td>\n",
              "      <td>16</td>\n",
              "      <td>4</td>\n",
              "      <td>-1</td>\n",
              "      <td>-1.745638</td>\n",
              "    </tr>\n",
              "    <tr>\n",
              "      <th>345</th>\n",
              "      <td>CREX</td>\n",
              "      <td>2020-04-24</td>\n",
              "      <td>0.82</td>\n",
              "      <td>0.000000</td>\n",
              "      <td>1989</td>\n",
              "      <td>1</td>\n",
              "      <td>0</td>\n",
              "      <td>0</td>\n",
              "      <td>0</td>\n",
              "      <td>246.12035</td>\n",
              "      <td>32</td>\n",
              "      <td>16</td>\n",
              "      <td>27</td>\n",
              "      <td>-1</td>\n",
              "      <td>-1.986786</td>\n",
              "    </tr>\n",
              "  </tbody>\n",
              "</table>\n",
              "</div>"
            ],
            "text/plain": [
              "    ticker        date   c_x  ...  lo_breakout  cluster_lof  Anomaly score\n",
              "358   CREX  2020-05-13  4.58  ...           27           -1      -1.338455\n",
              "357   CREX  2020-05-12  3.23  ...           18           -1      -1.389971\n",
              "355   CREX  2020-05-08  2.78  ...            8           -1      -1.618506\n",
              "344   CREX  2020-04-23  0.84  ...           37           -1      -1.619590\n",
              "346   CREX  2020-04-27  1.00  ...            4           -1      -1.745638\n",
              "345   CREX  2020-04-24  0.82  ...           27           -1      -1.986786\n",
              "\n",
              "[6 rows x 15 columns]"
            ]
          },
          "metadata": {
            "tags": []
          },
          "execution_count": 56
        }
      ]
    },
    {
      "cell_type": "markdown",
      "metadata": {
        "id": "WiMioHQpQlVA"
      },
      "source": [
        "Insights:\n",
        "* Among all anomaly detection methods, Local Outlier Factor (LOF) giving best results for our task, predicting the all 1's in change3 as anomalies.\n",
        "* We can filter out anomaly transactions either by predict class -1 (Anomaly) or by Anomaly score using threshold value."
      ]
    },
    {
      "cell_type": "code",
      "metadata": {
        "id": "Nn0dUQ0i4jFj"
      },
      "source": [
        ""
      ],
      "execution_count": null,
      "outputs": []
    }
  ]
}