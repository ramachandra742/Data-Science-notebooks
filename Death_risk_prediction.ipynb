{
  "nbformat": 4,
  "nbformat_minor": 5,
  "metadata": {
    "kernelspec": {
      "display_name": "Python 3 (ipykernel)",
      "language": "python",
      "name": "python3"
    },
    "language_info": {
      "codemirror_mode": {
        "name": "ipython",
        "version": 3
      },
      "file_extension": ".py",
      "mimetype": "text/x-python",
      "name": "python",
      "nbconvert_exporter": "python",
      "pygments_lexer": "ipython3",
      "version": "3.8.8"
    },
    "colab": {
      "name": "Death_risk_prediction_V1.ipynb",
      "provenance": [],
      "collapsed_sections": []
    }
  },
  "cells": [
    {
      "cell_type": "code",
      "metadata": {
        "colab": {
          "base_uri": "https://localhost:8080/"
        },
        "id": "cUWwSXCWEKG4",
        "outputId": "a82154a6-9dc5-496c-a8da-1363c694bd64"
      },
      "source": [
        "!pip install scikit-plot"
      ],
      "id": "cUWwSXCWEKG4",
      "execution_count": null,
      "outputs": [
        {
          "output_type": "stream",
          "name": "stdout",
          "text": [
            "Collecting scikit-plot\n",
            "  Downloading scikit_plot-0.3.7-py3-none-any.whl (33 kB)\n",
            "Requirement already satisfied: matplotlib>=1.4.0 in /usr/local/lib/python3.7/dist-packages (from scikit-plot) (3.2.2)\n",
            "Requirement already satisfied: joblib>=0.10 in /usr/local/lib/python3.7/dist-packages (from scikit-plot) (1.0.1)\n",
            "Requirement already satisfied: scipy>=0.9 in /usr/local/lib/python3.7/dist-packages (from scikit-plot) (1.4.1)\n",
            "Requirement already satisfied: scikit-learn>=0.18 in /usr/local/lib/python3.7/dist-packages (from scikit-plot) (0.22.2.post1)\n",
            "Requirement already satisfied: python-dateutil>=2.1 in /usr/local/lib/python3.7/dist-packages (from matplotlib>=1.4.0->scikit-plot) (2.8.2)\n",
            "Requirement already satisfied: numpy>=1.11 in /usr/local/lib/python3.7/dist-packages (from matplotlib>=1.4.0->scikit-plot) (1.19.5)\n",
            "Requirement already satisfied: pyparsing!=2.0.4,!=2.1.2,!=2.1.6,>=2.0.1 in /usr/local/lib/python3.7/dist-packages (from matplotlib>=1.4.0->scikit-plot) (2.4.7)\n",
            "Requirement already satisfied: kiwisolver>=1.0.1 in /usr/local/lib/python3.7/dist-packages (from matplotlib>=1.4.0->scikit-plot) (1.3.2)\n",
            "Requirement already satisfied: cycler>=0.10 in /usr/local/lib/python3.7/dist-packages (from matplotlib>=1.4.0->scikit-plot) (0.10.0)\n",
            "Requirement already satisfied: six in /usr/local/lib/python3.7/dist-packages (from cycler>=0.10->matplotlib>=1.4.0->scikit-plot) (1.15.0)\n",
            "Installing collected packages: scikit-plot\n",
            "Successfully installed scikit-plot-0.3.7\n"
          ]
        }
      ]
    },
    {
      "cell_type": "code",
      "metadata": {
        "id": "37d8de6a"
      },
      "source": [
        "import pandas as pd\n",
        "import numpy as np  \n",
        "import matplotlib.pyplot as plt  \n",
        "import seaborn as sns\n",
        "\n",
        "import warnings\n",
        "warnings.filterwarnings('ignore')"
      ],
      "id": "37d8de6a",
      "execution_count": null,
      "outputs": []
    },
    {
      "cell_type": "code",
      "metadata": {
        "colab": {
          "base_uri": "https://localhost:8080/",
          "height": 428
        },
        "id": "1f23721b",
        "outputId": "18a774c5-845c-4610-9857-ee195b06777a"
      },
      "source": [
        "# Read the data\n",
        "df = pd.read_csv('animal_shelter.csv')\n",
        "df.head()"
      ],
      "id": "1f23721b",
      "execution_count": null,
      "outputs": [
        {
          "output_type": "execute_result",
          "data": {
            "text/html": [
              "<div>\n",
              "<style scoped>\n",
              "    .dataframe tbody tr th:only-of-type {\n",
              "        vertical-align: middle;\n",
              "    }\n",
              "\n",
              "    .dataframe tbody tr th {\n",
              "        vertical-align: top;\n",
              "    }\n",
              "\n",
              "    .dataframe thead th {\n",
              "        text-align: right;\n",
              "    }\n",
              "</style>\n",
              "<table border=\"1\" class=\"dataframe\">\n",
              "  <thead>\n",
              "    <tr style=\"text-align: right;\">\n",
              "      <th></th>\n",
              "      <th>Animal ID</th>\n",
              "      <th>Name</th>\n",
              "      <th>DateTime</th>\n",
              "      <th>MonthYear</th>\n",
              "      <th>Date of Birth</th>\n",
              "      <th>Animal Type</th>\n",
              "      <th>Sex upon Outcome</th>\n",
              "      <th>Age upon Outcome</th>\n",
              "      <th>Breed</th>\n",
              "      <th>Color</th>\n",
              "      <th>Outcome</th>\n",
              "    </tr>\n",
              "  </thead>\n",
              "  <tbody>\n",
              "    <tr>\n",
              "      <th>0</th>\n",
              "      <td>A778325</td>\n",
              "      <td>NaN</td>\n",
              "      <td>08/22/2018 07:00:00 PM</td>\n",
              "      <td>08/22/2018 07:00:00 PM</td>\n",
              "      <td>12/12/2017</td>\n",
              "      <td>Dog</td>\n",
              "      <td>Spayed Female</td>\n",
              "      <td>8 months</td>\n",
              "      <td>Chihuahua Longhair Mix</td>\n",
              "      <td>White/Fawn</td>\n",
              "      <td>0</td>\n",
              "    </tr>\n",
              "    <tr>\n",
              "      <th>1</th>\n",
              "      <td>A737785</td>\n",
              "      <td>NaN</td>\n",
              "      <td>11/05/2016 09:00:00 AM</td>\n",
              "      <td>11/05/2016 09:00:00 AM</td>\n",
              "      <td>07/20/2016</td>\n",
              "      <td>Cat</td>\n",
              "      <td>Intact Male</td>\n",
              "      <td>3 months</td>\n",
              "      <td>Domestic Medium Hair Mix</td>\n",
              "      <td>Blue/White</td>\n",
              "      <td>0</td>\n",
              "    </tr>\n",
              "    <tr>\n",
              "      <th>2</th>\n",
              "      <td>A776337</td>\n",
              "      <td>*Milo</td>\n",
              "      <td>07/28/2018 07:00:00 PM</td>\n",
              "      <td>07/28/2018 07:00:00 PM</td>\n",
              "      <td>07/11/2017</td>\n",
              "      <td>Dog</td>\n",
              "      <td>Neutered Male</td>\n",
              "      <td>1 year</td>\n",
              "      <td>Pointer/Pit Bull</td>\n",
              "      <td>Black/White</td>\n",
              "      <td>0</td>\n",
              "    </tr>\n",
              "    <tr>\n",
              "      <th>3</th>\n",
              "      <td>A731745</td>\n",
              "      <td>*Vincente</td>\n",
              "      <td>08/17/2016 02:35:00 PM</td>\n",
              "      <td>08/17/2016 02:35:00 PM</td>\n",
              "      <td>04/27/2016</td>\n",
              "      <td>Cat</td>\n",
              "      <td>Neutered Male</td>\n",
              "      <td>3 months</td>\n",
              "      <td>Domestic Shorthair Mix</td>\n",
              "      <td>Black</td>\n",
              "      <td>0</td>\n",
              "    </tr>\n",
              "    <tr>\n",
              "      <th>4</th>\n",
              "      <td>A678831</td>\n",
              "      <td>NaN</td>\n",
              "      <td>05/13/2014 01:03:00 PM</td>\n",
              "      <td>05/13/2014 01:03:00 PM</td>\n",
              "      <td>04/21/2014</td>\n",
              "      <td>Cat</td>\n",
              "      <td>Unknown</td>\n",
              "      <td>3 weeks</td>\n",
              "      <td>Domestic Shorthair Mix</td>\n",
              "      <td>Black</td>\n",
              "      <td>0</td>\n",
              "    </tr>\n",
              "  </tbody>\n",
              "</table>\n",
              "</div>"
            ],
            "text/plain": [
              "  Animal ID       Name  ...        Color Outcome\n",
              "0   A778325        NaN  ...   White/Fawn       0\n",
              "1   A737785        NaN  ...   Blue/White       0\n",
              "2   A776337      *Milo  ...  Black/White       0\n",
              "3   A731745  *Vincente  ...        Black       0\n",
              "4   A678831        NaN  ...        Black       0\n",
              "\n",
              "[5 rows x 11 columns]"
            ]
          },
          "metadata": {},
          "execution_count": 3
        }
      ]
    },
    {
      "cell_type": "code",
      "metadata": {
        "colab": {
          "base_uri": "https://localhost:8080/"
        },
        "id": "6e18a0be",
        "outputId": "ed5d02ec-34d0-456f-f9ec-f04af7229268"
      },
      "source": [
        "df.shape"
      ],
      "id": "6e18a0be",
      "execution_count": null,
      "outputs": [
        {
          "output_type": "execute_result",
          "data": {
            "text/plain": [
              "(5000, 11)"
            ]
          },
          "metadata": {},
          "execution_count": 4
        }
      ]
    },
    {
      "cell_type": "markdown",
      "metadata": {
        "id": "07bdff0b"
      },
      "source": [
        "Our data has 5000 rows & 11 columns."
      ],
      "id": "07bdff0b"
    },
    {
      "cell_type": "code",
      "metadata": {
        "colab": {
          "base_uri": "https://localhost:8080/",
          "height": 297
        },
        "id": "cd6c4bfc",
        "outputId": "718e376b-5176-4cb2-b14a-b7a65fb48735"
      },
      "source": [
        "# Data statistics\n",
        "df.describe()"
      ],
      "id": "cd6c4bfc",
      "execution_count": null,
      "outputs": [
        {
          "output_type": "execute_result",
          "data": {
            "text/html": [
              "<div>\n",
              "<style scoped>\n",
              "    .dataframe tbody tr th:only-of-type {\n",
              "        vertical-align: middle;\n",
              "    }\n",
              "\n",
              "    .dataframe tbody tr th {\n",
              "        vertical-align: top;\n",
              "    }\n",
              "\n",
              "    .dataframe thead th {\n",
              "        text-align: right;\n",
              "    }\n",
              "</style>\n",
              "<table border=\"1\" class=\"dataframe\">\n",
              "  <thead>\n",
              "    <tr style=\"text-align: right;\">\n",
              "      <th></th>\n",
              "      <th>Outcome</th>\n",
              "    </tr>\n",
              "  </thead>\n",
              "  <tbody>\n",
              "    <tr>\n",
              "      <th>count</th>\n",
              "      <td>5000.00000</td>\n",
              "    </tr>\n",
              "    <tr>\n",
              "      <th>mean</th>\n",
              "      <td>0.07980</td>\n",
              "    </tr>\n",
              "    <tr>\n",
              "      <th>std</th>\n",
              "      <td>0.27101</td>\n",
              "    </tr>\n",
              "    <tr>\n",
              "      <th>min</th>\n",
              "      <td>0.00000</td>\n",
              "    </tr>\n",
              "    <tr>\n",
              "      <th>25%</th>\n",
              "      <td>0.00000</td>\n",
              "    </tr>\n",
              "    <tr>\n",
              "      <th>50%</th>\n",
              "      <td>0.00000</td>\n",
              "    </tr>\n",
              "    <tr>\n",
              "      <th>75%</th>\n",
              "      <td>0.00000</td>\n",
              "    </tr>\n",
              "    <tr>\n",
              "      <th>max</th>\n",
              "      <td>1.00000</td>\n",
              "    </tr>\n",
              "  </tbody>\n",
              "</table>\n",
              "</div>"
            ],
            "text/plain": [
              "          Outcome\n",
              "count  5000.00000\n",
              "mean      0.07980\n",
              "std       0.27101\n",
              "min       0.00000\n",
              "25%       0.00000\n",
              "50%       0.00000\n",
              "75%       0.00000\n",
              "max       1.00000"
            ]
          },
          "metadata": {},
          "execution_count": 5
        }
      ]
    },
    {
      "cell_type": "code",
      "metadata": {
        "colab": {
          "base_uri": "https://localhost:8080/"
        },
        "id": "07a21425",
        "outputId": "b4d83a3d-9c5e-4eab-90ba-c8110b255b1a"
      },
      "source": [
        "df.info()"
      ],
      "id": "07a21425",
      "execution_count": null,
      "outputs": [
        {
          "output_type": "stream",
          "name": "stdout",
          "text": [
            "<class 'pandas.core.frame.DataFrame'>\n",
            "RangeIndex: 5000 entries, 0 to 4999\n",
            "Data columns (total 11 columns):\n",
            " #   Column            Non-Null Count  Dtype \n",
            "---  ------            --------------  ----- \n",
            " 0   Animal ID         5000 non-null   object\n",
            " 1   Name              3438 non-null   object\n",
            " 2   DateTime          5000 non-null   object\n",
            " 3   MonthYear         5000 non-null   object\n",
            " 4   Date of Birth     5000 non-null   object\n",
            " 5   Animal Type       5000 non-null   object\n",
            " 6   Sex upon Outcome  5000 non-null   object\n",
            " 7   Age upon Outcome  4999 non-null   object\n",
            " 8   Breed             5000 non-null   object\n",
            " 9   Color             5000 non-null   object\n",
            " 10  Outcome           5000 non-null   int64 \n",
            "dtypes: int64(1), object(10)\n",
            "memory usage: 429.8+ KB\n"
          ]
        }
      ]
    },
    {
      "cell_type": "markdown",
      "metadata": {
        "id": "840d26db"
      },
      "source": [
        "The columns Name, & Age upon Outcome have missing values. Let's see their percentage."
      ],
      "id": "840d26db"
    },
    {
      "cell_type": "markdown",
      "metadata": {
        "id": "4228511e"
      },
      "source": [
        "# Data cleaning"
      ],
      "id": "4228511e"
    },
    {
      "cell_type": "code",
      "metadata": {
        "colab": {
          "base_uri": "https://localhost:8080/"
        },
        "id": "086c96ca",
        "outputId": "03413787-82c5-456a-b468-492b9f1fce81"
      },
      "source": [
        "# Check missing values in % \n",
        "df.isnull().sum()/df.shape[0]"
      ],
      "id": "086c96ca",
      "execution_count": null,
      "outputs": [
        {
          "output_type": "execute_result",
          "data": {
            "text/plain": [
              "Animal ID           0.0000\n",
              "Name                0.3124\n",
              "DateTime            0.0000\n",
              "MonthYear           0.0000\n",
              "Date of Birth       0.0000\n",
              "Animal Type         0.0000\n",
              "Sex upon Outcome    0.0000\n",
              "Age upon Outcome    0.0002\n",
              "Breed               0.0000\n",
              "Color               0.0000\n",
              "Outcome             0.0000\n",
              "dtype: float64"
            ]
          },
          "metadata": {},
          "execution_count": 7
        }
      ]
    },
    {
      "cell_type": "markdown",
      "metadata": {
        "id": "80abe0c9"
      },
      "source": [
        "Name column has 31.24% of missing values & also it doesn't have any impact on Outcome. Let's drop this column from the data. Also, Animal ID is a just ID of the animal, it doesn't have any impact on Outcome. Let's drop it."
      ],
      "id": "80abe0c9"
    },
    {
      "cell_type": "code",
      "metadata": {
        "id": "2db6ec5e"
      },
      "source": [
        "df_risk = df.drop(['Name','Animal ID'], axis=1)"
      ],
      "id": "2db6ec5e",
      "execution_count": null,
      "outputs": []
    },
    {
      "cell_type": "code",
      "metadata": {
        "id": "d631a822"
      },
      "source": [
        "# Drop null values if any\n",
        "df_risk = df_risk.dropna()"
      ],
      "id": "d631a822",
      "execution_count": null,
      "outputs": []
    },
    {
      "cell_type": "code",
      "metadata": {
        "colab": {
          "base_uri": "https://localhost:8080/"
        },
        "id": "6c0e70c1",
        "outputId": "33d16647-179a-47de-f461-f57b57360f1d"
      },
      "source": [
        "df_risk.isnull().sum()"
      ],
      "id": "6c0e70c1",
      "execution_count": null,
      "outputs": [
        {
          "output_type": "execute_result",
          "data": {
            "text/plain": [
              "DateTime            0\n",
              "MonthYear           0\n",
              "Date of Birth       0\n",
              "Animal Type         0\n",
              "Sex upon Outcome    0\n",
              "Age upon Outcome    0\n",
              "Breed               0\n",
              "Color               0\n",
              "Outcome             0\n",
              "dtype: int64"
            ]
          },
          "metadata": {},
          "execution_count": 10
        }
      ]
    },
    {
      "cell_type": "markdown",
      "metadata": {
        "id": "93f7aadf"
      },
      "source": [
        "No null values are present."
      ],
      "id": "93f7aadf"
    },
    {
      "cell_type": "code",
      "metadata": {
        "colab": {
          "base_uri": "https://localhost:8080/"
        },
        "id": "d6c0b1b9",
        "outputId": "71b30ec8-7543-4e1f-f5d5-35f32c292e50"
      },
      "source": [
        "df_risk.shape"
      ],
      "id": "d6c0b1b9",
      "execution_count": null,
      "outputs": [
        {
          "output_type": "execute_result",
          "data": {
            "text/plain": [
              "(4999, 9)"
            ]
          },
          "metadata": {},
          "execution_count": 11
        }
      ]
    },
    {
      "cell_type": "markdown",
      "metadata": {
        "id": "395bcc14"
      },
      "source": [
        "Now our data contains 4999 rows & 9 columns."
      ],
      "id": "395bcc14"
    },
    {
      "cell_type": "code",
      "metadata": {
        "colab": {
          "base_uri": "https://localhost:8080/",
          "height": 323
        },
        "id": "6d8de572",
        "outputId": "147abced-6ace-49a7-ec16-047841f86a5a"
      },
      "source": [
        "df_risk.head()"
      ],
      "id": "6d8de572",
      "execution_count": null,
      "outputs": [
        {
          "output_type": "execute_result",
          "data": {
            "text/html": [
              "<div>\n",
              "<style scoped>\n",
              "    .dataframe tbody tr th:only-of-type {\n",
              "        vertical-align: middle;\n",
              "    }\n",
              "\n",
              "    .dataframe tbody tr th {\n",
              "        vertical-align: top;\n",
              "    }\n",
              "\n",
              "    .dataframe thead th {\n",
              "        text-align: right;\n",
              "    }\n",
              "</style>\n",
              "<table border=\"1\" class=\"dataframe\">\n",
              "  <thead>\n",
              "    <tr style=\"text-align: right;\">\n",
              "      <th></th>\n",
              "      <th>DateTime</th>\n",
              "      <th>MonthYear</th>\n",
              "      <th>Date of Birth</th>\n",
              "      <th>Animal Type</th>\n",
              "      <th>Sex upon Outcome</th>\n",
              "      <th>Age upon Outcome</th>\n",
              "      <th>Breed</th>\n",
              "      <th>Color</th>\n",
              "      <th>Outcome</th>\n",
              "    </tr>\n",
              "  </thead>\n",
              "  <tbody>\n",
              "    <tr>\n",
              "      <th>0</th>\n",
              "      <td>08/22/2018 07:00:00 PM</td>\n",
              "      <td>08/22/2018 07:00:00 PM</td>\n",
              "      <td>12/12/2017</td>\n",
              "      <td>Dog</td>\n",
              "      <td>Spayed Female</td>\n",
              "      <td>8 months</td>\n",
              "      <td>Chihuahua Longhair Mix</td>\n",
              "      <td>White/Fawn</td>\n",
              "      <td>0</td>\n",
              "    </tr>\n",
              "    <tr>\n",
              "      <th>1</th>\n",
              "      <td>11/05/2016 09:00:00 AM</td>\n",
              "      <td>11/05/2016 09:00:00 AM</td>\n",
              "      <td>07/20/2016</td>\n",
              "      <td>Cat</td>\n",
              "      <td>Intact Male</td>\n",
              "      <td>3 months</td>\n",
              "      <td>Domestic Medium Hair Mix</td>\n",
              "      <td>Blue/White</td>\n",
              "      <td>0</td>\n",
              "    </tr>\n",
              "    <tr>\n",
              "      <th>2</th>\n",
              "      <td>07/28/2018 07:00:00 PM</td>\n",
              "      <td>07/28/2018 07:00:00 PM</td>\n",
              "      <td>07/11/2017</td>\n",
              "      <td>Dog</td>\n",
              "      <td>Neutered Male</td>\n",
              "      <td>1 year</td>\n",
              "      <td>Pointer/Pit Bull</td>\n",
              "      <td>Black/White</td>\n",
              "      <td>0</td>\n",
              "    </tr>\n",
              "    <tr>\n",
              "      <th>3</th>\n",
              "      <td>08/17/2016 02:35:00 PM</td>\n",
              "      <td>08/17/2016 02:35:00 PM</td>\n",
              "      <td>04/27/2016</td>\n",
              "      <td>Cat</td>\n",
              "      <td>Neutered Male</td>\n",
              "      <td>3 months</td>\n",
              "      <td>Domestic Shorthair Mix</td>\n",
              "      <td>Black</td>\n",
              "      <td>0</td>\n",
              "    </tr>\n",
              "    <tr>\n",
              "      <th>4</th>\n",
              "      <td>05/13/2014 01:03:00 PM</td>\n",
              "      <td>05/13/2014 01:03:00 PM</td>\n",
              "      <td>04/21/2014</td>\n",
              "      <td>Cat</td>\n",
              "      <td>Unknown</td>\n",
              "      <td>3 weeks</td>\n",
              "      <td>Domestic Shorthair Mix</td>\n",
              "      <td>Black</td>\n",
              "      <td>0</td>\n",
              "    </tr>\n",
              "  </tbody>\n",
              "</table>\n",
              "</div>"
            ],
            "text/plain": [
              "                 DateTime               MonthYear  ...        Color Outcome\n",
              "0  08/22/2018 07:00:00 PM  08/22/2018 07:00:00 PM  ...   White/Fawn       0\n",
              "1  11/05/2016 09:00:00 AM  11/05/2016 09:00:00 AM  ...   Blue/White       0\n",
              "2  07/28/2018 07:00:00 PM  07/28/2018 07:00:00 PM  ...  Black/White       0\n",
              "3  08/17/2016 02:35:00 PM  08/17/2016 02:35:00 PM  ...        Black       0\n",
              "4  05/13/2014 01:03:00 PM  05/13/2014 01:03:00 PM  ...        Black       0\n",
              "\n",
              "[5 rows x 9 columns]"
            ]
          },
          "metadata": {},
          "execution_count": 12
        }
      ]
    },
    {
      "cell_type": "code",
      "metadata": {
        "id": "7ac4629a"
      },
      "source": [
        "# Drop duplicates \n",
        "df_risk = df_risk.drop_duplicates()"
      ],
      "id": "7ac4629a",
      "execution_count": null,
      "outputs": []
    },
    {
      "cell_type": "code",
      "metadata": {
        "colab": {
          "base_uri": "https://localhost:8080/"
        },
        "id": "3db4402f",
        "outputId": "3857650f-3d29-4a93-80f7-dc0dfc7d8315"
      },
      "source": [
        "df_risk.shape"
      ],
      "id": "3db4402f",
      "execution_count": null,
      "outputs": [
        {
          "output_type": "execute_result",
          "data": {
            "text/plain": [
              "(4992, 9)"
            ]
          },
          "metadata": {},
          "execution_count": 14
        }
      ]
    },
    {
      "cell_type": "markdown",
      "metadata": {
        "id": "51ee794a"
      },
      "source": [
        "7 duplicate rows have been dropped. Now our data contains 4992 rows & 9 columns."
      ],
      "id": "51ee794a"
    },
    {
      "cell_type": "markdown",
      "metadata": {
        "id": "0e62fe56"
      },
      "source": [
        "We can also observe that the columns **DateTime & MonthYear** are same. So, let's drop one."
      ],
      "id": "0e62fe56"
    },
    {
      "cell_type": "code",
      "metadata": {
        "id": "b090a3d1"
      },
      "source": [
        "df_risk.drop('MonthYear', axis=1, inplace=True)"
      ],
      "id": "b090a3d1",
      "execution_count": null,
      "outputs": []
    },
    {
      "cell_type": "code",
      "metadata": {
        "colab": {
          "base_uri": "https://localhost:8080/"
        },
        "id": "f932a183",
        "outputId": "a4ba5aa9-c005-42f3-ebe6-b1db4bee7ef0"
      },
      "source": [
        "# Check the data types\n",
        "df_risk.dtypes"
      ],
      "id": "f932a183",
      "execution_count": null,
      "outputs": [
        {
          "output_type": "execute_result",
          "data": {
            "text/plain": [
              "DateTime            object\n",
              "Date of Birth       object\n",
              "Animal Type         object\n",
              "Sex upon Outcome    object\n",
              "Age upon Outcome    object\n",
              "Breed               object\n",
              "Color               object\n",
              "Outcome              int64\n",
              "dtype: object"
            ]
          },
          "metadata": {},
          "execution_count": 16
        }
      ]
    },
    {
      "cell_type": "markdown",
      "metadata": {
        "id": "8cc2a50b"
      },
      "source": [
        "Except Outcome, all other columns have object data type. So, we need to convert these features to their approriate data types."
      ],
      "id": "8cc2a50b"
    },
    {
      "cell_type": "markdown",
      "metadata": {
        "id": "392d7ab4"
      },
      "source": [
        "**Convert the features to their appropriate data types**"
      ],
      "id": "392d7ab4"
    },
    {
      "cell_type": "markdown",
      "metadata": {
        "id": "1bb82d1d"
      },
      "source": [
        "Convert DateTime object type to datetime type."
      ],
      "id": "1bb82d1d"
    },
    {
      "cell_type": "code",
      "metadata": {
        "id": "86a92059"
      },
      "source": [
        "df_risk['DateTime'] = pd.to_datetime(df_risk['DateTime'])\n",
        "\n",
        "# Create month, year, & day features \n",
        "df_risk['intake_month'] = df_risk['DateTime'].dt.month\n",
        "df_risk['intake_year'] = df_risk['DateTime'].dt.year\n",
        "df_risk['intake_day'] = df_risk['DateTime'].dt.day"
      ],
      "id": "86a92059",
      "execution_count": null,
      "outputs": []
    },
    {
      "cell_type": "code",
      "metadata": {
        "id": "71d17a5d"
      },
      "source": [
        "# Similarly convert Date of Birth object type to datetime\n",
        "df_risk['Date of Birth'] = pd.to_datetime(df_risk['Date of Birth'])\n",
        "\n",
        "# Create month, year, & day features \n",
        "df_risk['born_month'] = df_risk['Date of Birth'].dt.month\n",
        "df_risk['born_year'] = df_risk['Date of Birth'].dt.year\n",
        "df_risk['born_day'] = df_risk['Date of Birth'].dt.day"
      ],
      "id": "71d17a5d",
      "execution_count": null,
      "outputs": []
    },
    {
      "cell_type": "markdown",
      "metadata": {
        "id": "b34e8b1a"
      },
      "source": [
        "Now convert the columns **Animal Type, Sex upon Outcome, Breed, & Color** from object type to categorical."
      ],
      "id": "b34e8b1a"
    },
    {
      "cell_type": "code",
      "metadata": {
        "id": "e114eed3"
      },
      "source": [
        "categorical_cols = ['Animal Type', 'Sex upon Outcome', 'Breed', 'Color']\n",
        "for col in categorical_cols:\n",
        "    df_risk[col] = df_risk[col].astype('category')"
      ],
      "id": "e114eed3",
      "execution_count": null,
      "outputs": []
    },
    {
      "cell_type": "markdown",
      "metadata": {
        "id": "216e49db"
      },
      "source": [
        "Finally, the column **Age upon Outcome** is numeric column. We need to do some pre-processing."
      ],
      "id": "216e49db"
    },
    {
      "cell_type": "code",
      "metadata": {
        "colab": {
          "base_uri": "https://localhost:8080/"
        },
        "id": "5fec342e",
        "outputId": "5a8af96a-8991-49bc-906b-af386ae9a498"
      },
      "source": [
        "# Unique items\n",
        "df_risk['Age upon Outcome'].unique()"
      ],
      "id": "5fec342e",
      "execution_count": null,
      "outputs": [
        {
          "output_type": "execute_result",
          "data": {
            "text/plain": [
              "array(['8 months', '3 months', '1 year', '3 weeks', '1 month', '5 years',\n",
              "       '4 months', '2 months', '4 weeks', '2 weeks', '3 years', '2 years',\n",
              "       '10 months', '9 months', '4 years', '1 week', '7 years',\n",
              "       '10 years', '12 years', '8 years', '9 years', '14 years',\n",
              "       '11 months', '6 months', '5 months', '3 days', '13 years',\n",
              "       '7 months', '6 years', '0 years', '15 years', '1 weeks',\n",
              "       '11 years', '4 days', '2 days', '1 day', '5 days', '6 days',\n",
              "       '19 years', '5 weeks', '18 years', '17 years', '16 years'],\n",
              "      dtype=object)"
            ]
          },
          "metadata": {},
          "execution_count": 20
        }
      ]
    },
    {
      "cell_type": "markdown",
      "metadata": {
        "id": "86d071ff"
      },
      "source": [
        "We can see that the age is given in months, weeks, days, & years. Let's convert the age in **years**."
      ],
      "id": "86d071ff"
    },
    {
      "cell_type": "code",
      "metadata": {
        "id": "021d2264"
      },
      "source": [
        "# Create new column named age & initialize with nan values  \n",
        "df_risk['age'] = np.nan"
      ],
      "id": "021d2264",
      "execution_count": null,
      "outputs": []
    },
    {
      "cell_type": "code",
      "metadata": {
        "id": "09bbc982"
      },
      "source": [
        "for idx, row in df_risk.iterrows():\n",
        "      if 'months' in row['Age upon Outcome']:\n",
        "            df_risk['age'][idx] = round(int(df_risk['Age upon Outcome'][idx].split()[0])/12, 2)\n",
        "      elif 'weeks' in row['Age upon Outcome']:\n",
        "            df_risk['age'][idx] = round(int(df_risk['Age upon Outcome'][idx].split()[0])/52, 2)\n",
        "      elif 'days' in row['Age upon Outcome']:\n",
        "            df_risk['age'][idx] = round(int(df_risk['Age upon Outcome'][idx].split()[0])/365, 2)\n",
        "      else:\n",
        "          df_risk['age'][idx] = int(df_risk['Age upon Outcome'][idx].split()[0])"
      ],
      "id": "09bbc982",
      "execution_count": null,
      "outputs": []
    },
    {
      "cell_type": "code",
      "metadata": {
        "id": "2c323fa8"
      },
      "source": [
        "# Drop Age upon Outcome column  & rename age column \n",
        "df_risk.drop('Age upon Outcome', axis=1, inplace=True)\n",
        "df_risk =  df_risk.rename(columns={'age':'Age upon Outcome'})"
      ],
      "id": "2c323fa8",
      "execution_count": null,
      "outputs": []
    },
    {
      "cell_type": "code",
      "metadata": {
        "colab": {
          "base_uri": "https://localhost:8080/",
          "height": 428
        },
        "id": "c7d06c4b",
        "outputId": "cd7f9f87-1af9-4e18-ebd9-a5c780937a0d"
      },
      "source": [
        "df_risk.head()"
      ],
      "id": "c7d06c4b",
      "execution_count": null,
      "outputs": [
        {
          "output_type": "execute_result",
          "data": {
            "text/html": [
              "<div>\n",
              "<style scoped>\n",
              "    .dataframe tbody tr th:only-of-type {\n",
              "        vertical-align: middle;\n",
              "    }\n",
              "\n",
              "    .dataframe tbody tr th {\n",
              "        vertical-align: top;\n",
              "    }\n",
              "\n",
              "    .dataframe thead th {\n",
              "        text-align: right;\n",
              "    }\n",
              "</style>\n",
              "<table border=\"1\" class=\"dataframe\">\n",
              "  <thead>\n",
              "    <tr style=\"text-align: right;\">\n",
              "      <th></th>\n",
              "      <th>DateTime</th>\n",
              "      <th>Date of Birth</th>\n",
              "      <th>Animal Type</th>\n",
              "      <th>Sex upon Outcome</th>\n",
              "      <th>Breed</th>\n",
              "      <th>Color</th>\n",
              "      <th>Outcome</th>\n",
              "      <th>intake_month</th>\n",
              "      <th>intake_year</th>\n",
              "      <th>intake_day</th>\n",
              "      <th>born_month</th>\n",
              "      <th>born_year</th>\n",
              "      <th>born_day</th>\n",
              "      <th>Age upon Outcome</th>\n",
              "    </tr>\n",
              "  </thead>\n",
              "  <tbody>\n",
              "    <tr>\n",
              "      <th>0</th>\n",
              "      <td>2018-08-22 19:00:00</td>\n",
              "      <td>2017-12-12</td>\n",
              "      <td>Dog</td>\n",
              "      <td>Spayed Female</td>\n",
              "      <td>Chihuahua Longhair Mix</td>\n",
              "      <td>White/Fawn</td>\n",
              "      <td>0</td>\n",
              "      <td>8</td>\n",
              "      <td>2018</td>\n",
              "      <td>22</td>\n",
              "      <td>12</td>\n",
              "      <td>2017</td>\n",
              "      <td>12</td>\n",
              "      <td>0.67</td>\n",
              "    </tr>\n",
              "    <tr>\n",
              "      <th>1</th>\n",
              "      <td>2016-11-05 09:00:00</td>\n",
              "      <td>2016-07-20</td>\n",
              "      <td>Cat</td>\n",
              "      <td>Intact Male</td>\n",
              "      <td>Domestic Medium Hair Mix</td>\n",
              "      <td>Blue/White</td>\n",
              "      <td>0</td>\n",
              "      <td>11</td>\n",
              "      <td>2016</td>\n",
              "      <td>5</td>\n",
              "      <td>7</td>\n",
              "      <td>2016</td>\n",
              "      <td>20</td>\n",
              "      <td>0.25</td>\n",
              "    </tr>\n",
              "    <tr>\n",
              "      <th>2</th>\n",
              "      <td>2018-07-28 19:00:00</td>\n",
              "      <td>2017-07-11</td>\n",
              "      <td>Dog</td>\n",
              "      <td>Neutered Male</td>\n",
              "      <td>Pointer/Pit Bull</td>\n",
              "      <td>Black/White</td>\n",
              "      <td>0</td>\n",
              "      <td>7</td>\n",
              "      <td>2018</td>\n",
              "      <td>28</td>\n",
              "      <td>7</td>\n",
              "      <td>2017</td>\n",
              "      <td>11</td>\n",
              "      <td>1.00</td>\n",
              "    </tr>\n",
              "    <tr>\n",
              "      <th>3</th>\n",
              "      <td>2016-08-17 14:35:00</td>\n",
              "      <td>2016-04-27</td>\n",
              "      <td>Cat</td>\n",
              "      <td>Neutered Male</td>\n",
              "      <td>Domestic Shorthair Mix</td>\n",
              "      <td>Black</td>\n",
              "      <td>0</td>\n",
              "      <td>8</td>\n",
              "      <td>2016</td>\n",
              "      <td>17</td>\n",
              "      <td>4</td>\n",
              "      <td>2016</td>\n",
              "      <td>27</td>\n",
              "      <td>0.25</td>\n",
              "    </tr>\n",
              "    <tr>\n",
              "      <th>4</th>\n",
              "      <td>2014-05-13 13:03:00</td>\n",
              "      <td>2014-04-21</td>\n",
              "      <td>Cat</td>\n",
              "      <td>Unknown</td>\n",
              "      <td>Domestic Shorthair Mix</td>\n",
              "      <td>Black</td>\n",
              "      <td>0</td>\n",
              "      <td>5</td>\n",
              "      <td>2014</td>\n",
              "      <td>13</td>\n",
              "      <td>4</td>\n",
              "      <td>2014</td>\n",
              "      <td>21</td>\n",
              "      <td>0.06</td>\n",
              "    </tr>\n",
              "  </tbody>\n",
              "</table>\n",
              "</div>"
            ],
            "text/plain": [
              "             DateTime Date of Birth  ... born_day Age upon Outcome\n",
              "0 2018-08-22 19:00:00    2017-12-12  ...       12             0.67\n",
              "1 2016-11-05 09:00:00    2016-07-20  ...       20             0.25\n",
              "2 2018-07-28 19:00:00    2017-07-11  ...       11             1.00\n",
              "3 2016-08-17 14:35:00    2016-04-27  ...       27             0.25\n",
              "4 2014-05-13 13:03:00    2014-04-21  ...       21             0.06\n",
              "\n",
              "[5 rows x 14 columns]"
            ]
          },
          "metadata": {},
          "execution_count": 24
        }
      ]
    },
    {
      "cell_type": "markdown",
      "metadata": {
        "id": "909561b1"
      },
      "source": [
        "Now encode the categorical columns"
      ],
      "id": "909561b1"
    },
    {
      "cell_type": "code",
      "metadata": {
        "id": "3ab5eb07"
      },
      "source": [
        "cols = ['Animal Type', 'Sex upon Outcome', 'Breed','Color']\n",
        "for col in cols:\n",
        "  df_risk[col] = df_risk[col].cat.codes"
      ],
      "id": "3ab5eb07",
      "execution_count": null,
      "outputs": []
    },
    {
      "cell_type": "code",
      "metadata": {
        "id": "bc6611ca"
      },
      "source": [
        "# Drop DateTime & Date of Birth\n",
        "df_risk.drop(['DateTime','Date of Birth'], axis=1, inplace=True)"
      ],
      "id": "bc6611ca",
      "execution_count": null,
      "outputs": []
    },
    {
      "cell_type": "code",
      "metadata": {
        "colab": {
          "base_uri": "https://localhost:8080/",
          "height": 258
        },
        "id": "a5d75e32",
        "outputId": "b862d013-0bdb-4518-e3ea-49bda0d446f6"
      },
      "source": [
        "df_risk.head()"
      ],
      "id": "a5d75e32",
      "execution_count": null,
      "outputs": [
        {
          "output_type": "execute_result",
          "data": {
            "text/html": [
              "<div>\n",
              "<style scoped>\n",
              "    .dataframe tbody tr th:only-of-type {\n",
              "        vertical-align: middle;\n",
              "    }\n",
              "\n",
              "    .dataframe tbody tr th {\n",
              "        vertical-align: top;\n",
              "    }\n",
              "\n",
              "    .dataframe thead th {\n",
              "        text-align: right;\n",
              "    }\n",
              "</style>\n",
              "<table border=\"1\" class=\"dataframe\">\n",
              "  <thead>\n",
              "    <tr style=\"text-align: right;\">\n",
              "      <th></th>\n",
              "      <th>Animal Type</th>\n",
              "      <th>Sex upon Outcome</th>\n",
              "      <th>Breed</th>\n",
              "      <th>Color</th>\n",
              "      <th>Outcome</th>\n",
              "      <th>intake_month</th>\n",
              "      <th>intake_year</th>\n",
              "      <th>intake_day</th>\n",
              "      <th>born_month</th>\n",
              "      <th>born_year</th>\n",
              "      <th>born_day</th>\n",
              "      <th>Age upon Outcome</th>\n",
              "    </tr>\n",
              "  </thead>\n",
              "  <tbody>\n",
              "    <tr>\n",
              "      <th>0</th>\n",
              "      <td>2</td>\n",
              "      <td>3</td>\n",
              "      <td>164</td>\n",
              "      <td>208</td>\n",
              "      <td>0</td>\n",
              "      <td>8</td>\n",
              "      <td>2018</td>\n",
              "      <td>22</td>\n",
              "      <td>12</td>\n",
              "      <td>2017</td>\n",
              "      <td>12</td>\n",
              "      <td>0.67</td>\n",
              "    </tr>\n",
              "    <tr>\n",
              "      <th>1</th>\n",
              "      <td>1</td>\n",
              "      <td>1</td>\n",
              "      <td>236</td>\n",
              "      <td>51</td>\n",
              "      <td>0</td>\n",
              "      <td>11</td>\n",
              "      <td>2016</td>\n",
              "      <td>5</td>\n",
              "      <td>7</td>\n",
              "      <td>2016</td>\n",
              "      <td>20</td>\n",
              "      <td>0.25</td>\n",
              "    </tr>\n",
              "    <tr>\n",
              "      <th>2</th>\n",
              "      <td>2</td>\n",
              "      <td>2</td>\n",
              "      <td>428</td>\n",
              "      <td>25</td>\n",
              "      <td>0</td>\n",
              "      <td>7</td>\n",
              "      <td>2018</td>\n",
              "      <td>28</td>\n",
              "      <td>7</td>\n",
              "      <td>2017</td>\n",
              "      <td>11</td>\n",
              "      <td>1.00</td>\n",
              "    </tr>\n",
              "    <tr>\n",
              "      <th>3</th>\n",
              "      <td>1</td>\n",
              "      <td>2</td>\n",
              "      <td>238</td>\n",
              "      <td>1</td>\n",
              "      <td>0</td>\n",
              "      <td>8</td>\n",
              "      <td>2016</td>\n",
              "      <td>17</td>\n",
              "      <td>4</td>\n",
              "      <td>2016</td>\n",
              "      <td>27</td>\n",
              "      <td>0.25</td>\n",
              "    </tr>\n",
              "    <tr>\n",
              "      <th>4</th>\n",
              "      <td>1</td>\n",
              "      <td>4</td>\n",
              "      <td>238</td>\n",
              "      <td>1</td>\n",
              "      <td>0</td>\n",
              "      <td>5</td>\n",
              "      <td>2014</td>\n",
              "      <td>13</td>\n",
              "      <td>4</td>\n",
              "      <td>2014</td>\n",
              "      <td>21</td>\n",
              "      <td>0.06</td>\n",
              "    </tr>\n",
              "  </tbody>\n",
              "</table>\n",
              "</div>"
            ],
            "text/plain": [
              "   Animal Type  Sex upon Outcome  Breed  ...  born_year  born_day  Age upon Outcome\n",
              "0            2                 3    164  ...       2017        12              0.67\n",
              "1            1                 1    236  ...       2016        20              0.25\n",
              "2            2                 2    428  ...       2017        11              1.00\n",
              "3            1                 2    238  ...       2016        27              0.25\n",
              "4            1                 4    238  ...       2014        21              0.06\n",
              "\n",
              "[5 rows x 12 columns]"
            ]
          },
          "metadata": {},
          "execution_count": 27
        }
      ]
    },
    {
      "cell_type": "code",
      "metadata": {
        "colab": {
          "base_uri": "https://localhost:8080/"
        },
        "id": "27451602",
        "outputId": "22f218af-35ee-4057-e525-3185855235da"
      },
      "source": [
        "df_risk.shape"
      ],
      "id": "27451602",
      "execution_count": null,
      "outputs": [
        {
          "output_type": "execute_result",
          "data": {
            "text/plain": [
              "(4992, 12)"
            ]
          },
          "metadata": {},
          "execution_count": 28
        }
      ]
    },
    {
      "cell_type": "markdown",
      "metadata": {
        "id": "a7c12d89"
      },
      "source": [
        "Now our preprocessed data contains 4992 rows & 12 features."
      ],
      "id": "a7c12d89"
    },
    {
      "cell_type": "code",
      "metadata": {
        "colab": {
          "base_uri": "https://localhost:8080/"
        },
        "id": "0fd1fa00",
        "outputId": "c90ecf1f-45eb-468e-876f-92195395300b"
      },
      "source": [
        "df_risk.columns"
      ],
      "id": "0fd1fa00",
      "execution_count": null,
      "outputs": [
        {
          "output_type": "execute_result",
          "data": {
            "text/plain": [
              "Index(['Animal Type', 'Sex upon Outcome', 'Breed', 'Color', 'Outcome',\n",
              "       'intake_month', 'intake_year', 'intake_day', 'born_month', 'born_year',\n",
              "       'born_day', 'Age upon Outcome'],\n",
              "      dtype='object')"
            ]
          },
          "metadata": {},
          "execution_count": 29
        }
      ]
    },
    {
      "cell_type": "code",
      "metadata": {
        "id": "a6340510"
      },
      "source": [
        "# Save data \n",
        "df_risk.to_csv('pre-processed.csv', index=False)"
      ],
      "id": "a6340510",
      "execution_count": null,
      "outputs": []
    },
    {
      "cell_type": "markdown",
      "metadata": {
        "id": "abcdb857"
      },
      "source": [
        "# Normalization"
      ],
      "id": "abcdb857"
    },
    {
      "cell_type": "markdown",
      "metadata": {
        "id": "568307b5"
      },
      "source": [
        "Age upon Outcome is the only continuous column. Let's normalize this column using min-max normalization method."
      ],
      "id": "568307b5"
    },
    {
      "cell_type": "code",
      "metadata": {
        "id": "26f68d68"
      },
      "source": [
        "normalized_df = df_risk.copy()\n",
        "col = 'Age upon Outcome'\n",
        "normalized_df['Age upon Outcome'] = (normalized_df[col]-normalized_df[col].min())/(normalized_df[col].max()-normalized_df[col].min())"
      ],
      "id": "26f68d68",
      "execution_count": null,
      "outputs": []
    },
    {
      "cell_type": "code",
      "metadata": {
        "colab": {
          "base_uri": "https://localhost:8080/",
          "height": 258
        },
        "id": "55e3b8ce",
        "outputId": "f1549102-76e0-4e50-957b-7986ed12fb40"
      },
      "source": [
        "normalized_df.head()"
      ],
      "id": "55e3b8ce",
      "execution_count": null,
      "outputs": [
        {
          "output_type": "execute_result",
          "data": {
            "text/html": [
              "<div>\n",
              "<style scoped>\n",
              "    .dataframe tbody tr th:only-of-type {\n",
              "        vertical-align: middle;\n",
              "    }\n",
              "\n",
              "    .dataframe tbody tr th {\n",
              "        vertical-align: top;\n",
              "    }\n",
              "\n",
              "    .dataframe thead th {\n",
              "        text-align: right;\n",
              "    }\n",
              "</style>\n",
              "<table border=\"1\" class=\"dataframe\">\n",
              "  <thead>\n",
              "    <tr style=\"text-align: right;\">\n",
              "      <th></th>\n",
              "      <th>Animal Type</th>\n",
              "      <th>Sex upon Outcome</th>\n",
              "      <th>Breed</th>\n",
              "      <th>Color</th>\n",
              "      <th>Outcome</th>\n",
              "      <th>intake_month</th>\n",
              "      <th>intake_year</th>\n",
              "      <th>intake_day</th>\n",
              "      <th>born_month</th>\n",
              "      <th>born_year</th>\n",
              "      <th>born_day</th>\n",
              "      <th>Age upon Outcome</th>\n",
              "    </tr>\n",
              "  </thead>\n",
              "  <tbody>\n",
              "    <tr>\n",
              "      <th>0</th>\n",
              "      <td>2</td>\n",
              "      <td>3</td>\n",
              "      <td>164</td>\n",
              "      <td>208</td>\n",
              "      <td>0</td>\n",
              "      <td>8</td>\n",
              "      <td>2018</td>\n",
              "      <td>22</td>\n",
              "      <td>12</td>\n",
              "      <td>2017</td>\n",
              "      <td>12</td>\n",
              "      <td>0.035263</td>\n",
              "    </tr>\n",
              "    <tr>\n",
              "      <th>1</th>\n",
              "      <td>1</td>\n",
              "      <td>1</td>\n",
              "      <td>236</td>\n",
              "      <td>51</td>\n",
              "      <td>0</td>\n",
              "      <td>11</td>\n",
              "      <td>2016</td>\n",
              "      <td>5</td>\n",
              "      <td>7</td>\n",
              "      <td>2016</td>\n",
              "      <td>20</td>\n",
              "      <td>0.013158</td>\n",
              "    </tr>\n",
              "    <tr>\n",
              "      <th>2</th>\n",
              "      <td>2</td>\n",
              "      <td>2</td>\n",
              "      <td>428</td>\n",
              "      <td>25</td>\n",
              "      <td>0</td>\n",
              "      <td>7</td>\n",
              "      <td>2018</td>\n",
              "      <td>28</td>\n",
              "      <td>7</td>\n",
              "      <td>2017</td>\n",
              "      <td>11</td>\n",
              "      <td>0.052632</td>\n",
              "    </tr>\n",
              "    <tr>\n",
              "      <th>3</th>\n",
              "      <td>1</td>\n",
              "      <td>2</td>\n",
              "      <td>238</td>\n",
              "      <td>1</td>\n",
              "      <td>0</td>\n",
              "      <td>8</td>\n",
              "      <td>2016</td>\n",
              "      <td>17</td>\n",
              "      <td>4</td>\n",
              "      <td>2016</td>\n",
              "      <td>27</td>\n",
              "      <td>0.013158</td>\n",
              "    </tr>\n",
              "    <tr>\n",
              "      <th>4</th>\n",
              "      <td>1</td>\n",
              "      <td>4</td>\n",
              "      <td>238</td>\n",
              "      <td>1</td>\n",
              "      <td>0</td>\n",
              "      <td>5</td>\n",
              "      <td>2014</td>\n",
              "      <td>13</td>\n",
              "      <td>4</td>\n",
              "      <td>2014</td>\n",
              "      <td>21</td>\n",
              "      <td>0.003158</td>\n",
              "    </tr>\n",
              "  </tbody>\n",
              "</table>\n",
              "</div>"
            ],
            "text/plain": [
              "   Animal Type  Sex upon Outcome  Breed  ...  born_year  born_day  Age upon Outcome\n",
              "0            2                 3    164  ...       2017        12          0.035263\n",
              "1            1                 1    236  ...       2016        20          0.013158\n",
              "2            2                 2    428  ...       2017        11          0.052632\n",
              "3            1                 2    238  ...       2016        27          0.013158\n",
              "4            1                 4    238  ...       2014        21          0.003158\n",
              "\n",
              "[5 rows x 12 columns]"
            ]
          },
          "metadata": {},
          "execution_count": 32
        }
      ]
    },
    {
      "cell_type": "markdown",
      "metadata": {
        "id": "de06a61f"
      },
      "source": [
        "### Split the data"
      ],
      "id": "de06a61f"
    },
    {
      "cell_type": "code",
      "metadata": {
        "id": "edc16d19"
      },
      "source": [
        "X = normalized_df.drop('Outcome', axis=1)\n",
        "y = normalized_df['Outcome']"
      ],
      "id": "edc16d19",
      "execution_count": null,
      "outputs": []
    },
    {
      "cell_type": "code",
      "metadata": {
        "id": "14f7bff5"
      },
      "source": [
        "from sklearn.model_selection import train_test_split\n",
        "\n",
        "# train (80%) & test (20%)\n",
        "X_train, X_test, y_train, y_test = train_test_split(X,y, test_size=0.2, random_state=42)"
      ],
      "id": "14f7bff5",
      "execution_count": null,
      "outputs": []
    },
    {
      "cell_type": "code",
      "metadata": {
        "id": "jwsr0oe4U9Yg"
      },
      "source": [
        "X_train = X_train.reset_index(drop=True)\n",
        "X_test = X_test.reset_index(drop=True)\n",
        "y_train = y_train.reset_index(drop=True)\n",
        "y_test = y_test.reset_index(drop=True)"
      ],
      "id": "jwsr0oe4U9Yg",
      "execution_count": null,
      "outputs": []
    },
    {
      "cell_type": "markdown",
      "metadata": {
        "id": "c4d814f7"
      },
      "source": [
        "# Identify the most discriminating features to predict the target category using the filter and wrapper feature selection techniques."
      ],
      "id": "c4d814f7"
    },
    {
      "cell_type": "markdown",
      "metadata": {
        "id": "6b531248"
      },
      "source": [
        "### Filter feature selection technique."
      ],
      "id": "6b531248"
    },
    {
      "cell_type": "markdown",
      "metadata": {
        "id": "c25d09f4"
      },
      "source": [
        "Since most of the independent features & dependent feature are categorical, we use **Chi-Square** filter based method to identify the most discriminating features to predict the target category.      \n",
        "In this method, the selection of features is independent of any machine learning algorithms. Instead, features are selected on the basis of their scores in various statistical tests for their correlation with the outcome variable."
      ],
      "id": "c25d09f4"
    },
    {
      "cell_type": "markdown",
      "metadata": {
        "id": "4a62d0c2"
      },
      "source": [
        "A chi-square test is used in statistics to test the independence of two events. In our case, we used to determine the relationship between independent variables (features) & dependent variable (response or target). In simple words, higher the Chi-Square value the feature is more dependent on the response and it can be selected for model training."
      ],
      "id": "4a62d0c2"
    },
    {
      "cell_type": "code",
      "metadata": {
        "id": "54614d5c"
      },
      "source": [
        "from sklearn.feature_selection import SelectKBest\n",
        "from sklearn.feature_selection import chi2"
      ],
      "id": "54614d5c",
      "execution_count": null,
      "outputs": []
    },
    {
      "cell_type": "code",
      "metadata": {
        "id": "0e2fe8b9"
      },
      "source": [
        "# Select top 6 best features (45% reduction in features)\n",
        "bestfeatures = SelectKBest(score_func=chi2, k=6)\n",
        "bf = bestfeatures.fit(X_train, y_train)\n",
        "dfscores = pd.DataFrame(bf.scores_)\n",
        "dfcolumns = pd.DataFrame(X.columns)"
      ],
      "id": "0e2fe8b9",
      "execution_count": null,
      "outputs": []
    },
    {
      "cell_type": "code",
      "metadata": {
        "colab": {
          "base_uri": "https://localhost:8080/"
        },
        "id": "c8308fe7",
        "outputId": "9441d216-288b-4575-8fa3-896b097b86da"
      },
      "source": [
        "featureScores = pd.concat([dfcolumns,dfscores],axis=1)\n",
        "featureScores.columns = ['features','Score'] \n",
        "print(featureScores.nlargest(6,'Score'))"
      ],
      "id": "c8308fe7",
      "execution_count": null,
      "outputs": [
        {
          "output_type": "stream",
          "name": "stdout",
          "text": [
            "           features        Score\n",
            "3             Color  1329.139482\n",
            "2             Breed   348.045980\n",
            "0       Animal Type   216.867995\n",
            "1  Sex upon Outcome    91.730483\n",
            "9          born_day    13.310228\n",
            "4      intake_month     9.589483\n"
          ]
        }
      ]
    },
    {
      "cell_type": "markdown",
      "metadata": {
        "id": "340ee9eb"
      },
      "source": [
        "The top feature for predicting our outcome is **Color** followed by **Breed**."
      ],
      "id": "340ee9eb"
    },
    {
      "cell_type": "code",
      "metadata": {
        "colab": {
          "base_uri": "https://localhost:8080/"
        },
        "id": "05ac11e3",
        "outputId": "655c731d-9b3e-46d3-b1d3-bef8f019f7d4"
      },
      "source": [
        "best_features = featureScores.nlargest(6,'Score')\n",
        "best_columns_filter = best_features.features.tolist()\n",
        "# Top 6 features\n",
        "best_columns_filter"
      ],
      "id": "05ac11e3",
      "execution_count": null,
      "outputs": [
        {
          "output_type": "execute_result",
          "data": {
            "text/plain": [
              "['Color',\n",
              " 'Breed',\n",
              " 'Animal Type',\n",
              " 'Sex upon Outcome',\n",
              " 'born_day',\n",
              " 'intake_month']"
            ]
          },
          "metadata": {},
          "execution_count": 39
        }
      ]
    },
    {
      "cell_type": "markdown",
      "metadata": {
        "id": "b27696f7"
      },
      "source": [
        "### Wrapper feature selection technique"
      ],
      "id": "b27696f7"
    },
    {
      "cell_type": "markdown",
      "metadata": {
        "id": "4577ad8a"
      },
      "source": [
        "There are 3 wrapper feature selection techniques. In general backward feature selection/elimination method is preferred compare to others due to its superior performance. So, we also use the same technique to identify most identify the most discriminating features to predict the target category."
      ],
      "id": "4577ad8a"
    },
    {
      "cell_type": "markdown",
      "metadata": {
        "id": "7bf39103"
      },
      "source": [
        "In wrapper methods, we try to use a subset of features and train a model using them. Based on the inferences that we draw from the previous model, we decide to add or remove features from your subset. The problem is essentially reduced to a search problem. These methods are usually computationally very expensive.    \n",
        "In backward elimination, we start with all the features and removes the least significant feature at each iteration which improves the performance of the model. We repeat this until no improvement is observed on removal of features."
      ],
      "id": "7bf39103"
    },
    {
      "cell_type": "markdown",
      "metadata": {
        "id": "eb21d183"
      },
      "source": [
        "We use Decision tree, Naive Bayes, SVM, & KNN algorithms in wrapper feature selection method to identify best features from each algorithm."
      ],
      "id": "eb21d183"
    },
    {
      "cell_type": "markdown",
      "metadata": {
        "id": "a4b2b573"
      },
      "source": [
        "### Decision tree"
      ],
      "id": "a4b2b573"
    },
    {
      "cell_type": "markdown",
      "metadata": {
        "id": "870ab31b"
      },
      "source": [
        "We use **mlxtend** library that contains built-in implementation for most of the wrapper methods based feature selection techniques. **SequentialFeatureSelector()** function comes with various combinations of feature selection techniques"
      ],
      "id": "870ab31b"
    },
    {
      "cell_type": "code",
      "metadata": {
        "id": "9dc4d28a"
      },
      "source": [
        "from mlxtend.feature_selection import SequentialFeatureSelector as SFS\n",
        "from sklearn.tree import DecisionTreeClassifier"
      ],
      "id": "9dc4d28a",
      "execution_count": null,
      "outputs": []
    },
    {
      "cell_type": "code",
      "metadata": {
        "id": "fb637f08"
      },
      "source": [
        "#Sequential backward selection(sbs)\n",
        "sbs_dtc = SFS(DecisionTreeClassifier(random_state=42),\n",
        "         k_features=6,\n",
        "         forward=False,\n",
        "         floating=False,\n",
        "         verbose=2,\n",
        "         scoring='accuracy',\n",
        "         cv=10)"
      ],
      "id": "fb637f08",
      "execution_count": null,
      "outputs": []
    },
    {
      "cell_type": "code",
      "metadata": {
        "colab": {
          "base_uri": "https://localhost:8080/"
        },
        "id": "3fbf382d",
        "outputId": "54027989-2a38-4d3d-8b86-fca74add6985"
      },
      "source": [
        "# Fit the selector\n",
        "dtc_features = sbs_dtc.fit(X_train.values, y_train.values)"
      ],
      "id": "3fbf382d",
      "execution_count": null,
      "outputs": [
        {
          "output_type": "stream",
          "name": "stderr",
          "text": [
            "[Parallel(n_jobs=1)]: Using backend SequentialBackend with 1 concurrent workers.\n",
            "[Parallel(n_jobs=1)]: Done   1 out of   1 | elapsed:    0.2s remaining:    0.0s\n",
            "[Parallel(n_jobs=1)]: Done  11 out of  11 | elapsed:    1.7s finished\n",
            "\n",
            "[2021-11-07 10:59:23] Features: 10/6 -- score: 0.9216190476190477[Parallel(n_jobs=1)]: Using backend SequentialBackend with 1 concurrent workers.\n",
            "[Parallel(n_jobs=1)]: Done   1 out of   1 | elapsed:    0.1s remaining:    0.0s\n",
            "[Parallel(n_jobs=1)]: Done  10 out of  10 | elapsed:    1.4s finished\n",
            "\n",
            "[2021-11-07 10:59:25] Features: 9/6 -- score: 0.9206090225563909[Parallel(n_jobs=1)]: Using backend SequentialBackend with 1 concurrent workers.\n",
            "[Parallel(n_jobs=1)]: Done   1 out of   1 | elapsed:    0.1s remaining:    0.0s\n",
            "[Parallel(n_jobs=1)]: Done   9 out of   9 | elapsed:    1.2s finished\n",
            "\n",
            "[2021-11-07 10:59:26] Features: 8/6 -- score: 0.9213621553884712[Parallel(n_jobs=1)]: Using backend SequentialBackend with 1 concurrent workers.\n",
            "[Parallel(n_jobs=1)]: Done   1 out of   1 | elapsed:    0.1s remaining:    0.0s\n",
            "[Parallel(n_jobs=1)]: Done   8 out of   8 | elapsed:    0.9s finished\n",
            "\n",
            "[2021-11-07 10:59:27] Features: 7/6 -- score: 0.9238740601503761[Parallel(n_jobs=1)]: Using backend SequentialBackend with 1 concurrent workers.\n",
            "[Parallel(n_jobs=1)]: Done   1 out of   1 | elapsed:    0.1s remaining:    0.0s\n",
            "[Parallel(n_jobs=1)]: Done   7 out of   7 | elapsed:    0.7s finished\n",
            "\n",
            "[2021-11-07 10:59:27] Features: 6/6 -- score: 0.9241203007518797"
          ]
        }
      ]
    },
    {
      "cell_type": "code",
      "metadata": {
        "colab": {
          "base_uri": "https://localhost:8080/"
        },
        "id": "2622141a",
        "outputId": "f69463ba-52ed-4b52-be4b-e66fba083340"
      },
      "source": [
        "# 6 best features \n",
        "best_feats_bs_dtc = X_train.columns[list(dtc_features.k_feature_idx_)]\n",
        "best_feats_bs_dtc"
      ],
      "id": "2622141a",
      "execution_count": null,
      "outputs": [
        {
          "output_type": "execute_result",
          "data": {
            "text/plain": [
              "Index(['Animal Type', 'Sex upon Outcome', 'Breed', 'intake_month',\n",
              "       'intake_day', 'born_year'],\n",
              "      dtype='object')"
            ]
          },
          "metadata": {},
          "execution_count": 43
        }
      ]
    },
    {
      "cell_type": "markdown",
      "metadata": {
        "id": "IIfPyrdtWPcj"
      },
      "source": [
        "### Naive Bayes"
      ],
      "id": "IIfPyrdtWPcj"
    },
    {
      "cell_type": "markdown",
      "metadata": {
        "id": "FvzAAMefWyY6"
      },
      "source": [
        "Since most independent features are discrete in nature, we use [MultinomialNB](https://scikit-learn.org/stable/modules/generated/sklearn.naive_bayes.MultinomialNB.html#sklearn.naive_bayes.MultinomialNB)"
      ],
      "id": "FvzAAMefWyY6"
    },
    {
      "cell_type": "code",
      "metadata": {
        "id": "mL4cLHiHVJdw"
      },
      "source": [
        "from sklearn.naive_bayes import MultinomialNB\n",
        "\n",
        "#Sequential backward selection(sbs)\n",
        "sbs_nbc = SFS(MultinomialNB(),\n",
        "         k_features=6,\n",
        "         forward=False,\n",
        "         floating=False,\n",
        "         verbose=2,\n",
        "         scoring='accuracy',\n",
        "         cv=10)"
      ],
      "id": "mL4cLHiHVJdw",
      "execution_count": null,
      "outputs": []
    },
    {
      "cell_type": "code",
      "metadata": {
        "colab": {
          "base_uri": "https://localhost:8080/"
        },
        "id": "NLY9rV5EVLlD",
        "outputId": "42ebc4b3-e2a7-4335-e1c1-4fafb590f416"
      },
      "source": [
        "# Fit the selector\n",
        "nbc_features = sbs_nbc.fit(X_train.values, y_train.values)"
      ],
      "id": "NLY9rV5EVLlD",
      "execution_count": null,
      "outputs": [
        {
          "output_type": "stream",
          "name": "stderr",
          "text": [
            "[Parallel(n_jobs=1)]: Using backend SequentialBackend with 1 concurrent workers.\n",
            "[Parallel(n_jobs=1)]: Done   1 out of   1 | elapsed:    0.0s remaining:    0.0s\n",
            "[Parallel(n_jobs=1)]: Done  11 out of  11 | elapsed:    0.2s finished\n",
            "\n",
            "[2021-11-07 10:59:28] Features: 10/6 -- score: 0.7405494987468672[Parallel(n_jobs=1)]: Using backend SequentialBackend with 1 concurrent workers.\n",
            "[Parallel(n_jobs=1)]: Done   1 out of   1 | elapsed:    0.0s remaining:    0.0s\n",
            "[Parallel(n_jobs=1)]: Done  10 out of  10 | elapsed:    0.2s finished\n",
            "\n",
            "[2021-11-07 10:59:28] Features: 9/6 -- score: 0.9228652882205512[Parallel(n_jobs=1)]: Using backend SequentialBackend with 1 concurrent workers.\n",
            "[Parallel(n_jobs=1)]: Done   1 out of   1 | elapsed:    0.0s remaining:    0.0s\n",
            "[Parallel(n_jobs=1)]: Done   9 out of   9 | elapsed:    0.2s finished\n",
            "\n",
            "[2021-11-07 10:59:28] Features: 8/6 -- score: 0.9228652882205512[Parallel(n_jobs=1)]: Using backend SequentialBackend with 1 concurrent workers.\n",
            "[Parallel(n_jobs=1)]: Done   1 out of   1 | elapsed:    0.0s remaining:    0.0s\n",
            "[Parallel(n_jobs=1)]: Done   8 out of   8 | elapsed:    0.2s finished\n",
            "\n",
            "[2021-11-07 10:59:28] Features: 7/6 -- score: 0.9228652882205512[Parallel(n_jobs=1)]: Using backend SequentialBackend with 1 concurrent workers.\n",
            "[Parallel(n_jobs=1)]: Done   1 out of   1 | elapsed:    0.0s remaining:    0.0s\n",
            "[Parallel(n_jobs=1)]: Done   7 out of   7 | elapsed:    0.1s finished\n",
            "\n",
            "[2021-11-07 10:59:28] Features: 6/6 -- score: 0.9228634085213034"
          ]
        }
      ]
    },
    {
      "cell_type": "code",
      "metadata": {
        "colab": {
          "base_uri": "https://localhost:8080/"
        },
        "id": "9ng-YujzYA-V",
        "outputId": "62a5f5b3-0688-46f1-9712-fa478e91bba8"
      },
      "source": [
        "# 6 best features \n",
        "best_feats_bs_nbc = X_train.columns[list(nbc_features.k_feature_idx_)]\n",
        "best_feats_bs_nbc"
      ],
      "id": "9ng-YujzYA-V",
      "execution_count": null,
      "outputs": [
        {
          "output_type": "execute_result",
          "data": {
            "text/plain": [
              "Index(['Animal Type', 'Sex upon Outcome', 'intake_month', 'intake_year',\n",
              "       'born_month', 'born_day'],\n",
              "      dtype='object')"
            ]
          },
          "metadata": {},
          "execution_count": 46
        }
      ]
    },
    {
      "cell_type": "markdown",
      "metadata": {
        "id": "qdS9_KZZelM5"
      },
      "source": [
        "### SVM"
      ],
      "id": "qdS9_KZZelM5"
    },
    {
      "cell_type": "code",
      "metadata": {
        "id": "BzrqkkdMYyoJ"
      },
      "source": [
        "from sklearn.svm import SVC\n",
        "#Sequential backward selection(sbs)\n",
        "sbs_svc = SFS(SVC(),\n",
        "         k_features=6,\n",
        "         forward=False,\n",
        "         floating=False,\n",
        "         verbose=2,\n",
        "         scoring='accuracy',\n",
        "         cv=10)"
      ],
      "id": "BzrqkkdMYyoJ",
      "execution_count": null,
      "outputs": []
    },
    {
      "cell_type": "code",
      "metadata": {
        "colab": {
          "base_uri": "https://localhost:8080/"
        },
        "id": "eyCHvPYRe1K1",
        "outputId": "b8490754-1d61-4bba-952d-8dfccc7e7509"
      },
      "source": [
        "# Fit the selector\n",
        "svc_features = sbs_svc.fit(X_train.values, y_train.values)"
      ],
      "id": "eyCHvPYRe1K1",
      "execution_count": null,
      "outputs": [
        {
          "output_type": "stream",
          "name": "stderr",
          "text": [
            "[Parallel(n_jobs=1)]: Using backend SequentialBackend with 1 concurrent workers.\n",
            "[Parallel(n_jobs=1)]: Done   1 out of   1 | elapsed:    1.2s remaining:    0.0s\n",
            "[Parallel(n_jobs=1)]: Done  11 out of  11 | elapsed:   12.9s finished\n",
            "\n",
            "[2021-11-07 10:59:43] Features: 10/6 -- score: 0.9193596491228069[Parallel(n_jobs=1)]: Using backend SequentialBackend with 1 concurrent workers.\n",
            "[Parallel(n_jobs=1)]: Done   1 out of   1 | elapsed:    1.1s remaining:    0.0s\n",
            "[Parallel(n_jobs=1)]: Done  10 out of  10 | elapsed:   11.3s finished\n",
            "\n",
            "[2021-11-07 10:59:54] Features: 9/6 -- score: 0.9193596491228069[Parallel(n_jobs=1)]: Using backend SequentialBackend with 1 concurrent workers.\n",
            "[Parallel(n_jobs=1)]: Done   1 out of   1 | elapsed:    1.2s remaining:    0.0s\n",
            "[Parallel(n_jobs=1)]: Done   9 out of   9 | elapsed:    9.7s finished\n",
            "\n",
            "[2021-11-07 11:00:04] Features: 8/6 -- score: 0.9193596491228069[Parallel(n_jobs=1)]: Using backend SequentialBackend with 1 concurrent workers.\n",
            "[Parallel(n_jobs=1)]: Done   1 out of   1 | elapsed:    1.1s remaining:    0.0s\n",
            "[Parallel(n_jobs=1)]: Done   8 out of   8 | elapsed:    9.7s finished\n",
            "\n",
            "[2021-11-07 11:00:13] Features: 7/6 -- score: 0.9193596491228069[Parallel(n_jobs=1)]: Using backend SequentialBackend with 1 concurrent workers.\n",
            "[Parallel(n_jobs=1)]: Done   1 out of   1 | elapsed:    1.0s remaining:    0.0s\n",
            "[Parallel(n_jobs=1)]: Done   7 out of   7 | elapsed:    8.3s finished\n",
            "\n",
            "[2021-11-07 11:00:22] Features: 6/6 -- score: 0.9193596491228069"
          ]
        }
      ]
    },
    {
      "cell_type": "code",
      "metadata": {
        "colab": {
          "base_uri": "https://localhost:8080/"
        },
        "id": "2ueGXTSle8Zj",
        "outputId": "18b9805a-78bc-4911-e15c-284c3a9bd354"
      },
      "source": [
        "# 6 best features \n",
        "best_feats_bs_svc = X_train.columns[list(svc_features.k_feature_idx_)]\n",
        "best_feats_bs_svc"
      ],
      "id": "2ueGXTSle8Zj",
      "execution_count": null,
      "outputs": [
        {
          "output_type": "execute_result",
          "data": {
            "text/plain": [
              "Index(['Animal Type', 'Sex upon Outcome', 'Breed', 'Color', 'intake_month',\n",
              "       'intake_year'],\n",
              "      dtype='object')"
            ]
          },
          "metadata": {},
          "execution_count": 49
        }
      ]
    },
    {
      "cell_type": "markdown",
      "metadata": {
        "id": "G-w5ZwPJhIa8"
      },
      "source": [
        "### KNN"
      ],
      "id": "G-w5ZwPJhIa8"
    },
    {
      "cell_type": "code",
      "metadata": {
        "id": "K90M2-bchDhr"
      },
      "source": [
        "from sklearn.neighbors import KNeighborsClassifier\n",
        "#Sequential backward selection(sbs)\n",
        "sbs_knn = SFS(KNeighborsClassifier(),\n",
        "         k_features=6,\n",
        "         forward=False,\n",
        "         floating=False,\n",
        "         verbose=2,\n",
        "         scoring='accuracy',\n",
        "         cv=10)"
      ],
      "id": "K90M2-bchDhr",
      "execution_count": null,
      "outputs": []
    },
    {
      "cell_type": "code",
      "metadata": {
        "colab": {
          "base_uri": "https://localhost:8080/"
        },
        "id": "MCf2CxRDhuX-",
        "outputId": "d4b4e86d-fa48-4f7c-dbfe-af2808d48a29"
      },
      "source": [
        "# Fit the selector\n",
        "knn_features = sbs_knn.fit(X_train.values, y_train.values)"
      ],
      "id": "MCf2CxRDhuX-",
      "execution_count": null,
      "outputs": [
        {
          "output_type": "stream",
          "name": "stderr",
          "text": [
            "[Parallel(n_jobs=1)]: Using backend SequentialBackend with 1 concurrent workers.\n",
            "[Parallel(n_jobs=1)]: Done   1 out of   1 | elapsed:    0.2s remaining:    0.0s\n",
            "[Parallel(n_jobs=1)]: Done  11 out of  11 | elapsed:    2.5s finished\n",
            "\n",
            "[2021-11-07 11:00:24] Features: 10/6 -- score: 0.9436553884711779[Parallel(n_jobs=1)]: Using backend SequentialBackend with 1 concurrent workers.\n",
            "[Parallel(n_jobs=1)]: Done   1 out of   1 | elapsed:    0.2s remaining:    0.0s\n",
            "[Parallel(n_jobs=1)]: Done  10 out of  10 | elapsed:    2.2s finished\n",
            "\n",
            "[2021-11-07 11:00:27] Features: 9/6 -- score: 0.9439078947368422[Parallel(n_jobs=1)]: Using backend SequentialBackend with 1 concurrent workers.\n",
            "[Parallel(n_jobs=1)]: Done   1 out of   1 | elapsed:    0.2s remaining:    0.0s\n",
            "[Parallel(n_jobs=1)]: Done   9 out of   9 | elapsed:    2.0s finished\n",
            "\n",
            "[2021-11-07 11:00:29] Features: 8/6 -- score: 0.9484097744360902[Parallel(n_jobs=1)]: Using backend SequentialBackend with 1 concurrent workers.\n",
            "[Parallel(n_jobs=1)]: Done   1 out of   1 | elapsed:    0.2s remaining:    0.0s\n",
            "[Parallel(n_jobs=1)]: Done   8 out of   8 | elapsed:    1.7s finished\n",
            "\n",
            "[2021-11-07 11:00:30] Features: 7/6 -- score: 0.9529191729323309[Parallel(n_jobs=1)]: Using backend SequentialBackend with 1 concurrent workers.\n",
            "[Parallel(n_jobs=1)]: Done   1 out of   1 | elapsed:    0.2s remaining:    0.0s\n",
            "[Parallel(n_jobs=1)]: Done   7 out of   7 | elapsed:    1.4s finished\n",
            "\n",
            "[2021-11-07 11:00:32] Features: 6/6 -- score: 0.9549229323308269"
          ]
        }
      ]
    },
    {
      "cell_type": "code",
      "metadata": {
        "colab": {
          "base_uri": "https://localhost:8080/"
        },
        "id": "oL3zypNvh3Vc",
        "outputId": "7b798eba-1b18-43ce-8867-673cbe3b0f44"
      },
      "source": [
        "# 6 best features \n",
        "best_feats_bs_knn = X_train.columns[list(knn_features.k_feature_idx_)]\n",
        "best_feats_bs_knn"
      ],
      "id": "oL3zypNvh3Vc",
      "execution_count": null,
      "outputs": [
        {
          "output_type": "execute_result",
          "data": {
            "text/plain": [
              "Index(['Animal Type', 'Sex upon Outcome', 'Breed', 'intake_month',\n",
              "       'intake_year', 'Age upon Outcome'],\n",
              "      dtype='object')"
            ]
          },
          "metadata": {},
          "execution_count": 52
        }
      ]
    },
    {
      "cell_type": "markdown",
      "metadata": {
        "id": "r0YF0xKEjL9_"
      },
      "source": [
        "### Report the selected features for both filter & wrapper based methods"
      ],
      "id": "r0YF0xKEjL9_"
    },
    {
      "cell_type": "code",
      "metadata": {
        "colab": {
          "base_uri": "https://localhost:8080/",
          "height": 235
        },
        "id": "pltd20Kuh_j3",
        "outputId": "2b5aebb1-f0fe-4aac-88f4-e350e6be48c9"
      },
      "source": [
        "features_df = pd.DataFrame()\n",
        "features_df['filter_feats'] = sorted(best_columns_filter)              # Chi-Square\n",
        "features_df['wrapper_dt'] = sorted(best_feats_bs_dtc.tolist())         # Decision tree  \n",
        "features_df['wrapper_svc'] = sorted(best_feats_bs_svc.tolist())        # Support vector classifier\n",
        "features_df['wrapper_nb'] = sorted(best_feats_bs_nbc.tolist())         # Naive bayes\n",
        "features_df['wrapper_knn'] = sorted(best_feats_bs_knn.tolist())        # KNN\n",
        "\n",
        "features_df"
      ],
      "id": "pltd20Kuh_j3",
      "execution_count": null,
      "outputs": [
        {
          "output_type": "execute_result",
          "data": {
            "text/html": [
              "<div>\n",
              "<style scoped>\n",
              "    .dataframe tbody tr th:only-of-type {\n",
              "        vertical-align: middle;\n",
              "    }\n",
              "\n",
              "    .dataframe tbody tr th {\n",
              "        vertical-align: top;\n",
              "    }\n",
              "\n",
              "    .dataframe thead th {\n",
              "        text-align: right;\n",
              "    }\n",
              "</style>\n",
              "<table border=\"1\" class=\"dataframe\">\n",
              "  <thead>\n",
              "    <tr style=\"text-align: right;\">\n",
              "      <th></th>\n",
              "      <th>filter_feats</th>\n",
              "      <th>wrapper_dt</th>\n",
              "      <th>wrapper_svc</th>\n",
              "      <th>wrapper_nb</th>\n",
              "      <th>wrapper_knn</th>\n",
              "    </tr>\n",
              "  </thead>\n",
              "  <tbody>\n",
              "    <tr>\n",
              "      <th>0</th>\n",
              "      <td>Animal Type</td>\n",
              "      <td>Animal Type</td>\n",
              "      <td>Animal Type</td>\n",
              "      <td>Animal Type</td>\n",
              "      <td>Age upon Outcome</td>\n",
              "    </tr>\n",
              "    <tr>\n",
              "      <th>1</th>\n",
              "      <td>Breed</td>\n",
              "      <td>Breed</td>\n",
              "      <td>Breed</td>\n",
              "      <td>Sex upon Outcome</td>\n",
              "      <td>Animal Type</td>\n",
              "    </tr>\n",
              "    <tr>\n",
              "      <th>2</th>\n",
              "      <td>Color</td>\n",
              "      <td>Sex upon Outcome</td>\n",
              "      <td>Color</td>\n",
              "      <td>born_day</td>\n",
              "      <td>Breed</td>\n",
              "    </tr>\n",
              "    <tr>\n",
              "      <th>3</th>\n",
              "      <td>Sex upon Outcome</td>\n",
              "      <td>born_year</td>\n",
              "      <td>Sex upon Outcome</td>\n",
              "      <td>born_month</td>\n",
              "      <td>Sex upon Outcome</td>\n",
              "    </tr>\n",
              "    <tr>\n",
              "      <th>4</th>\n",
              "      <td>born_day</td>\n",
              "      <td>intake_day</td>\n",
              "      <td>intake_month</td>\n",
              "      <td>intake_month</td>\n",
              "      <td>intake_month</td>\n",
              "    </tr>\n",
              "    <tr>\n",
              "      <th>5</th>\n",
              "      <td>intake_month</td>\n",
              "      <td>intake_month</td>\n",
              "      <td>intake_year</td>\n",
              "      <td>intake_year</td>\n",
              "      <td>intake_year</td>\n",
              "    </tr>\n",
              "  </tbody>\n",
              "</table>\n",
              "</div>"
            ],
            "text/plain": [
              "       filter_feats        wrapper_dt  ...        wrapper_nb       wrapper_knn\n",
              "0       Animal Type       Animal Type  ...       Animal Type  Age upon Outcome\n",
              "1             Breed             Breed  ...  Sex upon Outcome       Animal Type\n",
              "2             Color  Sex upon Outcome  ...          born_day             Breed\n",
              "3  Sex upon Outcome         born_year  ...        born_month  Sex upon Outcome\n",
              "4          born_day        intake_day  ...      intake_month      intake_month\n",
              "5      intake_month      intake_month  ...       intake_year       intake_year\n",
              "\n",
              "[6 rows x 5 columns]"
            ]
          },
          "metadata": {},
          "execution_count": 53
        }
      ]
    },
    {
      "cell_type": "markdown",
      "metadata": {
        "id": "8NazPe8inufR"
      },
      "source": [
        "Insights:   \n",
        "* We can see 3 common selected best features for both filter & wrapper based methods viz., **Animal Type**, **Sex upon Outcome**, & **intake_month**.    \n",
        "* Top most feature is **Animal Type** selected by both methods.    \n",
        "* Except wrapper_nb, all other methods selected **Breed** as best common feature."
      ],
      "id": "8NazPe8inufR"
    },
    {
      "cell_type": "markdown",
      "metadata": {
        "id": "jewf9FhV3g1S"
      },
      "source": [
        "## **Explore the effect of different parameter settings on these classifiers for each subset of features**."
      ],
      "id": "jewf9FhV3g1S"
    },
    {
      "cell_type": "markdown",
      "metadata": {
        "id": "DEhjDsNL3rSj"
      },
      "source": [
        "### **With the subset of features obtained from filter method**"
      ],
      "id": "DEhjDsNL3rSj"
    },
    {
      "cell_type": "code",
      "metadata": {
        "id": "IOQgGx5p4dX1"
      },
      "source": [
        "import os\n",
        "import pickle\n",
        "from sklearn import metrics\n",
        "from sklearn.model_selection import GridSearchCV"
      ],
      "id": "IOQgGx5p4dX1",
      "execution_count": null,
      "outputs": []
    },
    {
      "cell_type": "code",
      "metadata": {
        "id": "q20MWweKkfuJ"
      },
      "source": [
        "x_train = X_train[best_columns_filter]\n",
        "x_test = X_test[best_columns_filter]"
      ],
      "id": "q20MWweKkfuJ",
      "execution_count": null,
      "outputs": []
    },
    {
      "cell_type": "markdown",
      "metadata": {
        "id": "8DtnNG4m7HsM"
      },
      "source": [
        "We are using **f1-score** to evaluate our models."
      ],
      "id": "8DtnNG4m7HsM"
    },
    {
      "cell_type": "code",
      "metadata": {
        "id": "vWgqEp_a4Jl5"
      },
      "source": [
        "# Define a function to train the models & get predictions\n",
        "def train_and_evaluate_models(model, params, x_train, x_test, y_train, model_name:str=None, model_key=None):\n",
        "  # Initialize the estimator\n",
        "  estimator = model()\n",
        "  # Type of scoring used to compare parameter combinations\n",
        "  acc_scorer = metrics.make_scorer(metrics.f1_score)\n",
        "\n",
        "  # Run the grid search to get the best parameter settings\n",
        "  grid_obj = GridSearchCV(estimator, params, scoring=acc_scorer,cv=3)\n",
        "  grid_obj = grid_obj.fit(x_train, y_train)\n",
        "  \n",
        "  print('Best parameters are:')\n",
        "  params = grid_obj.best_params_\n",
        "  print(grid_obj.best_params_)\n",
        "\n",
        "  if model_key=='dt':              \n",
        "    # Initialize the model with best parameters\n",
        "    model_best = model(max_depth = params['max_depth'], min_samples_split=params['min_samples_split'], \n",
        "                     criterion = params['criterion'], splitter = params['splitter'], \n",
        "                     max_features = params['max_features'], class_weight = params['class_weight'], random_state=42)\n",
        "  elif model_key=='nb':            # Naive Bayes\n",
        "    model_best = model(alpha = params['alpha'], fit_prior=params['fit_prior'])\n",
        "  elif model_key=='svm':           # Support vector machine\n",
        "    model_best = model(C=params['C'], kernel=params['kernel'], class_weight = params['class_weight'],\n",
        "                       decision_function_shape = params['decision_function_shape'], random_state=42)\n",
        "  elif model_key=='knn':          # KNN\n",
        "    model_best = model(n_neighbors=params['n_neighbors'], weights=params['weights'])\n",
        "\n",
        "  # Fit the model\n",
        "  model_best.fit(x_train, y_train)\n",
        "  \n",
        "  # Save the model \n",
        "  if not os.path.exists('./models'):\n",
        "    os.mkdir('./models')\n",
        "  with open(f'./models/{model_name}.pkl', 'wb') as f:\n",
        "    pickle.dump(model_best, f)\n",
        "  # Get predictions \n",
        "  y_pred = model_best.predict(x_test)\n",
        "\n",
        "  return y_pred"
      ],
      "id": "vWgqEp_a4Jl5",
      "execution_count": null,
      "outputs": []
    },
    {
      "cell_type": "markdown",
      "metadata": {
        "id": "QTjsffj068vC"
      },
      "source": [
        "**Decision tree Classifier**"
      ],
      "id": "QTjsffj068vC"
    },
    {
      "cell_type": "code",
      "metadata": {
        "id": "bXRCYKjemC8g",
        "colab": {
          "base_uri": "https://localhost:8080/"
        },
        "outputId": "c46b32df-dae4-4fec-a8e8-9c80ac45a396"
      },
      "source": [
        "%%time\n",
        "# Grid of parameters to choose from\n",
        "dtc_params = {'max_depth': np.arange(2,20), \n",
        "              'min_samples_split' : [2, 3, 5, 10, 12],\n",
        "              'criterion':['gini', 'entropy'],\n",
        "              'splitter':['best','entropy'],\n",
        "              'max_features':['auto','sqrt', 'log2'],\n",
        "              'class_weight' : ['balanced', 'balanced_subsample']\n",
        "             }\n",
        "\n",
        "y_pred_dtc_filter = train_and_evaluate_models(DecisionTreeClassifier, dtc_params, x_train, x_test, y_train, 'Decision_tree_filter',\n",
        "                                              model_key='dt')"
      ],
      "id": "bXRCYKjemC8g",
      "execution_count": null,
      "outputs": [
        {
          "output_type": "stream",
          "name": "stdout",
          "text": [
            "Best parameters are:\n",
            "{'class_weight': 'balanced', 'criterion': 'entropy', 'max_depth': 3, 'max_features': 'auto', 'min_samples_split': 5, 'splitter': 'best'}\n",
            "CPU times: user 27.8 s, sys: 99.9 ms, total: 27.9 s\n",
            "Wall time: 27.9 s\n"
          ]
        }
      ]
    },
    {
      "cell_type": "code",
      "metadata": {
        "id": "KsCktGoZ_UCg",
        "colab": {
          "base_uri": "https://localhost:8080/"
        },
        "outputId": "b8868885-47e3-4bb0-c0c5-721c5630468b"
      },
      "source": [
        "# Calculate metrics\n",
        "acc_dtc_filter = metrics.accuracy_score(y_test, y_pred_dtc_filter)\n",
        "f1_dtc_filter = metrics.f1_score(y_test, y_pred_dtc_filter, average='weighted')\n",
        "\n",
        "print(f'Accuracy : {acc_dtc_filter:.2}')\n",
        "print(f'F1-score : {f1_dtc_filter:.2}')"
      ],
      "id": "KsCktGoZ_UCg",
      "execution_count": null,
      "outputs": [
        {
          "output_type": "stream",
          "name": "stdout",
          "text": [
            "Accuracy : 0.92\n",
            "F1-score : 0.92\n"
          ]
        }
      ]
    },
    {
      "cell_type": "code",
      "metadata": {
        "id": "lCv11R3KHJfY"
      },
      "source": [
        "from scikitplot.metrics import plot_confusion_matrix"
      ],
      "id": "lCv11R3KHJfY",
      "execution_count": null,
      "outputs": []
    },
    {
      "cell_type": "markdown",
      "metadata": {
        "id": "fkialnwdHAHg"
      },
      "source": [
        "**Confusion matrix**"
      ],
      "id": "fkialnwdHAHg"
    },
    {
      "cell_type": "code",
      "metadata": {
        "colab": {
          "base_uri": "https://localhost:8080/",
          "height": 530
        },
        "id": "eecKlsjAGWGV",
        "outputId": "18820bec-f447-4875-82e5-74f9cf30d4cf"
      },
      "source": [
        "#Plot the confusion matrix\n",
        "plot_confusion_matrix(y_test, y_pred_dtc_filter, normalize=False,figsize=(15,8))"
      ],
      "id": "eecKlsjAGWGV",
      "execution_count": null,
      "outputs": [
        {
          "output_type": "execute_result",
          "data": {
            "text/plain": [
              "<matplotlib.axes._subplots.AxesSubplot at 0x7f2be6cf0550>"
            ]
          },
          "metadata": {},
          "execution_count": 60
        },
        {
          "output_type": "display_data",
          "data": {
            "image/png": "[encoded data removed]",
            "text/plain": [
              "<Figure size 1080x576 with 2 Axes>"
            ]
          },
          "metadata": {
            "needs_background": "light"
          }
        }
      ]
    },
    {
      "cell_type": "markdown",
      "metadata": {
        "id": "9zaoytpgHcNj"
      },
      "source": [
        "The class **1** indicates that after intake, the animal\n",
        "outcome was negative, e.g., **death**, while the value **0** indicates that the\n",
        "animal outcome was a positive one, e.g., **was adopted or returned to the owner**."
      ],
      "id": "9zaoytpgHcNj"
    },
    {
      "cell_type": "markdown",
      "metadata": {
        "id": "YMQhRpaUHz1h"
      },
      "source": [
        "**Classification Report:**"
      ],
      "id": "YMQhRpaUHz1h"
    },
    {
      "cell_type": "code",
      "metadata": {
        "colab": {
          "base_uri": "https://localhost:8080/"
        },
        "id": "YHO8NDGkHIUn",
        "outputId": "9d3d3ed9-9c98-4a8e-fdbc-b433b0863fd6"
      },
      "source": [
        "class_report = metrics.classification_report(y_test, y_pred_dtc_filter)\n",
        "print(class_report)"
      ],
      "id": "YHO8NDGkHIUn",
      "execution_count": null,
      "outputs": [
        {
          "output_type": "stream",
          "name": "stdout",
          "text": [
            "              precision    recall  f1-score   support\n",
            "\n",
            "           0       0.95      0.96      0.96       922\n",
            "           1       0.49      0.43      0.46        77\n",
            "\n",
            "    accuracy                           0.92       999\n",
            "   macro avg       0.72      0.70      0.71       999\n",
            "weighted avg       0.92      0.92      0.92       999\n",
            "\n"
          ]
        }
      ]
    },
    {
      "cell_type": "markdown",
      "metadata": {
        "id": "urZM0gEhIFNW"
      },
      "source": [
        "**Plot ROC curve**"
      ],
      "id": "urZM0gEhIFNW"
    },
    {
      "cell_type": "code",
      "metadata": {
        "colab": {
          "base_uri": "https://localhost:8080/",
          "height": 312
        },
        "id": "xxwWbj3zH5eL",
        "outputId": "86917123-776e-46bf-f271-87ef3deede90"
      },
      "source": [
        "#ROC_AUC curve\n",
        "def plot_ROC(y_test, y_pred):\n",
        "  plt.figure()\n",
        "  false_positive_rate, recall, thresholds=metrics.roc_curve(y_test, y_pred, pos_label=1)\n",
        "  auc=round(metrics.auc(false_positive_rate, recall), 2)\n",
        "  plt.title('Reciver Operating Characteristics(ROC)')\n",
        "  plt.plot(false_positive_rate, recall,'b',label='ROC(area=%0.3f)' %auc)\n",
        "  plt.legend()\n",
        "  plt.plot([0,1],[0,1],'r--')\n",
        "  plt.xlim([0.0,1.0])\n",
        "  plt.ylim([0.0,1.0])\n",
        "  plt.ylabel('Recall(True Positive Rate)')\n",
        "  plt.xlabel('False Positive Rate')\n",
        "  plt.show()\n",
        "  print('AUC:',auc)\n",
        "  return auc\n",
        "auc_dtc_filter = plot_ROC(y_test, y_pred_dtc_filter)"
      ],
      "id": "xxwWbj3zH5eL",
      "execution_count": null,
      "outputs": [
        {
          "output_type": "display_data",
          "data": {
            "image/png": "[encoded data removed]",
            "text/plain": [
              "<Figure size 432x288 with 1 Axes>"
            ]
          },
          "metadata": {
            "needs_background": "light"
          }
        },
        {
          "output_type": "stream",
          "name": "stdout",
          "text": [
            "AUC: 0.7\n"
          ]
        }
      ]
    },
    {
      "cell_type": "markdown",
      "metadata": {
        "id": "BAuT7byaP5e5"
      },
      "source": [
        "**Naïve Bayes**"
      ],
      "id": "BAuT7byaP5e5"
    },
    {
      "cell_type": "code",
      "metadata": {
        "colab": {
          "base_uri": "https://localhost:8080/"
        },
        "id": "HHeCuJ2SIdK8",
        "outputId": "656271d5-9af6-4d19-a6c0-c827577ded18"
      },
      "source": [
        "%%time\n",
        "# Grid of parameters to choose from\n",
        "nb_params = {'alpha': [0, 0.01, 0.1, 0.2, 0.4, 0.5, 0.6, 0.8, 1.0], \n",
        "              'fit_prior' : ['True', 'False']\n",
        "             }\n",
        "\n",
        "y_pred_nb_filter = train_and_evaluate_models(MultinomialNB, nb_params, x_train, x_test, y_train, 'MultinomialNB_filter', model_key='nb')"
      ],
      "id": "HHeCuJ2SIdK8",
      "execution_count": null,
      "outputs": [
        {
          "output_type": "stream",
          "name": "stdout",
          "text": [
            "Best parameters are:\n",
            "{'alpha': 0, 'fit_prior': 'True'}\n",
            "CPU times: user 312 ms, sys: 1.99 ms, total: 313 ms\n",
            "Wall time: 315 ms\n"
          ]
        }
      ]
    },
    {
      "cell_type": "code",
      "metadata": {
        "colab": {
          "base_uri": "https://localhost:8080/"
        },
        "id": "HVeNQ9zoRb5w",
        "outputId": "dbac2c40-21c7-4946-9958-2d076c457de7"
      },
      "source": [
        "# Calculate metrics\n",
        "acc_nb_filter = metrics.accuracy_score(y_test, y_pred_nb_filter)\n",
        "f1_nb_filter = metrics.f1_score(y_test, y_pred_nb_filter, average='weighted')\n",
        "\n",
        "print(f'Accuracy : {acc_nb_filter:.2}')\n",
        "print(f'F1-score : {f1_nb_filter:.2}')"
      ],
      "id": "HVeNQ9zoRb5w",
      "execution_count": null,
      "outputs": [
        {
          "output_type": "stream",
          "name": "stdout",
          "text": [
            "Accuracy : 0.56\n",
            "F1-score : 0.66\n"
          ]
        }
      ]
    },
    {
      "cell_type": "code",
      "metadata": {
        "colab": {
          "base_uri": "https://localhost:8080/",
          "height": 530
        },
        "id": "ZapfqA3vWibc",
        "outputId": "fd0fbbc2-7ef8-4973-c83a-fd1fa2fc548d"
      },
      "source": [
        "#Plot the confusion matrix\n",
        "plot_confusion_matrix(y_test, y_pred_nb_filter, normalize=False,figsize=(15,8))"
      ],
      "id": "ZapfqA3vWibc",
      "execution_count": null,
      "outputs": [
        {
          "output_type": "execute_result",
          "data": {
            "text/plain": [
              "<matplotlib.axes._subplots.AxesSubplot at 0x7f2be6b45550>"
            ]
          },
          "metadata": {},
          "execution_count": 65
        },
        {
          "output_type": "display_data",
          "data": {
            "image/png": "[encoded data removed]",
            "text/plain": [
              "<Figure size 1080x576 with 2 Axes>"
            ]
          },
          "metadata": {
            "needs_background": "light"
          }
        }
      ]
    },
    {
      "cell_type": "code",
      "metadata": {
        "colab": {
          "base_uri": "https://localhost:8080/"
        },
        "id": "ntrO25w5WtLk",
        "outputId": "a9df68fd-69c2-47cc-b08e-a9742eb54e1b"
      },
      "source": [
        "# Classification report\n",
        "class_report = metrics.classification_report(y_test, y_pred_nb_filter)\n",
        "print(class_report)"
      ],
      "id": "ntrO25w5WtLk",
      "execution_count": null,
      "outputs": [
        {
          "output_type": "stream",
          "name": "stdout",
          "text": [
            "              precision    recall  f1-score   support\n",
            "\n",
            "           0       0.93      0.57      0.70       922\n",
            "           1       0.08      0.47      0.14        77\n",
            "\n",
            "    accuracy                           0.56       999\n",
            "   macro avg       0.51      0.52      0.42       999\n",
            "weighted avg       0.86      0.56      0.66       999\n",
            "\n"
          ]
        }
      ]
    },
    {
      "cell_type": "code",
      "metadata": {
        "colab": {
          "base_uri": "https://localhost:8080/",
          "height": 312
        },
        "id": "6_1nt29yW39D",
        "outputId": "ab7400f1-852e-4ad8-ab3f-94206b41ca26"
      },
      "source": [
        "# Plot ROC curve\n",
        "auc_nb_filter = plot_ROC(y_test, y_pred_nb_filter)"
      ],
      "id": "6_1nt29yW39D",
      "execution_count": null,
      "outputs": [
        {
          "output_type": "display_data",
          "data": {
            "image/png": "[encoded data removed]",
            "text/plain": [
              "<Figure size 432x288 with 1 Axes>"
            ]
          },
          "metadata": {
            "needs_background": "light"
          }
        },
        {
          "output_type": "stream",
          "name": "stdout",
          "text": [
            "AUC: 0.52\n"
          ]
        }
      ]
    },
    {
      "cell_type": "markdown",
      "metadata": {
        "id": "nD2HRakdYihc"
      },
      "source": [
        "**SVM**"
      ],
      "id": "nD2HRakdYihc"
    },
    {
      "cell_type": "code",
      "metadata": {
        "colab": {
          "base_uri": "https://localhost:8080/"
        },
        "id": "OFqrDnBJXbDn",
        "outputId": "1e8a5d88-6e13-4bfe-db99-8d3db6da1a59"
      },
      "source": [
        "%%time\n",
        "# Grid of parameters to choose from\n",
        "svm_params = {'C': [0.6, 0.8, 1.0], \n",
        "              'kernel' : ['linear','rbf'],\n",
        "              'class_weight' : ['balanced', 'balanced_subsample'],\n",
        "              'decision_function_shape':['ovo','ovr']\n",
        "             }\n",
        "\n",
        "y_pred_svc_filter = train_and_evaluate_models(SVC, svm_params, x_train, x_test, y_train, 'SVC_filter', model_key='svm')"
      ],
      "id": "OFqrDnBJXbDn",
      "execution_count": null,
      "outputs": [
        {
          "output_type": "stream",
          "name": "stdout",
          "text": [
            "Best parameters are:\n",
            "{'C': 0.6, 'class_weight': 'balanced', 'decision_function_shape': 'ovo', 'kernel': 'linear'}\n",
            "CPU times: user 12min 2s, sys: 789 ms, total: 12min 3s\n",
            "Wall time: 11min 59s\n"
          ]
        }
      ]
    },
    {
      "cell_type": "code",
      "metadata": {
        "colab": {
          "base_uri": "https://localhost:8080/"
        },
        "id": "n280Arw7aA-c",
        "outputId": "6a9fc33b-b8fb-410b-a5c5-b2302369a3b4"
      },
      "source": [
        "# Calculate metrics\n",
        "acc_svm_filter = metrics.accuracy_score(y_test, y_pred_svc_filter)\n",
        "f1_svm_filter = metrics.f1_score(y_test, y_pred_svc_filter, average='weighted')\n",
        "\n",
        "print(f'Accuracy : {acc_svm_filter:.2}')\n",
        "print(f'F1-score : {f1_svm_filter:.2}')"
      ],
      "id": "n280Arw7aA-c",
      "execution_count": null,
      "outputs": [
        {
          "output_type": "stream",
          "name": "stdout",
          "text": [
            "Accuracy : 0.95\n",
            "F1-score : 0.94\n"
          ]
        }
      ]
    },
    {
      "cell_type": "code",
      "metadata": {
        "colab": {
          "base_uri": "https://localhost:8080/",
          "height": 530
        },
        "id": "olAbNm9Waody",
        "outputId": "6390b543-0669-4866-ba49-8edf5999fe1a"
      },
      "source": [
        "#Plot the confusion matrix\n",
        "plot_confusion_matrix(y_test, y_pred_svc_filter, normalize=False,figsize=(15,8))"
      ],
      "id": "olAbNm9Waody",
      "execution_count": null,
      "outputs": [
        {
          "output_type": "execute_result",
          "data": {
            "text/plain": [
              "<matplotlib.axes._subplots.AxesSubplot at 0x7f2be68bf510>"
            ]
          },
          "metadata": {},
          "execution_count": 70
        },
        {
          "output_type": "display_data",
          "data": {
            "image/png": "[encoded data removed]",
            "text/plain": [
              "<Figure size 1080x576 with 2 Axes>"
            ]
          },
          "metadata": {
            "needs_background": "light"
          }
        }
      ]
    },
    {
      "cell_type": "code",
      "metadata": {
        "colab": {
          "base_uri": "https://localhost:8080/"
        },
        "id": "gR45h-uSasbD",
        "outputId": "1ed80453-34a8-44a1-9c81-6e05f85766c2"
      },
      "source": [
        "# Classification report\n",
        "class_report = metrics.classification_report(y_test, y_pred_svc_filter)\n",
        "print(class_report)"
      ],
      "id": "gR45h-uSasbD",
      "execution_count": null,
      "outputs": [
        {
          "output_type": "stream",
          "name": "stdout",
          "text": [
            "              precision    recall  f1-score   support\n",
            "\n",
            "           0       0.95      0.99      0.97       922\n",
            "           1       0.78      0.42      0.54        77\n",
            "\n",
            "    accuracy                           0.95       999\n",
            "   macro avg       0.87      0.70      0.76       999\n",
            "weighted avg       0.94      0.95      0.94       999\n",
            "\n"
          ]
        }
      ]
    },
    {
      "cell_type": "code",
      "metadata": {
        "colab": {
          "base_uri": "https://localhost:8080/",
          "height": 312
        },
        "id": "PIH1eG5qa38e",
        "outputId": "af293803-cc48-4131-db3b-2e3575289352"
      },
      "source": [
        "# Plot ROC curve\n",
        "auc_svc_filter = plot_ROC(y_test, y_pred_svc_filter)"
      ],
      "id": "PIH1eG5qa38e",
      "execution_count": null,
      "outputs": [
        {
          "output_type": "display_data",
          "data": {
            "image/png": "[encoded data removed]",
            "text/plain": [
              "<Figure size 432x288 with 1 Axes>"
            ]
          },
          "metadata": {
            "needs_background": "light"
          }
        },
        {
          "output_type": "stream",
          "name": "stdout",
          "text": [
            "AUC: 0.7\n"
          ]
        }
      ]
    },
    {
      "cell_type": "markdown",
      "metadata": {
        "id": "HsMO0Nnna79x"
      },
      "source": [
        "**KNN**"
      ],
      "id": "HsMO0Nnna79x"
    },
    {
      "cell_type": "code",
      "metadata": {
        "colab": {
          "base_uri": "https://localhost:8080/"
        },
        "id": "Ezx99ewfa-kU",
        "outputId": "62690340-e0b4-4569-a687-97e19a715428"
      },
      "source": [
        "%%time\n",
        "# Grid of parameters to choose from\n",
        "knn_params = {'n_neighbors': [2, 3, 4, 5, 7], \n",
        "              'weights' : ['uniform','distance']\n",
        "             }\n",
        "\n",
        "y_pred_knn_filter = train_and_evaluate_models(KNeighborsClassifier, knn_params, x_train, x_test, y_train, 'KNN_filter', model_key='knn')"
      ],
      "id": "Ezx99ewfa-kU",
      "execution_count": null,
      "outputs": [
        {
          "output_type": "stream",
          "name": "stdout",
          "text": [
            "Best parameters are:\n",
            "{'n_neighbors': 7, 'weights': 'distance'}\n",
            "CPU times: user 1.06 s, sys: 10 ms, total: 1.07 s\n",
            "Wall time: 1.08 s\n"
          ]
        }
      ]
    },
    {
      "cell_type": "code",
      "metadata": {
        "colab": {
          "base_uri": "https://localhost:8080/"
        },
        "id": "dHF6VswYgjhL",
        "outputId": "895b21bc-ced7-416e-d39e-a3cabc8bd5aa"
      },
      "source": [
        "# Calculate metrics\n",
        "acc_knn_filter = metrics.accuracy_score(y_test, y_pred_knn_filter)\n",
        "f1_knn_filter = metrics.f1_score(y_test, y_pred_knn_filter, average='weighted')\n",
        "\n",
        "print(f'Accuracy : {acc_knn_filter:.2}')\n",
        "print(f'F1-score : {f1_knn_filter:.2}')"
      ],
      "id": "dHF6VswYgjhL",
      "execution_count": null,
      "outputs": [
        {
          "output_type": "stream",
          "name": "stdout",
          "text": [
            "Accuracy : 0.94\n",
            "F1-score : 0.93\n"
          ]
        }
      ]
    },
    {
      "cell_type": "code",
      "metadata": {
        "colab": {
          "base_uri": "https://localhost:8080/",
          "height": 530
        },
        "id": "BxHEeEZ2gxtv",
        "outputId": "038c0f55-4b43-46d1-a7ca-d95028819081"
      },
      "source": [
        "#Plot the confusion matrix\n",
        "plot_confusion_matrix(y_test, y_pred_knn_filter, normalize=False,figsize=(15,8))"
      ],
      "id": "BxHEeEZ2gxtv",
      "execution_count": null,
      "outputs": [
        {
          "output_type": "execute_result",
          "data": {
            "text/plain": [
              "<matplotlib.axes._subplots.AxesSubplot at 0x7f2be68a1ad0>"
            ]
          },
          "metadata": {},
          "execution_count": 75
        },
        {
          "output_type": "display_data",
          "data": {
            "image/png": "[encoded data removed]",
            "text/plain": [
              "<Figure size 1080x576 with 2 Axes>"
            ]
          },
          "metadata": {
            "needs_background": "light"
          }
        }
      ]
    },
    {
      "cell_type": "code",
      "metadata": {
        "colab": {
          "base_uri": "https://localhost:8080/"
        },
        "id": "Hg3gRAHzg2G8",
        "outputId": "8e1df3fc-75e8-4294-f4f4-779f2ddea70e"
      },
      "source": [
        "# Classification report\n",
        "class_report = metrics.classification_report(y_test, y_pred_knn_filter)\n",
        "print(class_report)"
      ],
      "id": "Hg3gRAHzg2G8",
      "execution_count": null,
      "outputs": [
        {
          "output_type": "stream",
          "name": "stdout",
          "text": [
            "              precision    recall  f1-score   support\n",
            "\n",
            "           0       0.95      0.99      0.97       922\n",
            "           1       0.78      0.32      0.46        77\n",
            "\n",
            "    accuracy                           0.94       999\n",
            "   macro avg       0.86      0.66      0.71       999\n",
            "weighted avg       0.93      0.94      0.93       999\n",
            "\n"
          ]
        }
      ]
    },
    {
      "cell_type": "code",
      "metadata": {
        "colab": {
          "base_uri": "https://localhost:8080/",
          "height": 312
        },
        "id": "jWW2QGpag7JO",
        "outputId": "577d792c-2b31-4ce2-a70e-478aa1ead337"
      },
      "source": [
        "# Plot ROC curve\n",
        "auc_knn_filter = plot_ROC(y_test, y_pred_knn_filter)"
      ],
      "id": "jWW2QGpag7JO",
      "execution_count": null,
      "outputs": [
        {
          "output_type": "display_data",
          "data": {
            "image/png": "[encoded data removed]",
            "text/plain": [
              "<Figure size 432x288 with 1 Axes>"
            ]
          },
          "metadata": {
            "needs_background": "light"
          }
        },
        {
          "output_type": "stream",
          "name": "stdout",
          "text": [
            "AUC: 0.66\n"
          ]
        }
      ]
    },
    {
      "cell_type": "markdown",
      "metadata": {
        "id": "RetgKpuGgabA"
      },
      "source": [
        "### **With the subset of features obtained from Wrapper method using Decision tree**"
      ],
      "id": "RetgKpuGgabA"
    },
    {
      "cell_type": "code",
      "metadata": {
        "id": "EXIBBygFgf1X"
      },
      "source": [
        "x_train_dt = X_train[best_feats_bs_dtc]\n",
        "x_test_dt = X_test[best_feats_bs_dtc]"
      ],
      "id": "EXIBBygFgf1X",
      "execution_count": null,
      "outputs": []
    },
    {
      "cell_type": "markdown",
      "metadata": {
        "id": "Bcre7bmJioMa"
      },
      "source": [
        "**Decision tree Classifier**"
      ],
      "id": "Bcre7bmJioMa"
    },
    {
      "cell_type": "code",
      "metadata": {
        "colab": {
          "base_uri": "https://localhost:8080/"
        },
        "id": "_C45zT27ikKf",
        "outputId": "13f48b02-42e0-47be-db11-2d6e97cdeaa7"
      },
      "source": [
        "%%time\n",
        "y_pred_dtc_wrapper_dtc = train_and_evaluate_models(DecisionTreeClassifier, dtc_params, x_train_dt, x_test_dt, y_train, 'Decision_tree_wrapper_dtc',\n",
        "                                              model_key='dt')"
      ],
      "id": "_C45zT27ikKf",
      "execution_count": null,
      "outputs": [
        {
          "output_type": "stream",
          "name": "stdout",
          "text": [
            "Best parameters are:\n",
            "{'class_weight': 'balanced', 'criterion': 'entropy', 'max_depth': 3, 'max_features': 'log2', 'min_samples_split': 10, 'splitter': 'best'}\n",
            "CPU times: user 26.9 s, sys: 115 ms, total: 27 s\n",
            "Wall time: 27 s\n"
          ]
        }
      ]
    },
    {
      "cell_type": "code",
      "metadata": {
        "colab": {
          "base_uri": "https://localhost:8080/"
        },
        "id": "HOoiSB6-iziL",
        "outputId": "a70e31a5-70eb-45f3-c7ae-8fb06deb5052"
      },
      "source": [
        "# Calculate metrics\n",
        "acc_dtc_wrapper_dtc = metrics.accuracy_score(y_test, y_pred_dtc_wrapper_dtc)\n",
        "f1_dtc_wrapper_dtc = metrics.f1_score(y_test, y_pred_dtc_wrapper_dtc, average='weighted')\n",
        "\n",
        "print(f'Accuracy : {acc_dtc_wrapper_dtc:.2}')\n",
        "print(f'F1-score : {f1_dtc_wrapper_dtc:.2}')"
      ],
      "id": "HOoiSB6-iziL",
      "execution_count": null,
      "outputs": [
        {
          "output_type": "stream",
          "name": "stdout",
          "text": [
            "Accuracy : 0.95\n",
            "F1-score : 0.94\n"
          ]
        }
      ]
    },
    {
      "cell_type": "code",
      "metadata": {
        "colab": {
          "base_uri": "https://localhost:8080/",
          "height": 530
        },
        "id": "D1Yf7TyTjFQf",
        "outputId": "2d2884c9-8224-4b76-a769-39b1d5cd1f34"
      },
      "source": [
        "#Plot the confusion matrix\n",
        "plot_confusion_matrix(y_test, y_pred_dtc_wrapper_dtc, normalize=False,figsize=(15,8))"
      ],
      "id": "D1Yf7TyTjFQf",
      "execution_count": null,
      "outputs": [
        {
          "output_type": "execute_result",
          "data": {
            "text/plain": [
              "<matplotlib.axes._subplots.AxesSubplot at 0x7f2be69afd50>"
            ]
          },
          "metadata": {},
          "execution_count": 81
        },
        {
          "output_type": "display_data",
          "data": {
            "image/png": "[encoded data removed]",
            "text/plain": [
              "<Figure size 1080x576 with 2 Axes>"
            ]
          },
          "metadata": {
            "needs_background": "light"
          }
        }
      ]
    },
    {
      "cell_type": "code",
      "metadata": {
        "colab": {
          "base_uri": "https://localhost:8080/"
        },
        "id": "mbgG1DeAjQRC",
        "outputId": "ef5e0b1d-fd1f-4269-f91b-70d56b19ddc8"
      },
      "source": [
        "# Classification report \n",
        "class_report = metrics.classification_report(y_test, y_pred_dtc_wrapper_dtc)\n",
        "print(class_report)"
      ],
      "id": "mbgG1DeAjQRC",
      "execution_count": null,
      "outputs": [
        {
          "output_type": "stream",
          "name": "stdout",
          "text": [
            "              precision    recall  f1-score   support\n",
            "\n",
            "           0       0.95      0.99      0.97       922\n",
            "           1       0.78      0.42      0.54        77\n",
            "\n",
            "    accuracy                           0.95       999\n",
            "   macro avg       0.87      0.70      0.76       999\n",
            "weighted avg       0.94      0.95      0.94       999\n",
            "\n"
          ]
        }
      ]
    },
    {
      "cell_type": "code",
      "metadata": {
        "colab": {
          "base_uri": "https://localhost:8080/",
          "height": 312
        },
        "id": "LfdMiIxHjaIu",
        "outputId": "34d4cdb7-8034-4c2f-bffe-045a879ebb55"
      },
      "source": [
        "# Plot ROC\n",
        "auc_dtc_wrapper_dtc = plot_ROC(y_test, y_pred_dtc_wrapper_dtc)"
      ],
      "id": "LfdMiIxHjaIu",
      "execution_count": null,
      "outputs": [
        {
          "output_type": "display_data",
          "data": {
            "image/png": "[encoded data removed]",
            "text/plain": [
              "<Figure size 432x288 with 1 Axes>"
            ]
          },
          "metadata": {
            "needs_background": "light"
          }
        },
        {
          "output_type": "stream",
          "name": "stdout",
          "text": [
            "AUC: 0.7\n"
          ]
        }
      ]
    },
    {
      "cell_type": "markdown",
      "metadata": {
        "id": "-TIHuU0RjkeH"
      },
      "source": [
        "**Naïve Bayes**"
      ],
      "id": "-TIHuU0RjkeH"
    },
    {
      "cell_type": "code",
      "metadata": {
        "colab": {
          "base_uri": "https://localhost:8080/"
        },
        "id": "2DjmhfMEjllE",
        "outputId": "50a26dc4-3497-4d16-f4c9-395c50635368"
      },
      "source": [
        "%%time\n",
        "y_pred_nb_wrapper_dtc = train_and_evaluate_models(MultinomialNB, nb_params, x_train_dt, x_test_dt, y_train, 'MultinomialNB_wrapper_dtc', model_key='nb')"
      ],
      "id": "2DjmhfMEjllE",
      "execution_count": null,
      "outputs": [
        {
          "output_type": "stream",
          "name": "stdout",
          "text": [
            "Best parameters are:\n",
            "{'alpha': 0, 'fit_prior': 'True'}\n",
            "CPU times: user 333 ms, sys: 3 ms, total: 336 ms\n",
            "Wall time: 341 ms\n"
          ]
        }
      ]
    },
    {
      "cell_type": "code",
      "metadata": {
        "colab": {
          "base_uri": "https://localhost:8080/"
        },
        "id": "Tcl8NIhrkHNG",
        "outputId": "8c5b70fe-7cff-4ce2-dad3-a67f50d892a3"
      },
      "source": [
        "# Calculate metrics\n",
        "acc_nb_wrapper_dtc = metrics.accuracy_score(y_test, y_pred_nb_wrapper_dtc)\n",
        "f1_nb_wrapper_dtc = metrics.f1_score(y_test, y_pred_nb_wrapper_dtc, average='weighted')\n",
        "\n",
        "print(f'Accuracy : {acc_nb_wrapper_dtc:.2}')\n",
        "print(f'F1-score : {f1_nb_wrapper_dtc:.2}')"
      ],
      "id": "Tcl8NIhrkHNG",
      "execution_count": null,
      "outputs": [
        {
          "output_type": "stream",
          "name": "stdout",
          "text": [
            "Accuracy : 0.74\n",
            "F1-score : 0.8\n"
          ]
        }
      ]
    },
    {
      "cell_type": "code",
      "metadata": {
        "colab": {
          "base_uri": "https://localhost:8080/",
          "height": 530
        },
        "id": "fcHNjLu1keLx",
        "outputId": "9ce7b34d-430e-45c8-c7c9-dd77cd1096f5"
      },
      "source": [
        "#Plot the confusion matrix\n",
        "plot_confusion_matrix(y_test, y_pred_nb_wrapper_dtc, normalize=False,figsize=(15,8))"
      ],
      "id": "fcHNjLu1keLx",
      "execution_count": null,
      "outputs": [
        {
          "output_type": "execute_result",
          "data": {
            "text/plain": [
              "<matplotlib.axes._subplots.AxesSubplot at 0x7f2be5c46ad0>"
            ]
          },
          "metadata": {},
          "execution_count": 86
        },
        {
          "output_type": "display_data",
          "data": {
            "image/png": "[encoded data removed]",
            "text/plain": [
              "<Figure size 1080x576 with 2 Axes>"
            ]
          },
          "metadata": {
            "needs_background": "light"
          }
        }
      ]
    },
    {
      "cell_type": "code",
      "metadata": {
        "colab": {
          "base_uri": "https://localhost:8080/"
        },
        "id": "hoqf4jwzknqk",
        "outputId": "535fc44e-14f0-479c-a0e8-54fa12e58503"
      },
      "source": [
        "# Classification report\n",
        "class_report = metrics.classification_report(y_test, y_pred_nb_wrapper_dtc)\n",
        "print(class_report)"
      ],
      "id": "hoqf4jwzknqk",
      "execution_count": null,
      "outputs": [
        {
          "output_type": "stream",
          "name": "stdout",
          "text": [
            "              precision    recall  f1-score   support\n",
            "\n",
            "           0       0.93      0.78      0.85       922\n",
            "           1       0.11      0.31      0.16        77\n",
            "\n",
            "    accuracy                           0.74       999\n",
            "   macro avg       0.52      0.55      0.50       999\n",
            "weighted avg       0.87      0.74      0.80       999\n",
            "\n"
          ]
        }
      ]
    },
    {
      "cell_type": "code",
      "metadata": {
        "colab": {
          "base_uri": "https://localhost:8080/",
          "height": 312
        },
        "id": "hiFR2GtDkyA3",
        "outputId": "f582cef2-f559-4b34-f00f-b9aa21b86ae7"
      },
      "source": [
        "# Plot ROC curve\n",
        "auc_nb_wrapper_dtc = plot_ROC(y_test, y_pred_nb_wrapper_dtc)"
      ],
      "id": "hiFR2GtDkyA3",
      "execution_count": null,
      "outputs": [
        {
          "output_type": "display_data",
          "data": {
            "image/png": "[encoded data removed]",
            "text/plain": [
              "<Figure size 432x288 with 1 Axes>"
            ]
          },
          "metadata": {
            "needs_background": "light"
          }
        },
        {
          "output_type": "stream",
          "name": "stdout",
          "text": [
            "AUC: 0.55\n"
          ]
        }
      ]
    },
    {
      "cell_type": "markdown",
      "metadata": {
        "id": "-CKyNzeak_oB"
      },
      "source": [
        "**SVM**"
      ],
      "id": "-CKyNzeak_oB"
    },
    {
      "cell_type": "code",
      "metadata": {
        "colab": {
          "base_uri": "https://localhost:8080/"
        },
        "id": "4oPTVaNbk-oq",
        "outputId": "4db05598-9774-4dba-9a71-e1260e9167f5"
      },
      "source": [
        "%%time \n",
        "y_pred_svc_wrapper_dtc = train_and_evaluate_models(SVC, svm_params, x_train_dt, x_test_dt, y_train, 'SVC_wrapper_dt', model_key='svm')"
      ],
      "id": "4oPTVaNbk-oq",
      "execution_count": null,
      "outputs": [
        {
          "output_type": "stream",
          "name": "stdout",
          "text": [
            "Best parameters are:\n",
            "{'C': 0.6, 'class_weight': 'balanced', 'decision_function_shape': 'ovo', 'kernel': 'linear'}\n",
            "CPU times: user 11min 20s, sys: 685 ms, total: 11min 20s\n",
            "Wall time: 11min 16s\n"
          ]
        }
      ]
    },
    {
      "cell_type": "code",
      "metadata": {
        "colab": {
          "base_uri": "https://localhost:8080/"
        },
        "id": "deGz61LQmPhk",
        "outputId": "6bc1f675-c8a5-4e09-a400-167f624c7e23"
      },
      "source": [
        "# Calculate metrics\n",
        "acc_svm_wrapper_dtc = metrics.accuracy_score(y_test, y_pred_svc_wrapper_dtc)\n",
        "f1_svm_wrapper_dtc = metrics.f1_score(y_test, y_pred_svc_wrapper_dtc, average='weighted')\n",
        "\n",
        "print(f'Accuracy : {acc_svm_wrapper_dtc:.2}')\n",
        "print(f'F1-score : {f1_svm_wrapper_dtc:.2}')"
      ],
      "id": "deGz61LQmPhk",
      "execution_count": null,
      "outputs": [
        {
          "output_type": "stream",
          "name": "stdout",
          "text": [
            "Accuracy : 0.95\n",
            "F1-score : 0.94\n"
          ]
        }
      ]
    },
    {
      "cell_type": "code",
      "metadata": {
        "colab": {
          "base_uri": "https://localhost:8080/",
          "height": 530
        },
        "id": "mlBDSBBYmkYA",
        "outputId": "e6d50abf-e6c0-4669-d315-eb3c46bfcef7"
      },
      "source": [
        "#Plot the confusion matrix\n",
        "plot_confusion_matrix(y_test, y_pred_svc_wrapper_dtc, normalize=False,figsize=(15,8))"
      ],
      "id": "mlBDSBBYmkYA",
      "execution_count": null,
      "outputs": [
        {
          "output_type": "execute_result",
          "data": {
            "text/plain": [
              "<matplotlib.axes._subplots.AxesSubplot at 0x7f2be6a399d0>"
            ]
          },
          "metadata": {},
          "execution_count": 91
        },
        {
          "output_type": "display_data",
          "data": {
            "image/png": "[encoded data removed]",
            "text/plain": [
              "<Figure size 1080x576 with 2 Axes>"
            ]
          },
          "metadata": {
            "needs_background": "light"
          }
        }
      ]
    },
    {
      "cell_type": "code",
      "metadata": {
        "colab": {
          "base_uri": "https://localhost:8080/"
        },
        "id": "j02o6c_umrTk",
        "outputId": "ea5d5bdf-d532-41f9-91be-9a817f4b2017"
      },
      "source": [
        "# Classification report\n",
        "class_report = metrics.classification_report(y_test, y_pred_svc_wrapper_dtc)\n",
        "print(class_report)"
      ],
      "id": "j02o6c_umrTk",
      "execution_count": null,
      "outputs": [
        {
          "output_type": "stream",
          "name": "stdout",
          "text": [
            "              precision    recall  f1-score   support\n",
            "\n",
            "           0       0.95      0.99      0.97       922\n",
            "           1       0.78      0.42      0.54        77\n",
            "\n",
            "    accuracy                           0.95       999\n",
            "   macro avg       0.87      0.70      0.76       999\n",
            "weighted avg       0.94      0.95      0.94       999\n",
            "\n"
          ]
        }
      ]
    },
    {
      "cell_type": "code",
      "metadata": {
        "colab": {
          "base_uri": "https://localhost:8080/",
          "height": 312
        },
        "id": "fs1IIlH6mx_R",
        "outputId": "82594e94-8da6-40e7-84d9-22f99c562779"
      },
      "source": [
        "# Plot ROC curve\n",
        "auc_svc_wrapper_dtc = plot_ROC(y_test, y_pred_svc_wrapper_dtc)"
      ],
      "id": "fs1IIlH6mx_R",
      "execution_count": null,
      "outputs": [
        {
          "output_type": "display_data",
          "data": {
            "image/png": "[encoded data removed]",
            "text/plain": [
              "<Figure size 432x288 with 1 Axes>"
            ]
          },
          "metadata": {
            "needs_background": "light"
          }
        },
        {
          "output_type": "stream",
          "name": "stdout",
          "text": [
            "AUC: 0.7\n"
          ]
        }
      ]
    },
    {
      "cell_type": "markdown",
      "metadata": {
        "id": "lGkysYoJnADL"
      },
      "source": [
        "**KNN**"
      ],
      "id": "lGkysYoJnADL"
    },
    {
      "cell_type": "code",
      "metadata": {
        "colab": {
          "base_uri": "https://localhost:8080/"
        },
        "id": "8EEA6WljnA6D",
        "outputId": "735daade-87d1-405d-9a67-21e36643deae"
      },
      "source": [
        "y_pred_knn_wrapper_dtc = train_and_evaluate_models(KNeighborsClassifier, knn_params, x_train_dt, x_test_dt, y_train, 'KNN_wrapper_dt', model_key='knn')"
      ],
      "id": "8EEA6WljnA6D",
      "execution_count": null,
      "outputs": [
        {
          "output_type": "stream",
          "name": "stdout",
          "text": [
            "Best parameters are:\n",
            "{'n_neighbors': 7, 'weights': 'distance'}\n"
          ]
        }
      ]
    },
    {
      "cell_type": "code",
      "metadata": {
        "colab": {
          "base_uri": "https://localhost:8080/"
        },
        "id": "cSZRqtpDnScx",
        "outputId": "768cb73e-0d86-41be-ea70-4bc8e5788038"
      },
      "source": [
        "# Calculate metrics\n",
        "acc_knn_wrapper_dtc = metrics.accuracy_score(y_test, y_pred_knn_wrapper_dtc)\n",
        "f1_knn_wrapper_dtc = metrics.f1_score(y_test, y_pred_knn_wrapper_dtc, average='weighted')\n",
        "\n",
        "print(f'Accuracy : {acc_knn_wrapper_dtc:.2}')\n",
        "print(f'F1-score : {f1_knn_wrapper_dtc:.2}')"
      ],
      "id": "cSZRqtpDnScx",
      "execution_count": null,
      "outputs": [
        {
          "output_type": "stream",
          "name": "stdout",
          "text": [
            "Accuracy : 0.94\n",
            "F1-score : 0.93\n"
          ]
        }
      ]
    },
    {
      "cell_type": "code",
      "metadata": {
        "colab": {
          "base_uri": "https://localhost:8080/",
          "height": 530
        },
        "id": "vFpp_Fg0nfXP",
        "outputId": "fed8b33b-f100-4c0c-dc5a-bb9fee17c1e2"
      },
      "source": [
        "#Plot the confusion matrix\n",
        "plot_confusion_matrix(y_test, y_pred_knn_wrapper_dtc, normalize=False,figsize=(15,8))"
      ],
      "id": "vFpp_Fg0nfXP",
      "execution_count": null,
      "outputs": [
        {
          "output_type": "execute_result",
          "data": {
            "text/plain": [
              "<matplotlib.axes._subplots.AxesSubplot at 0x7f2be5eaa3d0>"
            ]
          },
          "metadata": {},
          "execution_count": 96
        },
        {
          "output_type": "display_data",
          "data": {
            "image/png": "[encoded data removed]",
            "text/plain": [
              "<Figure size 1080x576 with 2 Axes>"
            ]
          },
          "metadata": {
            "needs_background": "light"
          }
        }
      ]
    },
    {
      "cell_type": "code",
      "metadata": {
        "colab": {
          "base_uri": "https://localhost:8080/"
        },
        "id": "HjUIsC_EnkOv",
        "outputId": "a6463a5a-df34-4432-9545-0114fc1a0c51"
      },
      "source": [
        "# Classification report\n",
        "class_report = metrics.classification_report(y_test, y_pred_knn_wrapper_dtc)\n",
        "print(class_report)"
      ],
      "id": "HjUIsC_EnkOv",
      "execution_count": null,
      "outputs": [
        {
          "output_type": "stream",
          "name": "stdout",
          "text": [
            "              precision    recall  f1-score   support\n",
            "\n",
            "           0       0.95      0.99      0.97       922\n",
            "           1       0.71      0.35      0.47        77\n",
            "\n",
            "    accuracy                           0.94       999\n",
            "   macro avg       0.83      0.67      0.72       999\n",
            "weighted avg       0.93      0.94      0.93       999\n",
            "\n"
          ]
        }
      ]
    },
    {
      "cell_type": "code",
      "metadata": {
        "colab": {
          "base_uri": "https://localhost:8080/",
          "height": 312
        },
        "id": "VkP_oWI-noqS",
        "outputId": "e09c8c37-8268-4a2e-86e2-26be70e5c4bb"
      },
      "source": [
        "# Plot ROC curve\n",
        "auc_knn_wrapper_dtc = plot_ROC(y_test, y_pred_knn_wrapper_dtc)"
      ],
      "id": "VkP_oWI-noqS",
      "execution_count": null,
      "outputs": [
        {
          "output_type": "display_data",
          "data": {
            "image/png": "[encoded data removed]",
            "text/plain": [
              "<Figure size 432x288 with 1 Axes>"
            ]
          },
          "metadata": {
            "needs_background": "light"
          }
        },
        {
          "output_type": "stream",
          "name": "stdout",
          "text": [
            "AUC: 0.67\n"
          ]
        }
      ]
    },
    {
      "cell_type": "markdown",
      "metadata": {
        "id": "O-7ZCSyZn9pS"
      },
      "source": [
        "### **With the subset of features obtained from Wrapper method using Naive Bayes**"
      ],
      "id": "O-7ZCSyZn9pS"
    },
    {
      "cell_type": "code",
      "metadata": {
        "id": "XaGl2VqCoCg_"
      },
      "source": [
        "x_train_nb = X_train[best_feats_bs_nbc]\n",
        "x_test_nb = X_test[best_feats_bs_nbc]"
      ],
      "id": "XaGl2VqCoCg_",
      "execution_count": null,
      "outputs": []
    },
    {
      "cell_type": "markdown",
      "metadata": {
        "id": "jwu3mrGxoNpc"
      },
      "source": [
        "**Decision tree Classifier**"
      ],
      "id": "jwu3mrGxoNpc"
    },
    {
      "cell_type": "code",
      "metadata": {
        "colab": {
          "base_uri": "https://localhost:8080/"
        },
        "id": "oAeBbQ1hoOf4",
        "outputId": "fc80512d-a3e2-4137-f030-016c1a509486"
      },
      "source": [
        "%%time\n",
        "y_pred_dtc_wrapper_nb = train_and_evaluate_models(DecisionTreeClassifier, dtc_params, x_train_nb, x_test_nb, y_train, 'Decision_tree_wrapper_nb',\n",
        "                                              model_key='dt')"
      ],
      "id": "oAeBbQ1hoOf4",
      "execution_count": null,
      "outputs": [
        {
          "output_type": "stream",
          "name": "stdout",
          "text": [
            "Best parameters are:\n",
            "{'class_weight': 'balanced', 'criterion': 'gini', 'max_depth': 2, 'max_features': 'auto', 'min_samples_split': 2, 'splitter': 'best'}\n",
            "CPU times: user 24.8 s, sys: 109 ms, total: 24.9 s\n",
            "Wall time: 24.9 s\n"
          ]
        }
      ]
    },
    {
      "cell_type": "code",
      "metadata": {
        "colab": {
          "base_uri": "https://localhost:8080/"
        },
        "id": "LyUMSRwLog3d",
        "outputId": "3309e8d3-2f3e-43a0-983c-9396a0ebdb32"
      },
      "source": [
        "# Calculate metrics\n",
        "acc_dtc_wrapper_nb = metrics.accuracy_score(y_test, y_pred_dtc_wrapper_nb)\n",
        "f1_dtc_wrapper_nb = metrics.f1_score(y_test, y_pred_dtc_wrapper_nb, average='weighted')\n",
        "\n",
        "print(f'Accuracy : {acc_dtc_wrapper_nb:.2}')\n",
        "print(f'F1-score : {f1_dtc_wrapper_nb:.2}')"
      ],
      "id": "LyUMSRwLog3d",
      "execution_count": null,
      "outputs": [
        {
          "output_type": "stream",
          "name": "stdout",
          "text": [
            "Accuracy : 0.95\n",
            "F1-score : 0.94\n"
          ]
        }
      ]
    },
    {
      "cell_type": "code",
      "metadata": {
        "colab": {
          "base_uri": "https://localhost:8080/",
          "height": 530
        },
        "id": "rWlcvfdKoue_",
        "outputId": "7bebf0d9-f591-42ca-b0f7-bcad127edfc5"
      },
      "source": [
        "#Plot the confusion matrix\n",
        "plot_confusion_matrix(y_test, y_pred_dtc_wrapper_nb, normalize=False,figsize=(15,8))"
      ],
      "id": "rWlcvfdKoue_",
      "execution_count": null,
      "outputs": [
        {
          "output_type": "execute_result",
          "data": {
            "text/plain": [
              "<matplotlib.axes._subplots.AxesSubplot at 0x7f2be6cc9390>"
            ]
          },
          "metadata": {},
          "execution_count": 102
        },
        {
          "output_type": "display_data",
          "data": {
            "image/png": "[encoded data removed]",
            "text/plain": [
              "<Figure size 1080x576 with 2 Axes>"
            ]
          },
          "metadata": {
            "needs_background": "light"
          }
        }
      ]
    },
    {
      "cell_type": "code",
      "metadata": {
        "colab": {
          "base_uri": "https://localhost:8080/"
        },
        "id": "rANMRXLhozRp",
        "outputId": "10e8c2c1-ba3e-4eb6-f5ac-058fffd23e52"
      },
      "source": [
        "# Classification report \n",
        "class_report = metrics.classification_report(y_test, y_pred_dtc_wrapper_nb)\n",
        "print(class_report)"
      ],
      "id": "rANMRXLhozRp",
      "execution_count": null,
      "outputs": [
        {
          "output_type": "stream",
          "name": "stdout",
          "text": [
            "              precision    recall  f1-score   support\n",
            "\n",
            "           0       0.95      0.99      0.97       922\n",
            "           1       0.78      0.42      0.54        77\n",
            "\n",
            "    accuracy                           0.95       999\n",
            "   macro avg       0.87      0.70      0.76       999\n",
            "weighted avg       0.94      0.95      0.94       999\n",
            "\n"
          ]
        }
      ]
    },
    {
      "cell_type": "code",
      "metadata": {
        "colab": {
          "base_uri": "https://localhost:8080/",
          "height": 312
        },
        "id": "oCF2qpm_o4A2",
        "outputId": "e30ea325-efb7-499f-bd86-18a30cd500c3"
      },
      "source": [
        "# Plot ROC\n",
        "auc_dtc_wrapper_nb = plot_ROC(y_test, y_pred_dtc_wrapper_nb)"
      ],
      "id": "oCF2qpm_o4A2",
      "execution_count": null,
      "outputs": [
        {
          "output_type": "display_data",
          "data": {
            "image/png": "[encoded data removed]",
            "text/plain": [
              "<Figure size 432x288 with 1 Axes>"
            ]
          },
          "metadata": {
            "needs_background": "light"
          }
        },
        {
          "output_type": "stream",
          "name": "stdout",
          "text": [
            "AUC: 0.7\n"
          ]
        }
      ]
    },
    {
      "cell_type": "markdown",
      "metadata": {
        "id": "hs2zTK7Mp18a"
      },
      "source": [
        "**Naïve Bayes**"
      ],
      "id": "hs2zTK7Mp18a"
    },
    {
      "cell_type": "code",
      "metadata": {
        "colab": {
          "base_uri": "https://localhost:8080/"
        },
        "id": "Biun6UxepyDT",
        "outputId": "cd46ec45-9fb3-4d6f-8aa8-1a2f85914258"
      },
      "source": [
        "%%time\n",
        "y_pred_nb_wrapper_nb = train_and_evaluate_models(MultinomialNB, nb_params, x_train_nb, x_test_nb, y_train, 'MultinomialNB_wrapper_nb', model_key='nb')"
      ],
      "id": "Biun6UxepyDT",
      "execution_count": null,
      "outputs": [
        {
          "output_type": "stream",
          "name": "stdout",
          "text": [
            "Best parameters are:\n",
            "{'alpha': 0, 'fit_prior': 'True'}\n",
            "CPU times: user 296 ms, sys: 1.01 ms, total: 297 ms\n",
            "Wall time: 301 ms\n"
          ]
        }
      ]
    },
    {
      "cell_type": "code",
      "metadata": {
        "colab": {
          "base_uri": "https://localhost:8080/"
        },
        "id": "rAThNauLqCqZ",
        "outputId": "1165d868-3444-4f50-da63-7fa1a87edf06"
      },
      "source": [
        "# Calculate metrics\n",
        "acc_nb_wrapper_nb = metrics.accuracy_score(y_test, y_pred_nb_wrapper_nb)\n",
        "f1_nb_wrapper_nb = metrics.f1_score(y_test, y_pred_nb_wrapper_nb, average='weighted')\n",
        "\n",
        "print(f'Accuracy : {acc_nb_wrapper_nb:.2}')\n",
        "print(f'F1-score : {f1_nb_wrapper_nb:.2}')"
      ],
      "id": "rAThNauLqCqZ",
      "execution_count": null,
      "outputs": [
        {
          "output_type": "stream",
          "name": "stdout",
          "text": [
            "Accuracy : 0.93\n",
            "F1-score : 0.9\n"
          ]
        }
      ]
    },
    {
      "cell_type": "code",
      "metadata": {
        "colab": {
          "base_uri": "https://localhost:8080/",
          "height": 530
        },
        "id": "m2eRkhAwqQKD",
        "outputId": "93cf308c-9fd2-419d-d8f3-91878903697e"
      },
      "source": [
        "#Plot the confusion matrix\n",
        "plot_confusion_matrix(y_test, y_pred_nb_wrapper_nb, normalize=False,figsize=(15,8))"
      ],
      "id": "m2eRkhAwqQKD",
      "execution_count": null,
      "outputs": [
        {
          "output_type": "execute_result",
          "data": {
            "text/plain": [
              "<matplotlib.axes._subplots.AxesSubplot at 0x7f2be5e33090>"
            ]
          },
          "metadata": {},
          "execution_count": 107
        },
        {
          "output_type": "display_data",
          "data": {
            "image/png": "[encoded data removed]",
            "text/plain": [
              "<Figure size 1080x576 with 2 Axes>"
            ]
          },
          "metadata": {
            "needs_background": "light"
          }
        }
      ]
    },
    {
      "cell_type": "code",
      "metadata": {
        "colab": {
          "base_uri": "https://localhost:8080/"
        },
        "id": "JAJa_H8xqXGL",
        "outputId": "d85aa5e0-6209-49ad-c2fc-963f31a3f59c"
      },
      "source": [
        "# Classification report\n",
        "class_report = metrics.classification_report(y_test, y_pred_nb_wrapper_nb)\n",
        "print(class_report)"
      ],
      "id": "JAJa_H8xqXGL",
      "execution_count": null,
      "outputs": [
        {
          "output_type": "stream",
          "name": "stdout",
          "text": [
            "              precision    recall  f1-score   support\n",
            "\n",
            "           0       0.93      1.00      0.96       922\n",
            "           1       1.00      0.08      0.14        77\n",
            "\n",
            "    accuracy                           0.93       999\n",
            "   macro avg       0.96      0.54      0.55       999\n",
            "weighted avg       0.93      0.93      0.90       999\n",
            "\n"
          ]
        }
      ]
    },
    {
      "cell_type": "code",
      "metadata": {
        "colab": {
          "base_uri": "https://localhost:8080/",
          "height": 312
        },
        "id": "RlTA_GIgqcwI",
        "outputId": "5f77882c-b1e8-43a6-bc31-58ddff66e007"
      },
      "source": [
        "# Plot ROC curve\n",
        "auc_nb_wrapper_nb = plot_ROC(y_test, y_pred_nb_wrapper_nb)"
      ],
      "id": "RlTA_GIgqcwI",
      "execution_count": null,
      "outputs": [
        {
          "output_type": "display_data",
          "data": {
            "image/png": "[encoded data removed]",
            "text/plain": [
              "<Figure size 432x288 with 1 Axes>"
            ]
          },
          "metadata": {
            "needs_background": "light"
          }
        },
        {
          "output_type": "stream",
          "name": "stdout",
          "text": [
            "AUC: 0.54\n"
          ]
        }
      ]
    },
    {
      "cell_type": "markdown",
      "metadata": {
        "id": "Hbd3yrJPqpX5"
      },
      "source": [
        "**SVM**"
      ],
      "id": "Hbd3yrJPqpX5"
    },
    {
      "cell_type": "code",
      "metadata": {
        "colab": {
          "base_uri": "https://localhost:8080/"
        },
        "id": "n3ibY8xxql3K",
        "outputId": "5b2562b9-2568-46b0-a184-4a4aa2e310c5"
      },
      "source": [
        "%%time \n",
        "y_pred_svc_wrapper_nb = train_and_evaluate_models(SVC, svm_params, x_train_nb, x_test_nb, y_train, 'SVC_wrapper_nb', model_key='svm')"
      ],
      "id": "n3ibY8xxql3K",
      "execution_count": null,
      "outputs": [
        {
          "output_type": "stream",
          "name": "stdout",
          "text": [
            "Best parameters are:\n",
            "{'C': 0.6, 'class_weight': 'balanced', 'decision_function_shape': 'ovo', 'kernel': 'linear'}\n",
            "CPU times: user 27.5 s, sys: 94 ms, total: 27.6 s\n",
            "Wall time: 27.5 s\n"
          ]
        }
      ]
    },
    {
      "cell_type": "code",
      "metadata": {
        "colab": {
          "base_uri": "https://localhost:8080/"
        },
        "id": "6z_54kQBq4iN",
        "outputId": "8fbd81d1-c18e-48fc-8912-1cf1f7cfc16a"
      },
      "source": [
        "# Calculate metrics\n",
        "acc_svm_wrapper_nb = metrics.accuracy_score(y_test, y_pred_svc_wrapper_nb)\n",
        "f1_svm_wrapper_nb = metrics.f1_score(y_test, y_pred_svc_wrapper_nb, average='weighted')\n",
        "\n",
        "print(f'Accuracy : {acc_svm_wrapper_nb:.2}')\n",
        "print(f'F1-score : {f1_svm_wrapper_nb:.2}')"
      ],
      "id": "6z_54kQBq4iN",
      "execution_count": null,
      "outputs": [
        {
          "output_type": "stream",
          "name": "stdout",
          "text": [
            "Accuracy : 0.95\n",
            "F1-score : 0.94\n"
          ]
        }
      ]
    },
    {
      "cell_type": "code",
      "metadata": {
        "colab": {
          "base_uri": "https://localhost:8080/",
          "height": 530
        },
        "id": "6WO0qu0BrM9b",
        "outputId": "d74c0776-c589-43ae-f0bc-da6c71bf758d"
      },
      "source": [
        "#Plot the confusion matrix\n",
        "plot_confusion_matrix(y_test, y_pred_svc_wrapper_nb, normalize=False,figsize=(15,8))"
      ],
      "id": "6WO0qu0BrM9b",
      "execution_count": null,
      "outputs": [
        {
          "output_type": "execute_result",
          "data": {
            "text/plain": [
              "<matplotlib.axes._subplots.AxesSubplot at 0x7f2be5e88f50>"
            ]
          },
          "metadata": {},
          "execution_count": 112
        },
        {
          "output_type": "display_data",
          "data": {
            "image/png": "[encoded data removed]",
            "text/plain": [
              "<Figure size 1080x576 with 2 Axes>"
            ]
          },
          "metadata": {
            "needs_background": "light"
          }
        }
      ]
    },
    {
      "cell_type": "code",
      "metadata": {
        "colab": {
          "base_uri": "https://localhost:8080/"
        },
        "id": "lOuXaHdJrSVQ",
        "outputId": "de746e9a-eece-45e1-eafb-211cad8d2d22"
      },
      "source": [
        "# Classification report\n",
        "class_report = metrics.classification_report(y_test, y_pred_svc_wrapper_nb)\n",
        "print(class_report)"
      ],
      "id": "lOuXaHdJrSVQ",
      "execution_count": null,
      "outputs": [
        {
          "output_type": "stream",
          "name": "stdout",
          "text": [
            "              precision    recall  f1-score   support\n",
            "\n",
            "           0       0.95      0.99      0.97       922\n",
            "           1       0.78      0.42      0.54        77\n",
            "\n",
            "    accuracy                           0.95       999\n",
            "   macro avg       0.87      0.70      0.76       999\n",
            "weighted avg       0.94      0.95      0.94       999\n",
            "\n"
          ]
        }
      ]
    },
    {
      "cell_type": "code",
      "metadata": {
        "colab": {
          "base_uri": "https://localhost:8080/",
          "height": 312
        },
        "id": "kycTOZgqrXg5",
        "outputId": "15f2fb6b-bec7-4633-8c5b-f12dc23ce619"
      },
      "source": [
        "# Plot ROC curve\n",
        "auc_svc_wrapper_nb = plot_ROC(y_test, y_pred_svc_wrapper_nb)"
      ],
      "id": "kycTOZgqrXg5",
      "execution_count": null,
      "outputs": [
        {
          "output_type": "display_data",
          "data": {
            "image/png": "[encoded data removed]",
            "text/plain": [
              "<Figure size 432x288 with 1 Axes>"
            ]
          },
          "metadata": {
            "needs_background": "light"
          }
        },
        {
          "output_type": "stream",
          "name": "stdout",
          "text": [
            "AUC: 0.7\n"
          ]
        }
      ]
    },
    {
      "cell_type": "markdown",
      "metadata": {
        "id": "Ace731ozrhMX"
      },
      "source": [
        "**KNN**"
      ],
      "id": "Ace731ozrhMX"
    },
    {
      "cell_type": "code",
      "metadata": {
        "colab": {
          "base_uri": "https://localhost:8080/"
        },
        "id": "bWeMsvHdrd5d",
        "outputId": "006bf452-ab03-41fd-87e8-98283022af26"
      },
      "source": [
        "%%time\n",
        "y_pred_knn_wrapper_nb = train_and_evaluate_models(KNeighborsClassifier, knn_params, x_train_nb, x_test_nb, y_train, 'KNN_wrapper_nb', model_key='knn')"
      ],
      "id": "bWeMsvHdrd5d",
      "execution_count": null,
      "outputs": [
        {
          "output_type": "stream",
          "name": "stdout",
          "text": [
            "Best parameters are:\n",
            "{'n_neighbors': 2, 'weights': 'distance'}\n",
            "CPU times: user 1.09 s, sys: 8.01 ms, total: 1.09 s\n",
            "Wall time: 1.09 s\n"
          ]
        }
      ]
    },
    {
      "cell_type": "code",
      "metadata": {
        "colab": {
          "base_uri": "https://localhost:8080/"
        },
        "id": "I8K1warVrvPh",
        "outputId": "b8250a5c-85a5-4034-d688-a14d5a97d5bc"
      },
      "source": [
        "# Calculate metrics\n",
        "acc_knn_wrapper_nb = metrics.accuracy_score(y_test, y_pred_knn_wrapper_nb)\n",
        "f1_knn_wrapper_nb = metrics.f1_score(y_test, y_pred_knn_wrapper_nb, average='weighted')\n",
        "\n",
        "print(f'Accuracy : {acc_knn_wrapper_nb:.2}')\n",
        "print(f'F1-score : {f1_knn_wrapper_nb:.2}')"
      ],
      "id": "I8K1warVrvPh",
      "execution_count": null,
      "outputs": [
        {
          "output_type": "stream",
          "name": "stdout",
          "text": [
            "Accuracy : 0.93\n",
            "F1-score : 0.92\n"
          ]
        }
      ]
    },
    {
      "cell_type": "code",
      "metadata": {
        "colab": {
          "base_uri": "https://localhost:8080/",
          "height": 530
        },
        "id": "7fyMb-gPr9Tv",
        "outputId": "60404349-6469-4d69-d0c1-c2319d20400f"
      },
      "source": [
        "#Plot the confusion matrix\n",
        "plot_confusion_matrix(y_test, y_pred_knn_wrapper_nb, normalize=False,figsize=(15,8))"
      ],
      "id": "7fyMb-gPr9Tv",
      "execution_count": null,
      "outputs": [
        {
          "output_type": "execute_result",
          "data": {
            "text/plain": [
              "<matplotlib.axes._subplots.AxesSubplot at 0x7f2be5df1510>"
            ]
          },
          "metadata": {},
          "execution_count": 117
        },
        {
          "output_type": "display_data",
          "data": {
            "image/png": "[encoded data removed]",
            "text/plain": [
              "<Figure size 1080x576 with 2 Axes>"
            ]
          },
          "metadata": {
            "needs_background": "light"
          }
        }
      ]
    },
    {
      "cell_type": "code",
      "metadata": {
        "colab": {
          "base_uri": "https://localhost:8080/"
        },
        "id": "hNns3MBHsCVW",
        "outputId": "efbbb820-39b4-4ed3-f457-edc0d43928ed"
      },
      "source": [
        "# Classification report\n",
        "class_report = metrics.classification_report(y_test, y_pred_knn_wrapper_nb)\n",
        "print(class_report)"
      ],
      "id": "hNns3MBHsCVW",
      "execution_count": null,
      "outputs": [
        {
          "output_type": "stream",
          "name": "stdout",
          "text": [
            "              precision    recall  f1-score   support\n",
            "\n",
            "           0       0.95      0.98      0.96       922\n",
            "           1       0.58      0.32      0.42        77\n",
            "\n",
            "    accuracy                           0.93       999\n",
            "   macro avg       0.76      0.65      0.69       999\n",
            "weighted avg       0.92      0.93      0.92       999\n",
            "\n"
          ]
        }
      ]
    },
    {
      "cell_type": "code",
      "metadata": {
        "colab": {
          "base_uri": "https://localhost:8080/",
          "height": 312
        },
        "id": "QzPsKnyasHSu",
        "outputId": "70bad581-2a03-4796-898e-9f4313e64224"
      },
      "source": [
        "# Plot ROC curve\n",
        "auc_knn_wrapper_nb = plot_ROC(y_test, y_pred_knn_wrapper_nb)"
      ],
      "id": "QzPsKnyasHSu",
      "execution_count": null,
      "outputs": [
        {
          "output_type": "display_data",
          "data": {
            "image/png": "[encoded data removed]",
            "text/plain": [
              "<Figure size 432x288 with 1 Axes>"
            ]
          },
          "metadata": {
            "needs_background": "light"
          }
        },
        {
          "output_type": "stream",
          "name": "stdout",
          "text": [
            "AUC: 0.65\n"
          ]
        }
      ]
    },
    {
      "cell_type": "markdown",
      "metadata": {
        "id": "8lDwpCaGsUTk"
      },
      "source": [
        "### **With the subset of features obtained from Wrapper method using SVM**"
      ],
      "id": "8lDwpCaGsUTk"
    },
    {
      "cell_type": "code",
      "metadata": {
        "id": "ChkgTVlXsONR"
      },
      "source": [
        "x_train_svm = X_train[best_feats_bs_svc]\n",
        "x_test_svm = X_test[best_feats_bs_svc]"
      ],
      "id": "ChkgTVlXsONR",
      "execution_count": null,
      "outputs": []
    },
    {
      "cell_type": "markdown",
      "metadata": {
        "id": "6VxceXj6socc"
      },
      "source": [
        "**Decision tree Classifier**"
      ],
      "id": "6VxceXj6socc"
    },
    {
      "cell_type": "code",
      "metadata": {
        "colab": {
          "base_uri": "https://localhost:8080/"
        },
        "id": "4tM4SZuxsihP",
        "outputId": "33477403-3807-4e1e-af0b-621d1e27edeb"
      },
      "source": [
        "%%time\n",
        "y_pred_dtc_wrapper_svm = train_and_evaluate_models(DecisionTreeClassifier, dtc_params, x_train_svm, x_test_svm, y_train, 'Decision_tree_wrapper_svm',\n",
        "                                              model_key='dt')"
      ],
      "id": "4tM4SZuxsihP",
      "execution_count": null,
      "outputs": [
        {
          "output_type": "stream",
          "name": "stdout",
          "text": [
            "Best parameters are:\n",
            "{'class_weight': 'balanced', 'criterion': 'entropy', 'max_depth': 2, 'max_features': 'auto', 'min_samples_split': 10, 'splitter': 'best'}\n",
            "CPU times: user 25.6 s, sys: 86 ms, total: 25.7 s\n",
            "Wall time: 25.7 s\n"
          ]
        }
      ]
    },
    {
      "cell_type": "code",
      "metadata": {
        "colab": {
          "base_uri": "https://localhost:8080/"
        },
        "id": "8giHgNags1og",
        "outputId": "e2e17995-11c8-44a0-b56f-2ffd346d09cc"
      },
      "source": [
        "# Calculate metrics\n",
        "acc_dtc_wrapper_svm = metrics.accuracy_score(y_test, y_pred_dtc_wrapper_svm)\n",
        "f1_dtc_wrapper_svm = metrics.f1_score(y_test, y_pred_dtc_wrapper_svm, average='weighted')\n",
        "\n",
        "print(f'Accuracy : {acc_dtc_wrapper_svm:.2}')\n",
        "print(f'F1-score : {f1_dtc_wrapper_svm:.2}')"
      ],
      "id": "8giHgNags1og",
      "execution_count": null,
      "outputs": [
        {
          "output_type": "stream",
          "name": "stdout",
          "text": [
            "Accuracy : 0.95\n",
            "F1-score : 0.94\n"
          ]
        }
      ]
    },
    {
      "cell_type": "code",
      "metadata": {
        "colab": {
          "base_uri": "https://localhost:8080/",
          "height": 530
        },
        "id": "ualWA5xytGCY",
        "outputId": "5e2c8572-e13b-4d71-ebf6-d8c251bf8ec3"
      },
      "source": [
        "#Plot the confusion matrix\n",
        "plot_confusion_matrix(y_test, y_pred_dtc_wrapper_svm, normalize=False,figsize=(15,8))"
      ],
      "id": "ualWA5xytGCY",
      "execution_count": null,
      "outputs": [
        {
          "output_type": "execute_result",
          "data": {
            "text/plain": [
              "<matplotlib.axes._subplots.AxesSubplot at 0x7f2be6b45890>"
            ]
          },
          "metadata": {},
          "execution_count": 123
        },
        {
          "output_type": "display_data",
          "data": {
            "image/png": "[encoded data removed]",
            "text/plain": [
              "<Figure size 1080x576 with 2 Axes>"
            ]
          },
          "metadata": {
            "needs_background": "light"
          }
        }
      ]
    },
    {
      "cell_type": "code",
      "metadata": {
        "colab": {
          "base_uri": "https://localhost:8080/"
        },
        "id": "M9WW2LXktk9V",
        "outputId": "cc77bd29-e54c-418a-aeb5-c5de781b448a"
      },
      "source": [
        "# Classification report \n",
        "class_report = metrics.classification_report(y_test, y_pred_dtc_wrapper_svm)\n",
        "print(class_report)"
      ],
      "id": "M9WW2LXktk9V",
      "execution_count": null,
      "outputs": [
        {
          "output_type": "stream",
          "name": "stdout",
          "text": [
            "              precision    recall  f1-score   support\n",
            "\n",
            "           0       0.95      0.99      0.97       922\n",
            "           1       0.78      0.42      0.54        77\n",
            "\n",
            "    accuracy                           0.95       999\n",
            "   macro avg       0.87      0.70      0.76       999\n",
            "weighted avg       0.94      0.95      0.94       999\n",
            "\n"
          ]
        }
      ]
    },
    {
      "cell_type": "code",
      "metadata": {
        "colab": {
          "base_uri": "https://localhost:8080/",
          "height": 312
        },
        "id": "K4siSnH8tq0l",
        "outputId": "5f7001b9-8fa2-4766-c2d0-37c96decc3a8"
      },
      "source": [
        "# Plot ROC curve\n",
        "auc_dtc_wrapper_svm = plot_ROC(y_test, y_pred_dtc_wrapper_svm)"
      ],
      "id": "K4siSnH8tq0l",
      "execution_count": null,
      "outputs": [
        {
          "output_type": "display_data",
          "data": {
            "image/png": "[encoded data removed]",
            "text/plain": [
              "<Figure size 432x288 with 1 Axes>"
            ]
          },
          "metadata": {
            "needs_background": "light"
          }
        },
        {
          "output_type": "stream",
          "name": "stdout",
          "text": [
            "AUC: 0.7\n"
          ]
        }
      ]
    },
    {
      "cell_type": "markdown",
      "metadata": {
        "id": "_mnIQi5ct-IT"
      },
      "source": [
        "**Naïve Bayes**"
      ],
      "id": "_mnIQi5ct-IT"
    },
    {
      "cell_type": "code",
      "metadata": {
        "colab": {
          "base_uri": "https://localhost:8080/"
        },
        "id": "hIvduDqjt6or",
        "outputId": "64e07c24-6959-47e5-9ff7-7cf02c4ce1db"
      },
      "source": [
        "%%time\n",
        "y_pred_nb_wrapper_svm = train_and_evaluate_models(MultinomialNB, nb_params, x_train_svm, x_test_svm, y_train, 'MultinomialNB_wrapper_svm', model_key='nb')"
      ],
      "id": "hIvduDqjt6or",
      "execution_count": null,
      "outputs": [
        {
          "output_type": "stream",
          "name": "stdout",
          "text": [
            "Best parameters are:\n",
            "{'alpha': 0, 'fit_prior': 'True'}\n",
            "CPU times: user 308 ms, sys: 1e+03 µs, total: 309 ms\n",
            "Wall time: 308 ms\n"
          ]
        }
      ]
    },
    {
      "cell_type": "code",
      "metadata": {
        "colab": {
          "base_uri": "https://localhost:8080/"
        },
        "id": "Xivc5Q0suMRM",
        "outputId": "435983f1-25ad-4ae5-d47f-c451fc0c0790"
      },
      "source": [
        "# Calculate metrics\n",
        "acc_nb_wrapper_svm = metrics.accuracy_score(y_test, y_pred_nb_wrapper_svm)\n",
        "f1_nb_wrapper_svm = metrics.f1_score(y_test, y_pred_nb_wrapper_svm, average='weighted')\n",
        "\n",
        "print(f'Accuracy : {acc_nb_wrapper_svm:.2}')\n",
        "print(f'F1-score : {f1_nb_wrapper_svm:.2}')"
      ],
      "id": "Xivc5Q0suMRM",
      "execution_count": null,
      "outputs": [
        {
          "output_type": "stream",
          "name": "stdout",
          "text": [
            "Accuracy : 0.52\n",
            "F1-score : 0.62\n"
          ]
        }
      ]
    },
    {
      "cell_type": "code",
      "metadata": {
        "colab": {
          "base_uri": "https://localhost:8080/",
          "height": 530
        },
        "id": "ibGJyVMouZFf",
        "outputId": "0efad293-c8bc-4f6d-9bf4-bbec8492adc9"
      },
      "source": [
        "#Plot the confusion matrix\n",
        "plot_confusion_matrix(y_test, y_pred_nb_wrapper_svm, normalize=False,figsize=(15,8))"
      ],
      "id": "ibGJyVMouZFf",
      "execution_count": null,
      "outputs": [
        {
          "output_type": "execute_result",
          "data": {
            "text/plain": [
              "<matplotlib.axes._subplots.AxesSubplot at 0x7f2be5ba9250>"
            ]
          },
          "metadata": {},
          "execution_count": 128
        },
        {
          "output_type": "display_data",
          "data": {
            "image/png": "[encoded data removed]",
            "text/plain": [
              "<Figure size 1080x576 with 2 Axes>"
            ]
          },
          "metadata": {
            "needs_background": "light"
          }
        }
      ]
    },
    {
      "cell_type": "code",
      "metadata": {
        "colab": {
          "base_uri": "https://localhost:8080/"
        },
        "id": "PyEM7O2Fuesq",
        "outputId": "69edf722-0291-4e33-bfcf-0d2bdcd4384f"
      },
      "source": [
        "# Classification report\n",
        "class_report = metrics.classification_report(y_test, y_pred_nb_wrapper_svm)\n",
        "print(class_report)"
      ],
      "id": "PyEM7O2Fuesq",
      "execution_count": null,
      "outputs": [
        {
          "output_type": "stream",
          "name": "stdout",
          "text": [
            "              precision    recall  f1-score   support\n",
            "\n",
            "           0       0.93      0.52      0.66       922\n",
            "           1       0.08      0.51      0.14        77\n",
            "\n",
            "    accuracy                           0.52       999\n",
            "   macro avg       0.50      0.51      0.40       999\n",
            "weighted avg       0.86      0.52      0.62       999\n",
            "\n"
          ]
        }
      ]
    },
    {
      "cell_type": "code",
      "metadata": {
        "colab": {
          "base_uri": "https://localhost:8080/",
          "height": 312
        },
        "id": "OUZjo7KmukSA",
        "outputId": "c6decd6b-7c60-494c-8d5b-b41da01e434d"
      },
      "source": [
        "# Plot ROC curve\n",
        "auc_nb_wrapper_svm = plot_ROC(y_test, y_pred_nb_wrapper_svm)"
      ],
      "id": "OUZjo7KmukSA",
      "execution_count": null,
      "outputs": [
        {
          "output_type": "display_data",
          "data": {
            "image/png": "[encoded data removed]",
            "text/plain": [
              "<Figure size 432x288 with 1 Axes>"
            ]
          },
          "metadata": {
            "needs_background": "light"
          }
        },
        {
          "output_type": "stream",
          "name": "stdout",
          "text": [
            "AUC: 0.51\n"
          ]
        }
      ]
    },
    {
      "cell_type": "markdown",
      "metadata": {
        "id": "vStKWiAHuvoV"
      },
      "source": [
        "**SVM**"
      ],
      "id": "vStKWiAHuvoV"
    },
    {
      "cell_type": "code",
      "metadata": {
        "colab": {
          "base_uri": "https://localhost:8080/"
        },
        "id": "z8FzDeA6usCB",
        "outputId": "40c0a08d-bb49-4e84-b82e-73759844685e"
      },
      "source": [
        "%%time \n",
        "y_pred_svc_wrapper_svm = train_and_evaluate_models(SVC, svm_params, x_train_svm, x_test_svm, y_train, 'SVC_wrapper_svm', model_key='svm')"
      ],
      "id": "z8FzDeA6usCB",
      "execution_count": null,
      "outputs": [
        {
          "output_type": "stream",
          "name": "stdout",
          "text": [
            "Best parameters are:\n",
            "{'C': 0.6, 'class_weight': 'balanced', 'decision_function_shape': 'ovo', 'kernel': 'linear'}\n",
            "CPU times: user 12min 19s, sys: 680 ms, total: 12min 19s\n",
            "Wall time: 12min 15s\n"
          ]
        }
      ]
    },
    {
      "cell_type": "code",
      "metadata": {
        "colab": {
          "base_uri": "https://localhost:8080/"
        },
        "id": "q6D9pcHHu7RT",
        "outputId": "b0404dce-aabe-425f-f71c-4ce09889a02b"
      },
      "source": [
        "# Calculate metrics\n",
        "acc_svm_wrapper_svm = metrics.accuracy_score(y_test, y_pred_svc_wrapper_svm)\n",
        "f1_svm_wrapper_svm = metrics.f1_score(y_test, y_pred_svc_wrapper_svm, average='weighted')\n",
        "\n",
        "print(f'Accuracy : {acc_svm_wrapper_svm:.2}')\n",
        "print(f'F1-score : {f1_svm_wrapper_svm:.2}')"
      ],
      "id": "q6D9pcHHu7RT",
      "execution_count": null,
      "outputs": [
        {
          "output_type": "stream",
          "name": "stdout",
          "text": [
            "Accuracy : 0.95\n",
            "F1-score : 0.94\n"
          ]
        }
      ]
    },
    {
      "cell_type": "code",
      "metadata": {
        "colab": {
          "base_uri": "https://localhost:8080/",
          "height": 530
        },
        "id": "fy1K8cLAvI_E",
        "outputId": "7377f410-32da-4e0a-94c6-3a5c98aba960"
      },
      "source": [
        "#Plot the confusion matrix\n",
        "plot_confusion_matrix(y_test, y_pred_svc_wrapper_svm, normalize=False,figsize=(15,8))"
      ],
      "id": "fy1K8cLAvI_E",
      "execution_count": null,
      "outputs": [
        {
          "output_type": "execute_result",
          "data": {
            "text/plain": [
              "<matplotlib.axes._subplots.AxesSubplot at 0x7f2be5612b50>"
            ]
          },
          "metadata": {},
          "execution_count": 133
        },
        {
          "output_type": "display_data",
          "data": {
            "image/png": "[encoded data removed]",
            "text/plain": [
              "<Figure size 1080x576 with 2 Axes>"
            ]
          },
          "metadata": {
            "needs_background": "light"
          }
        }
      ]
    },
    {
      "cell_type": "code",
      "metadata": {
        "colab": {
          "base_uri": "https://localhost:8080/"
        },
        "id": "OV3hlCnFvLrm",
        "outputId": "e8baacc3-600a-4303-ff82-65742c036d7d"
      },
      "source": [
        "# Classification report\n",
        "class_report = metrics.classification_report(y_test, y_pred_svc_wrapper_svm)\n",
        "print(class_report)"
      ],
      "id": "OV3hlCnFvLrm",
      "execution_count": null,
      "outputs": [
        {
          "output_type": "stream",
          "name": "stdout",
          "text": [
            "              precision    recall  f1-score   support\n",
            "\n",
            "           0       0.95      0.99      0.97       922\n",
            "           1       0.78      0.42      0.54        77\n",
            "\n",
            "    accuracy                           0.95       999\n",
            "   macro avg       0.87      0.70      0.76       999\n",
            "weighted avg       0.94      0.95      0.94       999\n",
            "\n"
          ]
        }
      ]
    },
    {
      "cell_type": "code",
      "metadata": {
        "colab": {
          "base_uri": "https://localhost:8080/",
          "height": 312
        },
        "id": "UD8fYk9svSX8",
        "outputId": "d5c4d3bd-e6b8-441e-ae4c-c1fa9a20ff8c"
      },
      "source": [
        "# Plot ROC curve\n",
        "auc_svc_wrapper_svm = plot_ROC(y_test, y_pred_svc_wrapper_svm)"
      ],
      "id": "UD8fYk9svSX8",
      "execution_count": null,
      "outputs": [
        {
          "output_type": "display_data",
          "data": {
            "image/png": "[encoded data removed]",
            "text/plain": [
              "<Figure size 432x288 with 1 Axes>"
            ]
          },
          "metadata": {
            "needs_background": "light"
          }
        },
        {
          "output_type": "stream",
          "name": "stdout",
          "text": [
            "AUC: 0.7\n"
          ]
        }
      ]
    },
    {
      "cell_type": "markdown",
      "metadata": {
        "id": "57NULe1wvb81"
      },
      "source": [
        "**KNN**"
      ],
      "id": "57NULe1wvb81"
    },
    {
      "cell_type": "code",
      "metadata": {
        "colab": {
          "base_uri": "https://localhost:8080/"
        },
        "id": "0k47HeVgvc-F",
        "outputId": "e418df5b-edee-4152-8e0b-082602ae9f7e"
      },
      "source": [
        "%%time\n",
        "y_pred_knn_wrapper_svm = train_and_evaluate_models(KNeighborsClassifier, knn_params, x_train_svm, x_test_svm, y_train, 'KNN_wrapper_svm', model_key='knn')"
      ],
      "id": "0k47HeVgvc-F",
      "execution_count": null,
      "outputs": [
        {
          "output_type": "stream",
          "name": "stdout",
          "text": [
            "Best parameters are:\n",
            "{'n_neighbors': 4, 'weights': 'distance'}\n",
            "CPU times: user 1.05 s, sys: 4 ms, total: 1.06 s\n",
            "Wall time: 1.07 s\n"
          ]
        }
      ]
    },
    {
      "cell_type": "code",
      "metadata": {
        "colab": {
          "base_uri": "https://localhost:8080/"
        },
        "id": "2Nc9El05vrZ0",
        "outputId": "7e64348c-8a8c-457d-8963-efd56e343ffa"
      },
      "source": [
        "# Calculate metrics\n",
        "acc_knn_wrapper_svm = metrics.accuracy_score(y_test, y_pred_knn_wrapper_svm)\n",
        "f1_knn_wrapper_svm = metrics.f1_score(y_test, y_pred_knn_wrapper_svm, average='weighted')\n",
        "\n",
        "print(f'Accuracy : {acc_knn_wrapper_svm:.2}')\n",
        "print(f'F1-score : {f1_knn_wrapper_svm:.2}')"
      ],
      "id": "2Nc9El05vrZ0",
      "execution_count": null,
      "outputs": [
        {
          "output_type": "stream",
          "name": "stdout",
          "text": [
            "Accuracy : 0.94\n",
            "F1-score : 0.93\n"
          ]
        }
      ]
    },
    {
      "cell_type": "code",
      "metadata": {
        "colab": {
          "base_uri": "https://localhost:8080/",
          "height": 530
        },
        "id": "ZcpIDWZqv4Nd",
        "outputId": "fa4271fb-ff63-4c6d-c8a3-d01814acfc21"
      },
      "source": [
        "#Plot the confusion matrix\n",
        "plot_confusion_matrix(y_test, y_pred_knn_wrapper_svm, normalize=False,figsize=(15,8))"
      ],
      "id": "ZcpIDWZqv4Nd",
      "execution_count": null,
      "outputs": [
        {
          "output_type": "execute_result",
          "data": {
            "text/plain": [
              "<matplotlib.axes._subplots.AxesSubplot at 0x7f2be5666ed0>"
            ]
          },
          "metadata": {},
          "execution_count": 138
        },
        {
          "output_type": "display_data",
          "data": {
            "image/png": "[encoded data removed]",
            "text/plain": [
              "<Figure size 1080x576 with 2 Axes>"
            ]
          },
          "metadata": {
            "needs_background": "light"
          }
        }
      ]
    },
    {
      "cell_type": "code",
      "metadata": {
        "colab": {
          "base_uri": "https://localhost:8080/"
        },
        "id": "vzbQRUCNv-D1",
        "outputId": "47023ec4-97b9-4493-8d08-d35989fe6465"
      },
      "source": [
        "# Classification report\n",
        "class_report = metrics.classification_report(y_test, y_pred_knn_wrapper_svm)\n",
        "print(class_report)"
      ],
      "id": "vzbQRUCNv-D1",
      "execution_count": null,
      "outputs": [
        {
          "output_type": "stream",
          "name": "stdout",
          "text": [
            "              precision    recall  f1-score   support\n",
            "\n",
            "           0       0.95      0.99      0.97       922\n",
            "           1       0.67      0.34      0.45        77\n",
            "\n",
            "    accuracy                           0.94       999\n",
            "   macro avg       0.81      0.66      0.71       999\n",
            "weighted avg       0.93      0.94      0.93       999\n",
            "\n"
          ]
        }
      ]
    },
    {
      "cell_type": "code",
      "metadata": {
        "colab": {
          "base_uri": "https://localhost:8080/",
          "height": 312
        },
        "id": "V59QE27LwCC-",
        "outputId": "eb775964-1d6f-466a-d259-90d807cc6a20"
      },
      "source": [
        "# Plot ROC curve\n",
        "auc_knn_wrapper_svm = plot_ROC(y_test, y_pred_knn_wrapper_svm)"
      ],
      "id": "V59QE27LwCC-",
      "execution_count": null,
      "outputs": [
        {
          "output_type": "display_data",
          "data": {
            "image/png": "[encoded data removed]",
            "text/plain": [
              "<Figure size 432x288 with 1 Axes>"
            ]
          },
          "metadata": {
            "needs_background": "light"
          }
        },
        {
          "output_type": "stream",
          "name": "stdout",
          "text": [
            "AUC: 0.66\n"
          ]
        }
      ]
    },
    {
      "cell_type": "markdown",
      "metadata": {
        "id": "CErkovk7wLeE"
      },
      "source": [
        "### **With the subset of features obtained from Wrapper method using KNN**"
      ],
      "id": "CErkovk7wLeE"
    },
    {
      "cell_type": "code",
      "metadata": {
        "id": "v7u2ILJawPGJ"
      },
      "source": [
        "x_train_knn = X_train[best_feats_bs_knn]\n",
        "x_test_knn = X_test[best_feats_bs_knn]"
      ],
      "id": "v7u2ILJawPGJ",
      "execution_count": null,
      "outputs": []
    },
    {
      "cell_type": "markdown",
      "metadata": {
        "id": "F5JBuykawZO9"
      },
      "source": [
        "**Decision tree Classifier**"
      ],
      "id": "F5JBuykawZO9"
    },
    {
      "cell_type": "code",
      "metadata": {
        "colab": {
          "base_uri": "https://localhost:8080/"
        },
        "id": "FfGbj975waB7",
        "outputId": "f00247c2-e6fe-431b-8aef-db9fd3d0c2d8"
      },
      "source": [
        "%%time\n",
        "y_pred_dtc_wrapper_knn = train_and_evaluate_models(DecisionTreeClassifier, dtc_params, x_train_knn, x_test_knn, y_train, 'Decision_tree_wrapper_knn',\n",
        "                                              model_key='dt')"
      ],
      "id": "FfGbj975waB7",
      "execution_count": null,
      "outputs": [
        {
          "output_type": "stream",
          "name": "stdout",
          "text": [
            "Best parameters are:\n",
            "{'class_weight': 'balanced', 'criterion': 'gini', 'max_depth': 2, 'max_features': 'sqrt', 'min_samples_split': 5, 'splitter': 'best'}\n",
            "CPU times: user 28.6 s, sys: 106 ms, total: 28.7 s\n",
            "Wall time: 28.7 s\n"
          ]
        }
      ]
    },
    {
      "cell_type": "code",
      "metadata": {
        "colab": {
          "base_uri": "https://localhost:8080/"
        },
        "id": "dU_gt9Lawme1",
        "outputId": "f2ff706f-2763-40c5-83bd-5188d91d18f6"
      },
      "source": [
        "# Calculate metrics\n",
        "acc_dtc_wrapper_knn = metrics.accuracy_score(y_test, y_pred_dtc_wrapper_knn)\n",
        "f1_dtc_wrapper_knn = metrics.f1_score(y_test, y_pred_dtc_wrapper_knn, average='weighted')\n",
        "\n",
        "print(f'Accuracy : {acc_dtc_wrapper_knn:.2}')\n",
        "print(f'F1-score : {f1_dtc_wrapper_knn:.2}')"
      ],
      "id": "dU_gt9Lawme1",
      "execution_count": null,
      "outputs": [
        {
          "output_type": "stream",
          "name": "stdout",
          "text": [
            "Accuracy : 0.95\n",
            "F1-score : 0.94\n"
          ]
        }
      ]
    },
    {
      "cell_type": "code",
      "metadata": {
        "colab": {
          "base_uri": "https://localhost:8080/",
          "height": 530
        },
        "id": "yocnozPzwzoN",
        "outputId": "3922b3de-50c2-46bf-ecae-70cef7928c2a"
      },
      "source": [
        "#Plot the confusion matrix\n",
        "plot_confusion_matrix(y_test, y_pred_dtc_wrapper_knn, normalize=False,figsize=(15,8))"
      ],
      "id": "yocnozPzwzoN",
      "execution_count": null,
      "outputs": [
        {
          "output_type": "execute_result",
          "data": {
            "text/plain": [
              "<matplotlib.axes._subplots.AxesSubplot at 0x7f2be597da90>"
            ]
          },
          "metadata": {},
          "execution_count": 144
        },
        {
          "output_type": "display_data",
          "data": {
            "image/png": "[encoded data removed]",
            "text/plain": [
              "<Figure size 1080x576 with 2 Axes>"
            ]
          },
          "metadata": {
            "needs_background": "light"
          }
        }
      ]
    },
    {
      "cell_type": "code",
      "metadata": {
        "colab": {
          "base_uri": "https://localhost:8080/"
        },
        "id": "9WVeE2Kzw4vb",
        "outputId": "691c6649-deb0-4fd0-ec8f-3c587301fae8"
      },
      "source": [
        "# Classification report \n",
        "class_report = metrics.classification_report(y_test, y_pred_dtc_wrapper_knn)\n",
        "print(class_report)"
      ],
      "id": "9WVeE2Kzw4vb",
      "execution_count": null,
      "outputs": [
        {
          "output_type": "stream",
          "name": "stdout",
          "text": [
            "              precision    recall  f1-score   support\n",
            "\n",
            "           0       0.95      0.99      0.97       922\n",
            "           1       0.78      0.42      0.54        77\n",
            "\n",
            "    accuracy                           0.95       999\n",
            "   macro avg       0.87      0.70      0.76       999\n",
            "weighted avg       0.94      0.95      0.94       999\n",
            "\n"
          ]
        }
      ]
    },
    {
      "cell_type": "code",
      "metadata": {
        "colab": {
          "base_uri": "https://localhost:8080/",
          "height": 312
        },
        "id": "UJIwipdjw9O-",
        "outputId": "09d5c767-b488-4336-ae8a-95c928d4c841"
      },
      "source": [
        "# Plot ROC curve  \n",
        "auc_dtc_wrapper_knn = plot_ROC(y_test, y_pred_dtc_wrapper_knn)"
      ],
      "id": "UJIwipdjw9O-",
      "execution_count": null,
      "outputs": [
        {
          "output_type": "display_data",
          "data": {
            "image/png": "[encoded data removed]",
            "text/plain": [
              "<Figure size 432x288 with 1 Axes>"
            ]
          },
          "metadata": {
            "needs_background": "light"
          }
        },
        {
          "output_type": "stream",
          "name": "stdout",
          "text": [
            "AUC: 0.7\n"
          ]
        }
      ]
    },
    {
      "cell_type": "markdown",
      "metadata": {
        "id": "SGLyaZZ0xEIC"
      },
      "source": [
        "**Naïve Bayes**"
      ],
      "id": "SGLyaZZ0xEIC"
    },
    {
      "cell_type": "code",
      "metadata": {
        "colab": {
          "base_uri": "https://localhost:8080/"
        },
        "id": "qnWfR6DNxE3U",
        "outputId": "7afc2b0f-77fc-48ec-bb76-53566719e0d8"
      },
      "source": [
        "%%time\n",
        "y_pred_nb_wrapper_knn = train_and_evaluate_models(MultinomialNB, nb_params, x_train_knn, x_test_knn, y_train, 'MultinomialNB_wrapper_knn', model_key='nb')"
      ],
      "id": "qnWfR6DNxE3U",
      "execution_count": null,
      "outputs": [
        {
          "output_type": "stream",
          "name": "stdout",
          "text": [
            "Best parameters are:\n",
            "{'alpha': 0, 'fit_prior': 'True'}\n",
            "CPU times: user 351 ms, sys: 4 ms, total: 355 ms\n",
            "Wall time: 360 ms\n"
          ]
        }
      ]
    },
    {
      "cell_type": "code",
      "metadata": {
        "colab": {
          "base_uri": "https://localhost:8080/"
        },
        "id": "V4uPp60DxddQ",
        "outputId": "d10ec1e4-5b52-41b8-b594-7a2512a85608"
      },
      "source": [
        "# Calculate metrics\n",
        "acc_nb_wrapper_knn = metrics.accuracy_score(y_test, y_pred_nb_wrapper_knn)\n",
        "f1_nb_wrapper_knn = metrics.f1_score(y_test, y_pred_nb_wrapper_knn, average='weighted')\n",
        "\n",
        "print(f'Accuracy : {acc_nb_wrapper_knn:.2}')\n",
        "print(f'F1-score : {f1_nb_wrapper_knn:.2}')"
      ],
      "id": "V4uPp60DxddQ",
      "execution_count": null,
      "outputs": [
        {
          "output_type": "stream",
          "name": "stdout",
          "text": [
            "Accuracy : 0.75\n",
            "F1-score : 0.8\n"
          ]
        }
      ]
    },
    {
      "cell_type": "code",
      "metadata": {
        "colab": {
          "base_uri": "https://localhost:8080/",
          "height": 530
        },
        "id": "VGw3qYcDxrFS",
        "outputId": "d476ef4f-45b9-40e2-af12-b644c968b26a"
      },
      "source": [
        "#Plot the confusion matrix\n",
        "plot_confusion_matrix(y_test, y_pred_nb_wrapper_knn, normalize=False,figsize=(15,8))"
      ],
      "id": "VGw3qYcDxrFS",
      "execution_count": null,
      "outputs": [
        {
          "output_type": "execute_result",
          "data": {
            "text/plain": [
              "<matplotlib.axes._subplots.AxesSubplot at 0x7f2be5a0e1d0>"
            ]
          },
          "metadata": {},
          "execution_count": 149
        },
        {
          "output_type": "display_data",
          "data": {
            "image/png": "[encoded data removed]",
            "text/plain": [
              "<Figure size 1080x576 with 2 Axes>"
            ]
          },
          "metadata": {
            "needs_background": "light"
          }
        }
      ]
    },
    {
      "cell_type": "code",
      "metadata": {
        "colab": {
          "base_uri": "https://localhost:8080/"
        },
        "id": "iyqLemMyxwxY",
        "outputId": "8045d974-2a5d-45f4-e286-519b38a5e0de"
      },
      "source": [
        "# Classification report\n",
        "class_report = metrics.classification_report(y_test, y_pred_nb_wrapper_knn)\n",
        "print(class_report)"
      ],
      "id": "iyqLemMyxwxY",
      "execution_count": null,
      "outputs": [
        {
          "output_type": "stream",
          "name": "stdout",
          "text": [
            "              precision    recall  f1-score   support\n",
            "\n",
            "           0       0.93      0.78      0.85       922\n",
            "           1       0.11      0.31      0.16        77\n",
            "\n",
            "    accuracy                           0.75       999\n",
            "   macro avg       0.52      0.55      0.50       999\n",
            "weighted avg       0.87      0.75      0.80       999\n",
            "\n"
          ]
        }
      ]
    },
    {
      "cell_type": "code",
      "metadata": {
        "colab": {
          "base_uri": "https://localhost:8080/",
          "height": 312
        },
        "id": "H6AbNYvpx1Pf",
        "outputId": "95f212fd-a81c-4631-cbfa-55323029b5e9"
      },
      "source": [
        "# Plot ROC curve\n",
        "auc_nb_wrapper_knn = plot_ROC(y_test, y_pred_nb_wrapper_knn)"
      ],
      "id": "H6AbNYvpx1Pf",
      "execution_count": null,
      "outputs": [
        {
          "output_type": "display_data",
          "data": {
            "image/png": "[encoded data removed]",
            "text/plain": [
              "<Figure size 432x288 with 1 Axes>"
            ]
          },
          "metadata": {
            "needs_background": "light"
          }
        },
        {
          "output_type": "stream",
          "name": "stdout",
          "text": [
            "AUC: 0.55\n"
          ]
        }
      ]
    },
    {
      "cell_type": "markdown",
      "metadata": {
        "id": "Qm46_AseyPAO"
      },
      "source": [
        "**SVM**"
      ],
      "id": "Qm46_AseyPAO"
    },
    {
      "cell_type": "code",
      "metadata": {
        "colab": {
          "base_uri": "https://localhost:8080/"
        },
        "id": "QVwfru_zyQEO",
        "outputId": "a19fcb6c-18f3-4095-8e6b-6e2dc7ac3b5b"
      },
      "source": [
        "%%time \n",
        "y_pred_svc_wrapper_knn = train_and_evaluate_models(SVC, svm_params, x_train_knn, x_test_knn, y_train, 'SVC_wrapper_knn', model_key='svm')"
      ],
      "id": "QVwfru_zyQEO",
      "execution_count": null,
      "outputs": [
        {
          "output_type": "stream",
          "name": "stdout",
          "text": [
            "Best parameters are:\n",
            "{'C': 0.6, 'class_weight': 'balanced', 'decision_function_shape': 'ovo', 'kernel': 'linear'}\n",
            "CPU times: user 5min 53s, sys: 353 ms, total: 5min 54s\n",
            "Wall time: 5min 52s\n"
          ]
        }
      ]
    },
    {
      "cell_type": "code",
      "metadata": {
        "colab": {
          "base_uri": "https://localhost:8080/"
        },
        "id": "e8I8NZMbyx6W",
        "outputId": "1857e14b-38ff-4792-d840-9b624b61a1c7"
      },
      "source": [
        "# Calculate metrics\n",
        "acc_svm_wrapper_knn = metrics.accuracy_score(y_test, y_pred_svc_wrapper_knn)\n",
        "f1_svm_wrapper_knn = metrics.f1_score(y_test, y_pred_svc_wrapper_knn, average='weighted')\n",
        "\n",
        "print(f'Accuracy : {acc_svm_wrapper_knn:.2}')\n",
        "print(f'F1-score : {f1_svm_wrapper_knn:.2}')"
      ],
      "id": "e8I8NZMbyx6W",
      "execution_count": null,
      "outputs": [
        {
          "output_type": "stream",
          "name": "stdout",
          "text": [
            "Accuracy : 0.95\n",
            "F1-score : 0.94\n"
          ]
        }
      ]
    },
    {
      "cell_type": "code",
      "metadata": {
        "colab": {
          "base_uri": "https://localhost:8080/",
          "height": 530
        },
        "id": "32SbzjjQzJJX",
        "outputId": "e9d90719-b5e7-4dcc-aa17-9a9bdfc9f653"
      },
      "source": [
        "#Plot the confusion matrix\n",
        "plot_confusion_matrix(y_test, y_pred_svc_wrapper_knn, normalize=False,figsize=(15,8))"
      ],
      "id": "32SbzjjQzJJX",
      "execution_count": null,
      "outputs": [
        {
          "output_type": "execute_result",
          "data": {
            "text/plain": [
              "<matplotlib.axes._subplots.AxesSubplot at 0x7f2be534b150>"
            ]
          },
          "metadata": {},
          "execution_count": 154
        },
        {
          "output_type": "display_data",
          "data": {
            "image/png": "[encoded data removed]",
            "text/plain": [
              "<Figure size 1080x576 with 2 Axes>"
            ]
          },
          "metadata": {
            "needs_background": "light"
          }
        }
      ]
    },
    {
      "cell_type": "code",
      "metadata": {
        "colab": {
          "base_uri": "https://localhost:8080/"
        },
        "id": "CJJyZB0TzRaz",
        "outputId": "5a102c43-2683-4704-8e78-0a78b58b026a"
      },
      "source": [
        "# Classification report\n",
        "class_report = metrics.classification_report(y_test, y_pred_svc_wrapper_knn)\n",
        "print(class_report)"
      ],
      "id": "CJJyZB0TzRaz",
      "execution_count": null,
      "outputs": [
        {
          "output_type": "stream",
          "name": "stdout",
          "text": [
            "              precision    recall  f1-score   support\n",
            "\n",
            "           0       0.95      0.99      0.97       922\n",
            "           1       0.82      0.40      0.54        77\n",
            "\n",
            "    accuracy                           0.95       999\n",
            "   macro avg       0.88      0.70      0.76       999\n",
            "weighted avg       0.94      0.95      0.94       999\n",
            "\n"
          ]
        }
      ]
    },
    {
      "cell_type": "code",
      "metadata": {
        "colab": {
          "base_uri": "https://localhost:8080/",
          "height": 312
        },
        "id": "jWy0ZQkXzWDN",
        "outputId": "82e0e507-b418-469c-b595-a45bb6e95ba6"
      },
      "source": [
        "# Plot ROC curve\n",
        "auc_svc_wrapper_knn = plot_ROC(y_test, y_pred_svc_wrapper_knn)"
      ],
      "id": "jWy0ZQkXzWDN",
      "execution_count": null,
      "outputs": [
        {
          "output_type": "display_data",
          "data": {
            "image/png": "[encoded data removed]",
            "text/plain": [
              "<Figure size 432x288 with 1 Axes>"
            ]
          },
          "metadata": {
            "needs_background": "light"
          }
        },
        {
          "output_type": "stream",
          "name": "stdout",
          "text": [
            "AUC: 0.7\n"
          ]
        }
      ]
    },
    {
      "cell_type": "markdown",
      "metadata": {
        "id": "UpeNiinOzfZW"
      },
      "source": [
        "**KNN**"
      ],
      "id": "UpeNiinOzfZW"
    },
    {
      "cell_type": "code",
      "metadata": {
        "colab": {
          "base_uri": "https://localhost:8080/"
        },
        "id": "zo561wHAzgPl",
        "outputId": "6a122bcf-ed74-4837-b519-dcfd512bdd49"
      },
      "source": [
        "%%time\n",
        "y_pred_knn_wrapper_knn = train_and_evaluate_models(KNeighborsClassifier, knn_params, x_train_knn, x_test_knn, y_train, 'KNN_wrapper_knn', model_key='knn')"
      ],
      "id": "zo561wHAzgPl",
      "execution_count": null,
      "outputs": [
        {
          "output_type": "stream",
          "name": "stdout",
          "text": [
            "Best parameters are:\n",
            "{'n_neighbors': 2, 'weights': 'uniform'}\n",
            "CPU times: user 1.16 s, sys: 16 ms, total: 1.18 s\n",
            "Wall time: 1.18 s\n"
          ]
        }
      ]
    },
    {
      "cell_type": "code",
      "metadata": {
        "colab": {
          "base_uri": "https://localhost:8080/"
        },
        "id": "viBeMq9LztgP",
        "outputId": "4ef8618f-026d-476c-efc5-6c6088c0e81e"
      },
      "source": [
        "# Calculate metrics\n",
        "acc_knn_wrapper_knn = metrics.accuracy_score(y_test, y_pred_knn_wrapper_knn)\n",
        "f1_knn_wrapper_knn = metrics.f1_score(y_test, y_pred_knn_wrapper_knn, average='weighted')\n",
        "\n",
        "print(f'Accuracy : {acc_knn_wrapper_knn:.2}')\n",
        "print(f'F1-score : {f1_knn_wrapper_knn:.2}')"
      ],
      "id": "viBeMq9LztgP",
      "execution_count": null,
      "outputs": [
        {
          "output_type": "stream",
          "name": "stdout",
          "text": [
            "Accuracy : 0.94\n",
            "F1-score : 0.93\n"
          ]
        }
      ]
    },
    {
      "cell_type": "code",
      "metadata": {
        "colab": {
          "base_uri": "https://localhost:8080/",
          "height": 530
        },
        "id": "qYEZZ2uQz6Gh",
        "outputId": "9a836d67-9ac6-4db7-aae5-eedd641c4df4"
      },
      "source": [
        "#Plot the confusion matrix\n",
        "plot_confusion_matrix(y_test, y_pred_knn_wrapper_knn, normalize=False,figsize=(15,8))"
      ],
      "id": "qYEZZ2uQz6Gh",
      "execution_count": null,
      "outputs": [
        {
          "output_type": "execute_result",
          "data": {
            "text/plain": [
              "<matplotlib.axes._subplots.AxesSubplot at 0x7f2be578df10>"
            ]
          },
          "metadata": {},
          "execution_count": 159
        },
        {
          "output_type": "display_data",
          "data": {
            "image/png": "[encoded data removed]",
            "text/plain": [
              "<Figure size 1080x576 with 2 Axes>"
            ]
          },
          "metadata": {
            "needs_background": "light"
          }
        }
      ]
    },
    {
      "cell_type": "code",
      "metadata": {
        "colab": {
          "base_uri": "https://localhost:8080/"
        },
        "id": "8benz8Ijz-Gd",
        "outputId": "21a232b3-749b-4dd8-ea8f-4a0b7b7b3fb9"
      },
      "source": [
        "# Classification report\n",
        "class_report = metrics.classification_report(y_test, y_pred_knn_wrapper_knn)\n",
        "print(class_report)"
      ],
      "id": "8benz8Ijz-Gd",
      "execution_count": null,
      "outputs": [
        {
          "output_type": "stream",
          "name": "stdout",
          "text": [
            "              precision    recall  f1-score   support\n",
            "\n",
            "           0       0.94      0.99      0.97       922\n",
            "           1       0.79      0.30      0.43        77\n",
            "\n",
            "    accuracy                           0.94       999\n",
            "   macro avg       0.87      0.65      0.70       999\n",
            "weighted avg       0.93      0.94      0.93       999\n",
            "\n"
          ]
        }
      ]
    },
    {
      "cell_type": "code",
      "metadata": {
        "colab": {
          "base_uri": "https://localhost:8080/",
          "height": 312
        },
        "id": "nY2Aaum70Dr7",
        "outputId": "40917bad-31b2-43a1-a0ea-f3676e659274"
      },
      "source": [
        "# Plot ROC curve\n",
        "auc_knn_wrapper_knn = plot_ROC(y_test, y_pred_knn_wrapper_knn)"
      ],
      "id": "nY2Aaum70Dr7",
      "execution_count": null,
      "outputs": [
        {
          "output_type": "display_data",
          "data": {
            "image/png": "[encoded data removed]",
            "text/plain": [
              "<Figure size 432x288 with 1 Axes>"
            ]
          },
          "metadata": {
            "needs_background": "light"
          }
        },
        {
          "output_type": "stream",
          "name": "stdout",
          "text": [
            "AUC: 0.65\n"
          ]
        }
      ]
    },
    {
      "cell_type": "markdown",
      "metadata": {
        "id": "jSuqnSx51yDa"
      },
      "source": [
        "## Compare the performance of models"
      ],
      "id": "jSuqnSx51yDa"
    },
    {
      "cell_type": "code",
      "metadata": {
        "colab": {
          "base_uri": "https://localhost:8080/",
          "height": 669
        },
        "id": "v8ttnoUs0RJO",
        "outputId": "1f002ad0-88d5-4989-ac57-ea1c328b6d39"
      },
      "source": [
        "models = ['Filter_dtc', 'Filter_nb', 'Filter_svm', 'Filter_knn', 'dtc_Wrapper_dtc', 'dtc_Wrapper_nb', 'dtc_Wrapper_svm', 'dtc_Wrapper_knn', \\\n",
        "          'nb_Wrapper_dtc', 'nb_Wrapper_nb', 'nb_Wrapper_svm', 'nb_Wrapper_knn', 'svm_Wrapper_dtc', 'svm_Wrapper_nb', 'svm_Wrapper_svm',\\\n",
        "          'svm_Wrapper_knn', 'knn_Wrapper_dtc', 'knn_Wrapper_nb', 'knn_Wrapper_svm', 'knn_Wrapper_knn']\n",
        "accuracies = [acc_dtc_filter, acc_nb_filter, acc_svm_filter, acc_knn_filter, acc_dtc_wrapper_dtc, acc_nb_wrapper_dtc, acc_svm_wrapper_dtc, \\\n",
        "              acc_knn_wrapper_dtc, acc_dtc_wrapper_nb, acc_nb_wrapper_nb, acc_svm_wrapper_nb, acc_knn_wrapper_nb, acc_dtc_wrapper_svm,\\\n",
        "              acc_nb_wrapper_svm, acc_svm_wrapper_svm, acc_knn_wrapper_svm, acc_dtc_wrapper_knn, acc_nb_wrapper_knn, acc_svm_wrapper_knn,\\\n",
        "              acc_knn_wrapper_knn]\n",
        "f1_scores = [f1_dtc_filter, f1_nb_filter, f1_svm_filter, f1_knn_filter, f1_dtc_wrapper_dtc, f1_nb_wrapper_dtc, f1_svm_wrapper_dtc, \\\n",
        "              f1_knn_wrapper_dtc, f1_dtc_wrapper_nb, f1_nb_wrapper_nb, f1_svm_wrapper_nb, f1_knn_wrapper_nb, f1_dtc_wrapper_svm,\\\n",
        "              f1_nb_wrapper_svm, f1_svm_wrapper_svm, f1_knn_wrapper_svm, f1_dtc_wrapper_knn, f1_nb_wrapper_knn, f1_svm_wrapper_knn,\\\n",
        "              f1_knn_wrapper_knn]\n",
        "auc_scores = [auc_dtc_filter, auc_nb_filter, auc_svc_filter, auc_knn_filter, auc_dtc_wrapper_dtc, auc_nb_wrapper_dtc, auc_svc_wrapper_dtc, \\\n",
        "              auc_knn_wrapper_dtc, auc_dtc_wrapper_nb, auc_nb_wrapper_nb, auc_svc_wrapper_nb, auc_knn_wrapper_nb, auc_dtc_wrapper_svm,\\\n",
        "              auc_nb_wrapper_svm, auc_svc_wrapper_svm, auc_knn_wrapper_svm, auc_dtc_wrapper_knn, auc_nb_wrapper_knn, auc_svc_wrapper_knn,\\\n",
        "              auc_knn_wrapper_knn]\n",
        "\n",
        "results_df = pd.DataFrame()\n",
        "results_df['Models'] = models  \n",
        "results_df['Accuracy'] = accuracies\n",
        "results_df['F1-score'] = f1_scores \n",
        "results_df['AUC-score'] = auc_scores\n",
        "\n",
        "results_df = results_df.sort_values(by='F1-score', ascending=False).reset_index(drop=True)\n",
        "results_df.index+=1\n",
        "results_df"
      ],
      "id": "v8ttnoUs0RJO",
      "execution_count": null,
      "outputs": [
        {
          "output_type": "execute_result",
          "data": {
            "text/html": [
              "<div>\n",
              "<style scoped>\n",
              "    .dataframe tbody tr th:only-of-type {\n",
              "        vertical-align: middle;\n",
              "    }\n",
              "\n",
              "    .dataframe tbody tr th {\n",
              "        vertical-align: top;\n",
              "    }\n",
              "\n",
              "    .dataframe thead th {\n",
              "        text-align: right;\n",
              "    }\n",
              "</style>\n",
              "<table border=\"1\" class=\"dataframe\">\n",
              "  <thead>\n",
              "    <tr style=\"text-align: right;\">\n",
              "      <th></th>\n",
              "      <th>Models</th>\n",
              "      <th>Accuracy</th>\n",
              "      <th>F1-score</th>\n",
              "      <th>AUC-score</th>\n",
              "    </tr>\n",
              "  </thead>\n",
              "  <tbody>\n",
              "    <tr>\n",
              "      <th>1</th>\n",
              "      <td>knn_Wrapper_svm</td>\n",
              "      <td>0.946947</td>\n",
              "      <td>0.938500</td>\n",
              "      <td>0.70</td>\n",
              "    </tr>\n",
              "    <tr>\n",
              "      <th>2</th>\n",
              "      <td>nb_Wrapper_svm</td>\n",
              "      <td>0.945946</td>\n",
              "      <td>0.938218</td>\n",
              "      <td>0.70</td>\n",
              "    </tr>\n",
              "    <tr>\n",
              "      <th>3</th>\n",
              "      <td>svm_Wrapper_dtc</td>\n",
              "      <td>0.945946</td>\n",
              "      <td>0.938218</td>\n",
              "      <td>0.70</td>\n",
              "    </tr>\n",
              "    <tr>\n",
              "      <th>4</th>\n",
              "      <td>Filter_svm</td>\n",
              "      <td>0.945946</td>\n",
              "      <td>0.938218</td>\n",
              "      <td>0.70</td>\n",
              "    </tr>\n",
              "    <tr>\n",
              "      <th>5</th>\n",
              "      <td>dtc_Wrapper_dtc</td>\n",
              "      <td>0.945946</td>\n",
              "      <td>0.938218</td>\n",
              "      <td>0.70</td>\n",
              "    </tr>\n",
              "    <tr>\n",
              "      <th>6</th>\n",
              "      <td>dtc_Wrapper_svm</td>\n",
              "      <td>0.945946</td>\n",
              "      <td>0.938218</td>\n",
              "      <td>0.70</td>\n",
              "    </tr>\n",
              "    <tr>\n",
              "      <th>7</th>\n",
              "      <td>nb_Wrapper_dtc</td>\n",
              "      <td>0.945946</td>\n",
              "      <td>0.938218</td>\n",
              "      <td>0.70</td>\n",
              "    </tr>\n",
              "    <tr>\n",
              "      <th>8</th>\n",
              "      <td>knn_Wrapper_dtc</td>\n",
              "      <td>0.945946</td>\n",
              "      <td>0.938218</td>\n",
              "      <td>0.70</td>\n",
              "    </tr>\n",
              "    <tr>\n",
              "      <th>9</th>\n",
              "      <td>svm_Wrapper_svm</td>\n",
              "      <td>0.945946</td>\n",
              "      <td>0.938218</td>\n",
              "      <td>0.70</td>\n",
              "    </tr>\n",
              "    <tr>\n",
              "      <th>10</th>\n",
              "      <td>Filter_knn</td>\n",
              "      <td>0.940941</td>\n",
              "      <td>0.929453</td>\n",
              "      <td>0.66</td>\n",
              "    </tr>\n",
              "    <tr>\n",
              "      <th>11</th>\n",
              "      <td>dtc_Wrapper_knn</td>\n",
              "      <td>0.938939</td>\n",
              "      <td>0.929217</td>\n",
              "      <td>0.67</td>\n",
              "    </tr>\n",
              "    <tr>\n",
              "      <th>12</th>\n",
              "      <td>knn_Wrapper_knn</td>\n",
              "      <td>0.939940</td>\n",
              "      <td>0.927103</td>\n",
              "      <td>0.65</td>\n",
              "    </tr>\n",
              "    <tr>\n",
              "      <th>13</th>\n",
              "      <td>svm_Wrapper_knn</td>\n",
              "      <td>0.935936</td>\n",
              "      <td>0.926089</td>\n",
              "      <td>0.66</td>\n",
              "    </tr>\n",
              "    <tr>\n",
              "      <th>14</th>\n",
              "      <td>nb_Wrapper_knn</td>\n",
              "      <td>0.929930</td>\n",
              "      <td>0.920638</td>\n",
              "      <td>0.65</td>\n",
              "    </tr>\n",
              "    <tr>\n",
              "      <th>15</th>\n",
              "      <td>Filter_dtc</td>\n",
              "      <td>0.920921</td>\n",
              "      <td>0.918659</td>\n",
              "      <td>0.70</td>\n",
              "    </tr>\n",
              "    <tr>\n",
              "      <th>16</th>\n",
              "      <td>nb_Wrapper_nb</td>\n",
              "      <td>0.928929</td>\n",
              "      <td>0.899849</td>\n",
              "      <td>0.54</td>\n",
              "    </tr>\n",
              "    <tr>\n",
              "      <th>17</th>\n",
              "      <td>knn_Wrapper_nb</td>\n",
              "      <td>0.745746</td>\n",
              "      <td>0.796953</td>\n",
              "      <td>0.55</td>\n",
              "    </tr>\n",
              "    <tr>\n",
              "      <th>18</th>\n",
              "      <td>dtc_Wrapper_nb</td>\n",
              "      <td>0.744745</td>\n",
              "      <td>0.796286</td>\n",
              "      <td>0.55</td>\n",
              "    </tr>\n",
              "    <tr>\n",
              "      <th>19</th>\n",
              "      <td>Filter_nb</td>\n",
              "      <td>0.559560</td>\n",
              "      <td>0.660487</td>\n",
              "      <td>0.52</td>\n",
              "    </tr>\n",
              "    <tr>\n",
              "      <th>20</th>\n",
              "      <td>svm_Wrapper_nb</td>\n",
              "      <td>0.517518</td>\n",
              "      <td>0.624306</td>\n",
              "      <td>0.51</td>\n",
              "    </tr>\n",
              "  </tbody>\n",
              "</table>\n",
              "</div>"
            ],
            "text/plain": [
              "             Models  Accuracy  F1-score  AUC-score\n",
              "1   knn_Wrapper_svm  0.946947  0.938500       0.70\n",
              "2    nb_Wrapper_svm  0.945946  0.938218       0.70\n",
              "3   svm_Wrapper_dtc  0.945946  0.938218       0.70\n",
              "4        Filter_svm  0.945946  0.938218       0.70\n",
              "5   dtc_Wrapper_dtc  0.945946  0.938218       0.70\n",
              "6   dtc_Wrapper_svm  0.945946  0.938218       0.70\n",
              "7    nb_Wrapper_dtc  0.945946  0.938218       0.70\n",
              "8   knn_Wrapper_dtc  0.945946  0.938218       0.70\n",
              "9   svm_Wrapper_svm  0.945946  0.938218       0.70\n",
              "10       Filter_knn  0.940941  0.929453       0.66\n",
              "11  dtc_Wrapper_knn  0.938939  0.929217       0.67\n",
              "12  knn_Wrapper_knn  0.939940  0.927103       0.65\n",
              "13  svm_Wrapper_knn  0.935936  0.926089       0.66\n",
              "14   nb_Wrapper_knn  0.929930  0.920638       0.65\n",
              "15       Filter_dtc  0.920921  0.918659       0.70\n",
              "16    nb_Wrapper_nb  0.928929  0.899849       0.54\n",
              "17   knn_Wrapper_nb  0.745746  0.796953       0.55\n",
              "18   dtc_Wrapper_nb  0.744745  0.796286       0.55\n",
              "19        Filter_nb  0.559560  0.660487       0.52\n",
              "20   svm_Wrapper_nb  0.517518  0.624306       0.51"
            ]
          },
          "metadata": {},
          "execution_count": 162
        }
      ]
    },
    {
      "cell_type": "markdown",
      "metadata": {
        "id": "j1YngIG4BlOd"
      },
      "source": [
        "Insights:   \n",
        "* Best model is knn_Wrapper_svm, the KNN classifier is trained on svm features obtained from Wrapper feature selection method. \n",
        "* 2nd best model is nb_Wrapper_svm, the Naive Bayes classifier is trained on svm features obtained from Wrapper feature selection method. \n",
        "* Worst model is svm_Wrapper_nb, the SVM classifier trained on nb features obtained from Wrapper method.   \n",
        "* Features obtained from Wrapper method using Naive Bayes are worst in terms of models performance."
      ],
      "id": "j1YngIG4BlOd"
    },
    {
      "cell_type": "code",
      "metadata": {
        "id": "GEwBIeO28KHL"
      },
      "source": [
        ""
      ],
      "id": "GEwBIeO28KHL",
      "execution_count": null,
      "outputs": []
    }
  ]
}